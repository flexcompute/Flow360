{
 "cells": [
  {
   "cell_type": "code",
   "execution_count": 4,
   "id": "b725cac8",
   "metadata": {},
   "outputs": [],
   "source": [
    "import flow360 as fl\n",
    "from flow360.log import log"
   ]
  },
  {
   "cell_type": "code",
   "execution_count": 5,
   "id": "c41dd82a",
   "metadata": {},
   "outputs": [],
   "source": [
    "# Run in dev environments\n",
    "fl.Env.dev.active()"
   ]
  },
  {
   "cell_type": "code",
   "execution_count": 8,
   "id": "c74f57f1",
   "metadata": {},
   "outputs": [
    {
     "data": {
      "text/html": [
       "<pre style=\"white-space:pre;overflow-x:auto;line-height:normal;font-family:Menlo,'DejaVu Sans Mono',consolas,'Courier New',monospace\"><span style=\"color: #7fbfbf; text-decoration-color: #7fbfbf\">[11:42:09] </span><span style=\"color: #008080; text-decoration-color: #008080\">INFO</span>: Folder successfully created: Your folder name here, folder-<span style=\"color: #ffff00; text-decoration-color: #ffff00\">2283bcdf-df47-4899-be04-c1a1ecd3b20f</span>   \n",
       "</pre>\n"
      ],
      "text/plain": [
       "\u001b[2;36m[11:42:09]\u001b[0m\u001b[2;36m \u001b[0m\u001b[36mINFO\u001b[0m: Folder successfully created: Your folder name here, folder-\u001b[93m2283bcdf-df47-4899-be04-c1a1ecd3b20f\u001b[0m   \n"
      ]
     },
     "metadata": {},
     "output_type": "display_data"
    }
   ],
   "source": [
    "# Creating a folder\n",
    "folder = fl.Folder.create(\"Your folder name here\").submit()"
   ]
  },
  {
   "cell_type": "code",
   "execution_count": 9,
   "id": "05e2a542",
   "metadata": {},
   "outputs": [
    {
     "data": {
      "text/html": [
       "<pre style=\"white-space:pre;overflow-x:auto;line-height:normal;font-family:Menlo,'DejaVu Sans Mono',consolas,'Courier New',monospace\"><span style=\"color: #7fbfbf; text-decoration-color: #7fbfbf\">[15:30:06] </span><span style=\"color: #008080; text-decoration-color: #008080\">INFO</span>: Folder successfully created: Folder Level A, folder-<span style=\"color: #ffff00; text-decoration-color: #ffff00\">89bf405c-721c-440a-9da7-b945303869f3</span>          \n",
       "</pre>\n"
      ],
      "text/plain": [
       "\u001b[2;36m[15:30:06]\u001b[0m\u001b[2;36m \u001b[0m\u001b[36mINFO\u001b[0m: Folder successfully created: Folder Level A, folder-\u001b[93m89bf405c-721c-440a-9da7-b945303869f3\u001b[0m          \n"
      ]
     },
     "metadata": {},
     "output_type": "display_data"
    },
    {
     "data": {
      "text/html": [
       "<pre style=\"white-space:pre;overflow-x:auto;line-height:normal;font-family:Menlo,'DejaVu Sans Mono',consolas,'Courier New',monospace\"><span style=\"color: #7fbfbf; text-decoration-color: #7fbfbf\">           </span><span style=\"color: #008080; text-decoration-color: #008080\">INFO</span>: Folder successfully created: Folder Level B, folder-<span style=\"color: #ffff00; text-decoration-color: #ffff00\">dfe9179f-82b4-4549-9ce1-dba8bb987cc8</span>          \n",
       "</pre>\n"
      ],
      "text/plain": [
       "\u001b[2;36m          \u001b[0m\u001b[2;36m \u001b[0m\u001b[36mINFO\u001b[0m: Folder successfully created: Folder Level B, folder-\u001b[93mdfe9179f-82b4-4549-9ce1-dba8bb987cc8\u001b[0m          \n"
      ]
     },
     "metadata": {},
     "output_type": "display_data"
    },
    {
     "data": {
      "text/html": [
       "<pre style=\"white-space:pre;overflow-x:auto;line-height:normal;font-family:Menlo,'DejaVu Sans Mono',consolas,'Courier New',monospace\"><span style=\"color: #7fbfbf; text-decoration-color: #7fbfbf\">           </span><span style=\"color: #008080; text-decoration-color: #008080\">INFO</span>: Folder successfully created: Folder Level C, folder-<span style=\"color: #ffff00; text-decoration-color: #ffff00\">6f8386fb-a3fc-482c-932b-af8a4c178e4f</span>          \n",
       "</pre>\n"
      ],
      "text/plain": [
       "\u001b[2;36m          \u001b[0m\u001b[2;36m \u001b[0m\u001b[36mINFO\u001b[0m: Folder successfully created: Folder Level C, folder-\u001b[93m6f8386fb-a3fc-482c-932b-af8a4c178e4f\u001b[0m          \n"
      ]
     },
     "metadata": {},
     "output_type": "display_data"
    },
    {
     "data": {
      "text/html": [
       "<pre style=\"white-space:pre;overflow-x:auto;line-height:normal;font-family:Menlo,'DejaVu Sans Mono',consolas,'Courier New',monospace\"><span style=\"color: #7fbfbf; text-decoration-color: #7fbfbf\">           </span><span style=\"color: #008080; text-decoration-color: #008080\">INFO</span>: Found <span style=\"color: #008080; text-decoration-color: #008080; font-weight: bold\">0</span> items in folder:                                                                          \n",
       "</pre>\n"
      ],
      "text/plain": [
       "\u001b[2;36m          \u001b[0m\u001b[2;36m \u001b[0m\u001b[36mINFO\u001b[0m: Found \u001b[1;36m0\u001b[0m items in folder:                                                                          \n"
      ]
     },
     "metadata": {},
     "output_type": "display_data"
    }
   ],
   "source": [
    "# Moving a folder + getting items\n",
    "folder_A = fl.Folder.create(\"Folder Level A\").submit()\n",
    "folder_B = fl.Folder.create(\"Folder Level B\", parent_folder=folder_A).submit()\n",
    "folder_C = fl.Folder.create(\"Folder Level C\", parent_folder=folder_B).submit()\n",
    "\n",
    "folder_C = folder_C.move_to_folder(folder_A)\n",
    "\n",
    "#\n",
    "# Run cases, upload geometry, etc. here\n",
    "#\n",
    "\n",
    "items = folder_A.get_items()\n",
    "log.info(f\"Found {len(items)} items in folder:\")\n",
    "\n",
    "for item in items:\n",
    "    log.info(f\"Name: {item['name']}, Type: {item['type']}, Size: {item.get('storageSize', 0)}\")"
   ]
  },
  {
   "cell_type": "code",
   "execution_count": 7,
   "id": "5b9c64a3",
   "metadata": {},
   "outputs": [
    {
     "data": {
      "text/html": [
       "<pre style=\"white-space:pre;overflow-x:auto;line-height:normal;font-family:Menlo,'DejaVu Sans Mono',consolas,'Courier New',monospace\"><span style=\"color: #7fbfbf; text-decoration-color: #7fbfbf\">[10:27:07] </span><span style=\"color: #008080; text-decoration-color: #008080\">INFO</span>: Folder successfully created: batch-folder-<span style=\"color: #008080; text-decoration-color: #008080; font-weight: bold\">0</span>, folder-<span style=\"color: #ffff00; text-decoration-color: #ffff00\">581d5150-eaa0-4129-b21a-286375cee917</span>          \n",
       "</pre>\n"
      ],
      "text/plain": [
       "\u001b[2;36m[10:27:07]\u001b[0m\u001b[2;36m \u001b[0m\u001b[36mINFO\u001b[0m: Folder successfully created: batch-folder-\u001b[1;36m0\u001b[0m, folder-\u001b[93m581d5150-eaa0-4129-b21a-286375cee917\u001b[0m          \n"
      ]
     },
     "metadata": {},
     "output_type": "display_data"
    },
    {
     "data": {
      "text/html": [
       "<pre style=\"white-space:pre;overflow-x:auto;line-height:normal;font-family:Menlo,'DejaVu Sans Mono',consolas,'Courier New',monospace\"><span style=\"color: #7fbfbf; text-decoration-color: #7fbfbf\">           </span><span style=\"color: #008080; text-decoration-color: #008080\">INFO</span>: Created folder <span style=\"color: #008080; text-decoration-color: #008080; font-weight: bold\">1</span>: folder-<span style=\"color: #ffff00; text-decoration-color: #ffff00\">581d5150-eaa0-4129-b21a-286375cee917</span>                                     \n",
       "</pre>\n"
      ],
      "text/plain": [
       "\u001b[2;36m          \u001b[0m\u001b[2;36m \u001b[0m\u001b[36mINFO\u001b[0m: Created folder \u001b[1;36m1\u001b[0m: folder-\u001b[93m581d5150-eaa0-4129-b21a-286375cee917\u001b[0m                                     \n"
      ]
     },
     "metadata": {},
     "output_type": "display_data"
    },
    {
     "data": {
      "text/html": [
       "<pre style=\"white-space:pre;overflow-x:auto;line-height:normal;font-family:Menlo,'DejaVu Sans Mono',consolas,'Courier New',monospace\"><span style=\"color: #7fbfbf; text-decoration-color: #7fbfbf\">           </span><span style=\"color: #008080; text-decoration-color: #008080\">INFO</span>: Folder successfully created: batch-folder-<span style=\"color: #008080; text-decoration-color: #008080; font-weight: bold\">1</span>, folder-<span style=\"color: #ffff00; text-decoration-color: #ffff00\">4a9c0e8a-5be3-4767-878f-8abde4b61693</span>          \n",
       "</pre>\n"
      ],
      "text/plain": [
       "\u001b[2;36m          \u001b[0m\u001b[2;36m \u001b[0m\u001b[36mINFO\u001b[0m: Folder successfully created: batch-folder-\u001b[1;36m1\u001b[0m, folder-\u001b[93m4a9c0e8a-5be3-4767-878f-8abde4b61693\u001b[0m          \n"
      ]
     },
     "metadata": {},
     "output_type": "display_data"
    },
    {
     "data": {
      "text/html": [
       "<pre style=\"white-space:pre;overflow-x:auto;line-height:normal;font-family:Menlo,'DejaVu Sans Mono',consolas,'Courier New',monospace\"><span style=\"color: #7fbfbf; text-decoration-color: #7fbfbf\">           </span><span style=\"color: #008080; text-decoration-color: #008080\">INFO</span>: Created folder <span style=\"color: #008080; text-decoration-color: #008080; font-weight: bold\">2</span>: folder-<span style=\"color: #ffff00; text-decoration-color: #ffff00\">4a9c0e8a-5be3-4767-878f-8abde4b61693</span>                                     \n",
       "</pre>\n"
      ],
      "text/plain": [
       "\u001b[2;36m          \u001b[0m\u001b[2;36m \u001b[0m\u001b[36mINFO\u001b[0m: Created folder \u001b[1;36m2\u001b[0m: folder-\u001b[93m4a9c0e8a-5be3-4767-878f-8abde4b61693\u001b[0m                                     \n"
      ]
     },
     "metadata": {},
     "output_type": "display_data"
    },
    {
     "data": {
      "text/html": [
       "<pre style=\"white-space:pre;overflow-x:auto;line-height:normal;font-family:Menlo,'DejaVu Sans Mono',consolas,'Courier New',monospace\"><span style=\"color: #7fbfbf; text-decoration-color: #7fbfbf\">           </span><span style=\"color: #008080; text-decoration-color: #008080\">INFO</span>: Folder successfully created: batch-folder-<span style=\"color: #008080; text-decoration-color: #008080; font-weight: bold\">2</span>, folder-<span style=\"color: #ffff00; text-decoration-color: #ffff00\">6723a405-ad77-434b-aa4e-098c3bbd2d31</span>          \n",
       "</pre>\n"
      ],
      "text/plain": [
       "\u001b[2;36m          \u001b[0m\u001b[2;36m \u001b[0m\u001b[36mINFO\u001b[0m: Folder successfully created: batch-folder-\u001b[1;36m2\u001b[0m, folder-\u001b[93m6723a405-ad77-434b-aa4e-098c3bbd2d31\u001b[0m          \n"
      ]
     },
     "metadata": {},
     "output_type": "display_data"
    },
    {
     "data": {
      "text/html": [
       "<pre style=\"white-space:pre;overflow-x:auto;line-height:normal;font-family:Menlo,'DejaVu Sans Mono',consolas,'Courier New',monospace\"><span style=\"color: #7fbfbf; text-decoration-color: #7fbfbf\">           </span><span style=\"color: #008080; text-decoration-color: #008080\">INFO</span>: Created folder <span style=\"color: #008080; text-decoration-color: #008080; font-weight: bold\">3</span>: folder-<span style=\"color: #ffff00; text-decoration-color: #ffff00\">6723a405-ad77-434b-aa4e-098c3bbd2d31</span>                                     \n",
       "</pre>\n"
      ],
      "text/plain": [
       "\u001b[2;36m          \u001b[0m\u001b[2;36m \u001b[0m\u001b[36mINFO\u001b[0m: Created folder \u001b[1;36m3\u001b[0m: folder-\u001b[93m6723a405-ad77-434b-aa4e-098c3bbd2d31\u001b[0m                                     \n"
      ]
     },
     "metadata": {},
     "output_type": "display_data"
    },
    {
     "data": {
      "text/html": [
       "<pre style=\"white-space:pre;overflow-x:auto;line-height:normal;font-family:Menlo,'DejaVu Sans Mono',consolas,'Courier New',monospace\"><span style=\"color: #7fbfbf; text-decoration-color: #7fbfbf\">           </span><span style=\"color: #008080; text-decoration-color: #008080\">INFO</span>: Folder successfully created: batch-folder-<span style=\"color: #008080; text-decoration-color: #008080; font-weight: bold\">3</span>, folder-<span style=\"color: #ffff00; text-decoration-color: #ffff00\">3af423d3-9240-41b0-8ae2-2c21a6b66ffb</span>          \n",
       "</pre>\n"
      ],
      "text/plain": [
       "\u001b[2;36m          \u001b[0m\u001b[2;36m \u001b[0m\u001b[36mINFO\u001b[0m: Folder successfully created: batch-folder-\u001b[1;36m3\u001b[0m, folder-\u001b[93m3af423d3-9240-41b0-8ae2-2c21a6b66ffb\u001b[0m          \n"
      ]
     },
     "metadata": {},
     "output_type": "display_data"
    },
    {
     "data": {
      "text/html": [
       "<pre style=\"white-space:pre;overflow-x:auto;line-height:normal;font-family:Menlo,'DejaVu Sans Mono',consolas,'Courier New',monospace\"><span style=\"color: #7fbfbf; text-decoration-color: #7fbfbf\">           </span><span style=\"color: #008080; text-decoration-color: #008080\">INFO</span>: Created folder <span style=\"color: #008080; text-decoration-color: #008080; font-weight: bold\">4</span>: folder-<span style=\"color: #ffff00; text-decoration-color: #ffff00\">3af423d3-9240-41b0-8ae2-2c21a6b66ffb</span>                                     \n",
       "</pre>\n"
      ],
      "text/plain": [
       "\u001b[2;36m          \u001b[0m\u001b[2;36m \u001b[0m\u001b[36mINFO\u001b[0m: Created folder \u001b[1;36m4\u001b[0m: folder-\u001b[93m3af423d3-9240-41b0-8ae2-2c21a6b66ffb\u001b[0m                                     \n"
      ]
     },
     "metadata": {},
     "output_type": "display_data"
    },
    {
     "data": {
      "text/html": [
       "<pre style=\"white-space:pre;overflow-x:auto;line-height:normal;font-family:Menlo,'DejaVu Sans Mono',consolas,'Courier New',monospace\"><span style=\"color: #7fbfbf; text-decoration-color: #7fbfbf\">           </span><span style=\"color: #008080; text-decoration-color: #008080\">INFO</span>: Folder successfully created: batch-folder-<span style=\"color: #008080; text-decoration-color: #008080; font-weight: bold\">4</span>, folder-<span style=\"color: #ffff00; text-decoration-color: #ffff00\">b99266bf-575a-403b-ab66-49abfd77f3ff</span>          \n",
       "</pre>\n"
      ],
      "text/plain": [
       "\u001b[2;36m          \u001b[0m\u001b[2;36m \u001b[0m\u001b[36mINFO\u001b[0m: Folder successfully created: batch-folder-\u001b[1;36m4\u001b[0m, folder-\u001b[93mb99266bf-575a-403b-ab66-49abfd77f3ff\u001b[0m          \n"
      ]
     },
     "metadata": {},
     "output_type": "display_data"
    },
    {
     "data": {
      "text/html": [
       "<pre style=\"white-space:pre;overflow-x:auto;line-height:normal;font-family:Menlo,'DejaVu Sans Mono',consolas,'Courier New',monospace\"><span style=\"color: #7fbfbf; text-decoration-color: #7fbfbf\">           </span><span style=\"color: #008080; text-decoration-color: #008080\">INFO</span>: Created folder <span style=\"color: #008080; text-decoration-color: #008080; font-weight: bold\">5</span>: folder-<span style=\"color: #ffff00; text-decoration-color: #ffff00\">b99266bf-575a-403b-ab66-49abfd77f3ff</span>                                     \n",
       "</pre>\n"
      ],
      "text/plain": [
       "\u001b[2;36m          \u001b[0m\u001b[2;36m \u001b[0m\u001b[36mINFO\u001b[0m: Created folder \u001b[1;36m5\u001b[0m: folder-\u001b[93mb99266bf-575a-403b-ab66-49abfd77f3ff\u001b[0m                                     \n"
      ]
     },
     "metadata": {},
     "output_type": "display_data"
    },
    {
     "data": {
      "text/html": [
       "<pre style=\"white-space:pre;overflow-x:auto;line-height:normal;font-family:Menlo,'DejaVu Sans Mono',consolas,'Courier New',monospace\"><span style=\"color: #7fbfbf; text-decoration-color: #7fbfbf\">           </span><span style=\"color: #008080; text-decoration-color: #008080\">INFO</span>: Folder successfully created: target-folder, folder-<span style=\"color: #ffff00; text-decoration-color: #ffff00\">c0f19990-d077-4877-993b-8b29a6fd53e6</span>           \n",
       "</pre>\n"
      ],
      "text/plain": [
       "\u001b[2;36m          \u001b[0m\u001b[2;36m \u001b[0m\u001b[36mINFO\u001b[0m: Folder successfully created: target-folder, folder-\u001b[93mc0f19990-d077-4877-993b-8b29a6fd53e6\u001b[0m           \n"
      ]
     },
     "metadata": {},
     "output_type": "display_data"
    },
    {
     "data": {
      "text/html": [
       "<pre style=\"white-space:pre;overflow-x:auto;line-height:normal;font-family:Menlo,'DejaVu Sans Mono',consolas,'Courier New',monospace\"><span style=\"color: #7fbfbf; text-decoration-color: #7fbfbf\">           </span><span style=\"color: #008080; text-decoration-color: #008080\">INFO</span>: Moved folder-<span style=\"color: #ffff00; text-decoration-color: #ffff00\">581d5150-eaa0-4129-b21a-286375cee917</span> to folder-<span style=\"color: #ffff00; text-decoration-color: #ffff00\">c0f19990-d077-4877-993b-8b29a6fd53e6</span>  \n",
       "</pre>\n"
      ],
      "text/plain": [
       "\u001b[2;36m          \u001b[0m\u001b[2;36m \u001b[0m\u001b[36mINFO\u001b[0m: Moved folder-\u001b[93m581d5150-eaa0-4129-b21a-286375cee917\u001b[0m to folder-\u001b[93mc0f19990-d077-4877-993b-8b29a6fd53e6\u001b[0m  \n"
      ]
     },
     "metadata": {},
     "output_type": "display_data"
    },
    {
     "data": {
      "text/html": [
       "<pre style=\"white-space:pre;overflow-x:auto;line-height:normal;font-family:Menlo,'DejaVu Sans Mono',consolas,'Courier New',monospace\"><span style=\"color: #7fbfbf; text-decoration-color: #7fbfbf\">           </span><span style=\"color: #008080; text-decoration-color: #008080\">INFO</span>: Moved folder-<span style=\"color: #ffff00; text-decoration-color: #ffff00\">4a9c0e8a-5be3-4767-878f-8abde4b61693</span> to folder-<span style=\"color: #ffff00; text-decoration-color: #ffff00\">c0f19990-d077-4877-993b-8b29a6fd53e6</span>  \n",
       "</pre>\n"
      ],
      "text/plain": [
       "\u001b[2;36m          \u001b[0m\u001b[2;36m \u001b[0m\u001b[36mINFO\u001b[0m: Moved folder-\u001b[93m4a9c0e8a-5be3-4767-878f-8abde4b61693\u001b[0m to folder-\u001b[93mc0f19990-d077-4877-993b-8b29a6fd53e6\u001b[0m  \n"
      ]
     },
     "metadata": {},
     "output_type": "display_data"
    },
    {
     "data": {
      "text/html": [
       "<pre style=\"white-space:pre;overflow-x:auto;line-height:normal;font-family:Menlo,'DejaVu Sans Mono',consolas,'Courier New',monospace\"><span style=\"color: #7fbfbf; text-decoration-color: #7fbfbf\">           </span><span style=\"color: #008080; text-decoration-color: #008080\">INFO</span>: Moved folder-<span style=\"color: #ffff00; text-decoration-color: #ffff00\">6723a405-ad77-434b-aa4e-098c3bbd2d31</span> to folder-<span style=\"color: #ffff00; text-decoration-color: #ffff00\">c0f19990-d077-4877-993b-8b29a6fd53e6</span>  \n",
       "</pre>\n"
      ],
      "text/plain": [
       "\u001b[2;36m          \u001b[0m\u001b[2;36m \u001b[0m\u001b[36mINFO\u001b[0m: Moved folder-\u001b[93m6723a405-ad77-434b-aa4e-098c3bbd2d31\u001b[0m to folder-\u001b[93mc0f19990-d077-4877-993b-8b29a6fd53e6\u001b[0m  \n"
      ]
     },
     "metadata": {},
     "output_type": "display_data"
    },
    {
     "data": {
      "text/html": [
       "<pre style=\"white-space:pre;overflow-x:auto;line-height:normal;font-family:Menlo,'DejaVu Sans Mono',consolas,'Courier New',monospace\"><span style=\"color: #7fbfbf; text-decoration-color: #7fbfbf\">           </span><span style=\"color: #008080; text-decoration-color: #008080\">INFO</span>: Moved folder-<span style=\"color: #ffff00; text-decoration-color: #ffff00\">3af423d3-9240-41b0-8ae2-2c21a6b66ffb</span> to folder-<span style=\"color: #ffff00; text-decoration-color: #ffff00\">c0f19990-d077-4877-993b-8b29a6fd53e6</span>  \n",
       "</pre>\n"
      ],
      "text/plain": [
       "\u001b[2;36m          \u001b[0m\u001b[2;36m \u001b[0m\u001b[36mINFO\u001b[0m: Moved folder-\u001b[93m3af423d3-9240-41b0-8ae2-2c21a6b66ffb\u001b[0m to folder-\u001b[93mc0f19990-d077-4877-993b-8b29a6fd53e6\u001b[0m  \n"
      ]
     },
     "metadata": {},
     "output_type": "display_data"
    },
    {
     "data": {
      "text/html": [
       "<pre style=\"white-space:pre;overflow-x:auto;line-height:normal;font-family:Menlo,'DejaVu Sans Mono',consolas,'Courier New',monospace\"><span style=\"color: #7fbfbf; text-decoration-color: #7fbfbf\">           </span><span style=\"color: #008080; text-decoration-color: #008080\">INFO</span>: Moved folder-<span style=\"color: #ffff00; text-decoration-color: #ffff00\">b99266bf-575a-403b-ab66-49abfd77f3ff</span> to folder-<span style=\"color: #ffff00; text-decoration-color: #ffff00\">c0f19990-d077-4877-993b-8b29a6fd53e6</span>  \n",
       "</pre>\n"
      ],
      "text/plain": [
       "\u001b[2;36m          \u001b[0m\u001b[2;36m \u001b[0m\u001b[36mINFO\u001b[0m: Moved folder-\u001b[93mb99266bf-575a-403b-ab66-49abfd77f3ff\u001b[0m to folder-\u001b[93mc0f19990-d077-4877-993b-8b29a6fd53e6\u001b[0m  \n"
      ]
     },
     "metadata": {},
     "output_type": "display_data"
    }
   ],
   "source": [
    "# Batch operations example\n",
    "from flow360.component.folder import Folder\n",
    "\n",
    "\n",
    "folders = []\n",
    "for i in range(5):\n",
    "    folder = fl.Folder.create(f\"batch-folder-{i}\").submit()\n",
    "    folders.append(folder)\n",
    "    log.info(f\"Created folder {i+1}: {folder.id}\")\n",
    "\n",
    "# Test moving multiple folders\n",
    "target = fl.Folder.create(\"target-folder\").submit()\n",
    "for folder in folders:\n",
    "    folder.move_to_folder(target)\n",
    "    log.info(f\"Moved {folder.id} to {target.id}\")"
   ]
  },
  {
   "cell_type": "code",
   "execution_count": null,
   "id": "ba10937f",
   "metadata": {},
   "outputs": [],
   "source": [
    "# Create a project inside a folder\n",
    "from flow360.examples import Airplane, OM6wing\n",
    "\n",
    "# Configuration\n",
    "solver_version = \"release-25.6\"\n",
    "folder_id = \"folder-8e1cdfca-4d59-49a3-805a-308e4cb6b8d1\"  # Replace with your folder ID\n",
    "folder = fl.Folder(id=folder_id)  # Or create a folder\n",
    "\n",
    "# Example 1: Create geometry project in folder\n",
    "geometry_project = fl.Project.from_geometry(\n",
    "    Airplane.geometry,\n",
    "    name=\"Geometry Project in Folder\",\n",
    "    solver_version=solver_version,\n",
    "    folder=folder,\n",
    ")\n",
    "log.info(f\"✅ Geometry project created: {geometry_project.id}\")\n",
    "\n",
    "# Example 2: Create surface mesh project in folder\n",
    "surface_project = fl.Project.from_surface_mesh(\n",
    "    \"/path/to/your/surface/mesh.stl\",\n",
    "    name=\"Surface Mesh Project in Folder\",\n",
    "    solver_version=solver_version,\n",
    "    folder=folder,\n",
    ")\n",
    "log.info(f\"✅ Surface mesh project created: {surface_project.id}\")\n",
    "\n",
    "# Example 3: Create volume mesh project in folder\n",
    "OM6wing.get_files()  # Download example files\n",
    "volume_project = fl.Project.from_volume_mesh(\n",
    "    OM6wing.mesh_filename,\n",
    "    name=\"Volume Mesh Project in Folder\",\n",
    "    solver_version=solver_version,\n",
    "    folder=folder,\n",
    ")\n",
    "log.info(f\"✅ Volume mesh project created: {volume_project.id}\")\n",
    "\n",
    "log.info(f\"\\n📁 All projects created in folder: {folder.name} ({folder.id})\")"
   ]
  }
 ],
 "metadata": {
  "kernelspec": {
   "display_name": "flow360-E9f6_bLL-py3.12",
   "language": "python",
   "name": "python3"
  },
  "language_info": {
   "codemirror_mode": {
    "name": "ipython",
    "version": 3
   },
   "file_extension": ".py",
   "mimetype": "text/x-python",
   "name": "python",
   "nbconvert_exporter": "python",
   "pygments_lexer": "ipython3",
   "version": "3.12.10"
  }
 },
 "nbformat": 4,
 "nbformat_minor": 5
}
