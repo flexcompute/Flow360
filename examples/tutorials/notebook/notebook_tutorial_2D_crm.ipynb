{
 "cells": [
  {
   "cell_type": "markdown",
   "id": "75280adb-51fc-4e3e-a767-341228758714",
   "metadata": {},
   "source": [
    "# **RANS CFD on 2D CRM Airfoil**\n",
    "This notebook shows how to set up and run a 2D CRM airfoil simulation using Flow360 python API.\n",
    "\n",
    ">Note: the cost of running the case shown in this notebook is less than 1 FlexCredit.\n",
    "\n",
    "Geometry for this tutorial was created using Engineering Sketch Pad (ESP) and is already provided.\n",
    "\n",
    "We will walk through all the steps such as importing modules, creating a project and assigning simulation parameters.\n",
    "\n",
    "Additionally, we will use the function `fl.operating_condition_from_mach_reynolds`, which is often utilized when running workshop cases and allows us to define operating conditions using mach and reynolds number.\n",
    "\n",
    "In order to get a closer look at how we describe each parameter, we will first split the simulation parameters into smaller parts, which will be assembled later on. At the end of the notebook we will provide an example of how the code can be written in a more condensed way."
   ]
  },
  {
   "cell_type": "markdown",
   "id": "8355df66-8b7b-457a-8905-1c6d673cfab7",
   "metadata": {},
   "source": [
    "As a first step, we will import all dependencies"
   ]
  },
  {
   "cell_type": "code",
   "execution_count": 1,
   "id": "f1a1793f-0e6c-4836-938a-cf857de32099",
   "metadata": {},
   "outputs": [],
   "source": [
    "# flow360 imports\n",
    "import flow360 as fl\n",
    "from flow360.component.simulation.unit_system import SI_unit_system, u\n",
    "from flow360.examples import Tutorial2DCRM\n",
    "from flow360.log import log, set_logging_level\n",
    "log.log_to_file = False\n",
    "set_logging_level(\"INFO\")"
   ]
  },
  {
   "attachments": {},
   "cell_type": "markdown",
   "id": "68120cff-2504-42e7-ba5d-1cdf88571dda",
   "metadata": {},
   "source": [
    "## Project creation\n",
    "We then begin by creating a project variable, which will be used to do operations on the geometry as well as running the case, which includes creating surface and volume meshes."
   ]
  },
  {
   "cell_type": "code",
   "execution_count": 2,
   "id": "7fcf1076-2485-4ed0-a642-347010c4953c",
   "metadata": {},
   "outputs": [
    {
     "data": {
      "text/html": [
       "<pre style=\"white-space:pre;overflow-x:auto;line-height:normal;font-family:Menlo,'DejaVu Sans Mono',consolas,'Courier New',monospace\">/Users/wiktor/Library/Caches/pypoetry/virtualenvs/flow360-m20sMBMn-py3.11/lib/python3.11/site-packages/rich/live.py\n",
       ":231: UserWarning: install \"ipywidgets\" for Jupyter support\n",
       "  warnings.warn('install \"ipywidgets\" for Jupyter support')\n",
       "</pre>\n"
      ],
      "text/plain": [
       "/Users/wiktor/Library/Caches/pypoetry/virtualenvs/flow360-m20sMBMn-py3.11/lib/python3.11/site-packages/rich/live.py\n",
       ":231: UserWarning: install \"ipywidgets\" for Jupyter support\n",
       "  warnings.warn('install \"ipywidgets\" for Jupyter support')\n"
      ]
     },
     "metadata": {},
     "output_type": "display_data"
    },
    {
     "data": {
      "text/html": [
       "<pre style=\"white-space:pre;overflow-x:auto;line-height:normal;font-family:Menlo,'DejaVu Sans Mono',consolas,'Courier New',monospace\"></pre>\n"
      ],
      "text/plain": []
     },
     "metadata": {},
     "output_type": "display_data"
    },
    {
     "data": {
      "text/html": [
       "<pre style=\"white-space:pre;overflow-x:auto;line-height:normal;font-family:Menlo,'DejaVu Sans Mono',consolas,'Courier New',monospace\"><span style=\"color: #7fbfbf; text-decoration-color: #7fbfbf\">[18:02:42] </span><span style=\"color: #008080; text-decoration-color: #008080\">INFO</span>: Geometry successfully submitted:                                                                  \n",
       "<span style=\"color: #7fbfbf; text-decoration-color: #7fbfbf\">           </span>        name   = Tutorial 2D CRM from Python                                                            \n",
       "<span style=\"color: #7fbfbf; text-decoration-color: #7fbfbf\">           </span>        id     = geo-<span style=\"color: #ffff00; text-decoration-color: #ffff00\">bfcb5002-0551-4a71-9974-24f07d94ae26</span>                                               \n",
       "<span style=\"color: #7fbfbf; text-decoration-color: #7fbfbf\">           </span>        status = uploaded                                                                               \n",
       "<span style=\"color: #7fbfbf; text-decoration-color: #7fbfbf\">           </span>                                                                                                        \n",
       "</pre>\n"
      ],
      "text/plain": [
       "\u001b[2;36m[18:02:42]\u001b[0m\u001b[2;36m \u001b[0m\u001b[36mINFO\u001b[0m: Geometry successfully submitted:                                                                  \n",
       "\u001b[2;36m           \u001b[0m        name   = Tutorial 2D CRM from Python                                                            \n",
       "\u001b[2;36m           \u001b[0m        id     = geo-\u001b[93mbfcb5002-0551-4a71-9974-24f07d94ae26\u001b[0m                                               \n",
       "\u001b[2;36m           \u001b[0m        status = uploaded                                                                               \n",
       "\u001b[2;36m           \u001b[0m                                                                                                        \n"
      ]
     },
     "metadata": {},
     "output_type": "display_data"
    },
    {
     "data": {
      "text/html": [
       "<pre style=\"white-space:pre;overflow-x:auto;line-height:normal;font-family:Menlo,'DejaVu Sans Mono',consolas,'Courier New',monospace\"><span style=\"color: #7fbfbf; text-decoration-color: #7fbfbf\">           </span><span style=\"color: #008080; text-decoration-color: #008080\">INFO</span>: Waiting for geometry to be processed.                                                             \n",
       "</pre>\n"
      ],
      "text/plain": [
       "\u001b[2;36m          \u001b[0m\u001b[2;36m \u001b[0m\u001b[36mINFO\u001b[0m: Waiting for geometry to be processed.                                                             \n"
      ]
     },
     "metadata": {},
     "output_type": "display_data"
    },
    {
     "data": {
      "text/html": [
       "<pre style=\"white-space:pre;overflow-x:auto;line-height:normal;font-family:Menlo,'DejaVu Sans Mono',consolas,'Courier New',monospace\"><span style=\"color: #7fbfbf; text-decoration-color: #7fbfbf\">[18:03:48] </span><span style=\"color: #808000; text-decoration-color: #808000\">WARNING</span>: <span style=\"color: #c0c0c0; text-decoration-color: #c0c0c0\">Could not find face grouping info in the draft's simulation settings. Please remember to group </span>\n",
       "<span style=\"color: #7fbfbf; text-decoration-color: #7fbfbf\">           </span><span style=\"color: #c0c0c0; text-decoration-color: #c0c0c0\">them if relevant features are used.</span>                                                                     \n",
       "</pre>\n"
      ],
      "text/plain": [
       "\u001b[2;36m[18:03:48]\u001b[0m\u001b[2;36m \u001b[0m\u001b[33mWARNING\u001b[0m: \u001b[37mCould not find face grouping info in the draft's simulation settings. Please remember to group \u001b[0m\n",
       "\u001b[2;36m           \u001b[0m\u001b[37mthem if relevant features are used.\u001b[0m                                                                     \n"
      ]
     },
     "metadata": {},
     "output_type": "display_data"
    },
    {
     "data": {
      "text/html": [
       "<pre style=\"white-space:pre;overflow-x:auto;line-height:normal;font-family:Menlo,'DejaVu Sans Mono',consolas,'Courier New',monospace\"><span style=\"color: #7fbfbf; text-decoration-color: #7fbfbf\">           </span><span style=\"color: #808000; text-decoration-color: #808000\">WARNING</span>: <span style=\"color: #c0c0c0; text-decoration-color: #c0c0c0\">Could not find edge grouping info in the draft's simulation settings. Please remember to group </span>\n",
       "<span style=\"color: #7fbfbf; text-decoration-color: #7fbfbf\">           </span><span style=\"color: #c0c0c0; text-decoration-color: #c0c0c0\">them if relevant features are used.</span>                                                                     \n",
       "</pre>\n"
      ],
      "text/plain": [
       "\u001b[2;36m          \u001b[0m\u001b[2;36m \u001b[0m\u001b[33mWARNING\u001b[0m: \u001b[37mCould not find edge grouping info in the draft's simulation settings. Please remember to group \u001b[0m\n",
       "\u001b[2;36m           \u001b[0m\u001b[37mthem if relevant features are used.\u001b[0m                                                                     \n"
      ]
     },
     "metadata": {},
     "output_type": "display_data"
    },
    {
     "data": {
      "text/html": [
       "<pre style=\"white-space:pre;overflow-x:auto;line-height:normal;font-family:Menlo,'DejaVu Sans Mono',consolas,'Courier New',monospace\"><span style=\"color: #7fbfbf; text-decoration-color: #7fbfbf\">[18:03:49] </span><span style=\"color: #008080; text-decoration-color: #008080\">INFO</span>:  &gt;&gt; Available attribute tags for grouping **faces**:                                              \n",
       "</pre>\n"
      ],
      "text/plain": [
       "\u001b[2;36m[18:03:49]\u001b[0m\u001b[2;36m \u001b[0m\u001b[36mINFO\u001b[0m:  >> Available attribute tags for grouping **faces**:                                              \n"
      ]
     },
     "metadata": {},
     "output_type": "display_data"
    },
    {
     "data": {
      "text/html": [
       "<pre style=\"white-space:pre;overflow-x:auto;line-height:normal;font-family:Menlo,'DejaVu Sans Mono',consolas,'Courier New',monospace\"><span style=\"color: #7fbfbf; text-decoration-color: #7fbfbf\">           </span><span style=\"color: #008080; text-decoration-color: #008080\">INFO</span>:     &gt;&gt; Tag <span style=\"color: #008080; text-decoration-color: #008080; font-weight: bold\">0</span>: faceName. Grouping with this tag results in:                                        \n",
       "</pre>\n"
      ],
      "text/plain": [
       "\u001b[2;36m          \u001b[0m\u001b[2;36m \u001b[0m\u001b[36mINFO\u001b[0m:     >> Tag \u001b[1;36m0\u001b[0m: faceName. Grouping with this tag results in:                                        \n"
      ]
     },
     "metadata": {},
     "output_type": "display_data"
    },
    {
     "data": {
      "text/html": [
       "<pre style=\"white-space:pre;overflow-x:auto;line-height:normal;font-family:Menlo,'DejaVu Sans Mono',consolas,'Courier New',monospace\"><span style=\"color: #7fbfbf; text-decoration-color: #7fbfbf\">           </span><span style=\"color: #008080; text-decoration-color: #008080\">INFO</span>:         &gt;&gt; Group <span style=\"color: #008080; text-decoration-color: #008080; font-weight: bold\">0</span>: wingTrailing                                                                  \n",
       "</pre>\n"
      ],
      "text/plain": [
       "\u001b[2;36m          \u001b[0m\u001b[2;36m \u001b[0m\u001b[36mINFO\u001b[0m:         >> Group \u001b[1;36m0\u001b[0m: wingTrailing                                                                  \n"
      ]
     },
     "metadata": {},
     "output_type": "display_data"
    },
    {
     "data": {
      "text/html": [
       "<pre style=\"white-space:pre;overflow-x:auto;line-height:normal;font-family:Menlo,'DejaVu Sans Mono',consolas,'Courier New',monospace\"><span style=\"color: #7fbfbf; text-decoration-color: #7fbfbf\">           </span><span style=\"color: #008080; text-decoration-color: #008080\">INFO</span>:            IDs: <span style=\"font-weight: bold\">[</span><span style=\"color: #008000; text-decoration-color: #008000\">'body0001_face0001'</span><span style=\"font-weight: bold\">]</span>                                                             \n",
       "</pre>\n"
      ],
      "text/plain": [
       "\u001b[2;36m          \u001b[0m\u001b[2;36m \u001b[0m\u001b[36mINFO\u001b[0m:            IDs: \u001b[1m[\u001b[0m\u001b[32m'body0001_face0001'\u001b[0m\u001b[1m]\u001b[0m                                                             \n"
      ]
     },
     "metadata": {},
     "output_type": "display_data"
    },
    {
     "data": {
      "text/html": [
       "<pre style=\"white-space:pre;overflow-x:auto;line-height:normal;font-family:Menlo,'DejaVu Sans Mono',consolas,'Courier New',monospace\"><span style=\"color: #7fbfbf; text-decoration-color: #7fbfbf\">           </span><span style=\"color: #008080; text-decoration-color: #008080\">INFO</span>:         &gt;&gt; Group <span style=\"color: #008080; text-decoration-color: #008080; font-weight: bold\">1</span>: wing                                                                          \n",
       "</pre>\n"
      ],
      "text/plain": [
       "\u001b[2;36m          \u001b[0m\u001b[2;36m \u001b[0m\u001b[36mINFO\u001b[0m:         >> Group \u001b[1;36m1\u001b[0m: wing                                                                          \n"
      ]
     },
     "metadata": {},
     "output_type": "display_data"
    },
    {
     "data": {
      "text/html": [
       "<pre style=\"white-space:pre;overflow-x:auto;line-height:normal;font-family:Menlo,'DejaVu Sans Mono',consolas,'Courier New',monospace\"><span style=\"color: #7fbfbf; text-decoration-color: #7fbfbf\">           </span><span style=\"color: #008080; text-decoration-color: #008080\">INFO</span>:            IDs: <span style=\"font-weight: bold\">[</span><span style=\"color: #008000; text-decoration-color: #008000\">'body0001_face0002'</span>, <span style=\"color: #008000; text-decoration-color: #008000\">'body0001_face0003'</span>, <span style=\"color: #008000; text-decoration-color: #008000\">'body0001_face0004'</span>,                   \n",
       "<span style=\"color: #7fbfbf; text-decoration-color: #7fbfbf\">           </span><span style=\"color: #008000; text-decoration-color: #008000\">'body0001_face0005'</span>, <span style=\"color: #008000; text-decoration-color: #008000\">'body0001_face0006'</span><span style=\"font-weight: bold\">]</span>                                                               \n",
       "</pre>\n"
      ],
      "text/plain": [
       "\u001b[2;36m          \u001b[0m\u001b[2;36m \u001b[0m\u001b[36mINFO\u001b[0m:            IDs: \u001b[1m[\u001b[0m\u001b[32m'body0001_face0002'\u001b[0m, \u001b[32m'body0001_face0003'\u001b[0m, \u001b[32m'body0001_face0004'\u001b[0m,                   \n",
       "\u001b[2;36m           \u001b[0m\u001b[32m'body0001_face0005'\u001b[0m, \u001b[32m'body0001_face0006'\u001b[0m\u001b[1m]\u001b[0m                                                               \n"
      ]
     },
     "metadata": {},
     "output_type": "display_data"
    },
    {
     "data": {
      "text/html": [
       "<pre style=\"white-space:pre;overflow-x:auto;line-height:normal;font-family:Menlo,'DejaVu Sans Mono',consolas,'Courier New',monospace\"><span style=\"color: #7fbfbf; text-decoration-color: #7fbfbf\">           </span><span style=\"color: #008080; text-decoration-color: #008080\">INFO</span>:         &gt;&gt; Group <span style=\"color: #008080; text-decoration-color: #008080; font-weight: bold\">2</span>: flapTrailing                                                                  \n",
       "</pre>\n"
      ],
      "text/plain": [
       "\u001b[2;36m          \u001b[0m\u001b[2;36m \u001b[0m\u001b[36mINFO\u001b[0m:         >> Group \u001b[1;36m2\u001b[0m: flapTrailing                                                                  \n"
      ]
     },
     "metadata": {},
     "output_type": "display_data"
    },
    {
     "data": {
      "text/html": [
       "<pre style=\"white-space:pre;overflow-x:auto;line-height:normal;font-family:Menlo,'DejaVu Sans Mono',consolas,'Courier New',monospace\"><span style=\"color: #7fbfbf; text-decoration-color: #7fbfbf\">           </span><span style=\"color: #008080; text-decoration-color: #008080\">INFO</span>:            IDs: <span style=\"font-weight: bold\">[</span><span style=\"color: #008000; text-decoration-color: #008000\">'body0002_face0001'</span><span style=\"font-weight: bold\">]</span>                                                             \n",
       "</pre>\n"
      ],
      "text/plain": [
       "\u001b[2;36m          \u001b[0m\u001b[2;36m \u001b[0m\u001b[36mINFO\u001b[0m:            IDs: \u001b[1m[\u001b[0m\u001b[32m'body0002_face0001'\u001b[0m\u001b[1m]\u001b[0m                                                             \n"
      ]
     },
     "metadata": {},
     "output_type": "display_data"
    },
    {
     "data": {
      "text/html": [
       "<pre style=\"white-space:pre;overflow-x:auto;line-height:normal;font-family:Menlo,'DejaVu Sans Mono',consolas,'Courier New',monospace\"><span style=\"color: #7fbfbf; text-decoration-color: #7fbfbf\">           </span><span style=\"color: #008080; text-decoration-color: #008080\">INFO</span>:         &gt;&gt; Group <span style=\"color: #008080; text-decoration-color: #008080; font-weight: bold\">3</span>: flap                                                                          \n",
       "</pre>\n"
      ],
      "text/plain": [
       "\u001b[2;36m          \u001b[0m\u001b[2;36m \u001b[0m\u001b[36mINFO\u001b[0m:         >> Group \u001b[1;36m3\u001b[0m: flap                                                                          \n"
      ]
     },
     "metadata": {},
     "output_type": "display_data"
    },
    {
     "data": {
      "text/html": [
       "<pre style=\"white-space:pre;overflow-x:auto;line-height:normal;font-family:Menlo,'DejaVu Sans Mono',consolas,'Courier New',monospace\"><span style=\"color: #7fbfbf; text-decoration-color: #7fbfbf\">           </span><span style=\"color: #008080; text-decoration-color: #008080\">INFO</span>:            IDs: <span style=\"font-weight: bold\">[</span><span style=\"color: #008000; text-decoration-color: #008000\">'body0002_face0002'</span>, <span style=\"color: #008000; text-decoration-color: #008000\">'body0002_face0003'</span>, <span style=\"color: #008000; text-decoration-color: #008000\">'body0002_face0004'</span>,                   \n",
       "<span style=\"color: #7fbfbf; text-decoration-color: #7fbfbf\">           </span><span style=\"color: #008000; text-decoration-color: #008000\">'body0002_face0005'</span><span style=\"font-weight: bold\">]</span>                                                                                    \n",
       "</pre>\n"
      ],
      "text/plain": [
       "\u001b[2;36m          \u001b[0m\u001b[2;36m \u001b[0m\u001b[36mINFO\u001b[0m:            IDs: \u001b[1m[\u001b[0m\u001b[32m'body0002_face0002'\u001b[0m, \u001b[32m'body0002_face0003'\u001b[0m, \u001b[32m'body0002_face0004'\u001b[0m,                   \n",
       "\u001b[2;36m           \u001b[0m\u001b[32m'body0002_face0005'\u001b[0m\u001b[1m]\u001b[0m                                                                                    \n"
      ]
     },
     "metadata": {},
     "output_type": "display_data"
    },
    {
     "data": {
      "text/html": [
       "<pre style=\"white-space:pre;overflow-x:auto;line-height:normal;font-family:Menlo,'DejaVu Sans Mono',consolas,'Courier New',monospace\"><span style=\"color: #7fbfbf; text-decoration-color: #7fbfbf\">           </span><span style=\"color: #008080; text-decoration-color: #008080\">INFO</span>:         &gt;&gt; Group <span style=\"color: #008080; text-decoration-color: #008080; font-weight: bold\">4</span>: slatTrailing                                                                  \n",
       "</pre>\n"
      ],
      "text/plain": [
       "\u001b[2;36m          \u001b[0m\u001b[2;36m \u001b[0m\u001b[36mINFO\u001b[0m:         >> Group \u001b[1;36m4\u001b[0m: slatTrailing                                                                  \n"
      ]
     },
     "metadata": {},
     "output_type": "display_data"
    },
    {
     "data": {
      "text/html": [
       "<pre style=\"white-space:pre;overflow-x:auto;line-height:normal;font-family:Menlo,'DejaVu Sans Mono',consolas,'Courier New',monospace\"><span style=\"color: #7fbfbf; text-decoration-color: #7fbfbf\">           </span><span style=\"color: #008080; text-decoration-color: #008080\">INFO</span>:            IDs: <span style=\"font-weight: bold\">[</span><span style=\"color: #008000; text-decoration-color: #008000\">'body0003_face0001'</span><span style=\"font-weight: bold\">]</span>                                                             \n",
       "</pre>\n"
      ],
      "text/plain": [
       "\u001b[2;36m          \u001b[0m\u001b[2;36m \u001b[0m\u001b[36mINFO\u001b[0m:            IDs: \u001b[1m[\u001b[0m\u001b[32m'body0003_face0001'\u001b[0m\u001b[1m]\u001b[0m                                                             \n"
      ]
     },
     "metadata": {},
     "output_type": "display_data"
    },
    {
     "data": {
      "text/html": [
       "<pre style=\"white-space:pre;overflow-x:auto;line-height:normal;font-family:Menlo,'DejaVu Sans Mono',consolas,'Courier New',monospace\"><span style=\"color: #7fbfbf; text-decoration-color: #7fbfbf\">           </span><span style=\"color: #008080; text-decoration-color: #008080\">INFO</span>:         &gt;&gt; Group <span style=\"color: #008080; text-decoration-color: #008080; font-weight: bold\">5</span>: slat                                                                          \n",
       "</pre>\n"
      ],
      "text/plain": [
       "\u001b[2;36m          \u001b[0m\u001b[2;36m \u001b[0m\u001b[36mINFO\u001b[0m:         >> Group \u001b[1;36m5\u001b[0m: slat                                                                          \n"
      ]
     },
     "metadata": {},
     "output_type": "display_data"
    },
    {
     "data": {
      "text/html": [
       "<pre style=\"white-space:pre;overflow-x:auto;line-height:normal;font-family:Menlo,'DejaVu Sans Mono',consolas,'Courier New',monospace\"><span style=\"color: #7fbfbf; text-decoration-color: #7fbfbf\">           </span><span style=\"color: #008080; text-decoration-color: #008080\">INFO</span>:            IDs: <span style=\"font-weight: bold\">[</span><span style=\"color: #008000; text-decoration-color: #008000\">'body0003_face0002'</span>, <span style=\"color: #008000; text-decoration-color: #008000\">'body0003_face0003'</span>, <span style=\"color: #008000; text-decoration-color: #008000\">'body0003_face0004'</span>,                   \n",
       "<span style=\"color: #7fbfbf; text-decoration-color: #7fbfbf\">           </span><span style=\"color: #008000; text-decoration-color: #008000\">'body0003_face0005'</span>, <span style=\"color: #008000; text-decoration-color: #008000\">'body0003_face0006'</span>, <span style=\"color: #008000; text-decoration-color: #008000\">'body0003_face0007'</span><span style=\"font-weight: bold\">]</span>                                          \n",
       "</pre>\n"
      ],
      "text/plain": [
       "\u001b[2;36m          \u001b[0m\u001b[2;36m \u001b[0m\u001b[36mINFO\u001b[0m:            IDs: \u001b[1m[\u001b[0m\u001b[32m'body0003_face0002'\u001b[0m, \u001b[32m'body0003_face0003'\u001b[0m, \u001b[32m'body0003_face0004'\u001b[0m,                   \n",
       "\u001b[2;36m           \u001b[0m\u001b[32m'body0003_face0005'\u001b[0m, \u001b[32m'body0003_face0006'\u001b[0m, \u001b[32m'body0003_face0007'\u001b[0m\u001b[1m]\u001b[0m                                          \n"
      ]
     },
     "metadata": {},
     "output_type": "display_data"
    },
    {
     "data": {
      "text/html": [
       "<pre style=\"white-space:pre;overflow-x:auto;line-height:normal;font-family:Menlo,'DejaVu Sans Mono',consolas,'Courier New',monospace\"><span style=\"color: #7fbfbf; text-decoration-color: #7fbfbf\">           </span><span style=\"color: #008080; text-decoration-color: #008080\">INFO</span>:     &gt;&gt; Tag <span style=\"color: #008080; text-decoration-color: #008080; font-weight: bold\">1</span>: groupName. Grouping with this tag results in:                                       \n",
       "</pre>\n"
      ],
      "text/plain": [
       "\u001b[2;36m          \u001b[0m\u001b[2;36m \u001b[0m\u001b[36mINFO\u001b[0m:     >> Tag \u001b[1;36m1\u001b[0m: groupName. Grouping with this tag results in:                                       \n"
      ]
     },
     "metadata": {},
     "output_type": "display_data"
    },
    {
     "data": {
      "text/html": [
       "<pre style=\"white-space:pre;overflow-x:auto;line-height:normal;font-family:Menlo,'DejaVu Sans Mono',consolas,'Courier New',monospace\"><span style=\"color: #7fbfbf; text-decoration-color: #7fbfbf\">           </span><span style=\"color: #008080; text-decoration-color: #008080\">INFO</span>:         &gt;&gt; Group <span style=\"color: #008080; text-decoration-color: #008080; font-weight: bold\">0</span>: wing                                                                          \n",
       "</pre>\n"
      ],
      "text/plain": [
       "\u001b[2;36m          \u001b[0m\u001b[2;36m \u001b[0m\u001b[36mINFO\u001b[0m:         >> Group \u001b[1;36m0\u001b[0m: wing                                                                          \n"
      ]
     },
     "metadata": {},
     "output_type": "display_data"
    },
    {
     "data": {
      "text/html": [
       "<pre style=\"white-space:pre;overflow-x:auto;line-height:normal;font-family:Menlo,'DejaVu Sans Mono',consolas,'Courier New',monospace\"><span style=\"color: #7fbfbf; text-decoration-color: #7fbfbf\">           </span><span style=\"color: #008080; text-decoration-color: #008080\">INFO</span>:            IDs: <span style=\"font-weight: bold\">[</span><span style=\"color: #008000; text-decoration-color: #008000\">'body0001_face0001'</span>, <span style=\"color: #008000; text-decoration-color: #008000\">'body0001_face0002'</span>, <span style=\"color: #008000; text-decoration-color: #008000\">'body0001_face0003'</span>,                   \n",
       "<span style=\"color: #7fbfbf; text-decoration-color: #7fbfbf\">           </span><span style=\"color: #008000; text-decoration-color: #008000\">'body0001_face0004'</span>, <span style=\"color: #008000; text-decoration-color: #008000\">'body0001_face0005'</span>, <span style=\"color: #008000; text-decoration-color: #008000\">'body0001_face0006'</span><span style=\"font-weight: bold\">]</span>                                          \n",
       "</pre>\n"
      ],
      "text/plain": [
       "\u001b[2;36m          \u001b[0m\u001b[2;36m \u001b[0m\u001b[36mINFO\u001b[0m:            IDs: \u001b[1m[\u001b[0m\u001b[32m'body0001_face0001'\u001b[0m, \u001b[32m'body0001_face0002'\u001b[0m, \u001b[32m'body0001_face0003'\u001b[0m,                   \n",
       "\u001b[2;36m           \u001b[0m\u001b[32m'body0001_face0004'\u001b[0m, \u001b[32m'body0001_face0005'\u001b[0m, \u001b[32m'body0001_face0006'\u001b[0m\u001b[1m]\u001b[0m                                          \n"
      ]
     },
     "metadata": {},
     "output_type": "display_data"
    },
    {
     "data": {
      "text/html": [
       "<pre style=\"white-space:pre;overflow-x:auto;line-height:normal;font-family:Menlo,'DejaVu Sans Mono',consolas,'Courier New',monospace\"><span style=\"color: #7fbfbf; text-decoration-color: #7fbfbf\">           </span><span style=\"color: #008080; text-decoration-color: #008080\">INFO</span>:         &gt;&gt; Group <span style=\"color: #008080; text-decoration-color: #008080; font-weight: bold\">1</span>: flap                                                                          \n",
       "</pre>\n"
      ],
      "text/plain": [
       "\u001b[2;36m          \u001b[0m\u001b[2;36m \u001b[0m\u001b[36mINFO\u001b[0m:         >> Group \u001b[1;36m1\u001b[0m: flap                                                                          \n"
      ]
     },
     "metadata": {},
     "output_type": "display_data"
    },
    {
     "data": {
      "text/html": [
       "<pre style=\"white-space:pre;overflow-x:auto;line-height:normal;font-family:Menlo,'DejaVu Sans Mono',consolas,'Courier New',monospace\"><span style=\"color: #7fbfbf; text-decoration-color: #7fbfbf\">           </span><span style=\"color: #008080; text-decoration-color: #008080\">INFO</span>:            IDs: <span style=\"font-weight: bold\">[</span><span style=\"color: #008000; text-decoration-color: #008000\">'body0002_face0001'</span>, <span style=\"color: #008000; text-decoration-color: #008000\">'body0002_face0002'</span>, <span style=\"color: #008000; text-decoration-color: #008000\">'body0002_face0003'</span>,                   \n",
       "<span style=\"color: #7fbfbf; text-decoration-color: #7fbfbf\">           </span><span style=\"color: #008000; text-decoration-color: #008000\">'body0002_face0004'</span>, <span style=\"color: #008000; text-decoration-color: #008000\">'body0002_face0005'</span><span style=\"font-weight: bold\">]</span>                                                               \n",
       "</pre>\n"
      ],
      "text/plain": [
       "\u001b[2;36m          \u001b[0m\u001b[2;36m \u001b[0m\u001b[36mINFO\u001b[0m:            IDs: \u001b[1m[\u001b[0m\u001b[32m'body0002_face0001'\u001b[0m, \u001b[32m'body0002_face0002'\u001b[0m, \u001b[32m'body0002_face0003'\u001b[0m,                   \n",
       "\u001b[2;36m           \u001b[0m\u001b[32m'body0002_face0004'\u001b[0m, \u001b[32m'body0002_face0005'\u001b[0m\u001b[1m]\u001b[0m                                                               \n"
      ]
     },
     "metadata": {},
     "output_type": "display_data"
    },
    {
     "data": {
      "text/html": [
       "<pre style=\"white-space:pre;overflow-x:auto;line-height:normal;font-family:Menlo,'DejaVu Sans Mono',consolas,'Courier New',monospace\"><span style=\"color: #7fbfbf; text-decoration-color: #7fbfbf\">           </span><span style=\"color: #008080; text-decoration-color: #008080\">INFO</span>:         &gt;&gt; Group <span style=\"color: #008080; text-decoration-color: #008080; font-weight: bold\">2</span>: slat                                                                          \n",
       "</pre>\n"
      ],
      "text/plain": [
       "\u001b[2;36m          \u001b[0m\u001b[2;36m \u001b[0m\u001b[36mINFO\u001b[0m:         >> Group \u001b[1;36m2\u001b[0m: slat                                                                          \n"
      ]
     },
     "metadata": {},
     "output_type": "display_data"
    },
    {
     "data": {
      "text/html": [
       "<pre style=\"white-space:pre;overflow-x:auto;line-height:normal;font-family:Menlo,'DejaVu Sans Mono',consolas,'Courier New',monospace\"><span style=\"color: #7fbfbf; text-decoration-color: #7fbfbf\">           </span><span style=\"color: #008080; text-decoration-color: #008080\">INFO</span>:            IDs: <span style=\"font-weight: bold\">[</span><span style=\"color: #008000; text-decoration-color: #008000\">'body0003_face0001'</span>, <span style=\"color: #008000; text-decoration-color: #008000\">'body0003_face0002'</span>, <span style=\"color: #008000; text-decoration-color: #008000\">'body0003_face0003'</span>,                   \n",
       "<span style=\"color: #7fbfbf; text-decoration-color: #7fbfbf\">           </span><span style=\"color: #008000; text-decoration-color: #008000\">'body0003_face0004'</span>, <span style=\"color: #008000; text-decoration-color: #008000\">'body0003_face0005'</span>, <span style=\"color: #008000; text-decoration-color: #008000\">'body0003_face0006'</span>, <span style=\"color: #008000; text-decoration-color: #008000\">'body0003_face0007'</span><span style=\"font-weight: bold\">]</span>                     \n",
       "</pre>\n"
      ],
      "text/plain": [
       "\u001b[2;36m          \u001b[0m\u001b[2;36m \u001b[0m\u001b[36mINFO\u001b[0m:            IDs: \u001b[1m[\u001b[0m\u001b[32m'body0003_face0001'\u001b[0m, \u001b[32m'body0003_face0002'\u001b[0m, \u001b[32m'body0003_face0003'\u001b[0m,                   \n",
       "\u001b[2;36m           \u001b[0m\u001b[32m'body0003_face0004'\u001b[0m, \u001b[32m'body0003_face0005'\u001b[0m, \u001b[32m'body0003_face0006'\u001b[0m, \u001b[32m'body0003_face0007'\u001b[0m\u001b[1m]\u001b[0m                     \n"
      ]
     },
     "metadata": {},
     "output_type": "display_data"
    },
    {
     "data": {
      "text/html": [
       "<pre style=\"white-space:pre;overflow-x:auto;line-height:normal;font-family:Menlo,'DejaVu Sans Mono',consolas,'Courier New',monospace\"><span style=\"color: #7fbfbf; text-decoration-color: #7fbfbf\">           </span><span style=\"color: #008080; text-decoration-color: #008080\">INFO</span>:  &gt;&gt; Available attribute tags for grouping **edges**:                                              \n",
       "</pre>\n"
      ],
      "text/plain": [
       "\u001b[2;36m          \u001b[0m\u001b[2;36m \u001b[0m\u001b[36mINFO\u001b[0m:  >> Available attribute tags for grouping **edges**:                                              \n"
      ]
     },
     "metadata": {},
     "output_type": "display_data"
    },
    {
     "data": {
      "text/html": [
       "<pre style=\"white-space:pre;overflow-x:auto;line-height:normal;font-family:Menlo,'DejaVu Sans Mono',consolas,'Courier New',monospace\"><span style=\"color: #7fbfbf; text-decoration-color: #7fbfbf\">           </span><span style=\"color: #008080; text-decoration-color: #008080\">INFO</span>:     &gt;&gt; Tag <span style=\"color: #008080; text-decoration-color: #008080; font-weight: bold\">0</span>: edgeName. Grouping with this tag results in:                                        \n",
       "</pre>\n"
      ],
      "text/plain": [
       "\u001b[2;36m          \u001b[0m\u001b[2;36m \u001b[0m\u001b[36mINFO\u001b[0m:     >> Tag \u001b[1;36m0\u001b[0m: edgeName. Grouping with this tag results in:                                        \n"
      ]
     },
     "metadata": {},
     "output_type": "display_data"
    },
    {
     "data": {
      "text/html": [
       "<pre style=\"white-space:pre;overflow-x:auto;line-height:normal;font-family:Menlo,'DejaVu Sans Mono',consolas,'Courier New',monospace\"><span style=\"color: #7fbfbf; text-decoration-color: #7fbfbf\">           </span><span style=\"color: #008080; text-decoration-color: #008080\">INFO</span>:         &gt;&gt; Group <span style=\"color: #008080; text-decoration-color: #008080; font-weight: bold\">0</span>: wingtrailingEdge                                                              \n",
       "</pre>\n"
      ],
      "text/plain": [
       "\u001b[2;36m          \u001b[0m\u001b[2;36m \u001b[0m\u001b[36mINFO\u001b[0m:         >> Group \u001b[1;36m0\u001b[0m: wingtrailingEdge                                                              \n"
      ]
     },
     "metadata": {},
     "output_type": "display_data"
    },
    {
     "data": {
      "text/html": [
       "<pre style=\"white-space:pre;overflow-x:auto;line-height:normal;font-family:Menlo,'DejaVu Sans Mono',consolas,'Courier New',monospace\"><span style=\"color: #7fbfbf; text-decoration-color: #7fbfbf\">           </span><span style=\"color: #008080; text-decoration-color: #008080\">INFO</span>:            IDs: <span style=\"font-weight: bold\">[</span><span style=\"color: #008000; text-decoration-color: #008000\">'body0001_edge0001'</span>, <span style=\"color: #008000; text-decoration-color: #008000\">'body0001_edge0002'</span>, <span style=\"color: #008000; text-decoration-color: #008000\">'body0001_edge0008'</span><span style=\"font-weight: bold\">]</span>                   \n",
       "</pre>\n"
      ],
      "text/plain": [
       "\u001b[2;36m          \u001b[0m\u001b[2;36m \u001b[0m\u001b[36mINFO\u001b[0m:            IDs: \u001b[1m[\u001b[0m\u001b[32m'body0001_edge0001'\u001b[0m, \u001b[32m'body0001_edge0002'\u001b[0m, \u001b[32m'body0001_edge0008'\u001b[0m\u001b[1m]\u001b[0m                   \n"
      ]
     },
     "metadata": {},
     "output_type": "display_data"
    },
    {
     "data": {
      "text/html": [
       "<pre style=\"white-space:pre;overflow-x:auto;line-height:normal;font-family:Menlo,'DejaVu Sans Mono',consolas,'Courier New',monospace\"><span style=\"color: #7fbfbf; text-decoration-color: #7fbfbf\">           </span><span style=\"color: #008080; text-decoration-color: #008080\">INFO</span>:         &gt;&gt; Group <span style=\"color: #008080; text-decoration-color: #008080; font-weight: bold\">1</span>: symmetry                                                                      \n",
       "</pre>\n"
      ],
      "text/plain": [
       "\u001b[2;36m          \u001b[0m\u001b[2;36m \u001b[0m\u001b[36mINFO\u001b[0m:         >> Group \u001b[1;36m1\u001b[0m: symmetry                                                                      \n"
      ]
     },
     "metadata": {},
     "output_type": "display_data"
    },
    {
     "data": {
      "text/html": [
       "<pre style=\"white-space:pre;overflow-x:auto;line-height:normal;font-family:Menlo,'DejaVu Sans Mono',consolas,'Courier New',monospace\"><span style=\"color: #7fbfbf; text-decoration-color: #7fbfbf\">           </span><span style=\"color: #008080; text-decoration-color: #008080\">INFO</span>:            IDs: <span style=\"font-weight: bold\">[</span><span style=\"color: #008000; text-decoration-color: #008000\">'body0001_edge0003'</span>, <span style=\"color: #008000; text-decoration-color: #008000\">'body0001_edge0004'</span>, <span style=\"color: #008000; text-decoration-color: #008000\">'body0001_edge0006'</span>,                   \n",
       "<span style=\"color: #7fbfbf; text-decoration-color: #7fbfbf\">           </span><span style=\"color: #008000; text-decoration-color: #008000\">'body0001_edge0007'</span>, <span style=\"color: #008000; text-decoration-color: #008000\">'body0001_edge0009'</span>, <span style=\"color: #008000; text-decoration-color: #008000\">'body0001_edge0010'</span>, <span style=\"color: #008000; text-decoration-color: #008000\">'body0001_edge0011'</span>, <span style=\"color: #008000; text-decoration-color: #008000\">'body0001_edge0012'</span>,\n",
       "<span style=\"color: #7fbfbf; text-decoration-color: #7fbfbf\">           </span><span style=\"color: #008000; text-decoration-color: #008000\">'body0002_edge0003'</span>, <span style=\"color: #008000; text-decoration-color: #008000\">'body0002_edge0004'</span>, <span style=\"color: #008000; text-decoration-color: #008000\">'body0002_edge0006'</span>, <span style=\"color: #008000; text-decoration-color: #008000\">'body0002_edge0007'</span>, <span style=\"color: #008000; text-decoration-color: #008000\">'body0002_edge0008'</span>,\n",
       "<span style=\"color: #7fbfbf; text-decoration-color: #7fbfbf\">           </span><span style=\"color: #008000; text-decoration-color: #008000\">'body0002_edge0009'</span>, <span style=\"color: #008000; text-decoration-color: #008000\">'body0003_edge0003'</span>, <span style=\"color: #008000; text-decoration-color: #008000\">'body0003_edge0004'</span>, <span style=\"color: #008000; text-decoration-color: #008000\">'body0003_edge0006'</span>, <span style=\"color: #008000; text-decoration-color: #008000\">'body0003_edge0007'</span>,\n",
       "<span style=\"color: #7fbfbf; text-decoration-color: #7fbfbf\">           </span><span style=\"color: #008000; text-decoration-color: #008000\">'body0003_edge0009'</span>, <span style=\"color: #008000; text-decoration-color: #008000\">'body0003_edge0010'</span>, <span style=\"color: #008000; text-decoration-color: #008000\">'body0003_edge0012'</span>, <span style=\"color: #008000; text-decoration-color: #008000\">'body0003_edge0013'</span>, <span style=\"color: #008000; text-decoration-color: #008000\">'body0003_edge0014'</span>,\n",
       "<span style=\"color: #7fbfbf; text-decoration-color: #7fbfbf\">           </span><span style=\"color: #008000; text-decoration-color: #008000\">'body0003_edge0015'</span><span style=\"font-weight: bold\">]</span>                                                                                    \n",
       "</pre>\n"
      ],
      "text/plain": [
       "\u001b[2;36m          \u001b[0m\u001b[2;36m \u001b[0m\u001b[36mINFO\u001b[0m:            IDs: \u001b[1m[\u001b[0m\u001b[32m'body0001_edge0003'\u001b[0m, \u001b[32m'body0001_edge0004'\u001b[0m, \u001b[32m'body0001_edge0006'\u001b[0m,                   \n",
       "\u001b[2;36m           \u001b[0m\u001b[32m'body0001_edge0007'\u001b[0m, \u001b[32m'body0001_edge0009'\u001b[0m, \u001b[32m'body0001_edge0010'\u001b[0m, \u001b[32m'body0001_edge0011'\u001b[0m, \u001b[32m'body0001_edge0012'\u001b[0m,\n",
       "\u001b[2;36m           \u001b[0m\u001b[32m'body0002_edge0003'\u001b[0m, \u001b[32m'body0002_edge0004'\u001b[0m, \u001b[32m'body0002_edge0006'\u001b[0m, \u001b[32m'body0002_edge0007'\u001b[0m, \u001b[32m'body0002_edge0008'\u001b[0m,\n",
       "\u001b[2;36m           \u001b[0m\u001b[32m'body0002_edge0009'\u001b[0m, \u001b[32m'body0003_edge0003'\u001b[0m, \u001b[32m'body0003_edge0004'\u001b[0m, \u001b[32m'body0003_edge0006'\u001b[0m, \u001b[32m'body0003_edge0007'\u001b[0m,\n",
       "\u001b[2;36m           \u001b[0m\u001b[32m'body0003_edge0009'\u001b[0m, \u001b[32m'body0003_edge0010'\u001b[0m, \u001b[32m'body0003_edge0012'\u001b[0m, \u001b[32m'body0003_edge0013'\u001b[0m, \u001b[32m'body0003_edge0014'\u001b[0m,\n",
       "\u001b[2;36m           \u001b[0m\u001b[32m'body0003_edge0015'\u001b[0m\u001b[1m]\u001b[0m                                                                                    \n"
      ]
     },
     "metadata": {},
     "output_type": "display_data"
    },
    {
     "data": {
      "text/html": [
       "<pre style=\"white-space:pre;overflow-x:auto;line-height:normal;font-family:Menlo,'DejaVu Sans Mono',consolas,'Courier New',monospace\"><span style=\"color: #7fbfbf; text-decoration-color: #7fbfbf\">           </span><span style=\"color: #008080; text-decoration-color: #008080\">INFO</span>:         &gt;&gt; Group <span style=\"color: #008080; text-decoration-color: #008080; font-weight: bold\">2</span>: wingleadingEdge                                                               \n",
       "</pre>\n"
      ],
      "text/plain": [
       "\u001b[2;36m          \u001b[0m\u001b[2;36m \u001b[0m\u001b[36mINFO\u001b[0m:         >> Group \u001b[1;36m2\u001b[0m: wingleadingEdge                                                               \n"
      ]
     },
     "metadata": {},
     "output_type": "display_data"
    },
    {
     "data": {
      "text/html": [
       "<pre style=\"white-space:pre;overflow-x:auto;line-height:normal;font-family:Menlo,'DejaVu Sans Mono',consolas,'Courier New',monospace\"><span style=\"color: #7fbfbf; text-decoration-color: #7fbfbf\">           </span><span style=\"color: #008080; text-decoration-color: #008080\">INFO</span>:            IDs: <span style=\"font-weight: bold\">[</span><span style=\"color: #008000; text-decoration-color: #008000\">'body0001_edge0005'</span><span style=\"font-weight: bold\">]</span>                                                             \n",
       "</pre>\n"
      ],
      "text/plain": [
       "\u001b[2;36m          \u001b[0m\u001b[2;36m \u001b[0m\u001b[36mINFO\u001b[0m:            IDs: \u001b[1m[\u001b[0m\u001b[32m'body0001_edge0005'\u001b[0m\u001b[1m]\u001b[0m                                                             \n"
      ]
     },
     "metadata": {},
     "output_type": "display_data"
    },
    {
     "data": {
      "text/html": [
       "<pre style=\"white-space:pre;overflow-x:auto;line-height:normal;font-family:Menlo,'DejaVu Sans Mono',consolas,'Courier New',monospace\"><span style=\"color: #7fbfbf; text-decoration-color: #7fbfbf\">           </span><span style=\"color: #008080; text-decoration-color: #008080\">INFO</span>:         &gt;&gt; Group <span style=\"color: #008080; text-decoration-color: #008080; font-weight: bold\">3</span>: flaptrailingEdge                                                              \n",
       "</pre>\n"
      ],
      "text/plain": [
       "\u001b[2;36m          \u001b[0m\u001b[2;36m \u001b[0m\u001b[36mINFO\u001b[0m:         >> Group \u001b[1;36m3\u001b[0m: flaptrailingEdge                                                              \n"
      ]
     },
     "metadata": {},
     "output_type": "display_data"
    },
    {
     "data": {
      "text/html": [
       "<pre style=\"white-space:pre;overflow-x:auto;line-height:normal;font-family:Menlo,'DejaVu Sans Mono',consolas,'Courier New',monospace\"><span style=\"color: #7fbfbf; text-decoration-color: #7fbfbf\">           </span><span style=\"color: #008080; text-decoration-color: #008080\">INFO</span>:            IDs: <span style=\"font-weight: bold\">[</span><span style=\"color: #008000; text-decoration-color: #008000\">'body0002_edge0001'</span>, <span style=\"color: #008000; text-decoration-color: #008000\">'body0002_edge0002'</span><span style=\"font-weight: bold\">]</span>                                        \n",
       "</pre>\n"
      ],
      "text/plain": [
       "\u001b[2;36m          \u001b[0m\u001b[2;36m \u001b[0m\u001b[36mINFO\u001b[0m:            IDs: \u001b[1m[\u001b[0m\u001b[32m'body0002_edge0001'\u001b[0m, \u001b[32m'body0002_edge0002'\u001b[0m\u001b[1m]\u001b[0m                                        \n"
      ]
     },
     "metadata": {},
     "output_type": "display_data"
    },
    {
     "data": {
      "text/html": [
       "<pre style=\"white-space:pre;overflow-x:auto;line-height:normal;font-family:Menlo,'DejaVu Sans Mono',consolas,'Courier New',monospace\"><span style=\"color: #7fbfbf; text-decoration-color: #7fbfbf\">           </span><span style=\"color: #008080; text-decoration-color: #008080\">INFO</span>:         &gt;&gt; Group <span style=\"color: #008080; text-decoration-color: #008080; font-weight: bold\">4</span>: flapleadingEdge                                                               \n",
       "</pre>\n"
      ],
      "text/plain": [
       "\u001b[2;36m          \u001b[0m\u001b[2;36m \u001b[0m\u001b[36mINFO\u001b[0m:         >> Group \u001b[1;36m4\u001b[0m: flapleadingEdge                                                               \n"
      ]
     },
     "metadata": {},
     "output_type": "display_data"
    },
    {
     "data": {
      "text/html": [
       "<pre style=\"white-space:pre;overflow-x:auto;line-height:normal;font-family:Menlo,'DejaVu Sans Mono',consolas,'Courier New',monospace\"><span style=\"color: #7fbfbf; text-decoration-color: #7fbfbf\">           </span><span style=\"color: #008080; text-decoration-color: #008080\">INFO</span>:            IDs: <span style=\"font-weight: bold\">[</span><span style=\"color: #008000; text-decoration-color: #008000\">'body0002_edge0005'</span><span style=\"font-weight: bold\">]</span>                                                             \n",
       "</pre>\n"
      ],
      "text/plain": [
       "\u001b[2;36m          \u001b[0m\u001b[2;36m \u001b[0m\u001b[36mINFO\u001b[0m:            IDs: \u001b[1m[\u001b[0m\u001b[32m'body0002_edge0005'\u001b[0m\u001b[1m]\u001b[0m                                                             \n"
      ]
     },
     "metadata": {},
     "output_type": "display_data"
    },
    {
     "data": {
      "text/html": [
       "<pre style=\"white-space:pre;overflow-x:auto;line-height:normal;font-family:Menlo,'DejaVu Sans Mono',consolas,'Courier New',monospace\"><span style=\"color: #7fbfbf; text-decoration-color: #7fbfbf\">           </span><span style=\"color: #008080; text-decoration-color: #008080\">INFO</span>:         &gt;&gt; Group <span style=\"color: #008080; text-decoration-color: #008080; font-weight: bold\">5</span>: slattrailingEdge                                                              \n",
       "</pre>\n"
      ],
      "text/plain": [
       "\u001b[2;36m          \u001b[0m\u001b[2;36m \u001b[0m\u001b[36mINFO\u001b[0m:         >> Group \u001b[1;36m5\u001b[0m: slattrailingEdge                                                              \n"
      ]
     },
     "metadata": {},
     "output_type": "display_data"
    },
    {
     "data": {
      "text/html": [
       "<pre style=\"white-space:pre;overflow-x:auto;line-height:normal;font-family:Menlo,'DejaVu Sans Mono',consolas,'Courier New',monospace\"><span style=\"color: #7fbfbf; text-decoration-color: #7fbfbf\">           </span><span style=\"color: #008080; text-decoration-color: #008080\">INFO</span>:            IDs: <span style=\"font-weight: bold\">[</span><span style=\"color: #008000; text-decoration-color: #008000\">'body0003_edge0001'</span>, <span style=\"color: #008000; text-decoration-color: #008000\">'body0003_edge0002'</span>, <span style=\"color: #008000; text-decoration-color: #008000\">'body0003_edge0005'</span>,                   \n",
       "<span style=\"color: #7fbfbf; text-decoration-color: #7fbfbf\">           </span><span style=\"color: #008000; text-decoration-color: #008000\">'body0003_edge0008'</span><span style=\"font-weight: bold\">]</span>                                                                                    \n",
       "</pre>\n"
      ],
      "text/plain": [
       "\u001b[2;36m          \u001b[0m\u001b[2;36m \u001b[0m\u001b[36mINFO\u001b[0m:            IDs: \u001b[1m[\u001b[0m\u001b[32m'body0003_edge0001'\u001b[0m, \u001b[32m'body0003_edge0002'\u001b[0m, \u001b[32m'body0003_edge0005'\u001b[0m,                   \n",
       "\u001b[2;36m           \u001b[0m\u001b[32m'body0003_edge0008'\u001b[0m\u001b[1m]\u001b[0m                                                                                    \n"
      ]
     },
     "metadata": {},
     "output_type": "display_data"
    },
    {
     "data": {
      "text/html": [
       "<pre style=\"white-space:pre;overflow-x:auto;line-height:normal;font-family:Menlo,'DejaVu Sans Mono',consolas,'Courier New',monospace\"><span style=\"color: #7fbfbf; text-decoration-color: #7fbfbf\">           </span><span style=\"color: #008080; text-decoration-color: #008080\">INFO</span>:         &gt;&gt; Group <span style=\"color: #008080; text-decoration-color: #008080; font-weight: bold\">6</span>: slatFrontLEadingEdge                                                          \n",
       "</pre>\n"
      ],
      "text/plain": [
       "\u001b[2;36m          \u001b[0m\u001b[2;36m \u001b[0m\u001b[36mINFO\u001b[0m:         >> Group \u001b[1;36m6\u001b[0m: slatFrontLEadingEdge                                                          \n"
      ]
     },
     "metadata": {},
     "output_type": "display_data"
    },
    {
     "data": {
      "text/html": [
       "<pre style=\"white-space:pre;overflow-x:auto;line-height:normal;font-family:Menlo,'DejaVu Sans Mono',consolas,'Courier New',monospace\"><span style=\"color: #7fbfbf; text-decoration-color: #7fbfbf\">           </span><span style=\"color: #008080; text-decoration-color: #008080\">INFO</span>:            IDs: <span style=\"font-weight: bold\">[</span><span style=\"color: #008000; text-decoration-color: #008000\">'body0003_edge0011'</span><span style=\"font-weight: bold\">]</span>                                                             \n",
       "</pre>\n"
      ],
      "text/plain": [
       "\u001b[2;36m          \u001b[0m\u001b[2;36m \u001b[0m\u001b[36mINFO\u001b[0m:            IDs: \u001b[1m[\u001b[0m\u001b[32m'body0003_edge0011'\u001b[0m\u001b[1m]\u001b[0m                                                             \n"
      ]
     },
     "metadata": {},
     "output_type": "display_data"
    }
   ],
   "source": [
    "# Activate the preprod environment\n",
    "fl.Env.preprod.active()\n",
    "\n",
    "# Download files associated with the tutorial\n",
    "Tutorial2DCRM.get_files()\n",
    "\n",
    "# Create project variable\n",
    "project = fl.Project.from_file(Tutorial2DCRM.geometry, name=\"Tutorial 2D CRM from Python\")\n",
    "\n",
    "# Create geometry variable\n",
    "geometry = project.geometry\n",
    "\n",
    "# Show face and edge groupings for the geometry\n",
    "geometry.show_available_groupings(verbose_mode=True)\n",
    "geometry.group_faces_by_tag(\"faceName\")\n",
    "geometry.group_edges_by_tag(\"edgeName\")\n"
   ]
  },
  {
   "cell_type": "markdown",
   "id": "c9de57b4-6536-4c07-b856-d4182c1191ae",
   "metadata": {},
   "source": [
    "## Defining simulation parameters\n",
    "Once the geometry is processed, we can create separate variables for:\n",
    "- [Entities and volume zones](#Entities-and-volume-zones)\n",
    "- [Meshing parameters](#Meshing-parameters)\n",
    "- [Reference geometry](#Reference-geometry)\n",
    "- [Operating condition](#Operating-condition)\n",
    "- [Time stepping](#Time-stepping)\n",
    "- [Models](#Models)\n",
    "- [Outputs](#Outputs)\n",
    "\n",
    "A helpful statement, which we will use is `with SI_unit_system:`, which allows us to automatically assign SI units to parameters. \n",
    "\n",
    "We still need to manually deifne the unit for angle as there is no default angle unit when using `with SI_unit_system:`."
   ]
  },
  {
   "cell_type": "markdown",
   "id": "b2418b1b-fa40-4d87-803a-33cd7a0efbe6",
   "metadata": {},
   "source": [
    "### Entities and volume zones\n",
    "Cylinder entites are used for creating mesh refinements.\n",
    "\n",
    "Farfield volume zone are used for defining volume zones and models."
   ]
  },
  {
   "cell_type": "code",
   "execution_count": 3,
   "id": "fafd03cd-8a5c-49fb-85a9-31c4682b2654",
   "metadata": {},
   "outputs": [
    {
     "data": {
      "text/html": [
       "<pre style=\"white-space:pre;overflow-x:auto;line-height:normal;font-family:Menlo,'DejaVu Sans Mono',consolas,'Courier New',monospace\"><span style=\"color: #7fbfbf; text-decoration-color: #7fbfbf\">           </span><span style=\"color: #008080; text-decoration-color: #008080\">INFO</span>: using: SI unit system for unit inference.                                                         \n",
       "</pre>\n"
      ],
      "text/plain": [
       "\u001b[2;36m          \u001b[0m\u001b[2;36m \u001b[0m\u001b[36mINFO\u001b[0m: using: SI unit system for unit inference.                                                         \n"
      ]
     },
     "metadata": {},
     "output_type": "display_data"
    }
   ],
   "source": [
    "# Choosing a unit system\n",
    "with SI_unit_system:\n",
    "    \n",
    "    # Cylinder entities used for mesh refinements\n",
    "    cylinders = [\n",
    "        fl.Cylinder(\n",
    "            name=f\"cylinder{i+1}\",\n",
    "            axis=[0, 1, 0],\n",
    "            center=[0.7, 0.5, 0],\n",
    "            outer_radius=outer_radius,\n",
    "            height=1.0,\n",
    "        )\n",
    "        for i, outer_radius in enumerate([1.1, 2.2, 3.3, 4.5])\n",
    "    ]\n",
    "    cylinder5 = fl.Cylinder(\n",
    "        name=\"cylinder5\", axis=[-1, 0, 0], center=[6.5, 0.5, 0], outer_radius=6.5, height=10\n",
    "    )\n",
    "    \n",
    "    # Farfield used for creating a volume zone and assigning appropriate models\n",
    "    farfield = fl.AutomatedFarfield(name=\"farfield\", method=\"quasi-3d\")"
   ]
  },
  {
   "cell_type": "markdown",
   "id": "c0a2c8c1-5716-493c-b5f3-db48f65bf422",
   "metadata": {},
   "source": [
    "### Meshing parameters\n",
    "In this section we will assign settings so that our mesh will have sufficient level of refinement for this case.\n",
    "\n",
    "Default settings describe how the the mesh will be created globally, while refinements allow for much more precise control of the mesh in regions of interest.\n",
    "\n",
    "Here we will utilize the previously created cylinder entities, farfield, and we will also refer to geometry faces and edges, which were grouped in the [Project creation](#Project-creation) step."
   ]
  },
  {
   "cell_type": "code",
   "execution_count": 4,
   "id": "1c9d7fd3-9963-43d7-b67a-40ffe4be1617",
   "metadata": {},
   "outputs": [
    {
     "data": {
      "text/html": [
       "<pre style=\"white-space:pre;overflow-x:auto;line-height:normal;font-family:Menlo,'DejaVu Sans Mono',consolas,'Courier New',monospace\"><span style=\"color: #7fbfbf; text-decoration-color: #7fbfbf\">           </span><span style=\"color: #008080; text-decoration-color: #008080\">INFO</span>: using: SI unit system for unit inference.                                                         \n",
       "</pre>\n"
      ],
      "text/plain": [
       "\u001b[2;36m          \u001b[0m\u001b[2;36m \u001b[0m\u001b[36mINFO\u001b[0m: using: SI unit system for unit inference.                                                         \n"
      ]
     },
     "metadata": {},
     "output_type": "display_data"
    }
   ],
   "source": [
    "with SI_unit_system:\n",
    "    meshing_params = fl.SimulationParams(\n",
    "        meshing=fl.MeshingParams(\n",
    "\n",
    "            # Default settings for meshing\n",
    "            defaults=fl.MeshingDefaults(\n",
    "                surface_edge_growth_rate=1.17,\n",
    "                surface_max_edge_length=1.1,\n",
    "                curvature_resolution_angle=12 * u.deg,\n",
    "                boundary_layer_growth_rate=1.17,\n",
    "                boundary_layer_first_layer_thickness=1.8487111e-06,\n",
    "            ),\n",
    "            \n",
    "            # Adjust all spacings in refinement regions\n",
    "            refinement_factor=1.35,\n",
    "            \n",
    "            # Adjust narrow gap treatment strength for two surfaces in close proximity\n",
    "            gap_treatment_strength=0.5,\n",
    "            \n",
    "            # Crete new volume zones\n",
    "            volume_zones=[farfield],\n",
    "            \n",
    "            # Additional fine-tunning for refinements on top of defaults\n",
    "            refinements=[\n",
    "                \n",
    "                # Uniform spacing refinement inside specified region of mesh\n",
    "                fl.UniformRefinement(name=\"refinement1\", spacing=0.1, entities=[cylinders[0]]),\n",
    "                fl.UniformRefinement(name=\"refinement2\", spacing=0.15, entities=[cylinders[1]]),\n",
    "                fl.UniformRefinement(name=\"refinement3\", spacing=0.225, entities=[cylinders[2]]),\n",
    "                fl.UniformRefinement(name=\"refinement4\", spacing=0.275, entities=[cylinders[3]]),\n",
    "                fl.UniformRefinement(name=\"refinement5\", spacing=0.325, entities=[cylinder5]),\n",
    "                \n",
    "                # Refine surface elements for given faces\n",
    "                fl.SurfaceRefinement(name=\"wing\", max_edge_length=0.74, faces=[geometry[\"wing\"]]),\n",
    "                fl.SurfaceRefinement(\n",
    "                    name=\"flap-slat\",\n",
    "                    max_edge_length=0.55,\n",
    "                    faces=[geometry[\"flap\"], geometry[\"slat\"]],\n",
    "                ),\n",
    "                fl.SurfaceRefinement(\n",
    "                    name=\"trailing\",\n",
    "                    max_edge_length=0.36,\n",
    "                    faces=[\n",
    "                        \n",
    "                        # '*' allows us to select all faces faces ending with 'Trailing'\n",
    "                        geometry[\"*Trailing\"],\n",
    "                    ],\n",
    "                ),\n",
    "                \n",
    "                # Grows anisotropic layers orthogonal to the specified edges\n",
    "                fl.SurfaceEdgeRefinement(\n",
    "                    name=\"edges\",\n",
    "                    method=fl.HeightBasedRefinement(value=0.0007),\n",
    "                    edges=[\n",
    "                        \n",
    "                        # Similarly as above, we can select multiple edges using '*' expression\n",
    "                        geometry[\"*trailingEdge\"],\n",
    "                        geometry[\"*leadingEdge\"],\n",
    "                    ],\n",
    "                ),\n",
    "                fl.SurfaceEdgeRefinement(\n",
    "                    name=\"symmetry\", method=fl.ProjectAnisoSpacing(), edges=[geometry[\"symmetry\"]]\n",
    "                ),\n",
    "            ],\n",
    "        ),\n",
    "    )        "
   ]
  },
  {
   "cell_type": "markdown",
   "id": "105505a6-153b-48e1-8bb5-2f17ace1f4a9",
   "metadata": {},
   "source": [
    "### Reference geometry\n",
    "Now we will define the `reference_geometry` which is used to report forces such as drag and lift."
   ]
  },
  {
   "cell_type": "code",
   "execution_count": 5,
   "id": "49bcc4fe-fbee-49e8-a300-4aef42cedbef",
   "metadata": {},
   "outputs": [
    {
     "data": {
      "text/html": [
       "<pre style=\"white-space:pre;overflow-x:auto;line-height:normal;font-family:Menlo,'DejaVu Sans Mono',consolas,'Courier New',monospace\"><span style=\"color: #7fbfbf; text-decoration-color: #7fbfbf\">           </span><span style=\"color: #008080; text-decoration-color: #008080\">INFO</span>: using: SI unit system for unit inference.                                                         \n",
       "</pre>\n"
      ],
      "text/plain": [
       "\u001b[2;36m          \u001b[0m\u001b[2;36m \u001b[0m\u001b[36mINFO\u001b[0m: using: SI unit system for unit inference.                                                         \n"
      ]
     },
     "metadata": {},
     "output_type": "display_data"
    }
   ],
   "source": [
    "with SI_unit_system:\n",
    "    reference_geometry_params = fl.SimulationParams(\n",
    "        \n",
    "        # Create geometrical related reference values\n",
    "        reference_geometry=fl.ReferenceGeometry(\n",
    "            moment_center=[0.25, 0, 0], moment_length=[1, 1, 1], area=0.01\n",
    "        )\n",
    "    )"
   ]
  },
  {
   "cell_type": "markdown",
   "id": "cf0d7a08-2427-4a48-8363-0da388f4e73b",
   "metadata": {},
   "source": [
    "### Operating condition\n",
    "Next up is the definition of flow conditions with the help of `fl.operating_condition_from_mach_reynolds` function, which does not require knowledge of air properties in desired conditions and instead allows the usage of mach number in conjunction with reynolds number. This is particularly useful for conducting workshop cases as we can easily simulate flow conditions for different values of reynolds number. Viscosity as well as density are going to be automatically calculated based on input parameters."
   ]
  },
  {
   "cell_type": "code",
   "execution_count": 6,
   "id": "48bb6d71-298a-442e-80ff-9f6170ac6aab",
   "metadata": {},
   "outputs": [
    {
     "data": {
      "text/html": [
       "<pre style=\"white-space:pre;overflow-x:auto;line-height:normal;font-family:Menlo,'DejaVu Sans Mono',consolas,'Courier New',monospace\"><span style=\"color: #7fbfbf; text-decoration-color: #7fbfbf\">           </span><span style=\"color: #008080; text-decoration-color: #008080\">INFO</span>: using: SI unit system for unit inference.                                                         \n",
       "</pre>\n"
      ],
      "text/plain": [
       "\u001b[2;36m          \u001b[0m\u001b[2;36m \u001b[0m\u001b[36mINFO\u001b[0m: using: SI unit system for unit inference.                                                         \n"
      ]
     },
     "metadata": {},
     "output_type": "display_data"
    }
   ],
   "source": [
    "with SI_unit_system:\n",
    "    operating_condition_params = fl.SimulationParams(\n",
    "\n",
    "        # Create operating conditions using mach and reynolds number\n",
    "        operating_condition=fl.operating_condition_from_mach_reynolds(\n",
    "            mach=0.2, reynolds=5e6, temperature=272.1, alpha=16 * u.deg, beta=0 * u.deg\n",
    "        ),\n",
    "    )"
   ]
  },
  {
   "cell_type": "markdown",
   "id": "3e60f956-5534-4fbb-8cf8-38e449a59c3e",
   "metadata": {},
   "source": [
    "### Time stepping\n",
    "Even though our simulation will be run as a Steady State case, the solver will use information about time stepping, so we define it accordingly.\n",
    "\n",
    "`max_steps` is the maximum amount of psuedo time steps in one physical step, which can be interpreted as the maximum number of iterations\n",
    "\n",
    "CFL is the Courant–Friedrichs–Lewy condition and `RampCFL` specifies its initial and final value, as well as the amount of pseudo time steps before achieving the final value."
   ]
  },
  {
   "cell_type": "code",
   "execution_count": 7,
   "id": "00010667-5cc8-4ad0-8715-02e489e3cabb",
   "metadata": {},
   "outputs": [
    {
     "data": {
      "text/html": [
       "<pre style=\"white-space:pre;overflow-x:auto;line-height:normal;font-family:Menlo,'DejaVu Sans Mono',consolas,'Courier New',monospace\"><span style=\"color: #7fbfbf; text-decoration-color: #7fbfbf\">           </span><span style=\"color: #008080; text-decoration-color: #008080\">INFO</span>: using: SI unit system for unit inference.                                                         \n",
       "</pre>\n"
      ],
      "text/plain": [
       "\u001b[2;36m          \u001b[0m\u001b[2;36m \u001b[0m\u001b[36mINFO\u001b[0m: using: SI unit system for unit inference.                                                         \n"
      ]
     },
     "metadata": {},
     "output_type": "display_data"
    }
   ],
   "source": [
    "with SI_unit_system:\n",
    "    time_stepping_params = fl.SimulationParams(\n",
    "    \n",
    "        # Time stepping settings for Steady State simulation\n",
    "        time_stepping=fl.Steady(\n",
    "            max_steps=3000, CFL=fl.RampCFL(initial=20, final=300, ramp_steps=500)\n",
    "        ),\n",
    "    )"
   ]
  },
  {
   "cell_type": "markdown",
   "id": "e9d1ecc4-3bfc-4f0b-aeef-0ee14846627e",
   "metadata": {},
   "source": [
    "### Models\n",
    "This parameter is used to define solver settings, numerical models and boundary conditions within our simulation."
   ]
  },
  {
   "cell_type": "code",
   "execution_count": 8,
   "id": "ab7f6a83-1144-4e6c-85f1-a4fe4ab2061d",
   "metadata": {},
   "outputs": [
    {
     "data": {
      "text/html": [
       "<pre style=\"white-space:pre;overflow-x:auto;line-height:normal;font-family:Menlo,'DejaVu Sans Mono',consolas,'Courier New',monospace\"><span style=\"color: #7fbfbf; text-decoration-color: #7fbfbf\">           </span><span style=\"color: #008080; text-decoration-color: #008080\">INFO</span>: using: SI unit system for unit inference.                                                         \n",
       "</pre>\n"
      ],
      "text/plain": [
       "\u001b[2;36m          \u001b[0m\u001b[2;36m \u001b[0m\u001b[36mINFO\u001b[0m: using: SI unit system for unit inference.                                                         \n"
      ]
     },
     "metadata": {},
     "output_type": "display_data"
    }
   ],
   "source": [
    "with SI_unit_system:\n",
    "    models_params = fl.SimulationParams(\n",
    "\n",
    "        # Solver settings, numerical models and boundary conditions\n",
    "        models=[\n",
    "\n",
    "            # Create wall boundary condition\n",
    "            fl.Wall(\n",
    "                surfaces=[\n",
    "                \n",
    "                    # Here we use '*' to select all surfaces\n",
    "                    geometry[\"*\"],\n",
    "                ],\n",
    "                name=\"wall\",\n",
    "            ),\n",
    "\n",
    "            # Create freestream boundary condition\n",
    "            fl.Freestream(surfaces=farfield.farfield, name=\"Freestream\"),\n",
    "\n",
    "            # Create slip wall boundary condition\n",
    "            fl.SlipWall(surfaces=farfield.symmetry_planes, name=\"slipwall\"),\n",
    "\n",
    "            # Create fluid volume model\n",
    "            fl.Fluid(\n",
    "\n",
    "                # Set up compressible Navier-Stokes solver\n",
    "                navier_stokes_solver=fl.NavierStokesSolver(\n",
    "                    absolute_tolerance=1e-11,\n",
    "                    linear_solver=fl.LinearSolver(max_iterations=35),\n",
    "                    kappa_MUSCL=0.33,\n",
    "                ),\n",
    "\n",
    "                # Set up turbulence solver based on the Spalart-Allmaras model\n",
    "                turbulence_model_solver=fl.SpalartAllmaras(\n",
    "                    absolute_tolerance=1e-10,\n",
    "                    linear_solver=fl.LinearSolver(max_iterations=25),\n",
    "                    equation_evaluation_frequency=1,\n",
    "                ),\n",
    "            ),\n",
    "        ],\n",
    "    )"
   ]
  },
  {
   "cell_type": "markdown",
   "id": "7a9009cf-79e9-457a-911d-d57c9d0222d5",
   "metadata": {},
   "source": [
    "### Outputs\n",
    "Here we will specify which outputs we want Flow360 to produce for us."
   ]
  },
  {
   "cell_type": "code",
   "execution_count": 9,
   "id": "5f4475e3-1c53-4771-8d31-2eb0d45e53b2",
   "metadata": {},
   "outputs": [
    {
     "data": {
      "text/html": [
       "<pre style=\"white-space:pre;overflow-x:auto;line-height:normal;font-family:Menlo,'DejaVu Sans Mono',consolas,'Courier New',monospace\"><span style=\"color: #7fbfbf; text-decoration-color: #7fbfbf\">           </span><span style=\"color: #008080; text-decoration-color: #008080\">INFO</span>: using: SI unit system for unit inference.                                                         \n",
       "</pre>\n"
      ],
      "text/plain": [
       "\u001b[2;36m          \u001b[0m\u001b[2;36m \u001b[0m\u001b[36mINFO\u001b[0m: using: SI unit system for unit inference.                                                         \n"
      ]
     },
     "metadata": {},
     "output_type": "display_data"
    }
   ],
   "source": [
    "with SI_unit_system:\n",
    "    outputs_params = fl.SimulationParams(\n",
    "        outputs=[\n",
    "    \n",
    "            # Specify the list of volume output variables\n",
    "            fl.VolumeOutput(\n",
    "                name=\"fl.VolumeOutput\",\n",
    "                output_fields=[\n",
    "                    \"primitiveVars\",\n",
    "                    \"vorticity\",\n",
    "                    \"residualNavierStokes\",\n",
    "                    \"residualTurbulence\",\n",
    "                    \"Cp\",\n",
    "                    \"Mach\",\n",
    "                    \"qcriterion\",\n",
    "                    \"mut\",\n",
    "                ],\n",
    "            ),\n",
    "    \n",
    "            # Specify the list of surface output variables\n",
    "            fl.SurfaceOutput(\n",
    "                name=\"fl.SurfaceOutput\",\n",
    "                surfaces=geometry[\"*\"],\n",
    "                output_fields=[\n",
    "                    \"primitiveVars\",\n",
    "                    \"Cp\",\n",
    "                    \"Cf\",\n",
    "                    \"CfVec\",\n",
    "                    \"yPlus\",\n",
    "                ],\n",
    "            ),\n",
    "        ],\n",
    "    )"
   ]
  },
  {
   "cell_type": "markdown",
   "id": "03324835-4bcb-4a21-8a4c-477335747ab9",
   "metadata": {},
   "source": [
    "### Combining parameters\n",
    "After we created multiple variables of `SimulationParams` class, we can create one final one, which will contain all of the parameters defined by us previously.\n",
    "Flow360 allows us to refer to each parameter specified within `SimulationParams`, for example using `meshing_params.meshing`, we can access meshing parameters within that variable."
   ]
  },
  {
   "cell_type": "code",
   "execution_count": 10,
   "id": "a5c42863-7b89-4888-b829-0ed9632ef6cd",
   "metadata": {},
   "outputs": [
    {
     "data": {
      "text/html": [
       "<pre style=\"white-space:pre;overflow-x:auto;line-height:normal;font-family:Menlo,'DejaVu Sans Mono',consolas,'Courier New',monospace\"><span style=\"color: #7fbfbf; text-decoration-color: #7fbfbf\">           </span><span style=\"color: #008080; text-decoration-color: #008080\">INFO</span>: using: SI unit system for unit inference.                                                         \n",
       "</pre>\n"
      ],
      "text/plain": [
       "\u001b[2;36m          \u001b[0m\u001b[2;36m \u001b[0m\u001b[36mINFO\u001b[0m: using: SI unit system for unit inference.                                                         \n"
      ]
     },
     "metadata": {},
     "output_type": "display_data"
    }
   ],
   "source": [
    "with SI_unit_system:\n",
    "    params = fl.SimulationParams(\n",
    "        meshing=meshing_params.meshing,\n",
    "        reference_geometry=reference_geometry_params.reference_geometry,\n",
    "        operating_condition=operating_condition_params.operating_condition,\n",
    "        time_stepping=time_stepping_params.time_stepping,\n",
    "        models=models_params.models,\n",
    "        outputs=outputs_params.outputs,\n",
    "    )"
   ]
  },
  {
   "cell_type": "markdown",
   "id": "1eb241f7-a458-4196-a1a9-55f1b5de788f",
   "metadata": {},
   "source": [
    "## Running the case\n",
    "With all of our parameters defined, we can pass them to our project and run the case."
   ]
  },
  {
   "cell_type": "code",
   "execution_count": 11,
   "id": "9e6f9fea-b904-4dfa-85f0-f89a97449efb",
   "metadata": {},
   "outputs": [],
   "source": [
    "project.run_case(params=params, name=\"Case of tutorial 2D CRM from Python\")"
   ]
  },
  {
   "cell_type": "markdown",
   "id": "e219c6bf-b105-4fd7-b2cd-afb9e3bed721",
   "metadata": {},
   "source": [
    "## Post processing\n",
    "After we have successfully ran the simulation, we can post process our results.\n",
    "\n",
    "We will do so by first, downloading the results of interest from the server.\n",
    "\n",
    "To do that we will create a variable containing information about the case."
   ]
  },
  {
   "cell_type": "code",
   "execution_count": 12,
   "id": "b7921723-0f67-4f06-a90d-ed49c5600e00",
   "metadata": {},
   "outputs": [],
   "source": [
    "case = project.case\n",
    "case.wait()"
   ]
  },
  {
   "cell_type": "markdown",
   "id": "4ce6ac7b-6495-4758-8858-f36d0d4291a8",
   "metadata": {},
   "source": [
    "Next we can download the results.\n",
    "We will be looking at the post processing of these quantities:\n",
    "- total forces\n",
    "- nonlinear residuals\n",
    "- CFL\n",
    "- total CD along the X axis"
   ]
  },
  {
   "cell_type": "code",
   "execution_count": 13,
   "id": "c713f8f6-3ec5-40a3-b927-adb1e2202ae0",
   "metadata": {},
   "outputs": [
    {
     "data": {
      "text/html": [
       "<pre style=\"white-space:pre;overflow-x:auto;line-height:normal;font-family:Menlo,'DejaVu Sans Mono',consolas,'Courier New',monospace\"></pre>\n"
      ],
      "text/plain": []
     },
     "metadata": {},
     "output_type": "display_data"
    },
    {
     "data": {
      "text/html": [
       "<pre style=\"white-space:pre;overflow-x:auto;line-height:normal;font-family:Menlo,'DejaVu Sans Mono',consolas,'Courier New',monospace\"><span style=\"color: #7fbfbf; text-decoration-color: #7fbfbf\">[18:25:20] </span><span style=\"color: #008080; text-decoration-color: #008080\">INFO</span>: Saved to                                                                                          \n",
       "<span style=\"color: #7fbfbf; text-decoration-color: #7fbfbf\">           </span><span style=\"color: #800080; text-decoration-color: #800080\">/var/folders/qk/mywsrvps5gl_f3yjx2k1v1xm0000gn/T/tmp8rn25k3o/</span><span style=\"color: #ff00ff; text-decoration-color: #ff00ff\">5961a726-5049-42f2-aa0c-1d79cf43f030.csv</span>   \n",
       "</pre>\n"
      ],
      "text/plain": [
       "\u001b[2;36m[18:25:20]\u001b[0m\u001b[2;36m \u001b[0m\u001b[36mINFO\u001b[0m: Saved to                                                                                          \n",
       "\u001b[2;36m           \u001b[0m\u001b[35m/var/folders/qk/mywsrvps5gl_f3yjx2k1v1xm0000gn/T/tmp8rn25k3o/\u001b[0m\u001b[95m5961a726-5049-42f2-aa0c-1d79cf43f030.csv\u001b[0m   \n"
      ]
     },
     "metadata": {},
     "output_type": "display_data"
    },
    {
     "data": {
      "text/html": [
       "<pre style=\"white-space:pre;overflow-x:auto;line-height:normal;font-family:Menlo,'DejaVu Sans Mono',consolas,'Courier New',monospace\">/Users/wiktor/Library/Caches/pypoetry/virtualenvs/flow360-m20sMBMn-py3.11/lib/python3.11/site-packages/rich/live.py\n",
       ":231: UserWarning: install \"ipywidgets\" for Jupyter support\n",
       "  warnings.warn('install \"ipywidgets\" for Jupyter support')\n",
       "</pre>\n"
      ],
      "text/plain": [
       "/Users/wiktor/Library/Caches/pypoetry/virtualenvs/flow360-m20sMBMn-py3.11/lib/python3.11/site-packages/rich/live.py\n",
       ":231: UserWarning: install \"ipywidgets\" for Jupyter support\n",
       "  warnings.warn('install \"ipywidgets\" for Jupyter support')\n"
      ]
     },
     "metadata": {},
     "output_type": "display_data"
    },
    {
     "data": {
      "text/html": [
       "<pre style=\"white-space:pre;overflow-x:auto;line-height:normal;font-family:Menlo,'DejaVu Sans Mono',consolas,'Courier New',monospace\"></pre>\n"
      ],
      "text/plain": []
     },
     "metadata": {},
     "output_type": "display_data"
    },
    {
     "data": {
      "text/html": [
       "<pre style=\"white-space:pre;overflow-x:auto;line-height:normal;font-family:Menlo,'DejaVu Sans Mono',consolas,'Courier New',monospace\"><span style=\"color: #7fbfbf; text-decoration-color: #7fbfbf\">[18:25:21] </span><span style=\"color: #008080; text-decoration-color: #008080\">INFO</span>: Saved to                                                                                          \n",
       "<span style=\"color: #7fbfbf; text-decoration-color: #7fbfbf\">           </span><span style=\"color: #800080; text-decoration-color: #800080\">/var/folders/qk/mywsrvps5gl_f3yjx2k1v1xm0000gn/T/tmp8rn25k3o/</span><span style=\"color: #ff00ff; text-decoration-color: #ff00ff\">a4f11d49-44b7-4b8d-b677-197535bdcd79.csv</span>   \n",
       "</pre>\n"
      ],
      "text/plain": [
       "\u001b[2;36m[18:25:21]\u001b[0m\u001b[2;36m \u001b[0m\u001b[36mINFO\u001b[0m: Saved to                                                                                          \n",
       "\u001b[2;36m           \u001b[0m\u001b[35m/var/folders/qk/mywsrvps5gl_f3yjx2k1v1xm0000gn/T/tmp8rn25k3o/\u001b[0m\u001b[95ma4f11d49-44b7-4b8d-b677-197535bdcd79.csv\u001b[0m   \n"
      ]
     },
     "metadata": {},
     "output_type": "display_data"
    },
    {
     "data": {
      "text/html": [
       "<pre style=\"white-space:pre;overflow-x:auto;line-height:normal;font-family:Menlo,'DejaVu Sans Mono',consolas,'Courier New',monospace\">/Users/wiktor/Library/Caches/pypoetry/virtualenvs/flow360-m20sMBMn-py3.11/lib/python3.11/site-packages/rich/live.py\n",
       ":231: UserWarning: install \"ipywidgets\" for Jupyter support\n",
       "  warnings.warn('install \"ipywidgets\" for Jupyter support')\n",
       "</pre>\n"
      ],
      "text/plain": [
       "/Users/wiktor/Library/Caches/pypoetry/virtualenvs/flow360-m20sMBMn-py3.11/lib/python3.11/site-packages/rich/live.py\n",
       ":231: UserWarning: install \"ipywidgets\" for Jupyter support\n",
       "  warnings.warn('install \"ipywidgets\" for Jupyter support')\n"
      ]
     },
     "metadata": {},
     "output_type": "display_data"
    },
    {
     "data": {
      "text/html": [
       "<pre style=\"white-space:pre;overflow-x:auto;line-height:normal;font-family:Menlo,'DejaVu Sans Mono',consolas,'Courier New',monospace\"></pre>\n"
      ],
      "text/plain": []
     },
     "metadata": {},
     "output_type": "display_data"
    },
    {
     "data": {
      "text/html": [
       "<pre style=\"white-space:pre;overflow-x:auto;line-height:normal;font-family:Menlo,'DejaVu Sans Mono',consolas,'Courier New',monospace\"><span style=\"color: #7fbfbf; text-decoration-color: #7fbfbf\">[18:25:23] </span><span style=\"color: #008080; text-decoration-color: #008080\">INFO</span>: Saved to                                                                                          \n",
       "<span style=\"color: #7fbfbf; text-decoration-color: #7fbfbf\">           </span><span style=\"color: #800080; text-decoration-color: #800080\">/var/folders/qk/mywsrvps5gl_f3yjx2k1v1xm0000gn/T/tmp8rn25k3o/</span><span style=\"color: #ff00ff; text-decoration-color: #ff00ff\">3e4ad742-9b82-41d9-b911-9decd7b55fc6.csv</span>   \n",
       "</pre>\n"
      ],
      "text/plain": [
       "\u001b[2;36m[18:25:23]\u001b[0m\u001b[2;36m \u001b[0m\u001b[36mINFO\u001b[0m: Saved to                                                                                          \n",
       "\u001b[2;36m           \u001b[0m\u001b[35m/var/folders/qk/mywsrvps5gl_f3yjx2k1v1xm0000gn/T/tmp8rn25k3o/\u001b[0m\u001b[95m3e4ad742-9b82-41d9-b911-9decd7b55fc6.csv\u001b[0m   \n"
      ]
     },
     "metadata": {},
     "output_type": "display_data"
    },
    {
     "data": {
      "text/html": [
       "<pre style=\"white-space:pre;overflow-x:auto;line-height:normal;font-family:Menlo,'DejaVu Sans Mono',consolas,'Courier New',monospace\">/Users/wiktor/Library/Caches/pypoetry/virtualenvs/flow360-m20sMBMn-py3.11/lib/python3.11/site-packages/rich/live.py\n",
       ":231: UserWarning: install \"ipywidgets\" for Jupyter support\n",
       "  warnings.warn('install \"ipywidgets\" for Jupyter support')\n",
       "</pre>\n"
      ],
      "text/plain": [
       "/Users/wiktor/Library/Caches/pypoetry/virtualenvs/flow360-m20sMBMn-py3.11/lib/python3.11/site-packages/rich/live.py\n",
       ":231: UserWarning: install \"ipywidgets\" for Jupyter support\n",
       "  warnings.warn('install \"ipywidgets\" for Jupyter support')\n"
      ]
     },
     "metadata": {},
     "output_type": "display_data"
    },
    {
     "data": {
      "text/html": [
       "<pre style=\"white-space:pre;overflow-x:auto;line-height:normal;font-family:Menlo,'DejaVu Sans Mono',consolas,'Courier New',monospace\"></pre>\n"
      ],
      "text/plain": []
     },
     "metadata": {},
     "output_type": "display_data"
    },
    {
     "data": {
      "text/html": [
       "<pre style=\"white-space:pre;overflow-x:auto;line-height:normal;font-family:Menlo,'DejaVu Sans Mono',consolas,'Courier New',monospace\"><span style=\"color: #7fbfbf; text-decoration-color: #7fbfbf\">[18:27:30] </span><span style=\"color: #008080; text-decoration-color: #008080\">INFO</span>: Saved to                                                                                          \n",
       "<span style=\"color: #7fbfbf; text-decoration-color: #7fbfbf\">           </span><span style=\"color: #800080; text-decoration-color: #800080\">/var/folders/qk/mywsrvps5gl_f3yjx2k1v1xm0000gn/T/tmp8rn25k3o/</span><span style=\"color: #ff00ff; text-decoration-color: #ff00ff\">36440018-772f-46ee-8ed9-859f98e7f597.csv</span>   \n",
       "</pre>\n"
      ],
      "text/plain": [
       "\u001b[2;36m[18:27:30]\u001b[0m\u001b[2;36m \u001b[0m\u001b[36mINFO\u001b[0m: Saved to                                                                                          \n",
       "\u001b[2;36m           \u001b[0m\u001b[35m/var/folders/qk/mywsrvps5gl_f3yjx2k1v1xm0000gn/T/tmp8rn25k3o/\u001b[0m\u001b[95m36440018-772f-46ee-8ed9-859f98e7f597.csv\u001b[0m   \n"
      ]
     },
     "metadata": {},
     "output_type": "display_data"
    }
   ],
   "source": [
    "total_forces = case.results.total_forces\n",
    "total_forces = total_forces.as_dataframe()\n",
    "\n",
    "nonlinear_residuals = case.results.nonlinear_residuals\n",
    "nonlinear_residuals = nonlinear_residuals.as_dataframe()\n",
    "\n",
    "cfl = case.results.cfl\n",
    "cfl = cfl.as_dataframe()\n",
    "\n",
    "x_slicing_force_distribution = case.results.x_slicing_force_distribution\n",
    "x_slicing_force_distribution.wait()\n",
    "x_slicing_force_distribution = x_slicing_force_distribution.as_dataframe()"
   ]
  },
  {
   "cell_type": "markdown",
   "id": "b684107e-c3b7-460c-9cd2-c4f510283e22",
   "metadata": {},
   "source": [
    "First, we will look at how the residuals change as the pseudo step progresses."
   ]
  },
  {
   "cell_type": "code",
   "execution_count": 14,
   "id": "78cf25c4-a9a0-404d-8c80-f8eebd41e548",
   "metadata": {},
   "outputs": [
    {
     "data": {
      "text/plain": [
       "<Axes: xlabel='Pseudo Step', ylabel='residuals'>"
      ]
     },
     "execution_count": 14,
     "metadata": {},
     "output_type": "execute_result"
    },
    {
     "data": {
      "image/png": "[encoded data removed]",
      "text/plain": [
       "<Figure size 1000x500 with 1 Axes>"
      ]
     },
     "metadata": {},
     "output_type": "display_data"
    }
   ],
   "source": [
    "nonlinear_residuals.plot(x='pseudo_step',\n",
    "                         y=[\"0_cont\", \"1_momx\", \"2_momy\", \"3_momz\", \"4_energ\", \"5_nuHat\"],\n",
    "                         logy=True,\n",
    "                         xlim=(10, 3000),\n",
    "                         xlabel=\"Pseudo Step\",\n",
    "                         ylabel=\"residuals\",\n",
    "                         figsize=(10, 5)\n",
    ")"
   ]
  },
  {
   "cell_type": "markdown",
   "id": "78d55e8b-6ab0-42e7-9817-7e063c8f20a4",
   "metadata": {},
   "source": [
    "Next are the CFL values for both the Navier-Stokes solver, as well as the turbulence model solver with Spalart-Allmaras model selected."
   ]
  },
  {
   "cell_type": "code",
   "execution_count": 15,
   "id": "af56abbb-4059-4276-a69a-8ad84cd4a37a",
   "metadata": {},
   "outputs": [
    {
     "data": {
      "text/plain": [
       "<Axes: xlabel='pseudo_step'>"
      ]
     },
     "execution_count": 15,
     "metadata": {},
     "output_type": "execute_result"
    },
    {
     "data": {
      "image/png": "[encoded data removed]",
      "text/plain": [
       "<Figure size 1000x500 with 1 Axes>"
      ]
     },
     "metadata": {},
     "output_type": "display_data"
    }
   ],
   "source": [
    "cfl.plot(x='pseudo_step', y=[\"0_NavierStokes_cfl\", \"1_SpalartAllmaras_cfl\"], xlim=(0, 3000), figsize=(10, 5))"
   ]
  },
  {
   "cell_type": "markdown",
   "id": "b9dd0787-981c-4ea1-b5da-a8388be2255b",
   "metadata": {},
   "source": [
    "Another popular form of data visualisation indicating the convergence status of the solution for aerodynamic applications is monitoring how the CL and CD values change with iterations (pseudo steps)."
   ]
  },
  {
   "cell_type": "code",
   "execution_count": 16,
   "id": "8d4c2a4e-40f0-46b5-84da-f0ad037ef237",
   "metadata": {},
   "outputs": [
    {
     "data": {
      "text/plain": [
       "<Axes: xlabel='Pseudo Step', ylabel='CD'>"
      ]
     },
     "execution_count": 16,
     "metadata": {},
     "output_type": "execute_result"
    },
    {
     "data": {
      "image/png": "[encoded data removed]",
      "text/plain": [
       "<Figure size 1000x500 with 1 Axes>"
      ]
     },
     "metadata": {},
     "output_type": "display_data"
    },
    {
     "data": {
      "image/png": "[encoded data removed]",
      "text/plain": [
       "<Figure size 1000x500 with 1 Axes>"
      ]
     },
     "metadata": {},
     "output_type": "display_data"
    }
   ],
   "source": [
    "total_forces.plot(x=\"pseudo_step\",\n",
    "                  y=\"CL\",\n",
    "                  xlabel=\"Pseudo Step\",\n",
    "                  ylabel=\"CL\",\n",
    "                  figsize=(10, 5),\n",
    "                  style=\"orange\"\n",
    ")\n",
    "total_forces.plot(x=\"pseudo_step\",\n",
    "                  y=\"CD\",\n",
    "                  xlabel=\"Pseudo Step\",\n",
    "                  ylabel=\"CD\",\n",
    "                  figsize=(10, 5),\n",
    "                  style=\"lightgreen\"\n",
    ")"
   ]
  },
  {
   "cell_type": "markdown",
   "id": "15ffff77-724d-49f3-ae9a-ea60faf663b4",
   "metadata": {},
   "source": [
    "Finally, we will define a graph showcasing how the CD varies alongside the X axis."
   ]
  },
  {
   "cell_type": "code",
   "execution_count": 17,
   "id": "67f9c7ca-2aba-49d7-b3e0-18133d1f9a28",
   "metadata": {},
   "outputs": [
    {
     "data": {
      "text/plain": [
       "<Axes: xlabel='X', ylabel='CD'>"
      ]
     },
     "execution_count": 17,
     "metadata": {},
     "output_type": "execute_result"
    },
    {
     "data": {
      "image/png": "[encoded data removed]",
      "text/plain": [
       "<Figure size 1000x500 with 1 Axes>"
      ]
     },
     "metadata": {},
     "output_type": "display_data"
    }
   ],
   "source": [
    "x_slicing_force_distribution.plot(x=\"X\", y=\"totalCumulative_CD_Curve\", xlabel=\"X\", ylabel=\"CD\", figsize=(10, 5))"
   ]
  },
  {
   "cell_type": "markdown",
   "id": "8e56287a-fb95-4fa5-bdd2-e4caf06e7e89",
   "metadata": {},
   "source": [
    "## Complete code\n",
    "\n",
    "This is an example of how the code can look in a more condensed form."
   ]
  },
  {
   "cell_type": "code",
   "execution_count": null,
   "id": "e482d2d8-5a18-4a8a-876d-7253d48f84fa",
   "metadata": {},
   "outputs": [],
   "source": [
    "import flow360 as fl\n",
    "from flow360.component.simulation.unit_system import SI_unit_system, u\n",
    "from flow360.examples import Tutorial2DCRM\n",
    "\n",
    "fl.Env.preprod.active()\n",
    "\n",
    "Tutorial2DCRM.get_files()\n",
    "\n",
    "project = fl.Project.from_file(Tutorial2DCRM.geometry, name=\"Tutorial 2D CRM from Python\")\n",
    "geometry = project.geometry\n",
    "\n",
    "# show face and edge groupings\n",
    "geometry.show_available_groupings(verbose_mode=True)\n",
    "geometry.group_faces_by_tag(\"faceName\")\n",
    "geometry.group_edges_by_tag(\"edgeName\")\n",
    "\n",
    "\n",
    "with SI_unit_system:\n",
    "    cylinders = [\n",
    "        fl.Cylinder(\n",
    "            name=f\"cylinder{i+1}\",\n",
    "            axis=[0, 1, 0],\n",
    "            center=[0.7, 0.5, 0],\n",
    "            outer_radius=outer_radius,\n",
    "            height=1.0,\n",
    "        )\n",
    "        for i, outer_radius in enumerate([1.1, 2.2, 3.3, 4.5])\n",
    "    ]\n",
    "    cylinder5 = fl.Cylinder(\n",
    "        name=\"cylinder5\", axis=[-1, 0, 0], center=[6.5, 0.5, 0], outer_radius=6.5, height=10\n",
    "    )\n",
    "    farfield = fl.AutomatedFarfield(name=\"farfield\", method=\"quasi-3d\")\n",
    "    params = fl.SimulationParams(\n",
    "        meshing=fl.MeshingParams(\n",
    "            defaults=fl.MeshingDefaults(\n",
    "                surface_edge_growth_rate=1.17,\n",
    "                surface_max_edge_length=1.1,\n",
    "                curvature_resolution_angle=12 * u.deg,\n",
    "                boundary_layer_growth_rate=1.17,\n",
    "                boundary_layer_first_layer_thickness=1.8487111e-06,\n",
    "            ),\n",
    "            refinement_factor=1.35,\n",
    "            gap_treatment_strength=0.5,\n",
    "            volume_zones=[farfield],\n",
    "            refinements=[\n",
    "                fl.UniformRefinement(name=\"refinement1\", spacing=0.1, entities=[cylinders[0]]),\n",
    "                fl.UniformRefinement(name=\"refinement2\", spacing=0.15, entities=[cylinders[1]]),\n",
    "                fl.UniformRefinement(name=\"refinement3\", spacing=0.225, entities=[cylinders[2]]),\n",
    "                fl.UniformRefinement(name=\"refinement4\", spacing=0.275, entities=[cylinders[3]]),\n",
    "                fl.UniformRefinement(name=\"refinement5\", spacing=0.325, entities=[cylinder5]),\n",
    "                fl.SurfaceRefinement(name=\"wing\", max_edge_length=0.74, faces=[geometry[\"wing\"]]),\n",
    "                fl.SurfaceRefinement(\n",
    "                    name=\"flap-slat\",\n",
    "                    max_edge_length=0.55,\n",
    "                    faces=[geometry[\"flap\"], geometry[\"slat\"]],\n",
    "                ),\n",
    "                fl.SurfaceRefinement(\n",
    "                    name=\"trailing\",\n",
    "                    max_edge_length=0.36,\n",
    "                    faces=[\n",
    "                        geometry[\"*Trailing\"],\n",
    "                    ],\n",
    "                ),\n",
    "                fl.SurfaceEdgeRefinement(\n",
    "                    name=\"edges\",\n",
    "                    method=fl.HeightBasedRefinement(value=0.0007),\n",
    "                    edges=[\n",
    "                        geometry[\"*trailingEdge\"],\n",
    "                        geometry[\"*leadingEdge\"],\n",
    "                    ],\n",
    "                ),\n",
    "                fl.SurfaceEdgeRefinement(\n",
    "                    name=\"symmetry\", method=fl.ProjectAnisoSpacing(), edges=[geometry[\"symmetry\"]]\n",
    "                ),\n",
    "            ],\n",
    "        ),\n",
    "        reference_geometry=fl.ReferenceGeometry(\n",
    "            moment_center=[0.25, 0, 0], moment_length=[1, 1, 1], area=0.01\n",
    "        ),\n",
    "        operating_condition=fl.operating_condition_from_mach_reynolds(\n",
    "            mach=0.2, reynolds=5e6, temperature=272.1, alpha=16 * u.deg, beta=0 * u.deg\n",
    "        ),\n",
    "        time_stepping=fl.Steady(\n",
    "            max_steps=3000, CFL=fl.RampCFL(initial=20, final=300, ramp_steps=500)\n",
    "        ),\n",
    "        models=[\n",
    "            fl.Wall(\n",
    "                surfaces=[\n",
    "                    geometry[\"*\"],\n",
    "                ],\n",
    "                name=\"wall\",\n",
    "            ),\n",
    "            fl.Freestream(surfaces=farfield.farfield, name=\"Freestream\"),\n",
    "            fl.SlipWall(surfaces=farfield.symmetry_planes, name=\"slipwall\"),\n",
    "            fl.Fluid(\n",
    "                navier_stokes_solver=fl.NavierStokesSolver(\n",
    "                    absolute_tolerance=1e-11,\n",
    "                    linear_solver=fl.LinearSolver(max_iterations=35),\n",
    "                    kappa_MUSCL=0.33,\n",
    "                ),\n",
    "                turbulence_model_solver=fl.SpalartAllmaras(\n",
    "                    absolute_tolerance=1e-10,\n",
    "                    linear_solver=fl.LinearSolver(max_iterations=25),\n",
    "                    equation_evaluation_frequency=1,\n",
    "                ),\n",
    "            ),\n",
    "        ],\n",
    "        outputs=[\n",
    "            fl.VolumeOutput(\n",
    "                name=\"fl.VolumeOutput\",\n",
    "                output_fields=[\n",
    "                    \"primitiveVars\",\n",
    "                    \"vorticity\",\n",
    "                    \"residualNavierStokes\",\n",
    "                    \"residualTurbulence\",\n",
    "                    \"Cp\",\n",
    "                    \"Mach\",\n",
    "                    \"qcriterion\",\n",
    "                    \"mut\",\n",
    "                ],\n",
    "            ),\n",
    "            fl.SurfaceOutput(\n",
    "                name=\"fl.SurfaceOutput\",\n",
    "                surfaces=geometry[\"*\"],\n",
    "                output_fields=[\"primitiveVars\", \"Cp\", \"Cf\", \"CfVec\", \"yPlus\"],\n",
    "            ),\n",
    "        ],\n",
    "    )\n",
    "\n",
    "\n",
    "project.run_case(params=params, name=\"Case of tutorial 2D CRM from Python\")"
   ]
  },
  {
   "cell_type": "markdown",
   "id": "9b346ad3-6a9d-4d49-bd94-632b4409ae84",
   "metadata": {},
   "source": [
    "More information can be found on the documentation page for this case, available [here](https://docs.flexcompute.com/projects/flow360/en/latest/tutorials/Multielement_Configuration/Multielement_Configuration.html)."
   ]
  }
 ],
 "metadata": {
  "kernelspec": {
   "display_name": "Python 3 (ipykernel)",
   "language": "python",
   "name": "python3"
  },
  "language_info": {
   "codemirror_mode": {
    "name": "ipython",
    "version": 3
   },
   "file_extension": ".py",
   "mimetype": "text/x-python",
   "name": "python",
   "nbconvert_exporter": "python",
   "pygments_lexer": "ipython3",
   "version": "3.11.9"
  }
 },
 "nbformat": 4,
 "nbformat_minor": 5
}
