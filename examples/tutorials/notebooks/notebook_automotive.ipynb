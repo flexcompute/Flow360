{
 "cells": [
  {
   "cell_type": "markdown",
   "metadata": {},
   "source": [
    "# **Automotive DrivAer**\n",
    "\n",
    "The DrivAer model is a standardized automotive geometry developed specifically for aerodynamic research. It represents a simplified yet realistic vehicle shape that captures essential aerodynamic features of modern passenger cars. The model comes in different configurations and the one used in this notebook is **F_D_wM_wW**. It features:\n",
    "\n",
    "- Notchback top\n",
    "- Detailed underbody\n",
    "- Contains mirrors and wheels\n",
    "\n",
    "This standardized geometry allows for consistent comparison of CFD results across different solvers and methodologies. The DrivAer model is particularly valuable for:\n",
    "\n",
    "- Benchmarking solver performance\n",
    "- Studying fundamental aerodynamic phenomena\n",
    "- Developing and testing turbulence models\n",
    "\n",
    "In this analysis, we investigate the aerodynamic characteristics of the DrivAer model under three yaw angles. We will post process obtained results to create a downloadable PDF report showcasing results such as typical aerodynamic forces, as well as various visualizations of the car.\n",
    "\n",
    "The model prepared for this simulation is characterized by:\n",
    "- 5.7 m node count mesh\n",
    "- 40 m/s wind speed\n",
    "- No wheel rotation\n",
    "- Steady state"
   ]
  },
  {
   "cell_type": "markdown",
   "metadata": {},
   "source": [
    "## Setting up the simulations\n",
    "\n",
    "In order to run the simulations, we will walk our way through uploading the project and then defining the necessary parameters alongside some additional information that will be used for post processing."
   ]
  },
  {
   "cell_type": "markdown",
   "metadata": {},
   "source": [
    "We will start by importing Flow360 as well as its various subcomponents."
   ]
  },
  {
   "cell_type": "code",
   "execution_count": 1,
   "metadata": {},
   "outputs": [],
   "source": [
    "import flow360 as fl\n",
    "from flow360.examples import DrivAer\n",
    "from flow360.log import log\n",
    "from flow360.log import log, set_logging_level\n",
    "\n",
    "DrivAer.get_files()\n",
    "\n",
    "log.log_to_file = False\n",
    "set_logging_level(\"INFO\")"
   ]
  },
  {
   "cell_type": "markdown",
   "metadata": {},
   "source": [
    "Next we can upload the project from volume mesh."
   ]
  },
  {
   "cell_type": "code",
   "execution_count": 2,
   "metadata": {},
   "outputs": [
    {
     "data": {
      "application/vnd.jupyter.widget-view+json": {
       "model_id": "70db9a8c8f3849659ba87c7772fadefd",
       "version_major": 2,
       "version_minor": 0
      },
      "text/plain": [
       "Output()"
      ]
     },
     "metadata": {},
     "output_type": "display_data"
    },
    {
     "data": {
      "text/html": [
       "<pre style=\"white-space:pre;overflow-x:auto;line-height:normal;font-family:Menlo,'DejaVu Sans Mono',consolas,'Courier New',monospace\"></pre>\n"
      ],
      "text/plain": []
     },
     "metadata": {},
     "output_type": "display_data"
    },
    {
     "data": {
      "text/html": [
       "<pre style=\"white-space:pre;overflow-x:auto;line-height:normal;font-family:Menlo,'DejaVu Sans Mono',consolas,'Courier New',monospace\"><span style=\"color: #7fbfbf; text-decoration-color: #7fbfbf\">[14:04:27] </span><span style=\"color: #008080; text-decoration-color: #008080\">INFO</span>: VolumeMesh successfully submitted:                                                                \n",
       "<span style=\"color: #7fbfbf; text-decoration-color: #7fbfbf\">           </span>        type   = Volume Mesh                                                                            \n",
       "<span style=\"color: #7fbfbf; text-decoration-color: #7fbfbf\">           </span>        name   = Automotive DrivAer                                                                     \n",
       "<span style=\"color: #7fbfbf; text-decoration-color: #7fbfbf\">           </span>        id     = vm-<span style=\"color: #ffff00; text-decoration-color: #ffff00\">84de15d3-9af8-42a1-8569-de4b6b3df96d</span>                                                \n",
       "<span style=\"color: #7fbfbf; text-decoration-color: #7fbfbf\">           </span>        status = uploaded                                                                               \n",
       "<span style=\"color: #7fbfbf; text-decoration-color: #7fbfbf\">           </span>                                                                                                        \n",
       "</pre>\n"
      ],
      "text/plain": [
       "\u001b[2;36m[14:04:27]\u001b[0m\u001b[2;36m \u001b[0m\u001b[36mINFO\u001b[0m: VolumeMesh successfully submitted:                                                                \n",
       "\u001b[2;36m           \u001b[0m        type   = Volume Mesh                                                                            \n",
       "\u001b[2;36m           \u001b[0m        name   = Automotive DrivAer                                                                     \n",
       "\u001b[2;36m           \u001b[0m        id     = vm-\u001b[93m84de15d3-9af8-42a1-8569-de4b6b3df96d\u001b[0m                                                \n",
       "\u001b[2;36m           \u001b[0m        status = uploaded                                                                               \n",
       "\u001b[2;36m           \u001b[0m                                                                                                        \n"
      ]
     },
     "metadata": {},
     "output_type": "display_data"
    },
    {
     "data": {
      "application/vnd.jupyter.widget-view+json": {
       "model_id": "94c7a2e2fedf4ce080504fb5cb458c32",
       "version_major": 2,
       "version_minor": 0
      },
      "text/plain": [
       "Output()"
      ]
     },
     "metadata": {},
     "output_type": "display_data"
    },
    {
     "data": {
      "text/html": [
       "<pre style=\"white-space:pre;overflow-x:auto;line-height:normal;font-family:Menlo,'DejaVu Sans Mono',consolas,'Courier New',monospace\"></pre>\n"
      ],
      "text/plain": []
     },
     "metadata": {},
     "output_type": "display_data"
    },
    {
     "data": {
      "text/html": [
       "<pre style=\"white-space:pre;overflow-x:auto;line-height:normal;font-family:Menlo,'DejaVu Sans Mono',consolas,'Courier New',monospace\"></pre>\n"
      ],
      "text/plain": []
     },
     "metadata": {},
     "output_type": "display_data"
    }
   ],
   "source": [
    "project = fl.Project.from_volume_mesh(\n",
    "    DrivAer.mesh_filename,\n",
    "    name=\"Automotive DrivAer\",\n",
    ")\n",
    "vm = project.volume_mesh"
   ]
  },
  {
   "cell_type": "markdown",
   "metadata": {},
   "source": [
    "For the sake of convenience we can print out all of the boundaries in our mesh. This will make assigning those boundaries easier."
   ]
  },
  {
   "cell_type": "code",
   "execution_count": 3,
   "metadata": {},
   "outputs": [
    {
     "data": {
      "text/html": [
       "<pre style=\"white-space:pre;overflow-x:auto;line-height:normal;font-family:Menlo,'DejaVu Sans Mono',consolas,'Courier New',monospace\"><span style=\"color: #7fbfbf; text-decoration-color: #7fbfbf\">[14:05:03] </span><span style=\"color: #008080; text-decoration-color: #008080\">INFO</span>: Volume mesh contains the following boundaries:                                                    \n",
       "</pre>\n"
      ],
      "text/plain": [
       "\u001b[2;36m[14:05:03]\u001b[0m\u001b[2;36m \u001b[0m\u001b[36mINFO\u001b[0m: Volume mesh contains the following boundaries:                                                    \n"
      ]
     },
     "metadata": {},
     "output_type": "display_data"
    },
    {
     "data": {
      "text/html": [
       "<pre style=\"white-space:pre;overflow-x:auto;line-height:normal;font-family:Menlo,'DejaVu Sans Mono',consolas,'Courier New',monospace\"><span style=\"color: #7fbfbf; text-decoration-color: #7fbfbf\">           </span><span style=\"color: #008080; text-decoration-color: #008080\">INFO</span>: Boundary: blk-<span style=\"color: #008080; text-decoration-color: #008080; font-weight: bold\">1</span>/wheel_tire                                                                        \n",
       "</pre>\n"
      ],
      "text/plain": [
       "\u001b[2;36m          \u001b[0m\u001b[2;36m \u001b[0m\u001b[36mINFO\u001b[0m: Boundary: blk-\u001b[1;36m1\u001b[0m/wheel_tire                                                                        \n"
      ]
     },
     "metadata": {},
     "output_type": "display_data"
    },
    {
     "data": {
      "text/html": [
       "<pre style=\"white-space:pre;overflow-x:auto;line-height:normal;font-family:Menlo,'DejaVu Sans Mono',consolas,'Courier New',monospace\"><span style=\"color: #7fbfbf; text-decoration-color: #7fbfbf\">           </span><span style=\"color: #008080; text-decoration-color: #008080\">INFO</span>: Boundary: blk-<span style=\"color: #008080; text-decoration-color: #008080; font-weight: bold\">1</span>/BODY                                                                              \n",
       "</pre>\n"
      ],
      "text/plain": [
       "\u001b[2;36m          \u001b[0m\u001b[2;36m \u001b[0m\u001b[36mINFO\u001b[0m: Boundary: blk-\u001b[1;36m1\u001b[0m/BODY                                                                              \n"
      ]
     },
     "metadata": {},
     "output_type": "display_data"
    },
    {
     "data": {
      "text/html": [
       "<pre style=\"white-space:pre;overflow-x:auto;line-height:normal;font-family:Menlo,'DejaVu Sans Mono',consolas,'Courier New',monospace\"><span style=\"color: #7fbfbf; text-decoration-color: #7fbfbf\">           </span><span style=\"color: #008080; text-decoration-color: #008080\">INFO</span>: Boundary: blk-<span style=\"color: #008080; text-decoration-color: #008080; font-weight: bold\">1</span>/wheel_rim                                                                         \n",
       "</pre>\n"
      ],
      "text/plain": [
       "\u001b[2;36m          \u001b[0m\u001b[2;36m \u001b[0m\u001b[36mINFO\u001b[0m: Boundary: blk-\u001b[1;36m1\u001b[0m/wheel_rim                                                                         \n"
      ]
     },
     "metadata": {},
     "output_type": "display_data"
    },
    {
     "data": {
      "text/html": [
       "<pre style=\"white-space:pre;overflow-x:auto;line-height:normal;font-family:Menlo,'DejaVu Sans Mono',consolas,'Courier New',monospace\"><span style=\"color: #7fbfbf; text-decoration-color: #7fbfbf\">           </span><span style=\"color: #008080; text-decoration-color: #008080\">INFO</span>: Boundary: blk-<span style=\"color: #008080; text-decoration-color: #008080; font-weight: bold\">1</span>/WT_ground_front                                                                   \n",
       "</pre>\n"
      ],
      "text/plain": [
       "\u001b[2;36m          \u001b[0m\u001b[2;36m \u001b[0m\u001b[36mINFO\u001b[0m: Boundary: blk-\u001b[1;36m1\u001b[0m/WT_ground_front                                                                   \n"
      ]
     },
     "metadata": {},
     "output_type": "display_data"
    },
    {
     "data": {
      "text/html": [
       "<pre style=\"white-space:pre;overflow-x:auto;line-height:normal;font-family:Menlo,'DejaVu Sans Mono',consolas,'Courier New',monospace\"><span style=\"color: #7fbfbf; text-decoration-color: #7fbfbf\">           </span><span style=\"color: #008080; text-decoration-color: #008080\">INFO</span>: Boundary: blk-<span style=\"color: #008080; text-decoration-color: #008080; font-weight: bold\">1</span>/WT_ground                                                                         \n",
       "</pre>\n"
      ],
      "text/plain": [
       "\u001b[2;36m          \u001b[0m\u001b[2;36m \u001b[0m\u001b[36mINFO\u001b[0m: Boundary: blk-\u001b[1;36m1\u001b[0m/WT_ground                                                                         \n"
      ]
     },
     "metadata": {},
     "output_type": "display_data"
    },
    {
     "data": {
      "text/html": [
       "<pre style=\"white-space:pre;overflow-x:auto;line-height:normal;font-family:Menlo,'DejaVu Sans Mono',consolas,'Courier New',monospace\"><span style=\"color: #7fbfbf; text-decoration-color: #7fbfbf\">           </span><span style=\"color: #008080; text-decoration-color: #008080\">INFO</span>: Boundary: blk-<span style=\"color: #008080; text-decoration-color: #008080; font-weight: bold\">1</span>/WT_ceiling                                                                        \n",
       "</pre>\n"
      ],
      "text/plain": [
       "\u001b[2;36m          \u001b[0m\u001b[2;36m \u001b[0m\u001b[36mINFO\u001b[0m: Boundary: blk-\u001b[1;36m1\u001b[0m/WT_ceiling                                                                        \n"
      ]
     },
     "metadata": {},
     "output_type": "display_data"
    },
    {
     "data": {
      "text/html": [
       "<pre style=\"white-space:pre;overflow-x:auto;line-height:normal;font-family:Menlo,'DejaVu Sans Mono',consolas,'Courier New',monospace\"><span style=\"color: #7fbfbf; text-decoration-color: #7fbfbf\">           </span><span style=\"color: #008080; text-decoration-color: #008080\">INFO</span>: Boundary: blk-<span style=\"color: #008080; text-decoration-color: #008080; font-weight: bold\">1</span>/WT_inlet                                                                          \n",
       "</pre>\n"
      ],
      "text/plain": [
       "\u001b[2;36m          \u001b[0m\u001b[2;36m \u001b[0m\u001b[36mINFO\u001b[0m: Boundary: blk-\u001b[1;36m1\u001b[0m/WT_inlet                                                                          \n"
      ]
     },
     "metadata": {},
     "output_type": "display_data"
    },
    {
     "data": {
      "text/html": [
       "<pre style=\"white-space:pre;overflow-x:auto;line-height:normal;font-family:Menlo,'DejaVu Sans Mono',consolas,'Courier New',monospace\"><span style=\"color: #7fbfbf; text-decoration-color: #7fbfbf\">           </span><span style=\"color: #008080; text-decoration-color: #008080\">INFO</span>: Boundary: blk-<span style=\"color: #008080; text-decoration-color: #008080; font-weight: bold\">1</span>/WT_outlet                                                                         \n",
       "</pre>\n"
      ],
      "text/plain": [
       "\u001b[2;36m          \u001b[0m\u001b[2;36m \u001b[0m\u001b[36mINFO\u001b[0m: Boundary: blk-\u001b[1;36m1\u001b[0m/WT_outlet                                                                         \n"
      ]
     },
     "metadata": {},
     "output_type": "display_data"
    },
    {
     "data": {
      "text/html": [
       "<pre style=\"white-space:pre;overflow-x:auto;line-height:normal;font-family:Menlo,'DejaVu Sans Mono',consolas,'Courier New',monospace\"><span style=\"color: #7fbfbf; text-decoration-color: #7fbfbf\">           </span><span style=\"color: #008080; text-decoration-color: #008080\">INFO</span>: Boundary: blk-<span style=\"color: #008080; text-decoration-color: #008080; font-weight: bold\">1</span>/WT_side1                                                                          \n",
       "</pre>\n"
      ],
      "text/plain": [
       "\u001b[2;36m          \u001b[0m\u001b[2;36m \u001b[0m\u001b[36mINFO\u001b[0m: Boundary: blk-\u001b[1;36m1\u001b[0m/WT_side1                                                                          \n"
      ]
     },
     "metadata": {},
     "output_type": "display_data"
    },
    {
     "data": {
      "text/html": [
       "<pre style=\"white-space:pre;overflow-x:auto;line-height:normal;font-family:Menlo,'DejaVu Sans Mono',consolas,'Courier New',monospace\"><span style=\"color: #7fbfbf; text-decoration-color: #7fbfbf\">           </span><span style=\"color: #008080; text-decoration-color: #008080\">INFO</span>: Boundary: blk-<span style=\"color: #008080; text-decoration-color: #008080; font-weight: bold\">1</span>/WT_side2                                                                          \n",
       "</pre>\n"
      ],
      "text/plain": [
       "\u001b[2;36m          \u001b[0m\u001b[2;36m \u001b[0m\u001b[36mINFO\u001b[0m: Boundary: blk-\u001b[1;36m1\u001b[0m/WT_side2                                                                          \n"
      ]
     },
     "metadata": {},
     "output_type": "display_data"
    },
    {
     "data": {
      "text/html": [
       "<pre style=\"white-space:pre;overflow-x:auto;line-height:normal;font-family:Menlo,'DejaVu Sans Mono',consolas,'Courier New',monospace\"><span style=\"color: #7fbfbf; text-decoration-color: #7fbfbf\">           </span><span style=\"color: #008080; text-decoration-color: #008080\">INFO</span>: Boundary: blk-<span style=\"color: #008080; text-decoration-color: #008080; font-weight: bold\">1</span>/WT_ground_close                                                                   \n",
       "</pre>\n"
      ],
      "text/plain": [
       "\u001b[2;36m          \u001b[0m\u001b[2;36m \u001b[0m\u001b[36mINFO\u001b[0m: Boundary: blk-\u001b[1;36m1\u001b[0m/WT_ground_close                                                                   \n"
      ]
     },
     "metadata": {},
     "output_type": "display_data"
    },
    {
     "data": {
      "text/html": [
       "<pre style=\"white-space:pre;overflow-x:auto;line-height:normal;font-family:Menlo,'DejaVu Sans Mono',consolas,'Courier New',monospace\"><span style=\"color: #7fbfbf; text-decoration-color: #7fbfbf\">           </span><span style=\"color: #008080; text-decoration-color: #008080\">INFO</span>: Boundary: blk-<span style=\"color: #008080; text-decoration-color: #008080; font-weight: bold\">1</span>/WT_ground_patch                                                                   \n",
       "</pre>\n"
      ],
      "text/plain": [
       "\u001b[2;36m          \u001b[0m\u001b[2;36m \u001b[0m\u001b[36mINFO\u001b[0m: Boundary: blk-\u001b[1;36m1\u001b[0m/WT_ground_patch                                                                   \n"
      ]
     },
     "metadata": {},
     "output_type": "display_data"
    }
   ],
   "source": [
    "log.info(\"Volume mesh contains the following boundaries:\")\n",
    "for boundary in vm.boundary_names:\n",
    "    log.info(\"Boundary: \" + boundary)"
   ]
  },
  {
   "cell_type": "markdown",
   "metadata": {},
   "source": [
    ">Note: *You can also take a look at your project in the webUI to see what boundaries are available. Additionally, you will be able to see how they are represented in the mesh.*"
   ]
  },
  {
   "cell_type": "markdown",
   "metadata": {},
   "source": [
    "Here, we will group the previously printed out boundaries."
   ]
  },
  {
   "cell_type": "code",
   "execution_count": 4,
   "metadata": {},
   "outputs": [],
   "source": [
    "freestream_surfaces = [\"blk-1/WT_side1\", \"blk-1/WT_side2\", \"blk-1/WT_inlet\", \"blk-1/WT_outlet\"]\n",
    "slip_wall_surfaces = [\"blk-1/WT_ceiling\", \"blk-1/WT_ground_front\", \"blk-1/WT_ground\"]\n",
    "wall_surfaces = list(set(vm.boundary_names) - set(freestream_surfaces) - set(slip_wall_surfaces))"
   ]
  },
  {
   "cell_type": "markdown",
   "metadata": {},
   "source": [
    "Our simulation will be defined with the following parameters."
   ]
  },
  {
   "cell_type": "code",
   "execution_count": 5,
   "metadata": {},
   "outputs": [
    {
     "data": {
      "text/html": [
       "<pre style=\"white-space:pre;overflow-x:auto;line-height:normal;font-family:Menlo,'DejaVu Sans Mono',consolas,'Courier New',monospace\"><span style=\"color: #7fbfbf; text-decoration-color: #7fbfbf\">           </span><span style=\"color: #008080; text-decoration-color: #008080\">INFO</span>: using: SI unit system for unit inference.                                                         \n",
       "</pre>\n"
      ],
      "text/plain": [
       "\u001b[2;36m          \u001b[0m\u001b[2;36m \u001b[0m\u001b[36mINFO\u001b[0m: using: SI unit system for unit inference.                                                         \n"
      ]
     },
     "metadata": {},
     "output_type": "display_data"
    }
   ],
   "source": [
    "with fl.SI_unit_system:\n",
    "    params = fl.SimulationParams(\n",
    "        meshing=None,\n",
    "        reference_geometry=fl.ReferenceGeometry(area=2.17, moment_length=2.7862),\n",
    "        operating_condition=fl.AerospaceCondition(velocity_magnitude=40),\n",
    "        models=[\n",
    "            fl.Wall(surfaces=[vm[i] for i in wall_surfaces], use_wall_function=True),\n",
    "            fl.Freestream(\n",
    "                surfaces=[vm[i] for i in freestream_surfaces],\n",
    "            ),\n",
    "            fl.SlipWall(\n",
    "                surfaces=[vm[i] for i in slip_wall_surfaces],\n",
    "            ),\n",
    "        ],\n",
    "        user_defined_fields=[\n",
    "            fl.UserDefinedField(\n",
    "                name=\"Cpx\",\n",
    "                expression=\"double prel = primitiveVars[4] - pressureFreestream;\"\n",
    "                + \"double PressureForce_X = prel * nodeNormals[0]; \"\n",
    "                + \"Cpx = PressureForce_X / (0.5 * MachRef * MachRef) / magnitude(nodeNormals);\",\n",
    "            ),\n",
    "        ],\n",
    "    )"
   ]
  },
  {
   "cell_type": "markdown",
   "metadata": {},
   "source": [
    "Since we want to do quite a bit of post processing for this simulation, we will create a more expansive outputs section and add it to the rest of the params."
   ]
  },
  {
   "cell_type": "code",
   "execution_count": 6,
   "metadata": {},
   "outputs": [
    {
     "data": {
      "text/html": [
       "<pre style=\"white-space:pre;overflow-x:auto;line-height:normal;font-family:Menlo,'DejaVu Sans Mono',consolas,'Courier New',monospace\"><span style=\"color: #7fbfbf; text-decoration-color: #7fbfbf\">           </span><span style=\"color: #008080; text-decoration-color: #008080\">INFO</span>: using: SI unit system for unit inference.                                                         \n",
       "</pre>\n"
      ],
      "text/plain": [
       "\u001b[2;36m          \u001b[0m\u001b[2;36m \u001b[0m\u001b[36mINFO\u001b[0m: using: SI unit system for unit inference.                                                         \n"
      ]
     },
     "metadata": {},
     "output_type": "display_data"
    }
   ],
   "source": [
    "with fl.SI_unit_system:\n",
    "    outputs = [\n",
    "        fl.SurfaceOutput(\n",
    "            surfaces=vm[\"*\"],\n",
    "            output_fields=[\n",
    "                \"Cp\",\n",
    "                \"Cf\",\n",
    "                \"yPlus\",\n",
    "                \"CfVec\",\n",
    "                \"primitiveVars\",\n",
    "                \"wall_shear_stress_magnitude\",\n",
    "                \"Cpx\",\n",
    "            ],\n",
    "        ),\n",
    "        fl.SliceOutput(\n",
    "            entities=[\n",
    "                *[\n",
    "                    fl.Slice(\n",
    "                        name=f\"slice_y_{name}\",\n",
    "                        normal=(0, 1, 0),\n",
    "                        origin=(0, y, 0),\n",
    "                    )\n",
    "                    for name, y in zip([\"0\", \"0_2\", \"0_4\", \"0_6\", \"0_8\"], [0, 0.2, 0.4, 0.6, 0.8])\n",
    "                ],\n",
    "                *[\n",
    "                    fl.Slice(\n",
    "                        name=f\"slice_z_{name}\",\n",
    "                        normal=(0, 0, 1),\n",
    "                        origin=(0, 0, z),\n",
    "                    )\n",
    "                    for name, z in zip(\n",
    "                        [\"neg0_2\", \"0\", \"0_2\", \"0_4\", \"0_6\", \"0_8\"],\n",
    "                        [-0.2, 0, 0.2, 0.4, 0.6, 0.8],\n",
    "                    )\n",
    "                ],\n",
    "            ],\n",
    "            output_fields=[\"velocity\", \"velocity_x\", \"velocity_y\", \"velocity_z\"],\n",
    "        ),\n",
    "        fl.IsosurfaceOutput(\n",
    "            output_fields=[\"Cp\", \"Mach\"],\n",
    "            isosurfaces=[\n",
    "                fl.Isosurface(\n",
    "                    name=\"isosurface-cpt\",\n",
    "                    iso_value=-1,\n",
    "                    field=\"Cpt\",\n",
    "                ),\n",
    "            ],\n",
    "        ),\n",
    "        fl.ProbeOutput(\n",
    "            entities=[fl.Point(name=\"point1\", location=(10, 0, 1))],\n",
    "            output_fields=[\"velocity\"],\n",
    "        ),\n",
    "    ]\n",
    "\n",
    "params.outputs = outputs"
   ]
  },
  {
   "cell_type": "markdown",
   "metadata": {},
   "source": [
    "### Running the simulations\n",
    "\n",
    "With all simulation parameters prepared, we can initiate our simulations for three different beta angles (0, 5 and 10 degrees). We will append each case's data to a list, which will be necessary for report generation."
   ]
  },
  {
   "cell_type": "code",
   "execution_count": 7,
   "metadata": {},
   "outputs": [
    {
     "data": {
      "text/html": [
       "<pre style=\"white-space:pre;overflow-x:auto;line-height:normal;font-family:Menlo,'DejaVu Sans Mono',consolas,'Courier New',monospace\"><span style=\"color: #7fbfbf; text-decoration-color: #7fbfbf\">           </span><span style=\"color: #008080; text-decoration-color: #008080\">INFO</span>: using: SI unit system for unit inference.                                                         \n",
       "</pre>\n"
      ],
      "text/plain": [
       "\u001b[2;36m          \u001b[0m\u001b[2;36m \u001b[0m\u001b[36mINFO\u001b[0m: using: SI unit system for unit inference.                                                         \n"
      ]
     },
     "metadata": {},
     "output_type": "display_data"
    },
    {
     "data": {
      "text/html": [
       "<pre style=\"white-space:pre;overflow-x:auto;line-height:normal;font-family:Menlo,'DejaVu Sans Mono',consolas,'Courier New',monospace\"><span style=\"color: #7fbfbf; text-decoration-color: #7fbfbf\">[14:05:05] </span><span style=\"color: #008080; text-decoration-color: #008080\">INFO</span>: Successfully submitted:                                                                           \n",
       "<span style=\"color: #7fbfbf; text-decoration-color: #7fbfbf\">           </span>        type   = Case                                                                                   \n",
       "<span style=\"color: #7fbfbf; text-decoration-color: #7fbfbf\">           </span>        name   = DrivAer <span style=\"color: #008080; text-decoration-color: #008080; font-weight: bold\">5.</span>7M - <span style=\"color: #808000; text-decoration-color: #808000\">beta</span>=<span style=\"color: #008080; text-decoration-color: #008080; font-weight: bold\">0</span>                                                                  \n",
       "<span style=\"color: #7fbfbf; text-decoration-color: #7fbfbf\">           </span>        id     = case-<span style=\"color: #ffff00; text-decoration-color: #ffff00\">9305d1d2-1fce-4d88-9654-a956aae1e276</span>                                              \n",
       "<span style=\"color: #7fbfbf; text-decoration-color: #7fbfbf\">           </span>        status = pending                                                                                \n",
       "<span style=\"color: #7fbfbf; text-decoration-color: #7fbfbf\">           </span>                                                                                                        \n",
       "</pre>\n"
      ],
      "text/plain": [
       "\u001b[2;36m[14:05:05]\u001b[0m\u001b[2;36m \u001b[0m\u001b[36mINFO\u001b[0m: Successfully submitted:                                                                           \n",
       "\u001b[2;36m           \u001b[0m        type   = Case                                                                                   \n",
       "\u001b[2;36m           \u001b[0m        name   = DrivAer \u001b[1;36m5.\u001b[0m7M - \u001b[33mbeta\u001b[0m=\u001b[1;36m0\u001b[0m                                                                  \n",
       "\u001b[2;36m           \u001b[0m        id     = case-\u001b[93m9305d1d2-1fce-4d88-9654-a956aae1e276\u001b[0m                                              \n",
       "\u001b[2;36m           \u001b[0m        status = pending                                                                                \n",
       "\u001b[2;36m           \u001b[0m                                                                                                        \n"
      ]
     },
     "metadata": {},
     "output_type": "display_data"
    },
    {
     "data": {
      "text/html": [
       "<pre style=\"white-space:pre;overflow-x:auto;line-height:normal;font-family:Menlo,'DejaVu Sans Mono',consolas,'Courier New',monospace\"><span style=\"color: #7fbfbf; text-decoration-color: #7fbfbf\">           </span><span style=\"color: #008080; text-decoration-color: #008080\">INFO</span>: using: SI unit system for unit inference.                                                         \n",
       "</pre>\n"
      ],
      "text/plain": [
       "\u001b[2;36m          \u001b[0m\u001b[2;36m \u001b[0m\u001b[36mINFO\u001b[0m: using: SI unit system for unit inference.                                                         \n"
      ]
     },
     "metadata": {},
     "output_type": "display_data"
    },
    {
     "data": {
      "text/html": [
       "<pre style=\"white-space:pre;overflow-x:auto;line-height:normal;font-family:Menlo,'DejaVu Sans Mono',consolas,'Courier New',monospace\"><span style=\"color: #7fbfbf; text-decoration-color: #7fbfbf\">[14:05:07] </span><span style=\"color: #008080; text-decoration-color: #008080\">INFO</span>: Successfully submitted:                                                                           \n",
       "<span style=\"color: #7fbfbf; text-decoration-color: #7fbfbf\">           </span>        type   = Case                                                                                   \n",
       "<span style=\"color: #7fbfbf; text-decoration-color: #7fbfbf\">           </span>        name   = DrivAer <span style=\"color: #008080; text-decoration-color: #008080; font-weight: bold\">5.</span>7M - <span style=\"color: #808000; text-decoration-color: #808000\">beta</span>=<span style=\"color: #008080; text-decoration-color: #008080; font-weight: bold\">5</span>                                                                  \n",
       "<span style=\"color: #7fbfbf; text-decoration-color: #7fbfbf\">           </span>        id     = case-<span style=\"color: #ffff00; text-decoration-color: #ffff00\">70d6ce5b-9b8b-486e-99c2-7aaf3b4abe2b</span>                                              \n",
       "<span style=\"color: #7fbfbf; text-decoration-color: #7fbfbf\">           </span>        status = pending                                                                                \n",
       "<span style=\"color: #7fbfbf; text-decoration-color: #7fbfbf\">           </span>                                                                                                        \n",
       "</pre>\n"
      ],
      "text/plain": [
       "\u001b[2;36m[14:05:07]\u001b[0m\u001b[2;36m \u001b[0m\u001b[36mINFO\u001b[0m: Successfully submitted:                                                                           \n",
       "\u001b[2;36m           \u001b[0m        type   = Case                                                                                   \n",
       "\u001b[2;36m           \u001b[0m        name   = DrivAer \u001b[1;36m5.\u001b[0m7M - \u001b[33mbeta\u001b[0m=\u001b[1;36m5\u001b[0m                                                                  \n",
       "\u001b[2;36m           \u001b[0m        id     = case-\u001b[93m70d6ce5b-9b8b-486e-99c2-7aaf3b4abe2b\u001b[0m                                              \n",
       "\u001b[2;36m           \u001b[0m        status = pending                                                                                \n",
       "\u001b[2;36m           \u001b[0m                                                                                                        \n"
      ]
     },
     "metadata": {},
     "output_type": "display_data"
    },
    {
     "data": {
      "text/html": [
       "<pre style=\"white-space:pre;overflow-x:auto;line-height:normal;font-family:Menlo,'DejaVu Sans Mono',consolas,'Courier New',monospace\"><span style=\"color: #7fbfbf; text-decoration-color: #7fbfbf\">[14:05:08] </span><span style=\"color: #008080; text-decoration-color: #008080\">INFO</span>: using: SI unit system for unit inference.                                                         \n",
       "</pre>\n"
      ],
      "text/plain": [
       "\u001b[2;36m[14:05:08]\u001b[0m\u001b[2;36m \u001b[0m\u001b[36mINFO\u001b[0m: using: SI unit system for unit inference.                                                         \n"
      ]
     },
     "metadata": {},
     "output_type": "display_data"
    },
    {
     "data": {
      "text/html": [
       "<pre style=\"white-space:pre;overflow-x:auto;line-height:normal;font-family:Menlo,'DejaVu Sans Mono',consolas,'Courier New',monospace\"><span style=\"color: #7fbfbf; text-decoration-color: #7fbfbf\">[14:05:10] </span><span style=\"color: #008080; text-decoration-color: #008080\">INFO</span>: Successfully submitted:                                                                           \n",
       "<span style=\"color: #7fbfbf; text-decoration-color: #7fbfbf\">           </span>        type   = Case                                                                                   \n",
       "<span style=\"color: #7fbfbf; text-decoration-color: #7fbfbf\">           </span>        name   = DrivAer <span style=\"color: #008080; text-decoration-color: #008080; font-weight: bold\">5.</span>7M - <span style=\"color: #808000; text-decoration-color: #808000\">beta</span>=<span style=\"color: #008080; text-decoration-color: #008080; font-weight: bold\">10</span>                                                                 \n",
       "<span style=\"color: #7fbfbf; text-decoration-color: #7fbfbf\">           </span>        id     = case-<span style=\"color: #ffff00; text-decoration-color: #ffff00\">7dd45edc-3f33-41a9-8317-da68acfe5a0e</span>                                              \n",
       "<span style=\"color: #7fbfbf; text-decoration-color: #7fbfbf\">           </span>        status = pending                                                                                \n",
       "<span style=\"color: #7fbfbf; text-decoration-color: #7fbfbf\">           </span>                                                                                                        \n",
       "</pre>\n"
      ],
      "text/plain": [
       "\u001b[2;36m[14:05:10]\u001b[0m\u001b[2;36m \u001b[0m\u001b[36mINFO\u001b[0m: Successfully submitted:                                                                           \n",
       "\u001b[2;36m           \u001b[0m        type   = Case                                                                                   \n",
       "\u001b[2;36m           \u001b[0m        name   = DrivAer \u001b[1;36m5.\u001b[0m7M - \u001b[33mbeta\u001b[0m=\u001b[1;36m10\u001b[0m                                                                 \n",
       "\u001b[2;36m           \u001b[0m        id     = case-\u001b[93m7dd45edc-3f33-41a9-8317-da68acfe5a0e\u001b[0m                                              \n",
       "\u001b[2;36m           \u001b[0m        status = pending                                                                                \n",
       "\u001b[2;36m           \u001b[0m                                                                                                        \n"
      ]
     },
     "metadata": {},
     "output_type": "display_data"
    }
   ],
   "source": [
    "cases = []\n",
    "\n",
    "for beta in [0, 5, 10]:\n",
    "    params.operating_condition.beta = beta * fl.u.deg\n",
    "    case_new = project.run_case(params=params, name=f\"DrivAer 5.7M - beta={beta}\")\n",
    "    cases.append(case_new)"
   ]
  },
  {
   "cell_type": "markdown",
   "metadata": {},
   "source": [
    "## Postprocessing\n",
    "\n",
    "Once we have run the cases, setting up the post processing in the form of a report is going to be the next step."
   ]
  },
  {
   "cell_type": "markdown",
   "metadata": {},
   "source": [
    "Since the cases may still be running, we will make sure that they will finish before the report generation step by using `wait()`."
   ]
  },
  {
   "cell_type": "code",
   "execution_count": 8,
   "metadata": {},
   "outputs": [
    {
     "data": {
      "application/vnd.jupyter.widget-view+json": {
       "model_id": "d40fd7e4047046eca2199134826f8943",
       "version_major": 2,
       "version_minor": 0
      },
      "text/plain": [
       "Output()"
      ]
     },
     "metadata": {},
     "output_type": "display_data"
    },
    {
     "data": {
      "text/html": [
       "<pre style=\"white-space:pre;overflow-x:auto;line-height:normal;font-family:Menlo,'DejaVu Sans Mono',consolas,'Courier New',monospace\"></pre>\n"
      ],
      "text/plain": []
     },
     "metadata": {},
     "output_type": "display_data"
    },
    {
     "data": {
      "application/vnd.jupyter.widget-view+json": {
       "model_id": "15994a3a9f5149e89c2789426b2dc8a0",
       "version_major": 2,
       "version_minor": 0
      },
      "text/plain": [
       "Output()"
      ]
     },
     "metadata": {},
     "output_type": "display_data"
    },
    {
     "data": {
      "text/html": [
       "<pre style=\"white-space:pre;overflow-x:auto;line-height:normal;font-family:Menlo,'DejaVu Sans Mono',consolas,'Courier New',monospace\"></pre>\n"
      ],
      "text/plain": []
     },
     "metadata": {},
     "output_type": "display_data"
    },
    {
     "data": {
      "application/vnd.jupyter.widget-view+json": {
       "model_id": "056b415906a64cb7847eae25ff06afc9",
       "version_major": 2,
       "version_minor": 0
      },
      "text/plain": [
       "Output()"
      ]
     },
     "metadata": {},
     "output_type": "display_data"
    },
    {
     "data": {
      "text/html": [
       "<pre style=\"white-space:pre;overflow-x:auto;line-height:normal;font-family:Menlo,'DejaVu Sans Mono',consolas,'Courier New',monospace\"></pre>\n"
      ],
      "text/plain": []
     },
     "metadata": {},
     "output_type": "display_data"
    }
   ],
   "source": [
    "# wait until all cases finish running\n",
    "for case in cases:\n",
    "    case.wait()"
   ]
  },
  {
   "cell_type": "markdown",
   "metadata": {},
   "source": [
    "### Flow360 Report\n",
    "\n",
    "Report is a customizable document created using LaTeX that allows for consistent storage and presentation of obtained results.\n",
    "It contains three main ways of presenting data:\n",
    "- tabular data, e.g. case name, CD, CDA, CL\n",
    "- 2D chart, e.g. plot of total CD vs pseudo step\n",
    "- 3D chart, e.g. visualization of y+ distribution on the surfaces of the car\n",
    "Other than this base functionality, the report can be customized using additional options such as captions for charts and formatting for tables."
   ]
  },
  {
   "cell_type": "markdown",
   "metadata": {},
   "source": [
    "Because our simulation domain contains many boundaries that irrelevant from the perspective of postprocessing results around the car, we will exclude them from visulizations. This will ensure that when `exclude` is specified, only `blk-1/BODY`, `blk-1/wheel_rim` and `blk-1/wheel_tire` boundaries are going to be taken into account."
   ]
  },
  {
   "cell_type": "code",
   "execution_count": 9,
   "metadata": {},
   "outputs": [],
   "source": [
    "exclude = [\"blk-1/WT_ground_close\", \"blk-1/WT_ground_patch\"]\n",
    "size = \"5.7M\"\n",
    "\n",
    "exclude += freestream_surfaces + slip_wall_surfaces"
   ]
  },
  {
   "cell_type": "markdown",
   "metadata": {},
   "source": [
    "Some additional imports will be needed to create the report.\n",
    "\n",
    ">Note: Importing units (u) here is only for the sake of convenience."
   ]
  },
  {
   "cell_type": "code",
   "execution_count": null,
   "metadata": {},
   "outputs": [],
   "source": [
    "from flow360 import u\n",
    "from flow360.plugins.report.report import ReportTemplate\n",
    "from flow360.plugins.report.report_items import (\n",
    "    BottomCamera,\n",
    "    Chart2D,\n",
    "    Chart3D,\n",
    "    FrontCamera,\n",
    "    FrontLeftBottomCamera,\n",
    "    FrontLeftTopCamera,\n",
    "    Inputs,\n",
    "    LeftCamera,\n",
    "    RearCamera,\n",
    "    RearLeftTopCamera,\n",
    "    RearRightBottomCamera,\n",
    "    Settings,\n",
    "    Summary,\n",
    "    Table,\n",
    "    TopCamera,\n",
    ")\n",
    "from flow360.plugins.report.utils import (\n",
    "    Average,\n",
    "    DataItem,\n",
    "    Delta,\n",
    "    Expression,\n",
    "    Variable,\n",
    "    GetAttribute,\n",
    ")"
   ]
  },
  {
   "cell_type": "markdown",
   "metadata": {},
   "source": [
    "Let's position cameras based on predefined settings. These cameras will be used to take screenshots of our model."
   ]
  },
  {
   "cell_type": "code",
   "execution_count": 11,
   "metadata": {},
   "outputs": [],
   "source": [
    "top_camera = TopCamera(pan_target=(1.5, 0, 0), dimension=5, dimension_dir=\"width\")\n",
    "top_camera_slice = TopCamera(pan_target=(2.5, 0, 0), dimension=8, dimension_dir=\"width\")\n",
    "side_camera = LeftCamera(pan_target=(1.5, 0, 0), dimension=5, dimension_dir=\"width\")\n",
    "side_camera_slice = LeftCamera(pan_target=(2.5, 0, 1.5), dimension=8, dimension_dir=\"width\")\n",
    "rear_camera = RearCamera(dimension=2.5, dimension_dir=\"width\")\n",
    "front_camera = FrontCamera(dimension=2.5, dimension_dir=\"width\")\n",
    "bottom_camera = BottomCamera(pan_target=(1.5, 0, 0), dimension=5, dimension_dir=\"width\")\n",
    "front_left_bottom_camera = FrontLeftBottomCamera(\n",
    "    pan_target=(1.5, 0, 0), dimension=5, dimension_dir=\"width\"\n",
    ")\n",
    "rear_right_bottom_camera = RearRightBottomCamera(\n",
    "    pan_target=(1.5, 0, 0), dimension=6, dimension_dir=\"width\"\n",
    ")\n",
    "front_left_top_camera = FrontLeftTopCamera(\n",
    "    pan_target=(1.5, 0, 0), dimension=6, dimension_dir=\"width\"\n",
    ")\n",
    "rear_left_top_camera = RearLeftTopCamera(pan_target=(1.5, 0, 0), dimension=6, dimension_dir=\"width\")"
   ]
  },
  {
   "cell_type": "markdown",
   "metadata": {},
   "source": [
    "We can group those camera position to so that later, we simply use a predefined set instead of typing out each position every time."
   ]
  },
  {
   "cell_type": "code",
   "execution_count": 12,
   "metadata": {},
   "outputs": [],
   "source": [
    "cameras_geo = [\n",
    "    top_camera,\n",
    "    side_camera,\n",
    "    rear_camera,\n",
    "    bottom_camera,\n",
    "    front_left_bottom_camera,\n",
    "    rear_right_bottom_camera,\n",
    "]\n",
    "cameras_cp = [\n",
    "    front_camera,\n",
    "    front_left_top_camera,\n",
    "    side_camera,\n",
    "    rear_left_top_camera,\n",
    "    rear_camera,\n",
    "    bottom_camera,\n",
    "    front_left_bottom_camera,\n",
    "    rear_right_bottom_camera,\n",
    "]"
   ]
  },
  {
   "cell_type": "markdown",
   "metadata": {},
   "source": [
    "In order to better highlight the coefficient of pressure and its distribution on the surface of the car, we will assign specific limits for each camera position."
   ]
  },
  {
   "cell_type": "code",
   "execution_count": 13,
   "metadata": {},
   "outputs": [],
   "source": [
    "limits_cp = [(-1, 1), (-1, 1), (-1, 1), (-0.3, 0), (-0.3, 0), (-1, 1), (-1, 1), (-1, 1)]"
   ]
  },
  {
   "cell_type": "markdown",
   "metadata": {},
   "source": [
    "#### Tabular data\n",
    "\n",
    "We want to create a table containing some of the obtained results in our report. To do that we will create instances of `DataItem`, which can take in additional parameters other than the data itself. Field `operations` for example, allows to perform various operations on the data such as averaging, before including it in the report.\n",
    "\n",
    ">Note: These operations are simply mathematical expressions as can be visible below."
   ]
  },
  {
   "cell_type": "code",
   "execution_count": 14,
   "metadata": {},
   "outputs": [],
   "source": [
    "avg = Average(fraction=0.1)\n",
    "CD = DataItem(data=\"surface_forces/totalCD\", exclude=exclude, title=\"CD\", operations=avg)\n",
    "CL = DataItem(data=\"surface_forces/totalCL\", exclude=exclude, title=\"CL\", operations=avg)\n",
    "CDA = DataItem(\n",
    "    data=\"surface_forces\",\n",
    "    exclude=exclude,\n",
    "    title=\"CD*area\",\n",
    "    variables=[Variable(name=\"area\", data=\"params.reference_geometry.area\")],\n",
    "    operations=[Expression(expr=\"totalCD * area\"), avg],\n",
    ")\n",
    "CLf = DataItem(\n",
    "    data=\"surface_forces\",\n",
    "    exclude=exclude,\n",
    "    title=\"CLf\",\n",
    "    operations=[Expression(expr=\"1/2*totalCL + totalCMy\"), avg],\n",
    ")\n",
    "CLr = DataItem(\n",
    "    data=\"surface_forces\",\n",
    "    exclude=exclude,\n",
    "    title=\"CLr\",\n",
    "    operations=[Expression(expr=\"1/2*totalCL - totalCMy\"), avg],\n",
    ")\n",
    "CFy = DataItem(data=\"surface_forces/totalCFy\", exclude=exclude, title=\"CS\", operations=avg)\n",
    "OWL = DataItem(\n",
    "    data=\"volume_mesh/bounding_box\",\n",
    "    title=\"OWL\",\n",
    "    operations=[GetAttribute(attr_name=\"length\")],\n",
    "    exclude=exclude,\n",
    ")\n",
    "OWW = DataItem(\n",
    "    data=\"volume_mesh/bounding_box\",\n",
    "    title=\"OWW\",\n",
    "    operations=[GetAttribute(attr_name=\"width\")],\n",
    "    exclude=exclude,\n",
    ")\n",
    "OWH = DataItem(\n",
    "    data=\"volume_mesh/bounding_box\",\n",
    "    title=\"OWH\",\n",
    "    operations=[GetAttribute(attr_name=\"height\")],\n",
    "    exclude=exclude,\n",
    ")"
   ]
  },
  {
   "cell_type": "markdown",
   "metadata": {},
   "source": [
    "All of the previously created `DataItem`s can now be assembled into a list of statistical data alongside some additional entries that don't require special treatment, and can therefore be included by their path.\n",
    "\n",
    ">Note: The `Table`s are split into two to avoid overflowing through the page."
   ]
  },
  {
   "cell_type": "code",
   "execution_count": 15,
   "metadata": {},
   "outputs": [],
   "source": [
    "statistical_data_general = [\n",
    "    \"volume_mesh/stats/n_nodes\",\n",
    "    \"params/time_stepping/max_steps\",\n",
    "    OWL,\n",
    "    OWW,\n",
    "    OWH,\n",
    "]\n",
    "statistical_table_general = Table(\n",
    "    data=statistical_data_general,\n",
    "    section_title=\"General characteristics\",\n",
    "    formatter=[\n",
    "        (\n",
    "            None\n",
    "            if d\n",
    "            in [\n",
    "                \"params/reference_geometry/area\",\n",
    "                \"volume_mesh/stats/n_nodes\",\n",
    "                \"params/time_stepping/max_steps\",\n",
    "            ]\n",
    "            else \".4f\"\n",
    "        )\n",
    "        for d in statistical_data_general\n",
    "    ],\n",
    ")\n",
    "statistical_data_forces = [\n",
    "    \"params/reference_geometry/area\",\n",
    "    CD,\n",
    "    CDA,\n",
    "    Delta(data=CD),\n",
    "    CL,\n",
    "    CLf,\n",
    "    CLr,\n",
    "    CFy,\n",
    "]\n",
    "statistical_table_forces = Table(\n",
    "    data=statistical_data_forces,\n",
    "    section_title=\"Statistical data\",\n",
    "    formatter=[\n",
    "        (\n",
    "            None\n",
    "            if d\n",
    "            in [\n",
    "                \"params/reference_geometry/area\",\n",
    "                \"volume_mesh/stats/n_nodes\",\n",
    "                \"params/time_stepping/max_steps\",\n",
    "            ]\n",
    "            else \".4f\"\n",
    "        )\n",
    "        for d in statistical_data_forces\n",
    "    ],\n",
    ")"
   ]
  },
  {
   "cell_type": "markdown",
   "metadata": {},
   "source": [
    "#### Visualizations\n",
    "\n",
    "Here we will define separate lists of `Chart3D`, which are essentially 3D visualizations (you can think of them as screenshots of your model). These come with a variety of options that can be used to customize the way data is shown.\n",
    "\n",
    "One of the common things is that pretty much all of those charts contain either an exclude or include field. They provide control over what parts of the simulation domain will be excluded/included in the image.\n",
    "\n",
    ">Note: If you took a peek at the charts you may have noticed that list comprehension can used to iterate over camera positions."
   ]
  },
  {
   "cell_type": "code",
   "execution_count": 16,
   "metadata": {},
   "outputs": [],
   "source": [
    "forces = [\n",
    "    Chart2D(\n",
    "        x=\"x_slicing_force_distribution/X\",\n",
    "        y=\"x_slicing_force_distribution/totalCumulative_CD_Curve\",\n",
    "        fig_name=\"totalCumulative_CD_Curve\",\n",
    "        background=\"geometry\",\n",
    "        exclude=exclude,\n",
    "    ),\n",
    "    Chart2D(\n",
    "        x=\"surface_forces/pseudo_step\",\n",
    "        y=\"surface_forces/totalCD\",\n",
    "        section_title=\"Drag Coefficient\",\n",
    "        fig_name=\"cd_fig\",\n",
    "        exclude=exclude,\n",
    "        focus_x=(1 / 3, 1),\n",
    "    ),\n",
    "]\n",
    "geometry_screenshots = [\n",
    "    Chart3D(\n",
    "        section_title=\"Geometry\",\n",
    "        items_in_row=2,\n",
    "        force_new_page=True,\n",
    "        show=\"boundaries\",\n",
    "        camera=camera,\n",
    "        exclude=exclude,\n",
    "        fig_name=f\"geo_{i}\",\n",
    "    )\n",
    "    for i, camera in enumerate(cameras_geo)\n",
    "]\n",
    "cpt_screenshots = [\n",
    "    Chart3D(\n",
    "        section_title=\"Isosurface, Cpt=-1\",\n",
    "        items_in_row=2,\n",
    "        force_new_page=True,\n",
    "        show=\"isosurface\",\n",
    "        iso_field=\"Cpt\",\n",
    "        exclude=exclude,\n",
    "        camera=camera,\n",
    "    )\n",
    "    for camera in cameras_cp\n",
    "]\n",
    "cfvec_screenshots = [\n",
    "    Chart3D(\n",
    "        section_title=\"CfVec\",\n",
    "        items_in_row=2,\n",
    "        force_new_page=True,\n",
    "        show=\"boundaries\",\n",
    "        field=\"CfVec\",\n",
    "        mode=\"lic\",\n",
    "        limits=(1e-4, 10),\n",
    "        is_log_scale=True,\n",
    "        exclude=exclude,\n",
    "        camera=camera,\n",
    "    )\n",
    "    for camera in cameras_cp\n",
    "]\n",
    "y_slices_screenshots = [\n",
    "    Chart3D(\n",
    "        section_title=f\"Slice velocity y={y}\",\n",
    "        items_in_row=2,\n",
    "        force_new_page=True,\n",
    "        show=\"slices\",\n",
    "        include=[f\"slice_y_{name}\"],\n",
    "        field=\"velocity\",\n",
    "        limits=(0 * u.m / u.s, 50 * u.m / u.s),\n",
    "        camera=side_camera_slice,\n",
    "        fig_name=f\"slice_y_{name}\",\n",
    "    )\n",
    "    for name, y in zip([\"0\", \"0_2\", \"0_4\", \"0_6\", \"0_8\"], [0, 0.2, 0.4, 0.6, 0.8])\n",
    "]\n",
    "y_slices_lic_screenshots = [\n",
    "    Chart3D(\n",
    "        section_title=f\"Slice velocity LIC y={y}\",\n",
    "        items_in_row=2,\n",
    "        force_new_page=True,\n",
    "        show=\"slices\",\n",
    "        include=[f\"slice_y_{name}\"],\n",
    "        field=\"velocityVec\",\n",
    "        mode=\"lic\",\n",
    "        limits=(0 * u.m / u.s, 50 * u.m / u.s),\n",
    "        camera=side_camera_slice,\n",
    "        fig_name=f\"slice_y_vec_{name}\",\n",
    "    )\n",
    "    for name, y in zip([\"0\", \"0_2\", \"0_4\", \"0_6\", \"0_8\"], [0, 0.2, 0.4, 0.6, 0.8])\n",
    "]\n",
    "z_slices_screenshots = [\n",
    "    Chart3D(\n",
    "        section_title=f\"Slice velocity z={z}\",\n",
    "        items_in_row=2,\n",
    "        force_new_page=True,\n",
    "        show=\"slices\",\n",
    "        include=[f\"slice_z_{name}\"],\n",
    "        field=\"velocity\",\n",
    "        limits=(0 * u.m / u.s, 50 * u.m / u.s),\n",
    "        camera=top_camera_slice,\n",
    "        fig_name=f\"slice_z_{name}\",\n",
    "    )\n",
    "    for name, z in zip([\"neg0_2\", \"0\", \"0_2\", \"0_4\", \"0_6\", \"0_8\"], [-0.2, 0, 0.2, 0.4, 0.6, 0.8])\n",
    "]\n",
    "y_plus_screenshots = [\n",
    "    Chart3D(\n",
    "        section_title=\"y+\",\n",
    "        items_in_row=2,\n",
    "        show=\"boundaries\",\n",
    "        field=\"yPlus\",\n",
    "        exclude=exclude,\n",
    "        limits=(0, 5),\n",
    "        camera=camera,\n",
    "        fig_name=f\"yplus_{i}\",\n",
    "    )\n",
    "    for i, camera in enumerate([top_camera, bottom_camera])\n",
    "]\n",
    "cp_screenshots = [\n",
    "    Chart3D(\n",
    "        section_title=\"Cp\",\n",
    "        items_in_row=2,\n",
    "        show=\"boundaries\",\n",
    "        field=\"Cp\",\n",
    "        exclude=exclude,\n",
    "        limits=limits,\n",
    "        camera=camera,\n",
    "        fig_name=f\"cp_{i}\",\n",
    "    )\n",
    "    for i, (limits, camera) in enumerate(zip(limits_cp, cameras_cp))\n",
    "]\n",
    "cpx_screenshots = [\n",
    "    Chart3D(\n",
    "        section_title=\"Cpx\",\n",
    "        items_in_row=2,\n",
    "        show=\"boundaries\",\n",
    "        field=\"Cpx\",\n",
    "        exclude=exclude,\n",
    "        limits=(-0.3, 0.3),\n",
    "        camera=camera,\n",
    "        fig_name=f\"cpx_{i}\",\n",
    "    )\n",
    "    for i, camera in enumerate(cameras_cp)\n",
    "]\n",
    "wall_shear_screenshots = [\n",
    "    Chart3D(\n",
    "        section_title=\"Wall shear stress magnitude\",\n",
    "        items_in_row=2,\n",
    "        show=\"boundaries\",\n",
    "        field=\"wallShearMag\",\n",
    "        exclude=exclude,\n",
    "        limits=(0 * u.Pa, 5 * u.Pa),\n",
    "        camera=camera,\n",
    "        fig_name=f\"wallShearMag_{i}\",\n",
    "    )\n",
    "    for i, camera in enumerate(cameras_cp)\n",
    "]"
   ]
  },
  {
   "cell_type": "markdown",
   "metadata": {},
   "source": [
    "#### Report assembly\n",
    "\n",
    "Once we have all of the components of our report, we can create a `ReportTemplate` that will allow us to then generate the report itself. In our case, we will also add two `Chart2D`s related to drag coefficient."
   ]
  },
  {
   "cell_type": "code",
   "execution_count": 17,
   "metadata": {},
   "outputs": [],
   "source": [
    "report_template = ReportTemplate(\n",
    "    title=\"Aerodynamic analysis of DrivAer\",\n",
    "    items=[\n",
    "        Summary(),\n",
    "        Inputs(),\n",
    "        statistical_table_general,\n",
    "        statistical_table_forces,\n",
    "        *forces,\n",
    "        *geometry_screenshots,\n",
    "        *cp_screenshots,\n",
    "        *cpx_screenshots,\n",
    "        *cpt_screenshots,\n",
    "        *y_slices_screenshots,\n",
    "        *y_slices_lic_screenshots,\n",
    "        *z_slices_screenshots,\n",
    "        *y_plus_screenshots,\n",
    "        *wall_shear_screenshots,\n",
    "    ],\n",
    "    settings=Settings(dpi=150),\n",
    ")"
   ]
  },
  {
   "cell_type": "markdown",
   "metadata": {},
   "source": [
    "All that is left now is to create the report by calling the `create_in_cloud()` function, then downloading it. To ensure that the download will only start after the report has actually been generated, we use `wait()`."
   ]
  },
  {
   "cell_type": "code",
   "execution_count": null,
   "metadata": {},
   "outputs": [
    {
     "data": {
      "application/vnd.jupyter.widget-view+json": {
       "model_id": "87aaf851429a4b2ba59e36507a9dd1b8",
       "version_major": 2,
       "version_minor": 0
      },
      "text/plain": [
       "Output()"
      ]
     },
     "metadata": {},
     "output_type": "display_data"
    },
    {
     "data": {
      "text/html": [
       "<pre style=\"white-space:pre;overflow-x:auto;line-height:normal;font-family:Menlo,'DejaVu Sans Mono',consolas,'Courier New',monospace\"></pre>\n"
      ],
      "text/plain": []
     },
     "metadata": {},
     "output_type": "display_data"
    },
    {
     "data": {
      "application/vnd.jupyter.widget-view+json": {
       "model_id": "69c8a4f4849f48898412f0dc4755f344",
       "version_major": 2,
       "version_minor": 0
      },
      "text/plain": [
       "Output()"
      ]
     },
     "metadata": {},
     "output_type": "display_data"
    },
    {
     "data": {
      "text/html": [
       "<pre style=\"white-space:pre;overflow-x:auto;line-height:normal;font-family:Menlo,'DejaVu Sans Mono',consolas,'Courier New',monospace\"></pre>\n"
      ],
      "text/plain": []
     },
     "metadata": {},
     "output_type": "display_data"
    },
    {
     "data": {
      "text/html": [
       "<pre style=\"white-space:pre;overflow-x:auto;line-height:normal;font-family:Menlo,'DejaVu Sans Mono',consolas,'Courier New',monospace\"><span style=\"color: #7fbfbf; text-decoration-color: #7fbfbf\">[14:15:44] </span><span style=\"color: #008080; text-decoration-color: #008080\">INFO</span>: Saved to report.pdf                                                                               \n",
       "</pre>\n"
      ],
      "text/plain": [
       "\u001b[2;36m[14:15:44]\u001b[0m\u001b[2;36m \u001b[0m\u001b[36mINFO\u001b[0m: Saved to report.pdf                                                                               \n"
      ]
     },
     "metadata": {},
     "output_type": "display_data"
    },
    {
     "data": {
      "text/plain": [
       "'report.pdf'"
      ]
     },
     "execution_count": 18,
     "metadata": {},
     "output_type": "execute_result"
    }
   ],
   "source": [
    "report = report_template.create_in_cloud(\n",
    "    f\"{size}-{len(cases)}cases-slices-using-groups-Cpt, Cpx, wallShear, dpi=default\",\n",
    "    cases,\n",
    ")\n",
    "\n",
    "report.wait()\n",
    "report.download(\"report.pdf\")"
   ]
  }
 ],
 "metadata": {
  "kernelspec": {
   "display_name": "flow360-m20sMBMn-py3.11",
   "language": "python",
   "name": "python3"
  },
  "language_info": {
   "codemirror_mode": {
    "name": "ipython",
    "version": 3
   },
   "file_extension": ".py",
   "mimetype": "text/x-python",
   "name": "python",
   "nbconvert_exporter": "python",
   "pygments_lexer": "ipython3",
   "version": "3.11.9"
  }
 },
 "nbformat": 4,
 "nbformat_minor": 2
}
