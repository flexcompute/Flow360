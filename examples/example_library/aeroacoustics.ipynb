{
  "cells": [
    {
      "cell_type": "markdown",
      "metadata": {},
      "source": [
        "# Aeroacoustics\n",
        "\n",
        "In this notebook we showcase how to set up and run an aeroacoustic simulation for a quadcopter using the Flow360 Python API. The process involves creating a project, defining multiple simulation runs by forking cases, and retrieving aeroacoustic results."
      ]
    },
    {
      "cell_type": "markdown",
      "metadata": {},
      "source": [
        "## 1. Setup and Imports\n",
        "\n",
        "We begin by importing libraries and modules. `flow360` is the main package, and `pandas` is used for data handling of the results."
      ]
    },
    {
      "cell_type": "code",
      "execution_count": 1,
      "metadata": {},
      "outputs": [
        {
          "data": {
            "text/html": [
              "<pre style=\"white-space:pre;overflow-x:auto;line-height:normal;font-family:Menlo,'DejaVu Sans Mono',consolas,'Courier New',monospace\"></pre>\n"
            ],
            "text/plain": []
          },
          "metadata": {},
          "output_type": "display_data"
        },
        {
          "data": {
            "text/html": [
              "<pre style=\"white-space:pre;overflow-x:auto;line-height:normal;font-family:Menlo,'DejaVu Sans Mono',consolas,'Courier New',monospace\"></pre>\n"
            ],
            "text/plain": []
          },
          "metadata": {},
          "output_type": "display_data"
        }
      ],
      "source": [
        "import pandas as pd\n",
        "\n",
        "import flow360 as fl\n",
        "from flow360.examples import Quadcopter"
      ]
    },
    {
      "cell_type": "markdown",
      "metadata": {},
      "source": [
        "## 2. Project Creation\n",
        "\n",
        "A Flow360 `Project` is a container for simulation assets such as geometries, meshes and cases. Here, the project is initialized from a pre-existing volume mesh file."
      ]
    },
    {
      "cell_type": "code",
      "execution_count": 2,
      "metadata": {},
      "outputs": [
        {
          "data": {
            "text/html": [
              "<pre style=\"white-space:pre;overflow-x:auto;line-height:normal;font-family:Menlo,'DejaVu Sans Mono',consolas,'Courier New',monospace\"><span style=\"color: #7fbfbf; text-decoration-color: #7fbfbf\">[11:13:02] </span><span style=\"color: #008080; text-decoration-color: #008080\">INFO</span>: The file <span style=\"font-weight: bold\">(</span>quadcopter.cgns.zst<span style=\"font-weight: bold\">)</span> is being downloaded, please wait.                                  \n",
              "</pre>\n"
            ],
            "text/plain": [
              "\u001b[2;36m[11:13:02]\u001b[0m\u001b[2;36m \u001b[0m\u001b[36mINFO\u001b[0m: The file \u001b[1m(\u001b[0mquadcopter.cgns.zst\u001b[1m)\u001b[0m is being downloaded, please wait.                                  \n"
            ]
          },
          "metadata": {},
          "output_type": "display_data"
        },
        {
          "data": {
            "application/vnd.jupyter.widget-view+json": {
              "model_id": "4ecbc3a5412248b48d060cef6a4591f2",
              "version_major": 2,
              "version_minor": 0
            },
            "text/plain": [
              "Output()"
            ]
          },
          "metadata": {},
          "output_type": "display_data"
        },
        {
          "data": {
            "text/html": [
              "<pre style=\"white-space:pre;overflow-x:auto;line-height:normal;font-family:Menlo,'DejaVu Sans Mono',consolas,'Courier New',monospace\"></pre>\n"
            ],
            "text/plain": []
          },
          "metadata": {},
          "output_type": "display_data"
        },
        {
          "data": {
            "text/html": [
              "<pre style=\"white-space:pre;overflow-x:auto;line-height:normal;font-family:Menlo,'DejaVu Sans Mono',consolas,'Courier New',monospace\"><span style=\"color: #7fbfbf; text-decoration-color: #7fbfbf\">[11:13:20] </span><span style=\"color: #008080; text-decoration-color: #008080\">INFO</span>: VolumeMesh successfully submitted:                                                                \n",
              "<span style=\"color: #7fbfbf; text-decoration-color: #7fbfbf\">           </span>        type   = Volume Mesh                                                                            \n",
              "<span style=\"color: #7fbfbf; text-decoration-color: #7fbfbf\">           </span>        name   = Aeroacoustic results from Python                                                       \n",
              "<span style=\"color: #7fbfbf; text-decoration-color: #7fbfbf\">           </span>        id     = vm-<span style=\"color: #ffff00; text-decoration-color: #ffff00\">5b42dde6-4355-48e6-bfd1-210e6b980313</span>                                                \n",
              "<span style=\"color: #7fbfbf; text-decoration-color: #7fbfbf\">           </span>        status = uploaded                                                                               \n",
              "<span style=\"color: #7fbfbf; text-decoration-color: #7fbfbf\">           </span>                                                                                                        \n",
              "</pre>\n"
            ],
            "text/plain": [
              "\u001b[2;36m[11:13:20]\u001b[0m\u001b[2;36m \u001b[0m\u001b[36mINFO\u001b[0m: VolumeMesh successfully submitted:                                                                \n",
              "\u001b[2;36m           \u001b[0m        type   = Volume Mesh                                                                            \n",
              "\u001b[2;36m           \u001b[0m        name   = Aeroacoustic results from Python                                                       \n",
              "\u001b[2;36m           \u001b[0m        id     = vm-\u001b[93m5b42dde6-4355-48e6-bfd1-210e6b980313\u001b[0m                                                \n",
              "\u001b[2;36m           \u001b[0m        status = uploaded                                                                               \n",
              "\u001b[2;36m           \u001b[0m                                                                                                        \n"
            ]
          },
          "metadata": {},
          "output_type": "display_data"
        },
        {
          "data": {
            "application/vnd.jupyter.widget-view+json": {
              "model_id": "4841ac64fcc746b995962e09080e987b",
              "version_major": 2,
              "version_minor": 0
            },
            "text/plain": [
              "Output()"
            ]
          },
          "metadata": {},
          "output_type": "display_data"
        },
        {
          "data": {
            "text/html": [
              "<pre style=\"white-space:pre;overflow-x:auto;line-height:normal;font-family:Menlo,'DejaVu Sans Mono',consolas,'Courier New',monospace\"></pre>\n"
            ],
            "text/plain": []
          },
          "metadata": {},
          "output_type": "display_data"
        }
      ],
      "source": [
        "Quadcopter.get_files()\n",
        "\n",
        "project = fl.Project.from_volume_mesh(\n",
        "    Quadcopter.mesh_filename, name=\"Aeroacoustic results from Python\"\n",
        ")\n",
        "vm = project.volume_mesh"
      ]
    },
    {
      "cell_type": "markdown",
      "metadata": {},
      "source": [
        "## 3. Simulation Parameters\n",
        "\n",
        "This section defines the simulation parameters. This includes defining the rotating zones, unsteady time-stepping parameters, and the physical models for the simulation.\n"
      ]
    },
    {
      "cell_type": "markdown",
      "metadata": {},
      "source": [
        "### Rotation Zones\n",
        "\n",
        "Provided volume mesh conatins four separate rotating zones, one for each rotor. These zones need to have their center of rotation and axis specified. The rotational speed `omega` is also defined."
      ]
    },
    {
      "cell_type": "code",
      "execution_count": 3,
      "metadata": {},
      "outputs": [
        {
          "data": {
            "text/html": [
              "<pre style=\"white-space:pre;overflow-x:auto;line-height:normal;font-family:Menlo,'DejaVu Sans Mono',consolas,'Courier New',monospace\"><span style=\"color: #7fbfbf; text-decoration-color: #7fbfbf\">[11:13:56] </span><span style=\"color: #008080; text-decoration-color: #008080\">INFO</span>: using: SI unit system for unit inference.                                                         \n",
              "</pre>\n"
            ],
            "text/plain": [
              "\u001b[2;36m[11:13:56]\u001b[0m\u001b[2;36m \u001b[0m\u001b[36mINFO\u001b[0m: using: SI unit system for unit inference.                                                         \n"
            ]
          },
          "metadata": {},
          "output_type": "display_data"
        }
      ],
      "source": [
        "with fl.SI_unit_system:\n",
        "    rotation_zone_1 = vm[\"zone_r1\"]\n",
        "    rotation_zone_1.center = [-0.125, 0.125, 0.0055]\n",
        "    rotation_zone_1.axis = [0, 0, 1]\n",
        "\n",
        "    rotation_zone_2 = vm[\"zone_r2\"]\n",
        "    rotation_zone_2.center = [-0.125, -0.125, 0.0055]\n",
        "    rotation_zone_2.axis = [0, 0, -1]\n",
        "\n",
        "    rotation_zone_3 = vm[\"zone_r3\"]\n",
        "    rotation_zone_3.center = [0.125, -0.125, 0.0055]\n",
        "    rotation_zone_3.axis = [0, 0, 1]\n",
        "\n",
        "    rotation_zone_4 = vm[\"zone_r4\"]\n",
        "    rotation_zone_4.center = [0.125, 0.125, 0.0055]\n",
        "    rotation_zone_4.axis = [0, 0, -1]\n",
        "\n",
        "    omega = 6000 * fl.u.rpm"
      ]
    },
    {
      "cell_type": "markdown",
      "metadata": {},
      "source": [
        "### Time Stepping\n",
        "\n",
        "For this unsteady simulation, the time step size and total number of steps are determined based on a desired rotational increment per step and the total number of rotor revolutions to be simulated. We will start with 3° of rotation per time step for 5 revolutions."
      ]
    },
    {
      "cell_type": "code",
      "execution_count": 4,
      "metadata": {},
      "outputs": [
        {
          "data": {
            "text/html": [
              "<pre style=\"white-space:pre;overflow-x:auto;line-height:normal;font-family:Menlo,'DejaVu Sans Mono',consolas,'Courier New',monospace\"><span style=\"color: #7fbfbf; text-decoration-color: #7fbfbf\">           </span><span style=\"color: #008080; text-decoration-color: #008080\">INFO</span>: using: SI unit system for unit inference.                                                         \n",
              "</pre>\n"
            ],
            "text/plain": [
              "\u001b[2;36m          \u001b[0m\u001b[2;36m \u001b[0m\u001b[36mINFO\u001b[0m: using: SI unit system for unit inference.                                                         \n"
            ]
          },
          "metadata": {},
          "output_type": "display_data"
        }
      ],
      "source": [
        "with fl.SI_unit_system:\n",
        "    # Time step size is calculated based on a specified rotation per time step.\n",
        "    deg_per_time_step_0 = 3.0 * fl.u.deg\n",
        "    time_step_0 = deg_per_time_step_0 / omega.to(\"deg/s\")\n",
        "\n",
        "    # Total number of steps is determined by the required number of revolutions.\n",
        "    revolution_time_0 = 360 * fl.u.deg / omega.to(\"deg/s\")\n",
        "    steps_0 = int(5 * revolution_time_0 / time_step_0)\n"
      ]
    },
    {
      "cell_type": "markdown",
      "metadata": {},
      "source": [
        "### Simulation Parameters Object\n",
        "\n",
        "The `SimulationParams` object gathers all settings for a simulation run, including reference geometry dimensions, operating conditions, solver settings, and boundary conditions. Previously specified rotation zones will be assigned to a `Rotation` model."
      ]
    },
    {
      "cell_type": "code",
      "execution_count": 5,
      "metadata": {},
      "outputs": [
        {
          "data": {
            "text/html": [
              "<pre style=\"white-space:pre;overflow-x:auto;line-height:normal;font-family:Menlo,'DejaVu Sans Mono',consolas,'Courier New',monospace\"><span style=\"color: #7fbfbf; text-decoration-color: #7fbfbf\">[11:13:57] </span><span style=\"color: #008080; text-decoration-color: #008080\">INFO</span>: using: SI unit system for unit inference.                                                         \n",
              "</pre>\n"
            ],
            "text/plain": [
              "\u001b[2;36m[11:13:57]\u001b[0m\u001b[2;36m \u001b[0m\u001b[36mINFO\u001b[0m: using: SI unit system for unit inference.                                                         \n"
            ]
          },
          "metadata": {},
          "output_type": "display_data"
        }
      ],
      "source": [
        "with fl.SI_unit_system:\n",
        "    params = fl.SimulationParams(\n",
        "        reference_geometry=fl.ReferenceGeometry(\n",
        "            area=0.0447726728530549,\n",
        "            moment_center=[0, 0, 0],\n",
        "            moment_length=[0.11938, 0.11938, 0.11938],\n",
        "        ),\n",
        "        operating_condition=fl.AerospaceCondition.from_mach(\n",
        "            mach=0,\n",
        "            thermal_state=fl.ThermalState(temperature=293.15),\n",
        "            reference_mach=0.21868415800906676,\n",
        "        ),\n",
        "        time_stepping=fl.Unsteady(\n",
        "            step_size=time_step_0,\n",
        "            steps=steps_0,\n",
        "        ),\n",
        "        models=[\n",
        "            fl.Fluid(\n",
        "                navier_stokes_solver=fl.NavierStokesSolver(\n",
        "                    absolute_tolerance=1e-10,\n",
        "                    relative_tolerance=0.1,\n",
        "                    order_of_accuracy=1,\n",
        "                    linear_solver=fl.LinearSolver(max_iterations=30),\n",
        "                ),\n",
        "                turbulence_model_solver=fl.SpalartAllmaras(\n",
        "                    absolute_tolerance=1e-8,\n",
        "                    relative_tolerance=0.1,\n",
        "                    order_of_accuracy=1,\n",
        "                    linear_solver=fl.LinearSolver(max_iterations=20),\n",
        "                ),\n",
        "            ),\n",
        "            fl.Wall(\n",
        "                surfaces=[\n",
        "                    vm[\"zone_s/airframe\"],\n",
        "                    vm[\"zone_r1/blade1\"],\n",
        "                    vm[\"zone_r2/blade2\"],\n",
        "                    vm[\"zone_r3/blade3\"],\n",
        "                    vm[\"zone_r4/blade4\"],\n",
        "                ],\n",
        "            ),\n",
        "            fl.Freestream(surfaces=vm[\"zone_s/farfield\"]),\n",
        "            fl.Rotation(\n",
        "                name=\"Rotation\",\n",
        "                volumes=[rotation_zone_1, rotation_zone_2, rotation_zone_3, rotation_zone_4],\n",
        "                spec=fl.AngularVelocity(value=omega),\n",
        "            ),\n",
        "        ],\n",
        "    )"
      ]
    },
    {
      "cell_type": "markdown",
      "metadata": {},
      "source": [
        "## 4. Executing the Simulation and Forking\n",
        "\n",
        "The simulation is executed in stages. As can be seen based on the settings up above, our first run will be a coarse, first-order simulation in order to establish an initial flow field. Subsequent simulations are then 'forked' from previous ones. Forking a case initializes a new simulation from the results of an existing one, which can significantly reduce computational cost when iterating on simulation parameters. This is particularly useful for changing numerical schemes or introducing new outputs without restarting the simulation from scratch.\n",
        "\n",
        "> Note: First order run is not required here, but is used for demonstration purposes nonetheless."
      ]
    },
    {
      "cell_type": "code",
      "execution_count": 6,
      "metadata": {},
      "outputs": [
        {
          "data": {
            "text/html": [
              "<pre style=\"white-space:pre;overflow-x:auto;line-height:normal;font-family:Menlo,'DejaVu Sans Mono',consolas,'Courier New',monospace\"><span style=\"color: #7fbfbf; text-decoration-color: #7fbfbf\">           </span><span style=\"color: #008080; text-decoration-color: #008080\">INFO</span>: using: SI unit system for unit inference.                                                         \n",
              "</pre>\n"
            ],
            "text/plain": [
              "\u001b[2;36m          \u001b[0m\u001b[2;36m \u001b[0m\u001b[36mINFO\u001b[0m: using: SI unit system for unit inference.                                                         \n"
            ]
          },
          "metadata": {},
          "output_type": "display_data"
        },
        {
          "data": {
            "text/html": [
              "<pre style=\"white-space:pre;overflow-x:auto;line-height:normal;font-family:Menlo,'DejaVu Sans Mono',consolas,'Courier New',monospace\"><span style=\"color: #7fbfbf; text-decoration-color: #7fbfbf\">[11:13:59] </span><span style=\"color: #008080; text-decoration-color: #008080\">INFO</span>: Successfully submitted:                                                                           \n",
              "<span style=\"color: #7fbfbf; text-decoration-color: #7fbfbf\">           </span>        type   = Case                                                                                   \n",
              "<span style=\"color: #7fbfbf; text-decoration-color: #7fbfbf\">           </span>        name   = First order run                                                                        \n",
              "<span style=\"color: #7fbfbf; text-decoration-color: #7fbfbf\">           </span>        id     = case-<span style=\"color: #ffff00; text-decoration-color: #ffff00\">cefd971c-0ce1-438d-afd8-5dbf4bc5d6a6</span>                                              \n",
              "<span style=\"color: #7fbfbf; text-decoration-color: #7fbfbf\">           </span>        status = pending                                                                                \n",
              "<span style=\"color: #7fbfbf; text-decoration-color: #7fbfbf\">           </span>                                                                                                        \n",
              "</pre>\n"
            ],
            "text/plain": [
              "\u001b[2;36m[11:13:59]\u001b[0m\u001b[2;36m \u001b[0m\u001b[36mINFO\u001b[0m: Successfully submitted:                                                                           \n",
              "\u001b[2;36m           \u001b[0m        type   = Case                                                                                   \n",
              "\u001b[2;36m           \u001b[0m        name   = First order run                                                                        \n",
              "\u001b[2;36m           \u001b[0m        id     = case-\u001b[93mcefd971c-0ce1-438d-afd8-5dbf4bc5d6a6\u001b[0m                                              \n",
              "\u001b[2;36m           \u001b[0m        status = pending                                                                                \n",
              "\u001b[2;36m           \u001b[0m                                                                                                        \n"
            ]
          },
          "metadata": {},
          "output_type": "display_data"
        }
      ],
      "source": [
        "case = project.run_case(params, \"First order run\")"
      ]
    },
    {
      "cell_type": "markdown",
      "metadata": {},
      "source": [
        "### Second Run with Higher Order Accuracy\n",
        "\n",
        "For the second run, the order of accuracy for the solvers is increased to 2, and the time step is refined. The case is forked from the initial run to leverage the already computed flow field."
      ]
    },
    {
      "cell_type": "code",
      "execution_count": 7,
      "metadata": {},
      "outputs": [
        {
          "data": {
            "application/vnd.jupyter.widget-view+json": {
              "model_id": "3837e880bd754426a2c5075dc4f938e1",
              "version_major": 2,
              "version_minor": 0
            },
            "text/plain": [
              "Output()"
            ]
          },
          "metadata": {},
          "output_type": "display_data"
        },
        {
          "data": {
            "text/html": [
              "<pre style=\"white-space:pre;overflow-x:auto;line-height:normal;font-family:Menlo,'DejaVu Sans Mono',consolas,'Courier New',monospace\"></pre>\n"
            ],
            "text/plain": []
          },
          "metadata": {},
          "output_type": "display_data"
        },
        {
          "data": {
            "text/html": [
              "<pre style=\"white-space:pre;overflow-x:auto;line-height:normal;font-family:Menlo,'DejaVu Sans Mono',consolas,'Courier New',monospace\"><span style=\"color: #7fbfbf; text-decoration-color: #7fbfbf\">[11:14:01] </span><span style=\"color: #008080; text-decoration-color: #008080\">INFO</span>: using: SI unit system for unit inference.                                                         \n",
              "</pre>\n"
            ],
            "text/plain": [
              "\u001b[2;36m[11:14:01]\u001b[0m\u001b[2;36m \u001b[0m\u001b[36mINFO\u001b[0m: using: SI unit system for unit inference.                                                         \n"
            ]
          },
          "metadata": {},
          "output_type": "display_data"
        },
        {
          "data": {
            "text/html": [
              "<pre style=\"white-space:pre;overflow-x:auto;line-height:normal;font-family:Menlo,'DejaVu Sans Mono',consolas,'Courier New',monospace\"><span style=\"color: #7fbfbf; text-decoration-color: #7fbfbf\">           </span><span style=\"color: #008080; text-decoration-color: #008080\">INFO</span>: using: SI unit system for unit inference.                                                         \n",
              "</pre>\n"
            ],
            "text/plain": [
              "\u001b[2;36m          \u001b[0m\u001b[2;36m \u001b[0m\u001b[36mINFO\u001b[0m: using: SI unit system for unit inference.                                                         \n"
            ]
          },
          "metadata": {},
          "output_type": "display_data"
        },
        {
          "data": {
            "text/html": [
              "<pre style=\"white-space:pre;overflow-x:auto;line-height:normal;font-family:Menlo,'DejaVu Sans Mono',consolas,'Courier New',monospace\"><span style=\"color: #7fbfbf; text-decoration-color: #7fbfbf\">           </span><span style=\"color: #008080; text-decoration-color: #008080\">INFO</span>: using: SI unit system for unit inference.                                                         \n",
              "</pre>\n"
            ],
            "text/plain": [
              "\u001b[2;36m          \u001b[0m\u001b[2;36m \u001b[0m\u001b[36mINFO\u001b[0m: using: SI unit system for unit inference.                                                         \n"
            ]
          },
          "metadata": {},
          "output_type": "display_data"
        },
        {
          "data": {
            "text/html": [
              "<pre style=\"white-space:pre;overflow-x:auto;line-height:normal;font-family:Menlo,'DejaVu Sans Mono',consolas,'Courier New',monospace\"><span style=\"color: #7fbfbf; text-decoration-color: #7fbfbf\">[11:14:03] </span><span style=\"color: #008080; text-decoration-color: #008080\">INFO</span>: Successfully submitted:                                                                           \n",
              "<span style=\"color: #7fbfbf; text-decoration-color: #7fbfbf\">           </span>        type   = Case                                                                                   \n",
              "<span style=\"color: #7fbfbf; text-decoration-color: #7fbfbf\">           </span>        name   = Second order run                                                                       \n",
              "<span style=\"color: #7fbfbf; text-decoration-color: #7fbfbf\">           </span>        id     = case-<span style=\"color: #ffff00; text-decoration-color: #ffff00\">6a7312f0-be84-4e3c-a879-0bf7d68667a3</span>                                              \n",
              "<span style=\"color: #7fbfbf; text-decoration-color: #7fbfbf\">           </span>        status = pending                                                                                \n",
              "<span style=\"color: #7fbfbf; text-decoration-color: #7fbfbf\">           </span>                                                                                                        \n",
              "</pre>\n"
            ],
            "text/plain": [
              "\u001b[2;36m[11:14:03]\u001b[0m\u001b[2;36m \u001b[0m\u001b[36mINFO\u001b[0m: Successfully submitted:                                                                           \n",
              "\u001b[2;36m           \u001b[0m        type   = Case                                                                                   \n",
              "\u001b[2;36m           \u001b[0m        name   = Second order run                                                                       \n",
              "\u001b[2;36m           \u001b[0m        id     = case-\u001b[93m6a7312f0-be84-4e3c-a879-0bf7d68667a3\u001b[0m                                              \n",
              "\u001b[2;36m           \u001b[0m        status = pending                                                                                \n",
              "\u001b[2;36m           \u001b[0m                                                                                                        \n"
            ]
          },
          "metadata": {},
          "output_type": "display_data"
        }
      ],
      "source": [
        "# For the second run, parameters are updated directly on the params object of the completed case.\n",
        "# The order of accuracy is increased and the time step size is refined.\n",
        "case.params.models[0].navier_stokes_solver.order_of_accuracy = 2\n",
        "case.params.models[0].navier_stokes_solver.linear_solver = fl.LinearSolver(max_iterations=25)\n",
        "\n",
        "case.params.models[0].turbulence_model_solver.order_of_accuracy = 2\n",
        "case.params.models[0].turbulence_model_solver.linear_solver = fl.LinearSolver(max_iterations=25)\n",
        "\n",
        "with fl.SI_unit_system:\n",
        "    deg_per_time_step_1 = 0.404496 * fl.u.deg\n",
        "    time_step_1 = deg_per_time_step_1 / omega.to(\"deg/s\")\n",
        "\n",
        "    revolution_time_1 = 360 * fl.u.deg / omega.to(\"deg/s\")\n",
        "    steps_1 = int(5 * revolution_time_1 / time_step_1)\n",
        "\n",
        "    case.params.time_stepping.step_size = time_step_1\n",
        "    case.params.time_stepping.steps = steps_1\n",
        "\n",
        "case_fork_1 = project.run_case(case.params, \"Second order run\", fork_from=case)"
      ]
    },
    {
      "cell_type": "markdown",
      "metadata": {},
      "source": [
        "### Final Run with Aeroacoustic Outputs\n",
        "\n",
        "The final simulation is forked from the second-order run. `AeroAcousticOutput` is added to the simulation parameters to collect acoustic data from specified observer points."
      ]
    },
    {
      "cell_type": "code",
      "execution_count": 8,
      "metadata": {},
      "outputs": [
        {
          "data": {
            "application/vnd.jupyter.widget-view+json": {
              "model_id": "cbda43bb86ee4034993e34eb007f1dac",
              "version_major": 2,
              "version_minor": 0
            },
            "text/plain": [
              "Output()"
            ]
          },
          "metadata": {},
          "output_type": "display_data"
        },
        {
          "data": {
            "text/html": [
              "<pre style=\"white-space:pre;overflow-x:auto;line-height:normal;font-family:Menlo,'DejaVu Sans Mono',consolas,'Courier New',monospace\"></pre>\n"
            ],
            "text/plain": []
          },
          "metadata": {},
          "output_type": "display_data"
        },
        {
          "data": {
            "text/html": [
              "<pre style=\"white-space:pre;overflow-x:auto;line-height:normal;font-family:Menlo,'DejaVu Sans Mono',consolas,'Courier New',monospace\"><span style=\"color: #7fbfbf; text-decoration-color: #7fbfbf\">[11:14:05] </span><span style=\"color: #008080; text-decoration-color: #008080\">INFO</span>: using: SI unit system for unit inference.                                                         \n",
              "</pre>\n"
            ],
            "text/plain": [
              "\u001b[2;36m[11:14:05]\u001b[0m\u001b[2;36m \u001b[0m\u001b[36mINFO\u001b[0m: using: SI unit system for unit inference.                                                         \n"
            ]
          },
          "metadata": {},
          "output_type": "display_data"
        },
        {
          "data": {
            "text/html": [
              "<pre style=\"white-space:pre;overflow-x:auto;line-height:normal;font-family:Menlo,'DejaVu Sans Mono',consolas,'Courier New',monospace\"><span style=\"color: #7fbfbf; text-decoration-color: #7fbfbf\">           </span><span style=\"color: #008080; text-decoration-color: #008080\">INFO</span>: using: SI unit system for unit inference.                                                         \n",
              "</pre>\n"
            ],
            "text/plain": [
              "\u001b[2;36m          \u001b[0m\u001b[2;36m \u001b[0m\u001b[36mINFO\u001b[0m: using: SI unit system for unit inference.                                                         \n"
            ]
          },
          "metadata": {},
          "output_type": "display_data"
        },
        {
          "data": {
            "text/html": [
              "<pre style=\"white-space:pre;overflow-x:auto;line-height:normal;font-family:Menlo,'DejaVu Sans Mono',consolas,'Courier New',monospace\"><span style=\"color: #7fbfbf; text-decoration-color: #7fbfbf\">[11:14:07] </span><span style=\"color: #008080; text-decoration-color: #008080\">INFO</span>: Successfully submitted:                                                                           \n",
              "<span style=\"color: #7fbfbf; text-decoration-color: #7fbfbf\">           </span>        type   = Case                                                                                   \n",
              "<span style=\"color: #7fbfbf; text-decoration-color: #7fbfbf\">           </span>        name   = Final run                                                                              \n",
              "<span style=\"color: #7fbfbf; text-decoration-color: #7fbfbf\">           </span>        id     = case-<span style=\"color: #ffff00; text-decoration-color: #ffff00\">4342754a-91b3-48c7-9fac-d63804742bdf</span>                                              \n",
              "<span style=\"color: #7fbfbf; text-decoration-color: #7fbfbf\">           </span>        status = pending                                                                                \n",
              "<span style=\"color: #7fbfbf; text-decoration-color: #7fbfbf\">           </span>                                                                                                        \n",
              "</pre>\n"
            ],
            "text/plain": [
              "\u001b[2;36m[11:14:07]\u001b[0m\u001b[2;36m \u001b[0m\u001b[36mINFO\u001b[0m: Successfully submitted:                                                                           \n",
              "\u001b[2;36m           \u001b[0m        type   = Case                                                                                   \n",
              "\u001b[2;36m           \u001b[0m        name   = Final run                                                                              \n",
              "\u001b[2;36m           \u001b[0m        id     = case-\u001b[93m4342754a-91b3-48c7-9fac-d63804742bdf\u001b[0m                                              \n",
              "\u001b[2;36m           \u001b[0m        status = pending                                                                                \n",
              "\u001b[2;36m           \u001b[0m                                                                                                        \n"
            ]
          },
          "metadata": {},
          "output_type": "display_data"
        }
      ],
      "source": [
        "case_fork_1.params.outputs = [\n",
        "    fl.AeroAcousticOutput(\n",
        "        observers=[\n",
        "            fl.Observer(position=[0, -1.905, 0] * fl.u.m, group_name=\"1\"),\n",
        "            fl.Observer(position=[0, -1.7599905, -0.72901194] * fl.u.m, group_name=\"1\"),\n",
        "            fl.Observer(position=[0, -1.3470384, -1.3470384] * fl.u.m, group_name=\"1\"),\n",
        "            fl.Observer(position=[0.9525, -0.9525, -1.3470384] * fl.u.m, group_name=\"1\"),\n",
        "            fl.Observer(position=[1.3470384, 0, -1.3470384] * fl.u.m, group_name=\"1\"),\n",
        "            fl.Observer(position=[0, 0, 1.905] * fl.u.m, group_name=\"1\"),\n",
        "            fl.Observer(position=[0, -0.37164706, 1.8683959] * fl.u.m, group_name=\"1\"),\n",
        "            fl.Observer(position=[0, -1.868396, 0.37164707] * fl.u.m, group_name=\"1\"),\n",
        "            fl.Observer(position=[1.295, 0, -0.767] * fl.u.m, group_name=\"2\"),\n",
        "        ],\n",
        "        write_per_surface_output=True,\n",
        "    )\n",
        "]\n",
        "\n",
        "case_fork_2 = project.run_case(case_fork_1.params, \"Final run\", fork_from=case_fork_1)"
      ]
    },
    {
      "cell_type": "markdown",
      "metadata": {},
      "source": [
        "## 5. Retrieving Results\n",
        "\n",
        "After launching the simulations, the script waits for the final case to complete. The results, including the aeroacoustic data, can then be accessed and downloaded for analysis."
      ]
    },
    {
      "cell_type": "code",
      "execution_count": null,
      "metadata": {},
      "outputs": [
        {
          "data": {
            "application/vnd.jupyter.widget-view+json": {
              "model_id": "6b81bcb856b7497bae0daa2ff7c9be06",
              "version_major": 2,
              "version_minor": 0
            },
            "text/plain": [
              "Output()"
            ]
          },
          "metadata": {},
          "output_type": "display_data"
        }
      ],
      "source": [
        "case_fork_2.wait()"
      ]
    },
    {
      "cell_type": "code",
      "execution_count": null,
      "metadata": {},
      "outputs": [],
      "source": [
        "results = case_fork_2.results\n",
        "\n",
        "total_acoustics = results.aeroacoustics\n",
        "print(total_acoustics)"
      ]
    },
    {
      "cell_type": "markdown",
      "metadata": {},
      "source": [
        "### Surface-Specific Outputs\n",
        "\n",
        "In addition to the total aeroacoustic output from all surfaces, individual surface contributions can be downloaded. The following cell downloads the acoustic data for each of the four rotors and loads them into pandas DataFrames."
      ]
    },
    {
      "cell_type": "code",
      "execution_count": null,
      "metadata": {},
      "outputs": [],
      "source": [
        "# There are also surface specific aeroacoustic output files\n",
        "blade_1_acoustics = results.download_file_by_name(\n",
        "    \"results/surface_zone_r1_blade1_acoustics_v3.csv\", to_folder=\"aeroacoustic_results\"\n",
        ")\n",
        "blade_1_acoustics = pd.read_csv(blade_1_acoustics)\n",
        "print(\"Blade 1 acoustics:\")\n",
        "print(blade_1_acoustics)\n",
        "\n",
        "blade_2_acoustics = results.download_file_by_name(\n",
        "    \"results/surface_zone_r2_blade2_acoustics_v3.csv\", to_folder=\"aeroacoustic_results\"\n",
        ")\n",
        "blade_2_acoustics = pd.read_csv(blade_2_acoustics)\n",
        "print(\"\\nBlade 2 acoustics:\")\n",
        "print(blade_2_acoustics)\n",
        "\n",
        "blade_3_acoustics = results.download_file_by_name(\n",
        "    \"results/surface_zone_r3_blade3_acoustics_v3.csv\", to_folder=\"aeroacoustic_results\"\n",
        ")\n",
        "blade_3_acoustics = pd.read_csv(blade_3_acoustics)\n",
        "print(\"\\nBlade 3 acoustics:\")\n",
        "print(blade_3_acoustics)\n",
        "\n",
        "blade_4_acoustics = results.download_file_by_name(\n",
        "    \"results/surface_zone_r4_blade4_acoustics_v3.csv\", to_folder=\"aeroacoustic_results\"\n",
        ")\n",
        "blade_4_acoustics = pd.read_csv(blade_4_acoustics)\n",
        "print(\"\\nBlade 4 acoustics:\")\n",
        "print(blade_4_acoustics)"
      ]
    }
  ],
  "metadata": {
    "kernelspec": {
      "display_name": "flow360",
      "language": "python",
      "name": "python3"
    },
    "language_info": {
      "codemirror_mode": {
        "name": "ipython",
        "version": 3
      },
      "file_extension": ".py",
      "mimetype": "text/x-python",
      "name": "python",
      "nbconvert_exporter": "python",
      "pygments_lexer": "ipython3",
      "version": "3.11.13"
    }
  },
  "nbformat": 4,
  "nbformat_minor": 2
}
