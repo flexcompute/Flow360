{
 "cells": [
  {
   "cell_type": "markdown",
   "metadata": {},
   "source": [
    "# Time‑Accurate XV‑15 rotor\n",
    "\n",
    "This notebook walks through a **time‑accurate** setup for the XV‑15 using Flow360. The geometry consists of an isolated rotor from the XV-15 rotorcraft with a sliding interface around it. The farfield zone is cylindrical around the rotor and the rotating zone."
   ]
  },
  {
   "cell_type": "markdown",
   "metadata": {},
   "source": [
    "## 1. Create Project from Volume Mesh\n",
    "- Load Python libraries and Flow360 client. If you use environment variables or tokens, initialize them here so later API calls can authenticate. XV15 data files are loaded here.\n",
    "- Project is created from the volume mesh"
   ]
  },
  {
   "cell_type": "code",
   "execution_count": 1,
   "id": "881341eb",
   "metadata": {},
   "outputs": [
    {
     "data": {
      "text/html": [
       "<pre style=\"white-space:pre;overflow-x:auto;line-height:normal;font-family:Menlo,'DejaVu Sans Mono',consolas,'Courier New',monospace\"></pre>\n"
      ],
      "text/plain": []
     },
     "metadata": {},
     "output_type": "display_data"
    },
    {
     "data": {
      "text/html": [
       "<pre style=\"white-space:pre;overflow-x:auto;line-height:normal;font-family:Menlo,'DejaVu Sans Mono',consolas,'Courier New',monospace\"></pre>\n"
      ],
      "text/plain": []
     },
     "metadata": {},
     "output_type": "display_data"
    },
    {
     "data": {
      "application/vnd.jupyter.widget-view+json": {
       "model_id": "6f307641a0da4139bf997625b1c721d1",
       "version_major": 2,
       "version_minor": 0
      },
      "text/plain": [
       "Output()"
      ]
     },
     "metadata": {},
     "output_type": "display_data"
    },
    {
     "data": {
      "text/html": [
       "<pre style=\"white-space:pre;overflow-x:auto;line-height:normal;font-family:Menlo,'DejaVu Sans Mono',consolas,'Courier New',monospace\"></pre>\n"
      ],
      "text/plain": []
     },
     "metadata": {},
     "output_type": "display_data"
    },
    {
     "data": {
      "application/vnd.jupyter.widget-view+json": {
       "model_id": "c358b1e5c3ce4b2c9d5c3fbe113e12db",
       "version_major": 2,
       "version_minor": 0
      },
      "text/plain": [
       "Output()"
      ]
     },
     "metadata": {},
     "output_type": "display_data"
    },
    {
     "data": {
      "text/html": [
       "<pre style=\"white-space:pre;overflow-x:auto;line-height:normal;font-family:Menlo,'DejaVu Sans Mono',consolas,'Courier New',monospace\"></pre>\n"
      ],
      "text/plain": []
     },
     "metadata": {},
     "output_type": "display_data"
    },
    {
     "data": {
      "text/html": [
       "<pre style=\"white-space:pre;overflow-x:auto;line-height:normal;font-family:Menlo,'DejaVu Sans Mono',consolas,'Courier New',monospace\"><span style=\"color: #7fbfbf; text-decoration-color: #7fbfbf\">[11:43:38] </span><span style=\"color: #008080; text-decoration-color: #008080\">INFO</span>: VolumeMesh successfully submitted:                                                                \n",
       "<span style=\"color: #7fbfbf; text-decoration-color: #7fbfbf\">           </span>        type   = Volume Mesh                                                                            \n",
       "<span style=\"color: #7fbfbf; text-decoration-color: #7fbfbf\">           </span>        name   = Tutorial Time-accurate RANS CFD on XV-<span style=\"color: #008080; text-decoration-color: #008080; font-weight: bold\">15</span> from Python                                   \n",
       "<span style=\"color: #7fbfbf; text-decoration-color: #7fbfbf\">           </span>        id     = vm-<span style=\"color: #ffff00; text-decoration-color: #ffff00\">17feff08-2456-44cf-ad4d-3daa7e8a78d7</span>                                                \n",
       "<span style=\"color: #7fbfbf; text-decoration-color: #7fbfbf\">           </span>        status = uploaded                                                                               \n",
       "<span style=\"color: #7fbfbf; text-decoration-color: #7fbfbf\">           </span>                                                                                                        \n",
       "</pre>\n"
      ],
      "text/plain": [
       "\u001b[2;36m[11:43:38]\u001b[0m\u001b[2;36m \u001b[0m\u001b[36mINFO\u001b[0m: VolumeMesh successfully submitted:                                                                \n",
       "\u001b[2;36m           \u001b[0m        type   = Volume Mesh                                                                            \n",
       "\u001b[2;36m           \u001b[0m        name   = Tutorial Time-accurate RANS CFD on XV-\u001b[1;36m15\u001b[0m from Python                                   \n",
       "\u001b[2;36m           \u001b[0m        id     = vm-\u001b[93m17feff08-2456-44cf-ad4d-3daa7e8a78d7\u001b[0m                                                \n",
       "\u001b[2;36m           \u001b[0m        status = uploaded                                                                               \n",
       "\u001b[2;36m           \u001b[0m                                                                                                        \n"
      ]
     },
     "metadata": {},
     "output_type": "display_data"
    },
    {
     "data": {
      "application/vnd.jupyter.widget-view+json": {
       "model_id": "f744ee40beef4e46986cc47fd8c9568a",
       "version_major": 2,
       "version_minor": 0
      },
      "text/plain": [
       "Output()"
      ]
     },
     "metadata": {},
     "output_type": "display_data"
    },
    {
     "data": {
      "text/html": [
       "<pre style=\"white-space:pre;overflow-x:auto;line-height:normal;font-family:Menlo,'DejaVu Sans Mono',consolas,'Courier New',monospace\"></pre>\n"
      ],
      "text/plain": []
     },
     "metadata": {},
     "output_type": "display_data"
    }
   ],
   "source": [
    "import flow360 as fl\n",
    "from flow360.examples import TutorialRANSXv15\n",
    "\n",
    "TutorialRANSXv15.get_files()\n",
    "project = fl.Project.from_volume_mesh(\n",
    "    TutorialRANSXv15.mesh_filename,\n",
    "    name=\"Tutorial Time-accurate RANS CFD on XV-15 from Python\",\n",
    ")\n",
    "volume_mesh = project.volume_mesh"
   ]
  },
  {
   "cell_type": "markdown",
   "metadata": {},
   "source": [
    "## 2. Define rotating zone\n",
    "The following steps are needed to use a rotating zone:\n",
    "- The volume zone 'innerRotating' is defined with a center and axis of rotation.\n",
    "- The rotating model is defined with the rotating zone and the angular velocity."
   ]
  },
  {
   "cell_type": "code",
   "execution_count": 2,
   "id": "4867002c",
   "metadata": {},
   "outputs": [
    {
     "data": {
      "text/html": [
       "<pre style=\"white-space:pre;overflow-x:auto;line-height:normal;font-family:Menlo,'DejaVu Sans Mono',consolas,'Courier New',monospace\"><span style=\"color: #7fbfbf; text-decoration-color: #7fbfbf\">[11:43:56] </span><span style=\"color: #008080; text-decoration-color: #008080\">INFO</span>: using: SI unit system for unit inference.                                                         \n",
       "</pre>\n"
      ],
      "text/plain": [
       "\u001b[2;36m[11:43:56]\u001b[0m\u001b[2;36m \u001b[0m\u001b[36mINFO\u001b[0m: using: SI unit system for unit inference.                                                         \n"
      ]
     },
     "metadata": {},
     "output_type": "display_data"
    }
   ],
   "source": [
    "with fl.SI_unit_system:\n",
    "    rotation_zone = volume_mesh[\"innerRotating\"]\n",
    "    rotation_zone.center = (0, 0, 0) * fl.u.m\n",
    "    rotation_zone.axis = (0, 0, -1)\n",
    "\n",
    "    rotation_model = fl.Rotation(\n",
    "                    volumes=rotation_zone,\n",
    "                    spec=fl.AngularVelocity(600 * fl.u.rpm),\n",
    "                )"
   ]
  },
  {
   "cell_type": "markdown",
   "id": "f8f9e33b",
   "metadata": {},
   "source": [
    "## 3. Define time and DDES settings\n",
    "To use a time accurate numerical setup with sliding interface, the time settings need to be specified as unsteady."
   ]
  },
  {
   "cell_type": "code",
   "execution_count": 3,
   "id": "3e02b9cc",
   "metadata": {},
   "outputs": [],
   "source": [
    "time_model = fl.Unsteady(\n",
    "                max_pseudo_steps=35,\n",
    "                steps=600,\n",
    "                step_size=0.5 / 600 * fl.u.s,\n",
    "                CFL=fl.AdaptiveCFL(),\n",
    "            )"
   ]
  },
  {
   "cell_type": "markdown",
   "id": "165c6f28",
   "metadata": {},
   "source": [
    "## 4. DDES settings\n",
    "\n",
    "To use DDES, the turbulence model needs to be defined as such:"
   ]
  },
  {
   "cell_type": "code",
   "execution_count": 4,
   "id": "82d86f8b",
   "metadata": {},
   "outputs": [],
   "source": [
    "ddes_model =fl.SpalartAllmaras(\n",
    "    absolute_tolerance=1e-8,\n",
    "    linear_solver=fl.LinearSolver(max_iterations=25),\n",
    "    hybrid_model=fl.DetachedEddySimulation(shielding_function=\"DDES\"),\n",
    "    rotation_correction=True,\n",
    "    equation_evaluation_frequency=1,\n",
    ")"
   ]
  },
  {
   "cell_type": "markdown",
   "id": "e22bd4c0",
   "metadata": {},
   "source": [
    "## 5. Define SimulationParams\n",
    "- The simulation parameters are defined in the python class fl.SimulationParams()\n",
    "- Reference geometry for the non-dimensionalisation of the coefficients are specified\n",
    "- Operating conditions are specified in SI units"
   ]
  },
  {
   "cell_type": "code",
   "execution_count": 5,
   "metadata": {},
   "outputs": [
    {
     "data": {
      "text/html": [
       "<pre style=\"white-space:pre;overflow-x:auto;line-height:normal;font-family:Menlo,'DejaVu Sans Mono',consolas,'Courier New',monospace\"><span style=\"color: #7fbfbf; text-decoration-color: #7fbfbf\">           </span><span style=\"color: #008080; text-decoration-color: #008080\">INFO</span>: using: SI unit system for unit inference.                                                         \n",
       "</pre>\n"
      ],
      "text/plain": [
       "\u001b[2;36m          \u001b[0m\u001b[2;36m \u001b[0m\u001b[36mINFO\u001b[0m: using: SI unit system for unit inference.                                                         \n"
      ]
     },
     "metadata": {},
     "output_type": "display_data"
    }
   ],
   "source": [
    "with fl.SI_unit_system:\n",
    "    params = fl.SimulationParams(\n",
    "            reference_geometry=fl.ReferenceGeometry(\n",
    "                moment_center=(0, 0, 0),\n",
    "                moment_length=(3.81, 3.81, 3.81),\n",
    "                area=45.604,\n",
    "            ),\n",
    "            operating_condition=fl.AerospaceCondition(\n",
    "                velocity_magnitude=5,\n",
    "                alpha=-90 * fl.u.deg,\n",
    "                reference_velocity_magnitude=238.14,\n",
    "            ),\n",
    "            time_stepping=time_model,\n",
    "            models=[\n",
    "                fl.Fluid(\n",
    "                    navier_stokes_solver=fl.NavierStokesSolver(\n",
    "                        absolute_tolerance=1e-9,\n",
    "                        linear_solver=fl.LinearSolver(max_iterations=35),\n",
    "                        limit_velocity=True,\n",
    "                        limit_pressure_density=True,\n",
    "                    ),\n",
    "                    turbulence_model_solver=ddes_model\n",
    "                ),\n",
    "                fl.Freestream(surfaces=volume_mesh[\"farField/farField\"]),\n",
    "                fl.Wall(surfaces=volume_mesh[\"innerRotating/blade\"]),\n",
    "                rotation_model\n",
    "            ],\n",
    "            outputs=[\n",
    "                fl.VolumeOutput(\n",
    "                    output_fields=[\n",
    "                        \"primitiveVars\",\n",
    "                        \"T\",\n",
    "                        \"Cp\",\n",
    "                        \"Mach\",\n",
    "                        \"qcriterion\",\n",
    "                        \"VelocityRelative\",\n",
    "                    ],\n",
    "                ),\n",
    "                fl.SurfaceOutput(\n",
    "                    surfaces=volume_mesh[\"*\"],\n",
    "                    output_fields=[\n",
    "                        \"primitiveVars\",\n",
    "                        \"Cp\",\n",
    "                        \"Cf\",\n",
    "                        \"CfVec\",\n",
    "                        \"yPlus\",\n",
    "                        \"nodeForcesPerUnitArea\",\n",
    "                    ],\n",
    "                ),\n",
    "            ],\n",
    "        )"
   ]
  },
  {
   "cell_type": "markdown",
   "metadata": {},
   "source": [
    "## 6. Run Case"
   ]
  },
  {
   "cell_type": "code",
   "execution_count": 6,
   "metadata": {},
   "outputs": [
    {
     "data": {
      "text/html": [
       "<pre style=\"white-space:pre;overflow-x:auto;line-height:normal;font-family:Menlo,'DejaVu Sans Mono',consolas,'Courier New',monospace\"><span style=\"color: #7fbfbf; text-decoration-color: #7fbfbf\">           </span><span style=\"color: #008080; text-decoration-color: #008080\">INFO</span>: using: SI unit system for unit inference.                                                         \n",
       "</pre>\n"
      ],
      "text/plain": [
       "\u001b[2;36m          \u001b[0m\u001b[2;36m \u001b[0m\u001b[36mINFO\u001b[0m: using: SI unit system for unit inference.                                                         \n"
      ]
     },
     "metadata": {},
     "output_type": "display_data"
    },
    {
     "data": {
      "text/html": [
       "<pre style=\"white-space:pre;overflow-x:auto;line-height:normal;font-family:Menlo,'DejaVu Sans Mono',consolas,'Courier New',monospace\"><span style=\"color: #7fbfbf; text-decoration-color: #7fbfbf\">[11:43:58] </span><span style=\"color: #008080; text-decoration-color: #008080\">INFO</span>: Successfully submitted:                                                                           \n",
       "<span style=\"color: #7fbfbf; text-decoration-color: #7fbfbf\">           </span>        type   = Case                                                                                   \n",
       "<span style=\"color: #7fbfbf; text-decoration-color: #7fbfbf\">           </span>        name   = Tutorial Time-accurate DDES CFD on XV-<span style=\"color: #008080; text-decoration-color: #008080; font-weight: bold\">15</span> from Python                                   \n",
       "<span style=\"color: #7fbfbf; text-decoration-color: #7fbfbf\">           </span>        id     = case-<span style=\"color: #ffff00; text-decoration-color: #ffff00\">c08cf9d4-de2e-484b-ad4a-91fc9fb1a105</span>                                              \n",
       "<span style=\"color: #7fbfbf; text-decoration-color: #7fbfbf\">           </span>        status = pending                                                                                \n",
       "<span style=\"color: #7fbfbf; text-decoration-color: #7fbfbf\">           </span>                                                                                                        \n",
       "</pre>\n"
      ],
      "text/plain": [
       "\u001b[2;36m[11:43:58]\u001b[0m\u001b[2;36m \u001b[0m\u001b[36mINFO\u001b[0m: Successfully submitted:                                                                           \n",
       "\u001b[2;36m           \u001b[0m        type   = Case                                                                                   \n",
       "\u001b[2;36m           \u001b[0m        name   = Tutorial Time-accurate DDES CFD on XV-\u001b[1;36m15\u001b[0m from Python                                   \n",
       "\u001b[2;36m           \u001b[0m        id     = case-\u001b[93mc08cf9d4-de2e-484b-ad4a-91fc9fb1a105\u001b[0m                                              \n",
       "\u001b[2;36m           \u001b[0m        status = pending                                                                                \n",
       "\u001b[2;36m           \u001b[0m                                                                                                        \n"
      ]
     },
     "metadata": {},
     "output_type": "display_data"
    }
   ],
   "source": [
    "case = project.run_case(\n",
    "    params=params,\n",
    "    name=\"Tutorial Time-accurate DDES CFD on XV-15 from Python\",\n",
    ")"
   ]
  }
 ],
 "metadata": {
  "kernelspec": {
   "display_name": "flow360",
   "language": "python",
   "name": "python3"
  },
  "language_info": {
   "codemirror_mode": {
    "name": "ipython",
    "version": 3
   },
   "file_extension": ".py",
   "mimetype": "text/x-python",
   "name": "python",
   "nbconvert_exporter": "python",
   "pygments_lexer": "ipython3",
   "version": "3.11.13"
  }
 },
 "nbformat": 4,
 "nbformat_minor": 5
}
