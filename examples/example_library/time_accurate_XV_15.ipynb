{
 "cells": [
  {
   "cell_type": "markdown",
   "metadata": {},
   "source": [
    "# Time‑Accurate XV‑15 rotor\n",
    "\n",
    "This notebook walks through a **time‑accurate** setup for the XV‑15 using Flow360. The geometry consists of an isolated rotor from the XV-15 rotorcraft with a rotating zone around it. The farfield zone is cylindrical around the rotor and the rotating zone."
   ]
  },
  {
   "cell_type": "markdown",
   "metadata": {},
   "source": [
    "## 1. Create Project from Volume Mesh\n",
    "- Load Python libraries and Flow360 client. If you use environment variables or tokens, initialize them here so later API calls can authenticate. XV15 data files are loaded here.\n",
    "\n",
    "- Project is created from the volume mesh"
   ]
  },
  {
   "cell_type": "code",
   "execution_count": 1,
   "id": "881341eb",
   "metadata": {},
   "outputs": [
    {
     "data": {
      "text/html": [
       "<pre style=\"white-space:pre;overflow-x:auto;line-height:normal;font-family:Menlo,'DejaVu Sans Mono',consolas,'Courier New',monospace\"></pre>\n"
      ],
      "text/plain": []
     },
     "metadata": {},
     "output_type": "display_data"
    },
    {
     "data": {
      "text/html": [
       "<pre style=\"white-space:pre;overflow-x:auto;line-height:normal;font-family:Menlo,'DejaVu Sans Mono',consolas,'Courier New',monospace\"></pre>\n"
      ],
      "text/plain": []
     },
     "metadata": {},
     "output_type": "display_data"
    },
    {
     "data": {
      "text/html": [
       "<pre style=\"white-space:pre;overflow-x:auto;line-height:normal;font-family:Menlo,'DejaVu Sans Mono',consolas,'Courier New',monospace\">/home/marc/miniconda3/envs/flow360/lib/python3.11/site-packages/rich/live.py:231: UserWarning: install \"ipywidgets\"\n",
       "for Jupyter support\n",
       "  warnings.warn('install \"ipywidgets\" for Jupyter support')\n",
       "</pre>\n"
      ],
      "text/plain": [
       "/home/marc/miniconda3/envs/flow360/lib/python3.11/site-packages/rich/live.py:231: UserWarning: install \"ipywidgets\"\n",
       "for Jupyter support\n",
       "  warnings.warn('install \"ipywidgets\" for Jupyter support')\n"
      ]
     },
     "metadata": {},
     "output_type": "display_data"
    },
    {
     "data": {
      "text/html": [
       "<pre style=\"white-space:pre;overflow-x:auto;line-height:normal;font-family:Menlo,'DejaVu Sans Mono',consolas,'Courier New',monospace\"></pre>\n"
      ],
      "text/plain": []
     },
     "metadata": {},
     "output_type": "display_data"
    },
    {
     "data": {
      "text/html": [
       "<pre style=\"white-space:pre;overflow-x:auto;line-height:normal;font-family:Menlo,'DejaVu Sans Mono',consolas,'Courier New',monospace\"></pre>\n"
      ],
      "text/plain": []
     },
     "metadata": {},
     "output_type": "display_data"
    },
    {
     "data": {
      "text/html": [
       "<pre style=\"white-space:pre;overflow-x:auto;line-height:normal;font-family:Menlo,'DejaVu Sans Mono',consolas,'Courier New',monospace\"><span style=\"color: #7fbfbf; text-decoration-color: #7fbfbf\">[13:14:22] </span><span style=\"color: #008080; text-decoration-color: #008080\">INFO</span>: VolumeMesh successfully submitted:                                                                \n",
       "<span style=\"color: #7fbfbf; text-decoration-color: #7fbfbf\">           </span>        type   = Volume Mesh                                                                            \n",
       "<span style=\"color: #7fbfbf; text-decoration-color: #7fbfbf\">           </span>        name   = Tutorial Time-accurate RANS CFD on XV-<span style=\"color: #008080; text-decoration-color: #008080; font-weight: bold\">15</span> from Python                                   \n",
       "<span style=\"color: #7fbfbf; text-decoration-color: #7fbfbf\">           </span>        id     = vm-<span style=\"color: #ffff00; text-decoration-color: #ffff00\">0598497f-238d-4983-81f8-1174cfa3e960</span>                                                \n",
       "<span style=\"color: #7fbfbf; text-decoration-color: #7fbfbf\">           </span>        status = uploaded                                                                               \n",
       "<span style=\"color: #7fbfbf; text-decoration-color: #7fbfbf\">           </span>                                                                                                        \n",
       "</pre>\n"
      ],
      "text/plain": [
       "\u001b[2;36m[13:14:22]\u001b[0m\u001b[2;36m \u001b[0m\u001b[36mINFO\u001b[0m: VolumeMesh successfully submitted:                                                                \n",
       "\u001b[2;36m           \u001b[0m        type   = Volume Mesh                                                                            \n",
       "\u001b[2;36m           \u001b[0m        name   = Tutorial Time-accurate RANS CFD on XV-\u001b[1;36m15\u001b[0m from Python                                   \n",
       "\u001b[2;36m           \u001b[0m        id     = vm-\u001b[93m0598497f-238d-4983-81f8-1174cfa3e960\u001b[0m                                                \n",
       "\u001b[2;36m           \u001b[0m        status = uploaded                                                                               \n",
       "\u001b[2;36m           \u001b[0m                                                                                                        \n"
      ]
     },
     "metadata": {},
     "output_type": "display_data"
    },
    {
     "data": {
      "text/html": [
       "<pre style=\"white-space:pre;overflow-x:auto;line-height:normal;font-family:Menlo,'DejaVu Sans Mono',consolas,'Courier New',monospace\"></pre>\n"
      ],
      "text/plain": []
     },
     "metadata": {},
     "output_type": "display_data"
    }
   ],
   "source": [
    "import flow360 as fl\n",
    "from flow360.examples import TutorialRANSXv15\n",
    "\n",
    "TutorialRANSXv15.get_files()\n",
    "project = fl.Project.from_volume_mesh(\n",
    "    TutorialRANSXv15.mesh_filename,\n",
    "    name=\"Tutorial Time-accurate RANS CFD on XV-15 from Python\",\n",
    ")\n",
    "volume_mesh = project.volume_mesh"
   ]
  },
  {
   "cell_type": "markdown",
   "metadata": {},
   "source": [
    "## 2. Define rotating zone\n",
    "- Working in SI unit system\n",
    "- The volume zone 'innerRotating' is defined with a center and axis of rotation"
   ]
  },
  {
   "cell_type": "code",
   "execution_count": 2,
   "id": "f79d204f",
   "metadata": {},
   "outputs": [
    {
     "data": {
      "text/html": [
       "<pre style=\"white-space:pre;overflow-x:auto;line-height:normal;font-family:Menlo,'DejaVu Sans Mono',consolas,'Courier New',monospace\"><span style=\"color: #7fbfbf; text-decoration-color: #7fbfbf\">[13:15:04] </span><span style=\"color: #008080; text-decoration-color: #008080\">INFO</span>: using: SI unit system for unit inference.                                                         \n",
       "</pre>\n"
      ],
      "text/plain": [
       "\u001b[2;36m[13:15:04]\u001b[0m\u001b[2;36m \u001b[0m\u001b[36mINFO\u001b[0m: using: SI unit system for unit inference.                                                         \n"
      ]
     },
     "metadata": {},
     "output_type": "display_data"
    }
   ],
   "source": [
    "with fl.SI_unit_system:\n",
    "    rotation_zone = volume_mesh[\"innerRotating\"]\n",
    "    rotation_zone.center = (0, 0, 0) * fl.u.m\n",
    "    rotation_zone.axis = (0, 0, -1)"
   ]
  },
  {
   "cell_type": "markdown",
   "metadata": {},
   "source": [
    "## 3. Define SimulationParams\n",
    "- The simulation parameters are defined in the python class fl.SimulationParams()"
   ]
  },
  {
   "cell_type": "code",
   "execution_count": 3,
   "metadata": {},
   "outputs": [
    {
     "data": {
      "text/html": [
       "<pre style=\"white-space:pre;overflow-x:auto;line-height:normal;font-family:Menlo,'DejaVu Sans Mono',consolas,'Courier New',monospace\"><span style=\"color: #7fbfbf; text-decoration-color: #7fbfbf\">           </span><span style=\"color: #008080; text-decoration-color: #008080\">INFO</span>: using: SI unit system for unit inference.                                                         \n",
       "</pre>\n"
      ],
      "text/plain": [
       "\u001b[2;36m          \u001b[0m\u001b[2;36m \u001b[0m\u001b[36mINFO\u001b[0m: using: SI unit system for unit inference.                                                         \n"
      ]
     },
     "metadata": {},
     "output_type": "display_data"
    }
   ],
   "source": [
    "with fl.SI_unit_system:\n",
    "    params = fl.SimulationParams(\n",
    "            reference_geometry=fl.ReferenceGeometry(\n",
    "                moment_center=(0, 0, 0),\n",
    "                moment_length=(3.81, 3.81, 3.81),\n",
    "                area=45.604,\n",
    "            ),\n",
    "            operating_condition=fl.AerospaceCondition(\n",
    "                velocity_magnitude=5,\n",
    "                alpha=-90 * fl.u.deg,\n",
    "                reference_velocity_magnitude=238.14,\n",
    "            ),\n",
    "            time_stepping=fl.Unsteady(\n",
    "                max_pseudo_steps=35,\n",
    "                steps=600,\n",
    "                step_size=0.5 / 600 * fl.u.s,\n",
    "                CFL=fl.AdaptiveCFL(),\n",
    "            ),\n",
    "            outputs=[\n",
    "                fl.VolumeOutput(\n",
    "                    output_fields=[\n",
    "                        \"primitiveVars\",\n",
    "                        \"T\",\n",
    "                        \"Cp\",\n",
    "                        \"Mach\",\n",
    "                        \"qcriterion\",\n",
    "                        \"VelocityRelative\",\n",
    "                    ],\n",
    "                ),\n",
    "                fl.SurfaceOutput(\n",
    "                    surfaces=volume_mesh[\"*\"],\n",
    "                    output_fields=[\n",
    "                        \"primitiveVars\",\n",
    "                        \"Cp\",\n",
    "                        \"Cf\",\n",
    "                        \"CfVec\",\n",
    "                        \"yPlus\",\n",
    "                        \"nodeForcesPerUnitArea\",\n",
    "                    ],\n",
    "                ),\n",
    "            ],\n",
    "            models=[\n",
    "                fl.Fluid(\n",
    "                    navier_stokes_solver=fl.NavierStokesSolver(\n",
    "                        absolute_tolerance=1e-9,\n",
    "                        linear_solver=fl.LinearSolver(max_iterations=35),\n",
    "                        limit_velocity=True,\n",
    "                        limit_pressure_density=True,\n",
    "                    ),\n",
    "                    turbulence_model_solver=fl.SpalartAllmaras(\n",
    "                        absolute_tolerance=1e-8,\n",
    "                        linear_solver=fl.LinearSolver(max_iterations=25),\n",
    "                        hybrid_model=fl.DetachedEddySimulation(shielding_function=\"DDES\"),\n",
    "                        rotation_correction=True,\n",
    "                        equation_evaluation_frequency=1,\n",
    "                    ),\n",
    "                ),\n",
    "                fl.Rotation(\n",
    "                    volumes=rotation_zone,\n",
    "                    spec=fl.AngularVelocity(600 * fl.u.rpm),\n",
    "                ),\n",
    "                fl.Freestream(surfaces=volume_mesh[\"farField/farField\"]),\n",
    "                fl.Wall(surfaces=volume_mesh[\"innerRotating/blade\"]),\n",
    "            ],\n",
    "        )"
   ]
  },
  {
   "cell_type": "markdown",
   "metadata": {},
   "source": [
    "## 4. Run Case\n",
    "- Run the case in the defined project"
   ]
  },
  {
   "cell_type": "code",
   "execution_count": 4,
   "metadata": {},
   "outputs": [
    {
     "data": {
      "text/html": [
       "<pre style=\"white-space:pre;overflow-x:auto;line-height:normal;font-family:Menlo,'DejaVu Sans Mono',consolas,'Courier New',monospace\"><span style=\"color: #7fbfbf; text-decoration-color: #7fbfbf\">           </span><span style=\"color: #008080; text-decoration-color: #008080\">INFO</span>: using: SI unit system for unit inference.                                                         \n",
       "</pre>\n"
      ],
      "text/plain": [
       "\u001b[2;36m          \u001b[0m\u001b[2;36m \u001b[0m\u001b[36mINFO\u001b[0m: using: SI unit system for unit inference.                                                         \n"
      ]
     },
     "metadata": {},
     "output_type": "display_data"
    },
    {
     "data": {
      "text/html": [
       "<pre style=\"white-space:pre;overflow-x:auto;line-height:normal;font-family:Menlo,'DejaVu Sans Mono',consolas,'Courier New',monospace\"><span style=\"color: #7fbfbf; text-decoration-color: #7fbfbf\">[13:15:05] </span><span style=\"color: #008080; text-decoration-color: #008080\">INFO</span>: Successfully submitted:                                                                           \n",
       "<span style=\"color: #7fbfbf; text-decoration-color: #7fbfbf\">           </span>        type   = Case                                                                                   \n",
       "<span style=\"color: #7fbfbf; text-decoration-color: #7fbfbf\">           </span>        name   = Tutorial Time-accurate RANS CFD on XV-<span style=\"color: #008080; text-decoration-color: #008080; font-weight: bold\">15</span> from Python                                   \n",
       "<span style=\"color: #7fbfbf; text-decoration-color: #7fbfbf\">           </span>        id     = case-<span style=\"color: #ffff00; text-decoration-color: #ffff00\">297ba9d2-383c-4809-a8e0-9474a1295f63</span>                                              \n",
       "<span style=\"color: #7fbfbf; text-decoration-color: #7fbfbf\">           </span>        status = pending                                                                                \n",
       "<span style=\"color: #7fbfbf; text-decoration-color: #7fbfbf\">           </span>                                                                                                        \n",
       "</pre>\n"
      ],
      "text/plain": [
       "\u001b[2;36m[13:15:05]\u001b[0m\u001b[2;36m \u001b[0m\u001b[36mINFO\u001b[0m: Successfully submitted:                                                                           \n",
       "\u001b[2;36m           \u001b[0m        type   = Case                                                                                   \n",
       "\u001b[2;36m           \u001b[0m        name   = Tutorial Time-accurate RANS CFD on XV-\u001b[1;36m15\u001b[0m from Python                                   \n",
       "\u001b[2;36m           \u001b[0m        id     = case-\u001b[93m297ba9d2-383c-4809-a8e0-9474a1295f63\u001b[0m                                              \n",
       "\u001b[2;36m           \u001b[0m        status = pending                                                                                \n",
       "\u001b[2;36m           \u001b[0m                                                                                                        \n"
      ]
     },
     "metadata": {},
     "output_type": "display_data"
    },
    {
     "data": {
      "text/plain": [
       "CaseMeta(name='Tutorial Time-accurate RANS CFD on XV-15 from Python', user_id='user-4141c6e3-e862-46b3-bc99-4848739f70b6', id='case-297ba9d2-383c-4809-a8e0-9474a1295f63', parent_id=None, solver_version='release-25.6', status=<Flow360Status.PENDING: 'pending'>, tags=[], created_at=None, updated_at=datetime.datetime(2025, 9, 10, 17, 15, 5, 391000, tzinfo=datetime.timezone.utc), updated_by=None, deleted=False, cloud_path_prefix=None, case_mesh_id='vm-0598497f-238d-4983-81f8-1174cfa3e960', exampleResource=False, userEmail='marc.vives@flexcompute.com', estFlexUnit=0.0, caseParentId=None, caseFinishTime=None, parentFolderId='ROOT.FLOW360', restoreAt=None, estWorkUnit=0.0, elapsedTimeInSeconds=None, metadataProcessed=False, realFlexUnit=0.0, combinedStatus='pending', running=False, caseName='Tutorial Time-accurate RANS CFD on XV-15 from Python', retryCount=None, nodeSize=0, objectRefId='case-297ba9d2-383c-4809-a8e0-9474a1295f63', success=False, refId='vm-0598497f-238d-4983-81f8-1174cfa3e960', caseStartTime=None, storageClass='STANDARD', oriRealFlexUnit=None, storageStatus='STANDARD', meshSize=0, estimationDuration=0.0, unitSystem=None, userDataUploaded=None, clonedFrom=None, parentFolders=[{'userId': 'user-4141c6e3-e862-46b3-bc99-4848739f70b6', 'name': 'ROOT.FLOW360', 'tags': None, 'id': 'ROOT.FLOW360', 'parentFolderId': None, 'createdAt': '2025-06-02T14:34:12.317054Z', 'updatedAt': '2025-06-02T14:34:12.317054Z'}], casePriority=None, errorType=None, caseStatus='pending', internal=False, viewed=None, caseSubmitTime='2025-09-10T17:15:05.19Z', meshNodeSize=0, events=None, projectId='prj-e7ee008a-2255-422d-be78-a8614872a942', highPriority=False, computeCost=0.0, nodesInfo=None, storageSize=0, standardAge=None, currentProgress=None, caseTags=None, supportStorageSize=None)"
      ]
     },
     "execution_count": 4,
     "metadata": {},
     "output_type": "execute_result"
    }
   ],
   "source": [
    "project.run_case(\n",
    "    params=params,\n",
    "    name=\"Tutorial Time-accurate RANS CFD on XV-15 from Python\",\n",
    ")"
   ]
  }
 ],
 "metadata": {
  "kernelspec": {
   "display_name": "flow360",
   "language": "python",
   "name": "python3"
  },
  "language_info": {
   "codemirror_mode": {
    "name": "ipython",
    "version": 3
   },
   "file_extension": ".py",
   "mimetype": "text/x-python",
   "name": "python",
   "nbconvert_exporter": "python",
   "pygments_lexer": "ipython3",
   "version": "3.11.13"
  }
 },
 "nbformat": 4,
 "nbformat_minor": 5
}
