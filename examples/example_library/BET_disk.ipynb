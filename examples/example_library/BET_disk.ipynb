{
 "cells": [
  {
   "cell_type": "markdown",
   "metadata": {},
   "source": [
    "# BET Disk\n",
    "\n",
    "This notebook walks through a **BET Disk** setup for the XV‑15 using Flow360. It covers loading geometry, defining mesh refinements including axisymmetric refinement for the rotor region, creating a BET disk from an external xrotor file and additional input parameters, as well as submitting the case through the Project interface.\n",
    "\n",
    "The geometry consists of a BET disk in front of a wing."
   ]
  },
  {
   "cell_type": "markdown",
   "metadata": {},
   "source": [
    "## 1. Create Project from geometry\n",
    "- Load Python libraries and Flow360 client. If you use environment variables or tokens, initialize them here so later API calls can authenticate. BET disk files are loaded here.\n",
    "- Project is created from geometry CAD file"
   ]
  },
  {
   "cell_type": "code",
   "execution_count": 3,
   "id": "881341eb",
   "metadata": {},
   "outputs": [
    {
     "data": {
      "application/vnd.jupyter.widget-view+json": {
       "model_id": "d6a9dbaae5d14f93985ec5b91df04fd9",
       "version_major": 2,
       "version_minor": 0
      },
      "text/plain": [
       "Output()"
      ]
     },
     "metadata": {},
     "output_type": "display_data"
    },
    {
     "data": {
      "text/html": [
       "<pre style=\"white-space:pre;overflow-x:auto;line-height:normal;font-family:Menlo,'DejaVu Sans Mono',consolas,'Courier New',monospace\"></pre>\n"
      ],
      "text/plain": []
     },
     "metadata": {},
     "output_type": "display_data"
    },
    {
     "data": {
      "text/html": [
       "<pre style=\"white-space:pre;overflow-x:auto;line-height:normal;font-family:Menlo,'DejaVu Sans Mono',consolas,'Courier New',monospace\"><span style=\"color: #7fbfbf; text-decoration-color: #7fbfbf\">[16:17:21] </span><span style=\"color: #008080; text-decoration-color: #008080\">INFO</span>: Geometry successfully submitted:                                                                  \n",
       "<span style=\"color: #7fbfbf; text-decoration-color: #7fbfbf\">           </span>        type   = Geometry                                                                               \n",
       "<span style=\"color: #7fbfbf; text-decoration-color: #7fbfbf\">           </span>        name   = Tutorial BETDisk from Python                                                           \n",
       "<span style=\"color: #7fbfbf; text-decoration-color: #7fbfbf\">           </span>        id     = geo-<span style=\"color: #ffff00; text-decoration-color: #ffff00\">79a016dd-d687-4119-b39a-4a0916a8679e</span>                                               \n",
       "<span style=\"color: #7fbfbf; text-decoration-color: #7fbfbf\">           </span>        status = uploaded                                                                               \n",
       "<span style=\"color: #7fbfbf; text-decoration-color: #7fbfbf\">           </span>                                                                                                        \n",
       "</pre>\n"
      ],
      "text/plain": [
       "\u001b[2;36m[16:17:21]\u001b[0m\u001b[2;36m \u001b[0m\u001b[36mINFO\u001b[0m: Geometry successfully submitted:                                                                  \n",
       "\u001b[2;36m           \u001b[0m        type   = Geometry                                                                               \n",
       "\u001b[2;36m           \u001b[0m        name   = Tutorial BETDisk from Python                                                           \n",
       "\u001b[2;36m           \u001b[0m        id     = geo-\u001b[93m79a016dd-d687-4119-b39a-4a0916a8679e\u001b[0m                                               \n",
       "\u001b[2;36m           \u001b[0m        status = uploaded                                                                               \n",
       "\u001b[2;36m           \u001b[0m                                                                                                        \n"
      ]
     },
     "metadata": {},
     "output_type": "display_data"
    },
    {
     "data": {
      "text/html": [
       "<pre style=\"white-space:pre;overflow-x:auto;line-height:normal;font-family:Menlo,'DejaVu Sans Mono',consolas,'Courier New',monospace\"><span style=\"color: #7fbfbf; text-decoration-color: #7fbfbf\">           </span><span style=\"color: #008080; text-decoration-color: #008080\">INFO</span>: Waiting for geometry to be processed.                                                             \n",
       "</pre>\n"
      ],
      "text/plain": [
       "\u001b[2;36m          \u001b[0m\u001b[2;36m \u001b[0m\u001b[36mINFO\u001b[0m: Waiting for geometry to be processed.                                                             \n"
      ]
     },
     "metadata": {},
     "output_type": "display_data"
    },
    {
     "data": {
      "application/vnd.jupyter.widget-view+json": {
       "model_id": "c88020a1c2184d3f99879c0fc77aad2e",
       "version_major": 2,
       "version_minor": 0
      },
      "text/plain": [
       "Output()"
      ]
     },
     "metadata": {},
     "output_type": "display_data"
    },
    {
     "data": {
      "text/html": [
       "<pre style=\"white-space:pre;overflow-x:auto;line-height:normal;font-family:Menlo,'DejaVu Sans Mono',consolas,'Courier New',monospace\"></pre>\n"
      ],
      "text/plain": []
     },
     "metadata": {},
     "output_type": "display_data"
    },
    {
     "data": {
      "text/html": [
       "<pre style=\"white-space:pre;overflow-x:auto;line-height:normal;font-family:Menlo,'DejaVu Sans Mono',consolas,'Courier New',monospace\"><span style=\"color: #7fbfbf; text-decoration-color: #7fbfbf\">[16:18:06] </span><span style=\"color: #008080; text-decoration-color: #008080\">INFO</span>:  &gt;&gt; Available attribute tags for grouping **faces**:                                              \n",
       "</pre>\n"
      ],
      "text/plain": [
       "\u001b[2;36m[16:18:06]\u001b[0m\u001b[2;36m \u001b[0m\u001b[36mINFO\u001b[0m:  >> Available attribute tags for grouping **faces**:                                              \n"
      ]
     },
     "metadata": {},
     "output_type": "display_data"
    },
    {
     "data": {
      "text/html": [
       "<pre style=\"white-space:pre;overflow-x:auto;line-height:normal;font-family:Menlo,'DejaVu Sans Mono',consolas,'Courier New',monospace\"><span style=\"color: #7fbfbf; text-decoration-color: #7fbfbf\">           </span><span style=\"color: #008080; text-decoration-color: #008080\">INFO</span>:     &gt;&gt; Tag <span style=\"color: #008000; text-decoration-color: #008000\">'0'</span>: faceName. Grouping with this tag results in:                                      \n",
       "</pre>\n"
      ],
      "text/plain": [
       "\u001b[2;36m          \u001b[0m\u001b[2;36m \u001b[0m\u001b[36mINFO\u001b[0m:     >> Tag \u001b[32m'0'\u001b[0m: faceName. Grouping with this tag results in:                                      \n"
      ]
     },
     "metadata": {},
     "output_type": "display_data"
    },
    {
     "data": {
      "text/html": [
       "<pre style=\"white-space:pre;overflow-x:auto;line-height:normal;font-family:Menlo,'DejaVu Sans Mono',consolas,'Courier New',monospace\"><span style=\"color: #7fbfbf; text-decoration-color: #7fbfbf\">           </span><span style=\"color: #008080; text-decoration-color: #008080\">INFO</span>:         &gt;&gt; <span style=\"font-weight: bold\">[</span><span style=\"color: #008080; text-decoration-color: #008080; font-weight: bold\">0</span><span style=\"font-weight: bold\">]</span>: wing                                                                              \n",
       "</pre>\n"
      ],
      "text/plain": [
       "\u001b[2;36m          \u001b[0m\u001b[2;36m \u001b[0m\u001b[36mINFO\u001b[0m:         >> \u001b[1m[\u001b[0m\u001b[1;36m0\u001b[0m\u001b[1m]\u001b[0m: wing                                                                              \n"
      ]
     },
     "metadata": {},
     "output_type": "display_data"
    },
    {
     "data": {
      "text/html": [
       "<pre style=\"white-space:pre;overflow-x:auto;line-height:normal;font-family:Menlo,'DejaVu Sans Mono',consolas,'Courier New',monospace\"><span style=\"color: #7fbfbf; text-decoration-color: #7fbfbf\">           </span><span style=\"color: #008080; text-decoration-color: #008080\">INFO</span>:            IDs: <span style=\"font-weight: bold\">[</span><span style=\"color: #008000; text-decoration-color: #008000\">'body00001_face00001'</span>, <span style=\"color: #008000; text-decoration-color: #008000\">'body00001_face00002'</span>, <span style=\"color: #008000; text-decoration-color: #008000\">'body00001_face00003'</span>,             \n",
       "<span style=\"color: #7fbfbf; text-decoration-color: #7fbfbf\">           </span><span style=\"color: #008000; text-decoration-color: #008000\">'body00001_face00005'</span><span style=\"font-weight: bold\">]</span>                                                                                  \n",
       "</pre>\n"
      ],
      "text/plain": [
       "\u001b[2;36m          \u001b[0m\u001b[2;36m \u001b[0m\u001b[36mINFO\u001b[0m:            IDs: \u001b[1m[\u001b[0m\u001b[32m'body00001_face00001'\u001b[0m, \u001b[32m'body00001_face00002'\u001b[0m, \u001b[32m'body00001_face00003'\u001b[0m,             \n",
       "\u001b[2;36m           \u001b[0m\u001b[32m'body00001_face00005'\u001b[0m\u001b[1m]\u001b[0m                                                                                  \n"
      ]
     },
     "metadata": {},
     "output_type": "display_data"
    },
    {
     "data": {
      "text/html": [
       "<pre style=\"white-space:pre;overflow-x:auto;line-height:normal;font-family:Menlo,'DejaVu Sans Mono',consolas,'Courier New',monospace\"><span style=\"color: #7fbfbf; text-decoration-color: #7fbfbf\">           </span><span style=\"color: #008080; text-decoration-color: #008080\">INFO</span>:         &gt;&gt; <span style=\"font-weight: bold\">[</span><span style=\"color: #008080; text-decoration-color: #008080; font-weight: bold\">1</span><span style=\"font-weight: bold\">]</span>: tip                                                                               \n",
       "</pre>\n"
      ],
      "text/plain": [
       "\u001b[2;36m          \u001b[0m\u001b[2;36m \u001b[0m\u001b[36mINFO\u001b[0m:         >> \u001b[1m[\u001b[0m\u001b[1;36m1\u001b[0m\u001b[1m]\u001b[0m: tip                                                                               \n"
      ]
     },
     "metadata": {},
     "output_type": "display_data"
    },
    {
     "data": {
      "text/html": [
       "<pre style=\"white-space:pre;overflow-x:auto;line-height:normal;font-family:Menlo,'DejaVu Sans Mono',consolas,'Courier New',monospace\"><span style=\"color: #7fbfbf; text-decoration-color: #7fbfbf\">           </span><span style=\"color: #008080; text-decoration-color: #008080\">INFO</span>:            IDs: <span style=\"font-weight: bold\">[</span><span style=\"color: #008000; text-decoration-color: #008000\">'body00001_face00004'</span><span style=\"font-weight: bold\">]</span>                                                           \n",
       "</pre>\n"
      ],
      "text/plain": [
       "\u001b[2;36m          \u001b[0m\u001b[2;36m \u001b[0m\u001b[36mINFO\u001b[0m:            IDs: \u001b[1m[\u001b[0m\u001b[32m'body00001_face00004'\u001b[0m\u001b[1m]\u001b[0m                                                           \n"
      ]
     },
     "metadata": {},
     "output_type": "display_data"
    },
    {
     "data": {
      "text/html": [
       "<pre style=\"white-space:pre;overflow-x:auto;line-height:normal;font-family:Menlo,'DejaVu Sans Mono',consolas,'Courier New',monospace\"><span style=\"color: #7fbfbf; text-decoration-color: #7fbfbf\">           </span><span style=\"color: #008080; text-decoration-color: #008080\">INFO</span>:     &gt;&gt; Tag <span style=\"color: #008000; text-decoration-color: #008000\">'1'</span>: groupByBodyId. Grouping with this tag results in:                                 \n",
       "</pre>\n"
      ],
      "text/plain": [
       "\u001b[2;36m          \u001b[0m\u001b[2;36m \u001b[0m\u001b[36mINFO\u001b[0m:     >> Tag \u001b[32m'1'\u001b[0m: groupByBodyId. Grouping with this tag results in:                                 \n"
      ]
     },
     "metadata": {},
     "output_type": "display_data"
    },
    {
     "data": {
      "text/html": [
       "<pre style=\"white-space:pre;overflow-x:auto;line-height:normal;font-family:Menlo,'DejaVu Sans Mono',consolas,'Courier New',monospace\"><span style=\"color: #7fbfbf; text-decoration-color: #7fbfbf\">           </span><span style=\"color: #008080; text-decoration-color: #008080\">INFO</span>:         &gt;&gt; <span style=\"font-weight: bold\">[</span><span style=\"color: #008080; text-decoration-color: #008080; font-weight: bold\">0</span><span style=\"font-weight: bold\">]</span>: body00001                                                                         \n",
       "</pre>\n"
      ],
      "text/plain": [
       "\u001b[2;36m          \u001b[0m\u001b[2;36m \u001b[0m\u001b[36mINFO\u001b[0m:         >> \u001b[1m[\u001b[0m\u001b[1;36m0\u001b[0m\u001b[1m]\u001b[0m: body00001                                                                         \n"
      ]
     },
     "metadata": {},
     "output_type": "display_data"
    },
    {
     "data": {
      "text/html": [
       "<pre style=\"white-space:pre;overflow-x:auto;line-height:normal;font-family:Menlo,'DejaVu Sans Mono',consolas,'Courier New',monospace\"><span style=\"color: #7fbfbf; text-decoration-color: #7fbfbf\">           </span><span style=\"color: #008080; text-decoration-color: #008080\">INFO</span>:            IDs: <span style=\"font-weight: bold\">[</span><span style=\"color: #008000; text-decoration-color: #008000\">'body00001_face00001'</span>, <span style=\"color: #008000; text-decoration-color: #008000\">'body00001_face00002'</span>, <span style=\"color: #008000; text-decoration-color: #008000\">'body00001_face00003'</span>,             \n",
       "<span style=\"color: #7fbfbf; text-decoration-color: #7fbfbf\">           </span><span style=\"color: #008000; text-decoration-color: #008000\">'body00001_face00004'</span>, <span style=\"color: #008000; text-decoration-color: #008000\">'body00001_face00005'</span><span style=\"font-weight: bold\">]</span>                                                           \n",
       "</pre>\n"
      ],
      "text/plain": [
       "\u001b[2;36m          \u001b[0m\u001b[2;36m \u001b[0m\u001b[36mINFO\u001b[0m:            IDs: \u001b[1m[\u001b[0m\u001b[32m'body00001_face00001'\u001b[0m, \u001b[32m'body00001_face00002'\u001b[0m, \u001b[32m'body00001_face00003'\u001b[0m,             \n",
       "\u001b[2;36m           \u001b[0m\u001b[32m'body00001_face00004'\u001b[0m, \u001b[32m'body00001_face00005'\u001b[0m\u001b[1m]\u001b[0m                                                           \n"
      ]
     },
     "metadata": {},
     "output_type": "display_data"
    },
    {
     "data": {
      "text/html": [
       "<pre style=\"white-space:pre;overflow-x:auto;line-height:normal;font-family:Menlo,'DejaVu Sans Mono',consolas,'Courier New',monospace\"><span style=\"color: #7fbfbf; text-decoration-color: #7fbfbf\">           </span><span style=\"color: #008080; text-decoration-color: #008080\">INFO</span>:     &gt;&gt; Tag <span style=\"color: #008000; text-decoration-color: #008000\">'2'</span>: groupName. Grouping with this tag results in:                                     \n",
       "</pre>\n"
      ],
      "text/plain": [
       "\u001b[2;36m          \u001b[0m\u001b[2;36m \u001b[0m\u001b[36mINFO\u001b[0m:     >> Tag \u001b[32m'2'\u001b[0m: groupName. Grouping with this tag results in:                                     \n"
      ]
     },
     "metadata": {},
     "output_type": "display_data"
    },
    {
     "data": {
      "text/html": [
       "<pre style=\"white-space:pre;overflow-x:auto;line-height:normal;font-family:Menlo,'DejaVu Sans Mono',consolas,'Courier New',monospace\"><span style=\"color: #7fbfbf; text-decoration-color: #7fbfbf\">           </span><span style=\"color: #008080; text-decoration-color: #008080\">INFO</span>:         &gt;&gt; <span style=\"font-weight: bold\">[</span><span style=\"color: #008080; text-decoration-color: #008080; font-weight: bold\">0</span><span style=\"font-weight: bold\">]</span>: wing                                                                              \n",
       "</pre>\n"
      ],
      "text/plain": [
       "\u001b[2;36m          \u001b[0m\u001b[2;36m \u001b[0m\u001b[36mINFO\u001b[0m:         >> \u001b[1m[\u001b[0m\u001b[1;36m0\u001b[0m\u001b[1m]\u001b[0m: wing                                                                              \n"
      ]
     },
     "metadata": {},
     "output_type": "display_data"
    },
    {
     "data": {
      "text/html": [
       "<pre style=\"white-space:pre;overflow-x:auto;line-height:normal;font-family:Menlo,'DejaVu Sans Mono',consolas,'Courier New',monospace\"><span style=\"color: #7fbfbf; text-decoration-color: #7fbfbf\">           </span><span style=\"color: #008080; text-decoration-color: #008080\">INFO</span>:            IDs: <span style=\"font-weight: bold\">[</span><span style=\"color: #008000; text-decoration-color: #008000\">'body00001_face00001'</span>, <span style=\"color: #008000; text-decoration-color: #008000\">'body00001_face00002'</span>, <span style=\"color: #008000; text-decoration-color: #008000\">'body00001_face00003'</span>,             \n",
       "<span style=\"color: #7fbfbf; text-decoration-color: #7fbfbf\">           </span><span style=\"color: #008000; text-decoration-color: #008000\">'body00001_face00005'</span><span style=\"font-weight: bold\">]</span>                                                                                  \n",
       "</pre>\n"
      ],
      "text/plain": [
       "\u001b[2;36m          \u001b[0m\u001b[2;36m \u001b[0m\u001b[36mINFO\u001b[0m:            IDs: \u001b[1m[\u001b[0m\u001b[32m'body00001_face00001'\u001b[0m, \u001b[32m'body00001_face00002'\u001b[0m, \u001b[32m'body00001_face00003'\u001b[0m,             \n",
       "\u001b[2;36m           \u001b[0m\u001b[32m'body00001_face00005'\u001b[0m\u001b[1m]\u001b[0m                                                                                  \n"
      ]
     },
     "metadata": {},
     "output_type": "display_data"
    },
    {
     "data": {
      "text/html": [
       "<pre style=\"white-space:pre;overflow-x:auto;line-height:normal;font-family:Menlo,'DejaVu Sans Mono',consolas,'Courier New',monospace\"><span style=\"color: #7fbfbf; text-decoration-color: #7fbfbf\">           </span><span style=\"color: #008080; text-decoration-color: #008080\">INFO</span>:         &gt;&gt; <span style=\"font-weight: bold\">[</span><span style=\"color: #008080; text-decoration-color: #008080; font-weight: bold\">1</span><span style=\"font-weight: bold\">]</span>: tip                                                                               \n",
       "</pre>\n"
      ],
      "text/plain": [
       "\u001b[2;36m          \u001b[0m\u001b[2;36m \u001b[0m\u001b[36mINFO\u001b[0m:         >> \u001b[1m[\u001b[0m\u001b[1;36m1\u001b[0m\u001b[1m]\u001b[0m: tip                                                                               \n"
      ]
     },
     "metadata": {},
     "output_type": "display_data"
    },
    {
     "data": {
      "text/html": [
       "<pre style=\"white-space:pre;overflow-x:auto;line-height:normal;font-family:Menlo,'DejaVu Sans Mono',consolas,'Courier New',monospace\"><span style=\"color: #7fbfbf; text-decoration-color: #7fbfbf\">           </span><span style=\"color: #008080; text-decoration-color: #008080\">INFO</span>:            IDs: <span style=\"font-weight: bold\">[</span><span style=\"color: #008000; text-decoration-color: #008000\">'body00001_face00004'</span><span style=\"font-weight: bold\">]</span>                                                           \n",
       "</pre>\n"
      ],
      "text/plain": [
       "\u001b[2;36m          \u001b[0m\u001b[2;36m \u001b[0m\u001b[36mINFO\u001b[0m:            IDs: \u001b[1m[\u001b[0m\u001b[32m'body00001_face00004'\u001b[0m\u001b[1m]\u001b[0m                                                           \n"
      ]
     },
     "metadata": {},
     "output_type": "display_data"
    },
    {
     "data": {
      "text/html": [
       "<pre style=\"white-space:pre;overflow-x:auto;line-height:normal;font-family:Menlo,'DejaVu Sans Mono',consolas,'Courier New',monospace\"><span style=\"color: #7fbfbf; text-decoration-color: #7fbfbf\">           </span><span style=\"color: #008080; text-decoration-color: #008080\">INFO</span>:  &gt;&gt; Available attribute tags for grouping **edges**:                                              \n",
       "</pre>\n"
      ],
      "text/plain": [
       "\u001b[2;36m          \u001b[0m\u001b[2;36m \u001b[0m\u001b[36mINFO\u001b[0m:  >> Available attribute tags for grouping **edges**:                                              \n"
      ]
     },
     "metadata": {},
     "output_type": "display_data"
    },
    {
     "data": {
      "text/html": [
       "<pre style=\"white-space:pre;overflow-x:auto;line-height:normal;font-family:Menlo,'DejaVu Sans Mono',consolas,'Courier New',monospace\"><span style=\"color: #7fbfbf; text-decoration-color: #7fbfbf\">           </span><span style=\"color: #008080; text-decoration-color: #008080\">INFO</span>:     &gt;&gt; Tag <span style=\"color: #008000; text-decoration-color: #008000\">'0'</span>: edgeName. Grouping with this tag results in:                                      \n",
       "</pre>\n"
      ],
      "text/plain": [
       "\u001b[2;36m          \u001b[0m\u001b[2;36m \u001b[0m\u001b[36mINFO\u001b[0m:     >> Tag \u001b[32m'0'\u001b[0m: edgeName. Grouping with this tag results in:                                      \n"
      ]
     },
     "metadata": {},
     "output_type": "display_data"
    },
    {
     "data": {
      "text/html": [
       "<pre style=\"white-space:pre;overflow-x:auto;line-height:normal;font-family:Menlo,'DejaVu Sans Mono',consolas,'Courier New',monospace\"><span style=\"color: #7fbfbf; text-decoration-color: #7fbfbf\">           </span><span style=\"color: #008080; text-decoration-color: #008080\">INFO</span>:         &gt;&gt; <span style=\"font-weight: bold\">[</span><span style=\"color: #008080; text-decoration-color: #008080; font-weight: bold\">0</span><span style=\"font-weight: bold\">]</span>: wingTrailingEdge                                                                  \n",
       "</pre>\n"
      ],
      "text/plain": [
       "\u001b[2;36m          \u001b[0m\u001b[2;36m \u001b[0m\u001b[36mINFO\u001b[0m:         >> \u001b[1m[\u001b[0m\u001b[1;36m0\u001b[0m\u001b[1m]\u001b[0m: wingTrailingEdge                                                                  \n"
      ]
     },
     "metadata": {},
     "output_type": "display_data"
    },
    {
     "data": {
      "text/html": [
       "<pre style=\"white-space:pre;overflow-x:auto;line-height:normal;font-family:Menlo,'DejaVu Sans Mono',consolas,'Courier New',monospace\"><span style=\"color: #7fbfbf; text-decoration-color: #7fbfbf\">           </span><span style=\"color: #008080; text-decoration-color: #008080\">INFO</span>:            IDs: <span style=\"font-weight: bold\">[</span><span style=\"color: #008000; text-decoration-color: #008000\">'body00001_edge00001'</span>, <span style=\"color: #008000; text-decoration-color: #008000\">'body00001_edge00006'</span><span style=\"font-weight: bold\">]</span>                                    \n",
       "</pre>\n"
      ],
      "text/plain": [
       "\u001b[2;36m          \u001b[0m\u001b[2;36m \u001b[0m\u001b[36mINFO\u001b[0m:            IDs: \u001b[1m[\u001b[0m\u001b[32m'body00001_edge00001'\u001b[0m, \u001b[32m'body00001_edge00006'\u001b[0m\u001b[1m]\u001b[0m                                    \n"
      ]
     },
     "metadata": {},
     "output_type": "display_data"
    },
    {
     "data": {
      "text/html": [
       "<pre style=\"white-space:pre;overflow-x:auto;line-height:normal;font-family:Menlo,'DejaVu Sans Mono',consolas,'Courier New',monospace\"><span style=\"color: #7fbfbf; text-decoration-color: #7fbfbf\">           </span><span style=\"color: #008080; text-decoration-color: #008080\">INFO</span>:         &gt;&gt; <span style=\"font-weight: bold\">[</span><span style=\"color: #008080; text-decoration-color: #008080; font-weight: bold\">1</span><span style=\"font-weight: bold\">]</span>: tipAirfoilEdge                                                                    \n",
       "</pre>\n"
      ],
      "text/plain": [
       "\u001b[2;36m          \u001b[0m\u001b[2;36m \u001b[0m\u001b[36mINFO\u001b[0m:         >> \u001b[1m[\u001b[0m\u001b[1;36m1\u001b[0m\u001b[1m]\u001b[0m: tipAirfoilEdge                                                                    \n"
      ]
     },
     "metadata": {},
     "output_type": "display_data"
    },
    {
     "data": {
      "text/html": [
       "<pre style=\"white-space:pre;overflow-x:auto;line-height:normal;font-family:Menlo,'DejaVu Sans Mono',consolas,'Courier New',monospace\"><span style=\"color: #7fbfbf; text-decoration-color: #7fbfbf\">           </span><span style=\"color: #008080; text-decoration-color: #008080\">INFO</span>:            IDs: <span style=\"font-weight: bold\">[</span><span style=\"color: #008000; text-decoration-color: #008000\">'body00001_edge00002'</span>, <span style=\"color: #008000; text-decoration-color: #008000\">'body00001_edge00005'</span>, <span style=\"color: #008000; text-decoration-color: #008000\">'body00001_edge00008'</span>,             \n",
       "<span style=\"color: #7fbfbf; text-decoration-color: #7fbfbf\">           </span><span style=\"color: #008000; text-decoration-color: #008000\">'body00001_edge00010'</span><span style=\"font-weight: bold\">]</span>                                                                                  \n",
       "</pre>\n"
      ],
      "text/plain": [
       "\u001b[2;36m          \u001b[0m\u001b[2;36m \u001b[0m\u001b[36mINFO\u001b[0m:            IDs: \u001b[1m[\u001b[0m\u001b[32m'body00001_edge00002'\u001b[0m, \u001b[32m'body00001_edge00005'\u001b[0m, \u001b[32m'body00001_edge00008'\u001b[0m,             \n",
       "\u001b[2;36m           \u001b[0m\u001b[32m'body00001_edge00010'\u001b[0m\u001b[1m]\u001b[0m                                                                                  \n"
      ]
     },
     "metadata": {},
     "output_type": "display_data"
    },
    {
     "data": {
      "text/html": [
       "<pre style=\"white-space:pre;overflow-x:auto;line-height:normal;font-family:Menlo,'DejaVu Sans Mono',consolas,'Courier New',monospace\"><span style=\"color: #7fbfbf; text-decoration-color: #7fbfbf\">           </span><span style=\"color: #008080; text-decoration-color: #008080\">INFO</span>:         &gt;&gt; <span style=\"font-weight: bold\">[</span><span style=\"color: #008080; text-decoration-color: #008080; font-weight: bold\">2</span><span style=\"font-weight: bold\">]</span>: wingLeadingEdge                                                                   \n",
       "</pre>\n"
      ],
      "text/plain": [
       "\u001b[2;36m          \u001b[0m\u001b[2;36m \u001b[0m\u001b[36mINFO\u001b[0m:         >> \u001b[1m[\u001b[0m\u001b[1;36m2\u001b[0m\u001b[1m]\u001b[0m: wingLeadingEdge                                                                   \n"
      ]
     },
     "metadata": {},
     "output_type": "display_data"
    },
    {
     "data": {
      "text/html": [
       "<pre style=\"white-space:pre;overflow-x:auto;line-height:normal;font-family:Menlo,'DejaVu Sans Mono',consolas,'Courier New',monospace\"><span style=\"color: #7fbfbf; text-decoration-color: #7fbfbf\">           </span><span style=\"color: #008080; text-decoration-color: #008080\">INFO</span>:            IDs: <span style=\"font-weight: bold\">[</span><span style=\"color: #008000; text-decoration-color: #008000\">'body00001_edge00003'</span><span style=\"font-weight: bold\">]</span>                                                           \n",
       "</pre>\n"
      ],
      "text/plain": [
       "\u001b[2;36m          \u001b[0m\u001b[2;36m \u001b[0m\u001b[36mINFO\u001b[0m:            IDs: \u001b[1m[\u001b[0m\u001b[32m'body00001_edge00003'\u001b[0m\u001b[1m]\u001b[0m                                                           \n"
      ]
     },
     "metadata": {},
     "output_type": "display_data"
    },
    {
     "data": {
      "text/html": [
       "<pre style=\"white-space:pre;overflow-x:auto;line-height:normal;font-family:Menlo,'DejaVu Sans Mono',consolas,'Courier New',monospace\"><span style=\"color: #7fbfbf; text-decoration-color: #7fbfbf\">           </span><span style=\"color: #008080; text-decoration-color: #008080\">INFO</span>:         &gt;&gt; <span style=\"font-weight: bold\">[</span><span style=\"color: #008080; text-decoration-color: #008080; font-weight: bold\">3</span><span style=\"font-weight: bold\">]</span>: rootAirfoilEdge                                                                   \n",
       "</pre>\n"
      ],
      "text/plain": [
       "\u001b[2;36m          \u001b[0m\u001b[2;36m \u001b[0m\u001b[36mINFO\u001b[0m:         >> \u001b[1m[\u001b[0m\u001b[1;36m3\u001b[0m\u001b[1m]\u001b[0m: rootAirfoilEdge                                                                   \n"
      ]
     },
     "metadata": {},
     "output_type": "display_data"
    },
    {
     "data": {
      "text/html": [
       "<pre style=\"white-space:pre;overflow-x:auto;line-height:normal;font-family:Menlo,'DejaVu Sans Mono',consolas,'Courier New',monospace\"><span style=\"color: #7fbfbf; text-decoration-color: #7fbfbf\">           </span><span style=\"color: #008080; text-decoration-color: #008080\">INFO</span>:            IDs: <span style=\"font-weight: bold\">[</span><span style=\"color: #008000; text-decoration-color: #008000\">'body00001_edge00004'</span>, <span style=\"color: #008000; text-decoration-color: #008000\">'body00001_edge00007'</span>, <span style=\"color: #008000; text-decoration-color: #008000\">'body00001_edge00011'</span><span style=\"font-weight: bold\">]</span>             \n",
       "</pre>\n"
      ],
      "text/plain": [
       "\u001b[2;36m          \u001b[0m\u001b[2;36m \u001b[0m\u001b[36mINFO\u001b[0m:            IDs: \u001b[1m[\u001b[0m\u001b[32m'body00001_edge00004'\u001b[0m, \u001b[32m'body00001_edge00007'\u001b[0m, \u001b[32m'body00001_edge00011'\u001b[0m\u001b[1m]\u001b[0m             \n"
      ]
     },
     "metadata": {},
     "output_type": "display_data"
    },
    {
     "data": {
      "text/html": [
       "<pre style=\"white-space:pre;overflow-x:auto;line-height:normal;font-family:Menlo,'DejaVu Sans Mono',consolas,'Courier New',monospace\"><span style=\"color: #7fbfbf; text-decoration-color: #7fbfbf\">           </span><span style=\"color: #008080; text-decoration-color: #008080\">INFO</span>:  &gt;&gt; Available attribute tags for grouping **bodies**:                                             \n",
       "</pre>\n"
      ],
      "text/plain": [
       "\u001b[2;36m          \u001b[0m\u001b[2;36m \u001b[0m\u001b[36mINFO\u001b[0m:  >> Available attribute tags for grouping **bodies**:                                             \n"
      ]
     },
     "metadata": {},
     "output_type": "display_data"
    },
    {
     "data": {
      "text/html": [
       "<pre style=\"white-space:pre;overflow-x:auto;line-height:normal;font-family:Menlo,'DejaVu Sans Mono',consolas,'Courier New',monospace\"><span style=\"color: #7fbfbf; text-decoration-color: #7fbfbf\">           </span><span style=\"color: #008080; text-decoration-color: #008080\">INFO</span>:     &gt;&gt; Tag <span style=\"color: #008000; text-decoration-color: #008000\">'1'</span>: groupByFile. Grouping with this tag results in:                                   \n",
       "</pre>\n"
      ],
      "text/plain": [
       "\u001b[2;36m          \u001b[0m\u001b[2;36m \u001b[0m\u001b[36mINFO\u001b[0m:     >> Tag \u001b[32m'1'\u001b[0m: groupByFile. Grouping with this tag results in:                                   \n"
      ]
     },
     "metadata": {},
     "output_type": "display_data"
    },
    {
     "data": {
      "text/html": [
       "<pre style=\"white-space:pre;overflow-x:auto;line-height:normal;font-family:Menlo,'DejaVu Sans Mono',consolas,'Courier New',monospace\"><span style=\"color: #7fbfbf; text-decoration-color: #7fbfbf\">           </span><span style=\"color: #008080; text-decoration-color: #008080\">INFO</span>:         &gt;&gt; <span style=\"font-weight: bold\">[</span><span style=\"color: #008080; text-decoration-color: #008080; font-weight: bold\">0</span><span style=\"font-weight: bold\">]</span>: BET_tutorial_wing.csm                                                             \n",
       "</pre>\n"
      ],
      "text/plain": [
       "\u001b[2;36m          \u001b[0m\u001b[2;36m \u001b[0m\u001b[36mINFO\u001b[0m:         >> \u001b[1m[\u001b[0m\u001b[1;36m0\u001b[0m\u001b[1m]\u001b[0m: BET_tutorial_wing.csm                                                             \n"
      ]
     },
     "metadata": {},
     "output_type": "display_data"
    },
    {
     "data": {
      "text/html": [
       "<pre style=\"white-space:pre;overflow-x:auto;line-height:normal;font-family:Menlo,'DejaVu Sans Mono',consolas,'Courier New',monospace\"><span style=\"color: #7fbfbf; text-decoration-color: #7fbfbf\">           </span><span style=\"color: #008080; text-decoration-color: #008080\">INFO</span>:            IDs: <span style=\"font-weight: bold\">[</span><span style=\"color: #008000; text-decoration-color: #008000\">'body00001'</span><span style=\"font-weight: bold\">]</span>                                                                     \n",
       "</pre>\n"
      ],
      "text/plain": [
       "\u001b[2;36m          \u001b[0m\u001b[2;36m \u001b[0m\u001b[36mINFO\u001b[0m:            IDs: \u001b[1m[\u001b[0m\u001b[32m'body00001'\u001b[0m\u001b[1m]\u001b[0m                                                                     \n"
      ]
     },
     "metadata": {},
     "output_type": "display_data"
    }
   ],
   "source": [
    "import flow360 as fl\n",
    "from flow360.examples import TutorialBETDisk\n",
    "\n",
    "TutorialBETDisk.get_files()\n",
    "\n",
    "project = fl.Project.from_geometry(TutorialBETDisk.geometry, name=\"Tutorial BETDisk from Python\")\n",
    "geometry = project.geometry\n",
    "\n",
    "# show face and edge groupings\n",
    "geometry.show_available_groupings(verbose_mode=True)\n",
    "geometry.group_faces_by_tag(\"faceName\")\n",
    "geometry.group_edges_by_tag(\"edgeName\")"
   ]
  },
  {
   "cell_type": "markdown",
   "id": "cc17cacc",
   "metadata": {},
   "source": [
    "## 2. Define BET disk refinements\n",
    "We want to apply an axisymmetric refinement around the BET disk. To do so, we first define a cylinder volume zone and then we define the axisymmetric refinement in that cylinder. It is recommended to use a larger size for the BET disk axisymmetric refinement than the actual rotor, see the documentation theory for further reading."
   ]
  },
  {
   "cell_type": "code",
   "execution_count": 4,
   "id": "768e09f4",
   "metadata": {},
   "outputs": [
    {
     "data": {
      "text/html": [
       "<pre style=\"white-space:pre;overflow-x:auto;line-height:normal;font-family:Menlo,'DejaVu Sans Mono',consolas,'Courier New',monospace\"><span style=\"color: #7fbfbf; text-decoration-color: #7fbfbf\">           </span><span style=\"color: #008080; text-decoration-color: #008080\">INFO</span>: using: SI unit system for unit inference.                                                         \n",
       "</pre>\n"
      ],
      "text/plain": [
       "\u001b[2;36m          \u001b[0m\u001b[2;36m \u001b[0m\u001b[36mINFO\u001b[0m: using: SI unit system for unit inference.                                                         \n"
      ]
     },
     "metadata": {},
     "output_type": "display_data"
    }
   ],
   "source": [
    "with fl.SI_unit_system:\n",
    "    cylinder1 = fl.Cylinder(\n",
    "            name=\"cylinder1\",\n",
    "            axis=[1, 0, 0],\n",
    "            center=[-2.0, 5.0, 0],\n",
    "            outer_radius=4.0,\n",
    "            height=0.6,\n",
    "        )\n",
    "\n",
    "    bet_disk_refinement = fl.AxisymmetricRefinement(\n",
    "            name=\"BET_Disk\",\n",
    "            spacing_axial=0.02,\n",
    "            spacing_radial=0.03,\n",
    "            spacing_circumferential=0.06,\n",
    "            entities=cylinder1,\n",
    "        )"
   ]
  },
  {
   "cell_type": "markdown",
   "id": "8206b22c",
   "metadata": {},
   "source": [
    "## 3. Define meshing parameters\n",
    "The global meshing parameters are defined with an automatic farfield and additional uniform refinement cylinders. We use the BET disk refinement inside the refinement list."
   ]
  },
  {
   "cell_type": "code",
   "execution_count": 5,
   "id": "f79d204f",
   "metadata": {},
   "outputs": [
    {
     "data": {
      "text/html": [
       "<pre style=\"white-space:pre;overflow-x:auto;line-height:normal;font-family:Menlo,'DejaVu Sans Mono',consolas,'Courier New',monospace\"><span style=\"color: #7fbfbf; text-decoration-color: #7fbfbf\">           </span><span style=\"color: #008080; text-decoration-color: #008080\">INFO</span>: using: SI unit system for unit inference.                                                         \n",
       "</pre>\n"
      ],
      "text/plain": [
       "\u001b[2;36m          \u001b[0m\u001b[2;36m \u001b[0m\u001b[36mINFO\u001b[0m: using: SI unit system for unit inference.                                                         \n"
      ]
     },
     "metadata": {},
     "output_type": "display_data"
    }
   ],
   "source": [
    "with fl.SI_unit_system:\n",
    "    cylinder2 = fl.Cylinder(\n",
    "        name=\"cylinder2\",\n",
    "        axis=[1, 0, 0],\n",
    "        center=[0, 5, 0],\n",
    "        outer_radius=4.1,\n",
    "        height=5,\n",
    "    )\n",
    "    farfield = fl.AutomatedFarfield()\n",
    "    meshing_params=fl.MeshingParams(\n",
    "        defaults=fl.MeshingDefaults(\n",
    "            surface_edge_growth_rate=1.2,\n",
    "            surface_max_edge_length=0.5,\n",
    "            curvature_resolution_angle=30 * fl.u.deg,\n",
    "            boundary_layer_growth_rate=1.15,\n",
    "            boundary_layer_first_layer_thickness=1e-06,\n",
    "        ),\n",
    "        volume_zones=[farfield],\n",
    "        refinements=[\n",
    "            bet_disk_refinement,\n",
    "            fl.UniformRefinement(name=\"cylinder_refinement\", spacing=0.1, entities=[cylinder2]),\n",
    "            fl.SurfaceRefinement(\n",
    "                name=\"tip\",\n",
    "                max_edge_length=0.01,\n",
    "                faces=[\n",
    "                    geometry[\"tip\"],\n",
    "                ],\n",
    "            ),\n",
    "            fl.SurfaceEdgeRefinement(\n",
    "                name=\"aniso\",\n",
    "                method=fl.HeightBasedRefinement(value=0.0003),\n",
    "                edges=[\n",
    "                    geometry[\"wingTrailingEdge\"],\n",
    "                    geometry[\"wingLeadingEdge\"],\n",
    "                ],\n",
    "            ),\n",
    "            fl.SurfaceEdgeRefinement(\n",
    "                name=\"projectAnisoSpacing\",\n",
    "                method=fl.ProjectAnisoSpacing(),\n",
    "                edges=[\n",
    "                    geometry[\"rootAirfoilEdge\"],\n",
    "                    geometry[\"tipAirfoilEdge\"],\n",
    "                ],\n",
    "            ),\n",
    "        ],\n",
    "    )"
   ]
  },
  {
   "cell_type": "markdown",
   "metadata": {},
   "source": [
    "## 3. Define BET disk model\n",
    "The BET disk model is defined from an xrotor file and is applied to the volume zone named 'bet_cylinder' consisiting of an approximation of the rotor disk. In this volume zone, the model will be applied."
   ]
  },
  {
   "cell_type": "code",
   "execution_count": 6,
   "id": "7c693ae9",
   "metadata": {},
   "outputs": [
    {
     "data": {
      "text/html": [
       "<pre style=\"white-space:pre;overflow-x:auto;line-height:normal;font-family:Menlo,'DejaVu Sans Mono',consolas,'Courier New',monospace\"><span style=\"color: #7fbfbf; text-decoration-color: #7fbfbf\">           </span><span style=\"color: #008080; text-decoration-color: #008080\">INFO</span>: using: SI unit system for unit inference.                                                         \n",
       "</pre>\n"
      ],
      "text/plain": [
       "\u001b[2;36m          \u001b[0m\u001b[2;36m \u001b[0m\u001b[36mINFO\u001b[0m: using: SI unit system for unit inference.                                                         \n"
      ]
     },
     "metadata": {},
     "output_type": "display_data"
    }
   ],
   "source": [
    "with fl.SI_unit_system:\n",
    "    bet_cylinder = fl.Cylinder(\n",
    "        name=\"bet_cylinder\",\n",
    "        axis=[-1, 0, 0],\n",
    "        center=[-2.0, 5.0, 0.0],\n",
    "        outer_radius=3.81,\n",
    "        height=0.4572,\n",
    "    )\n",
    "\n",
    "    bet_disk_model = fl.BETDisk.from_xrotor(\n",
    "        file=fl.XROTORFile(file_path=TutorialBETDisk.extra[\"xrotor\"]),\n",
    "        rotation_direction_rule=\"rightHand\",\n",
    "        omega=460 * fl.u.rpm,\n",
    "        chord_ref=0.3556,\n",
    "        n_loading_nodes=20,\n",
    "        entities=bet_cylinder,\n",
    "        angle_unit=fl.u.deg,\n",
    "        length_unit=fl.u.m,\n",
    "    )"
   ]
  },
  {
   "cell_type": "markdown",
   "id": "53735fa8",
   "metadata": {},
   "source": [
    "## 4. Define SimulationParams\n",
    "- The simulation parameters are defined in the python class fl.SimulationParams()\n",
    "- BET disk is run if steady state time settings are used."
   ]
  },
  {
   "cell_type": "code",
   "execution_count": 7,
   "metadata": {},
   "outputs": [
    {
     "data": {
      "text/html": [
       "<pre style=\"white-space:pre;overflow-x:auto;line-height:normal;font-family:Menlo,'DejaVu Sans Mono',consolas,'Courier New',monospace\"><span style=\"color: #7fbfbf; text-decoration-color: #7fbfbf\">           </span><span style=\"color: #008080; text-decoration-color: #008080\">INFO</span>: using: SI unit system for unit inference.                                                         \n",
       "</pre>\n"
      ],
      "text/plain": [
       "\u001b[2;36m          \u001b[0m\u001b[2;36m \u001b[0m\u001b[36mINFO\u001b[0m: using: SI unit system for unit inference.                                                         \n"
      ]
     },
     "metadata": {},
     "output_type": "display_data"
    }
   ],
   "source": [
    "with fl.SI_unit_system:\n",
    "    params = fl.SimulationParams(\n",
    "        meshing=meshing_params,\n",
    "        reference_geometry=fl.ReferenceGeometry(\n",
    "            moment_center=[0.375, 0, 0],\n",
    "            moment_length=[1.26666666, 1.26666666, 1.26666666],\n",
    "            area=12.5,\n",
    "        ),\n",
    "        operating_condition=fl.AerospaceCondition.from_mach(\n",
    "            mach=0.182,\n",
    "            alpha=5 * fl.u.deg,\n",
    "            reference_mach=0.54,\n",
    "        ),\n",
    "        time_stepping=fl.Steady(\n",
    "            max_steps=10000, CFL=fl.RampCFL(initial=1, final=100, ramp_steps=2000)\n",
    "        ),\n",
    "        models=[\n",
    "            fl.Wall(\n",
    "                surfaces=[\n",
    "                    geometry[\"wing\"],\n",
    "                    geometry[\"tip\"],\n",
    "                ],\n",
    "            ),\n",
    "            fl.Freestream(surfaces=farfield.farfield),\n",
    "            fl.SlipWall(surfaces=farfield.symmetry_planes),\n",
    "            fl.Fluid(\n",
    "                navier_stokes_solver=fl.NavierStokesSolver(\n",
    "                    absolute_tolerance=1e-12,\n",
    "                ),\n",
    "                turbulence_model_solver=fl.SpalartAllmaras(\n",
    "                    absolute_tolerance=1e-10,\n",
    "                    update_jacobian_frequency=1,\n",
    "                    equation_evaluation_frequency=1,\n",
    "                ),\n",
    "            ),\n",
    "            bet_disk_model,\n",
    "        ],\n",
    "        outputs=[\n",
    "            fl.VolumeOutput(\n",
    "                output_fields=[\n",
    "                    \"primitiveVars\",\n",
    "                    \"betMetrics\",\n",
    "                    \"qcriterion\",\n",
    "                ],\n",
    "            ),\n",
    "            fl.SurfaceOutput(\n",
    "                surfaces=geometry[\"*\"],\n",
    "                output_fields=[\n",
    "                    \"primitiveVars\",\n",
    "                    \"Cp\",\n",
    "                    \"Cf\",\n",
    "                    \"CfVec\",\n",
    "                ],\n",
    "            ),\n",
    "        ],\n",
    "    )"
   ]
  },
  {
   "cell_type": "markdown",
   "metadata": {},
   "source": [
    "## 5. Run Case"
   ]
  },
  {
   "cell_type": "code",
   "execution_count": 8,
   "metadata": {},
   "outputs": [
    {
     "data": {
      "text/html": [
       "<pre style=\"white-space:pre;overflow-x:auto;line-height:normal;font-family:Menlo,'DejaVu Sans Mono',consolas,'Courier New',monospace\"><span style=\"color: #7fbfbf; text-decoration-color: #7fbfbf\">           </span><span style=\"color: #008080; text-decoration-color: #008080\">INFO</span>: using: SI unit system for unit inference.                                                         \n",
       "</pre>\n"
      ],
      "text/plain": [
       "\u001b[2;36m          \u001b[0m\u001b[2;36m \u001b[0m\u001b[36mINFO\u001b[0m: using: SI unit system for unit inference.                                                         \n"
      ]
     },
     "metadata": {},
     "output_type": "display_data"
    },
    {
     "data": {
      "text/html": [
       "<pre style=\"white-space:pre;overflow-x:auto;line-height:normal;font-family:Menlo,'DejaVu Sans Mono',consolas,'Courier New',monospace\"><span style=\"color: #7fbfbf; text-decoration-color: #7fbfbf\">[16:18:09] </span><span style=\"color: #008080; text-decoration-color: #008080\">INFO</span>: Successfully submitted:                                                                           \n",
       "<span style=\"color: #7fbfbf; text-decoration-color: #7fbfbf\">           </span>        type   = Case                                                                                   \n",
       "<span style=\"color: #7fbfbf; text-decoration-color: #7fbfbf\">           </span>        name   = Case of tutorial BETDisk from Python                                                   \n",
       "<span style=\"color: #7fbfbf; text-decoration-color: #7fbfbf\">           </span>        id     = case-<span style=\"color: #ffff00; text-decoration-color: #ffff00\">afbe238b-e4dc-416f-b305-1bb7afe5bec8</span>                                              \n",
       "<span style=\"color: #7fbfbf; text-decoration-color: #7fbfbf\">           </span>        status = pending                                                                                \n",
       "<span style=\"color: #7fbfbf; text-decoration-color: #7fbfbf\">           </span>                                                                                                        \n",
       "</pre>\n"
      ],
      "text/plain": [
       "\u001b[2;36m[16:18:09]\u001b[0m\u001b[2;36m \u001b[0m\u001b[36mINFO\u001b[0m: Successfully submitted:                                                                           \n",
       "\u001b[2;36m           \u001b[0m        type   = Case                                                                                   \n",
       "\u001b[2;36m           \u001b[0m        name   = Case of tutorial BETDisk from Python                                                   \n",
       "\u001b[2;36m           \u001b[0m        id     = case-\u001b[93mafbe238b-e4dc-416f-b305-1bb7afe5bec8\u001b[0m                                              \n",
       "\u001b[2;36m           \u001b[0m        status = pending                                                                                \n",
       "\u001b[2;36m           \u001b[0m                                                                                                        \n"
      ]
     },
     "metadata": {},
     "output_type": "display_data"
    },
    {
     "data": {
      "text/plain": [
       "CaseMeta(name='Case of tutorial BETDisk from Python', user_id='user-4141c6e3-e862-46b3-bc99-4848739f70b6', id='case-afbe238b-e4dc-416f-b305-1bb7afe5bec8', parent_id=None, solver_version='release-25.6', status=<Flow360Status.PENDING: 'pending'>, tags=[], created_at=None, updated_at=datetime.datetime(2025, 9, 10, 20, 18, 9, 127000, tzinfo=datetime.timezone.utc), updated_by=None, deleted=False, cloud_path_prefix=None, case_mesh_id='vm-b2bf0637-7562-4ee9-8af6-da37a7aa0f35', storageStatus='STANDARD', refId='vm-b2bf0637-7562-4ee9-8af6-da37a7aa0f35', elapsedTimeInSeconds=None, caseStartTime=None, caseTags=None, retryCount=None, caseParentId=None, combinedStatus='pending', parentFolderId='ROOT.FLOW360', caseSubmitTime='2025-09-10T20:18:08.895Z', parentFolders=[{'userId': 'user-4141c6e3-e862-46b3-bc99-4848739f70b6', 'name': 'ROOT.FLOW360', 'tags': None, 'id': 'ROOT.FLOW360', 'parentFolderId': None, 'createdAt': '2025-06-02T14:34:12.317054Z', 'updatedAt': '2025-06-02T14:34:12.317054Z'}], nodesInfo=None, estWorkUnit=0.0, objectRefId='case-afbe238b-e4dc-416f-b305-1bb7afe5bec8', casePriority=None, standardAge=None, exampleResource=False, realFlexUnit=0.0, nodeSize=0, running=False, restoreAt=None, meshSize=0, oriRealFlexUnit=None, errorType=None, highPriority=False, estimationDuration=0.0, estFlexUnit=0.0, events=None, storageClass='STANDARD', caseName='Case of tutorial BETDisk from Python', supportStorageSize=None, metadataProcessed=False, meshNodeSize=0, unitSystem=None, internal=False, caseFinishTime=None, storageSize=0, userDataUploaded=None, success=False, computeCost=0.0, caseStatus='pending', viewed=None, userEmail='marc.vives@flexcompute.com', clonedFrom=None, currentProgress=None, projectId='prj-93c671de-b65e-4952-96e3-32af14c98bd1')"
      ]
     },
     "execution_count": 8,
     "metadata": {},
     "output_type": "execute_result"
    }
   ],
   "source": [
    "project.run_case(params=params, name=\"Case of tutorial BETDisk from Python\")"
   ]
  }
 ],
 "metadata": {
  "kernelspec": {
   "display_name": "flow360",
   "language": "python",
   "name": "python3"
  },
  "language_info": {
   "codemirror_mode": {
    "name": "ipython",
    "version": 3
   },
   "file_extension": ".py",
   "mimetype": "text/x-python",
   "name": "python",
   "nbconvert_exporter": "python",
   "pygments_lexer": "ipython3",
   "version": "3.11.13"
  }
 },
 "nbformat": 4,
 "nbformat_minor": 5
}
