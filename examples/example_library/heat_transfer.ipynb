{
  "cells": [
    {
      "cell_type": "markdown",
      "metadata": {},
      "source": [
        "# Conjugate Heat Transfer (CHT)\n",
        "\n",
        "In this example we go over how to set up and perform a Conjugate Heat Transfer (CHT) simulation using Flow360 Python API. CHT is used to predict thermal interaction between a solid body and a fluid domain. We will go through creating a project, defining simulation settings, as well as post-processing results using the report functionality.\n"
      ]
    },
    {
      "cell_type": "markdown",
      "metadata": {},
      "source": [
        "## 1. Setup and Imports\n",
        "\n",
        "First, we import the required modules from `flow360` library."
      ]
    },
    {
      "cell_type": "code",
      "execution_count": null,
      "metadata": {},
      "outputs": [],
      "source": [
        "import flow360 as fl\n",
        "from flow360 import u\n",
        "from flow360.examples import TutorialCHTSolver\n",
        "from flow360.plugins.report.report import ReportTemplate\n",
        "from flow360.plugins.report.report_items import (\n",
        "    Camera,\n",
        "    Chart3D,\n",
        "    FrontCamera,\n",
        "    Inputs,\n",
        "    LeftCamera,\n",
        "    Settings,\n",
        "    Summary,\n",
        ")"
      ]
    },
    {
      "cell_type": "markdown",
      "metadata": {},
      "source": [
        "## 2. Project Initialization\n",
        "\n",
        "A `Project` in Flow360 acts as a container for simulations and their related data. In this instance, the project is initialized directly from a pre-existing volume mesh file."
      ]
    },
    {
      "cell_type": "code",
      "execution_count": null,
      "metadata": {},
      "outputs": [],
      "source": [
        "TutorialCHTSolver.get_files()\n",
        "\n",
        "project = fl.Project.from_volume_mesh(\n",
        "    TutorialCHTSolver.mesh_filename, name=\"CHT results from Python\"\n",
        ")\n",
        "\n",
        "volume_mesh = project.volume_mesh"
      ]
    },
    {
      "cell_type": "markdown",
      "metadata": {},
      "source": [
        "## 3. Simulation Parameters Definition\n",
        "\n",
        "All parameters for the simulation exist within the `SimulationParams` object. In order to better focus on `Solid` model definition, we will define it a bit further down below.\n",
        "\n",
        "Before that, we need to specify our `Fluid` domain solver settings and boundary conditions, operating condition of our simulation, as well as post-processing information such as reference geometry dimensions and outputs we want to get from the solver."
      ]
    },
    {
      "cell_type": "code",
      "execution_count": null,
      "metadata": {},
      "outputs": [],
      "source": [
        "with fl.SI_unit_system:\n",
        "    params = fl.SimulationParams(\n",
        "        reference_geometry=fl.ReferenceGeometry(\n",
        "            moment_center=[0, 0, 0] * fl.u.m,\n",
        "            moment_length=[1, 1, 1] * fl.u.m,\n",
        "            area=1 * fl.u.m**2,\n",
        "        ),\n",
        "        operating_condition=fl.AerospaceCondition.from_mach(mach=0.1),\n",
        "        time_stepping=fl.Steady(\n",
        "            max_steps=10000, CFL=fl.RampCFL(initial=1, final=100, ramp_steps=1000)\n",
        "        ),\n",
        "        models=[\n",
        "            fl.Fluid(\n",
        "                navier_stokes_solver=fl.NavierStokesSolver(\n",
        "                    absolute_tolerance=1e-9,\n",
        "                    linear_solver=fl.LinearSolver(max_iterations=35),\n",
        "                    order_of_accuracy=2,\n",
        "                    kappa_MUSCL=-1,\n",
        "                ),\n",
        "                turbulence_model_solver=fl.SpalartAllmaras(\n",
        "                    absolute_tolerance=1e-8,\n",
        "                    linear_solver=fl.LinearSolver(max_iterations=25),\n",
        "                    equation_evaluation_frequency=4,\n",
        "                    order_of_accuracy=2,\n",
        "                ),\n",
        "            ),\n",
        "            fl.Wall(\n",
        "                surfaces=volume_mesh[\"fluid/centerbody\"],\n",
        "            ),\n",
        "            fl.Freestream(\n",
        "                surfaces=volume_mesh[\"fluid/farfield\"],\n",
        "            ),\n",
        "        ],\n",
        "        outputs=[\n",
        "            fl.VolumeOutput(\n",
        "                output_format=\"both\",\n",
        "                output_fields=[\n",
        "                    \"primitiveVars\",\n",
        "                    \"T\",\n",
        "                    \"Cp\",\n",
        "                    \"Mach\",\n",
        "                ],\n",
        "            ),\n",
        "            fl.SurfaceOutput(\n",
        "                surfaces=volume_mesh[\"*\"],\n",
        "                output_format=\"both\",\n",
        "                output_fields=[\"primitiveVars\", \"T\", \"Cp\", \"Cf\", \"CfVec\"],\n",
        "            ),\n",
        "            fl.SliceOutput(\n",
        "                entities=[\n",
        "                    fl.Slice(\n",
        "                        name=\"slice_x\",\n",
        "                        normal=(1, 0, 0),\n",
        "                        origin=(0.35, 0, 0),\n",
        "                    ),\n",
        "                    fl.Slice(\n",
        "                        name=\"slice_y\",\n",
        "                        normal=(0, 1, 0),\n",
        "                        origin=(0, 0, 0),\n",
        "                    ),\n",
        "                ],\n",
        "                output_fields=[\"T\", \"Mach\"],\n",
        "            ),\n",
        "        ],\n",
        "    )"
      ]
    },
    {
      "cell_type": "markdown",
      "metadata": {},
      "source": [
        "### Solid Model\n",
        "\n",
        "The `Solid` model is used in CHT analysis. Its parameters define the thermal behavior of the solid body:\n",
        "- `entities`: Specifies which mesh regions are to be treated as solid. Here, the \"solid\" entity from the volume mesh is selected.\n",
        "- `heat_equation_solver`: Configures the numerical solver for the heat equation within the solid. Parameters such as tolerance and linear solver iterations can be adjusted to control convergence.\n",
        "- `material`: Defines the thermal properties of the solid material. `SolidMaterial` class requires a name and `thermal_conductivity`.\n",
        "- `volumetric_heat_source`: Allows for the specification of an internal heat generation rate within the solid's volume, specified in Watts per cubic meter.\n",
        "\n",
        "For solid surfaces not coupled with the fluid, an adiabatic condition is applied using a `Wall` boundary with a specified zero `HeatFlux`."
      ]
    },
    {
      "cell_type": "code",
      "execution_count": null,
      "metadata": {},
      "outputs": [],
      "source": [
        "with fl.SI_unit_system:\n",
        "    models = [\n",
        "        fl.Solid(\n",
        "            entities=volume_mesh[\"solid\"],\n",
        "            heat_equation_solver=fl.HeatEquationSolver(\n",
        "                absolute_tolerance=1e-11,\n",
        "                linear_solver=fl.LinearSolver(\n",
        "                    max_iterations=25,\n",
        "                    absolute_tolerance=1e-12,\n",
        "                ),\n",
        "                equation_evaluation_frequency=10,\n",
        "            ),\n",
        "            material=fl.SolidMaterial(\n",
        "                name=\"copper\",\n",
        "                thermal_conductivity=398 * fl.u.W / (fl.u.m * fl.u.K),\n",
        "            ),\n",
        "            volumetric_heat_source=5e3 * fl.u.W / (0.01257 * fl.u.m**3),\n",
        "        ),\n",
        "        fl.Wall(\n",
        "            surfaces=volume_mesh[\"solid/adiabatic\"],\n",
        "            heat_spec=fl.HeatFlux(0 * fl.u.W / fl.u.m**2),\n",
        "        )\n",
        "    ]\n",
        "    \n",
        "params.models.extend(models)"
      ]
    },
    {
      "cell_type": "markdown",
      "metadata": {},
      "source": [
        "## 4. Case Execution\n",
        "\n",
        "We run the simulation by using `project.run_case()`. The script then calls `case.wait()` to wait until the simulation is finished on the Flow360 platform."
      ]
    },
    {
      "cell_type": "code",
      "execution_count": null,
      "metadata": {},
      "outputs": [],
      "source": [
        "case = project.run_case(params=params, name=\"CHT case from Python\")\n",
        "\n",
        "case.wait()"
      ]
    },
    {
      "cell_type": "markdown",
      "metadata": {},
      "source": [
        "## 5. Results Post-Processing\n",
        "\n",
        "Upon completion, results can be accessed via the `case.results` attribute. Various data, such as surface heat transfer, can be retrieved."
      ]
    },
    {
      "cell_type": "code",
      "execution_count": null,
      "metadata": {},
      "outputs": [],
      "source": [
        "results = case.results\n",
        "\n",
        "surface_heat_transfer = results.surface_heat_transfer.as_dataframe()\n",
        "print(surface_heat_transfer)"
      ]
    },
    {
      "cell_type": "markdown",
      "metadata": {},
      "source": [
        "### Report Preparation\n",
        "\n",
        "Flow360 includes a feature for automated report generation to visualize simulation outcomes. This involves defining cameras for different views and specifying chart objects that determine the content of the report."
      ]
    },
    {
      "cell_type": "code",
      "execution_count": null,
      "metadata": {},
      "outputs": [],
      "source": [
        "cases = [case]\n",
        "\n",
        "exclude = [\"fluid/farfield\", \"solid/interface_fluid\", \"solid/adiabatic\"]\n",
        "\n",
        "front_camera_slice = FrontCamera(dimension=1, dimension_dir=\"width\")\n",
        "side_camera_slice = LeftCamera(pan_target=(0.35, 0, 0), dimension=2, dimension_dir=\"width\")\n",
        "front_right_top_camera = Camera(\n",
        "    position=(-1, -1, 1), look_at=(0.35, 0, 0), dimension=1, dimension_dir=\"width\"\n",
        ")"
      ]
    },
    {
      "cell_type": "markdown",
      "metadata": {},
      "source": [
        "### Report Item Configuration\n",
        "\n",
        "`Chart3D` objects are used to create three-dimensional visualizations of the results. Each chart can be configured to display specific data fields (e.g., temperature `T`) on selected surfaces or slices, with defined contour limits and camera views."
      ]
    },
    {
      "cell_type": "code",
      "execution_count": null,
      "metadata": {},
      "outputs": [],
      "source": [
        "x_slice_screenshot = Chart3D(\n",
        "    section_title=\"Slice temperature at x=0.35\",\n",
        "    items_in_row=2,\n",
        "    force_new_page=True,\n",
        "    show=\"slices\",\n",
        "    include=[\"slice_x\"],\n",
        "    field=\"T\",\n",
        "    limits=(285 * u.K, 395 * u.K),\n",
        "    camera=front_camera_slice,\n",
        "    fig_name=\"slice_x\",\n",
        ")\n",
        "\n",
        "y_slice_screenshot = Chart3D(\n",
        "    section_title=\"Slice temperature at y=0\",\n",
        "    items_in_row=2,\n",
        "    force_new_page=True,\n",
        "    show=\"slices\",\n",
        "    include=[\"slice_y\"],\n",
        "    field=\"T\",\n",
        "    limits=(285 * u.K, 395 * u.K),\n",
        "    camera=side_camera_slice,\n",
        "    fig_name=\"slice_y\",\n",
        ")\n",
        "\n",
        "surface_screenshot = Chart3D(\n",
        "    section_title=\"Surface temperature\",\n",
        "    items_in_row=2,\n",
        "    force_new_page=True,\n",
        "    show=\"boundaries\",\n",
        "    field=\"T\",\n",
        "    limits=(285 * u.K, 395 * u.K),\n",
        "    exclude=exclude,\n",
        "    camera=front_right_top_camera,\n",
        ")"
      ]
    },
    {
      "cell_type": "markdown",
      "metadata": {},
      "source": [
        "### Report Creation and Download\n",
        "\n",
        "`ReportTemplate` class is where we assemble all the defined charts and summary items into a complete report structure. Then, `create_in_cloud` method initiates the generation process. Once everything is done, a report PDF file will be automatically downloaded"
      ]
    },
    {
      "cell_type": "code",
      "execution_count": null,
      "metadata": {},
      "outputs": [],
      "source": [
        "report = ReportTemplate(\n",
        "    title=\"CHT results screenshots\",\n",
        "    items=[Summary(), Inputs(), x_slice_screenshot, y_slice_screenshot, surface_screenshot],\n",
        "    settings=Settings(dpi=150),\n",
        ")\n",
        "\n",
        "report = report.create_in_cloud(\n",
        "    \"CHT, dpi=default\",\n",
        "    cases,\n",
        ")\n",
        "\n",
        "report.wait()\n",
        "report.download(\"report.pdf\")"
      ]
    }
  ],
  "metadata": {
    "language_info": {
      "name": "python"
    }
  },
  "nbformat": 4,
  "nbformat_minor": 2
}
