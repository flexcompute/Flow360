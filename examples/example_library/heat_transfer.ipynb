{
  "cells": [
    {
      "cell_type": "markdown",
      "metadata": {},
      "source": [
        "# Conjugate Heat Transfer (CHT)\n",
        "\n",
        "In this example we go over how to set up and perform a Conjugate Heat Transfer (CHT) simulation using Flow360 Python API. CHT is used to predict thermal interaction between a solid body and a fluid domain. We will go through creating a project, defining simulation settings, as well as post-processing results using the report functionality.\n"
      ]
    },
    {
      "cell_type": "markdown",
      "metadata": {},
      "source": [
        "## 1. Setup and Imports\n",
        "\n",
        "First, we import the required modules from `flow360` library."
      ]
    },
    {
      "cell_type": "code",
      "execution_count": 1,
      "metadata": {},
      "outputs": [
        {
          "data": {
            "text/html": [
              "<pre style=\"white-space:pre;overflow-x:auto;line-height:normal;font-family:Menlo,'DejaVu Sans Mono',consolas,'Courier New',monospace\"></pre>\n"
            ],
            "text/plain": []
          },
          "metadata": {},
          "output_type": "display_data"
        },
        {
          "data": {
            "text/html": [
              "<pre style=\"white-space:pre;overflow-x:auto;line-height:normal;font-family:Menlo,'DejaVu Sans Mono',consolas,'Courier New',monospace\"></pre>\n"
            ],
            "text/plain": []
          },
          "metadata": {},
          "output_type": "display_data"
        }
      ],
      "source": [
        "import flow360 as fl\n",
        "from flow360 import u\n",
        "from flow360.examples import TutorialCHTSolver\n",
        "from flow360.plugins.report.report import ReportTemplate\n",
        "from flow360.plugins.report.report_items import (\n",
        "    Camera,\n",
        "    Chart3D,\n",
        "    FrontCamera,\n",
        "    Inputs,\n",
        "    LeftCamera,\n",
        "    Settings,\n",
        "    Summary,\n",
        ")"
      ]
    },
    {
      "cell_type": "markdown",
      "metadata": {},
      "source": [
        "## 2. Project Initialization\n",
        "\n",
        "A `Project` in Flow360 acts as a container for simulations and their related data. In this instance, the project is initialized directly from a pre-existing volume mesh file."
      ]
    },
    {
      "cell_type": "code",
      "execution_count": 2,
      "metadata": {},
      "outputs": [
        {
          "data": {
            "application/vnd.jupyter.widget-view+json": {
              "model_id": "92100136be9947a5bdfebb2e8cb40568",
              "version_major": 2,
              "version_minor": 0
            },
            "text/plain": [
              "Output()"
            ]
          },
          "metadata": {},
          "output_type": "display_data"
        },
        {
          "data": {
            "text/html": [
              "<pre style=\"white-space:pre;overflow-x:auto;line-height:normal;font-family:Menlo,'DejaVu Sans Mono',consolas,'Courier New',monospace\"></pre>\n"
            ],
            "text/plain": []
          },
          "metadata": {},
          "output_type": "display_data"
        },
        {
          "data": {
            "application/vnd.jupyter.widget-view+json": {
              "model_id": "6a3e98b59af640e5a0e135117f54bcf3",
              "version_major": 2,
              "version_minor": 0
            },
            "text/plain": [
              "Output()"
            ]
          },
          "metadata": {},
          "output_type": "display_data"
        },
        {
          "data": {
            "text/html": [
              "<pre style=\"white-space:pre;overflow-x:auto;line-height:normal;font-family:Menlo,'DejaVu Sans Mono',consolas,'Courier New',monospace\"></pre>\n"
            ],
            "text/plain": []
          },
          "metadata": {},
          "output_type": "display_data"
        },
        {
          "data": {
            "text/html": [
              "<pre style=\"white-space:pre;overflow-x:auto;line-height:normal;font-family:Menlo,'DejaVu Sans Mono',consolas,'Courier New',monospace\"><span style=\"color: #7fbfbf; text-decoration-color: #7fbfbf\">[11:03:42] </span><span style=\"color: #008080; text-decoration-color: #008080\">INFO</span>: VolumeMesh successfully submitted:                                                                \n",
              "<span style=\"color: #7fbfbf; text-decoration-color: #7fbfbf\">           </span>        type   = Volume Mesh                                                                            \n",
              "<span style=\"color: #7fbfbf; text-decoration-color: #7fbfbf\">           </span>        name   = CHT results from Python                                                                \n",
              "<span style=\"color: #7fbfbf; text-decoration-color: #7fbfbf\">           </span>        id     = vm-<span style=\"color: #ffff00; text-decoration-color: #ffff00\">b141ded4-6560-46b4-95b9-1a8256e8473c</span>                                                \n",
              "<span style=\"color: #7fbfbf; text-decoration-color: #7fbfbf\">           </span>        status = uploaded                                                                               \n",
              "<span style=\"color: #7fbfbf; text-decoration-color: #7fbfbf\">           </span>                                                                                                        \n",
              "</pre>\n"
            ],
            "text/plain": [
              "\u001b[2;36m[11:03:42]\u001b[0m\u001b[2;36m \u001b[0m\u001b[36mINFO\u001b[0m: VolumeMesh successfully submitted:                                                                \n",
              "\u001b[2;36m           \u001b[0m        type   = Volume Mesh                                                                            \n",
              "\u001b[2;36m           \u001b[0m        name   = CHT results from Python                                                                \n",
              "\u001b[2;36m           \u001b[0m        id     = vm-\u001b[93mb141ded4-6560-46b4-95b9-1a8256e8473c\u001b[0m                                                \n",
              "\u001b[2;36m           \u001b[0m        status = uploaded                                                                               \n",
              "\u001b[2;36m           \u001b[0m                                                                                                        \n"
            ]
          },
          "metadata": {},
          "output_type": "display_data"
        },
        {
          "data": {
            "application/vnd.jupyter.widget-view+json": {
              "model_id": "63ad5aa3d37a437ba2568f37a5d3dd39",
              "version_major": 2,
              "version_minor": 0
            },
            "text/plain": [
              "Output()"
            ]
          },
          "metadata": {},
          "output_type": "display_data"
        },
        {
          "data": {
            "text/html": [
              "<pre style=\"white-space:pre;overflow-x:auto;line-height:normal;font-family:Menlo,'DejaVu Sans Mono',consolas,'Courier New',monospace\"></pre>\n"
            ],
            "text/plain": []
          },
          "metadata": {},
          "output_type": "display_data"
        }
      ],
      "source": [
        "TutorialCHTSolver.get_files()\n",
        "\n",
        "project = fl.Project.from_volume_mesh(\n",
        "    TutorialCHTSolver.mesh_filename, name=\"CHT results from Python\"\n",
        ")\n",
        "\n",
        "volume_mesh = project.volume_mesh"
      ]
    },
    {
      "cell_type": "markdown",
      "metadata": {},
      "source": [
        "## 3. Simulation Parameters Definition\n",
        "\n",
        "All parameters for the simulation exist within the `SimulationParams` object. In order to better focus on `Solid` model definition, we will define it a bit further down below.\n",
        "\n",
        "Before that, we need to specify our `Fluid` domain solver settings and boundary conditions, operating condition of our simulation, as well as post-processing information such as reference geometry dimensions and outputs we want to get from the solver."
      ]
    },
    {
      "cell_type": "code",
      "execution_count": 3,
      "metadata": {},
      "outputs": [
        {
          "data": {
            "text/html": [
              "<pre style=\"white-space:pre;overflow-x:auto;line-height:normal;font-family:Menlo,'DejaVu Sans Mono',consolas,'Courier New',monospace\"><span style=\"color: #7fbfbf; text-decoration-color: #7fbfbf\">[11:04:05] </span><span style=\"color: #008080; text-decoration-color: #008080\">INFO</span>: using: SI unit system for unit inference.                                                         \n",
              "</pre>\n"
            ],
            "text/plain": [
              "\u001b[2;36m[11:04:05]\u001b[0m\u001b[2;36m \u001b[0m\u001b[36mINFO\u001b[0m: using: SI unit system for unit inference.                                                         \n"
            ]
          },
          "metadata": {},
          "output_type": "display_data"
        }
      ],
      "source": [
        "with fl.SI_unit_system:\n",
        "    params = fl.SimulationParams(\n",
        "        reference_geometry=fl.ReferenceGeometry(\n",
        "            moment_center=[0, 0, 0] * fl.u.m,\n",
        "            moment_length=[1, 1, 1] * fl.u.m,\n",
        "            area=1 * fl.u.m**2,\n",
        "        ),\n",
        "        operating_condition=fl.AerospaceCondition.from_mach(mach=0.1),\n",
        "        time_stepping=fl.Steady(\n",
        "            max_steps=10000, CFL=fl.RampCFL(initial=1, final=100, ramp_steps=1000)\n",
        "        ),\n",
        "        models=[\n",
        "            fl.Fluid(\n",
        "                navier_stokes_solver=fl.NavierStokesSolver(\n",
        "                    absolute_tolerance=1e-9,\n",
        "                    linear_solver=fl.LinearSolver(max_iterations=35),\n",
        "                    order_of_accuracy=2,\n",
        "                    kappa_MUSCL=-1,\n",
        "                ),\n",
        "                turbulence_model_solver=fl.SpalartAllmaras(\n",
        "                    absolute_tolerance=1e-8,\n",
        "                    linear_solver=fl.LinearSolver(max_iterations=25),\n",
        "                    equation_evaluation_frequency=4,\n",
        "                    order_of_accuracy=2,\n",
        "                ),\n",
        "            ),\n",
        "            fl.Wall(\n",
        "                surfaces=volume_mesh[\"fluid/centerbody\"],\n",
        "            ),\n",
        "            fl.Freestream(\n",
        "                surfaces=volume_mesh[\"fluid/farfield\"],\n",
        "            ),\n",
        "        ],\n",
        "        outputs=[\n",
        "            fl.VolumeOutput(\n",
        "                output_format=\"both\",\n",
        "                output_fields=[\n",
        "                    \"primitiveVars\",\n",
        "                    \"T\",\n",
        "                    \"Cp\",\n",
        "                    \"Mach\",\n",
        "                ],\n",
        "            ),\n",
        "            fl.SurfaceOutput(\n",
        "                surfaces=volume_mesh[\"*\"],\n",
        "                output_format=\"both\",\n",
        "                output_fields=[\"primitiveVars\", \"T\", \"Cp\", \"Cf\", \"CfVec\"],\n",
        "            ),\n",
        "            fl.SliceOutput(\n",
        "                entities=[\n",
        "                    fl.Slice(\n",
        "                        name=\"slice_x\",\n",
        "                        normal=(1, 0, 0),\n",
        "                        origin=(0.35, 0, 0),\n",
        "                    ),\n",
        "                    fl.Slice(\n",
        "                        name=\"slice_y\",\n",
        "                        normal=(0, 1, 0),\n",
        "                        origin=(0, 0, 0),\n",
        "                    ),\n",
        "                ],\n",
        "                output_fields=[\"T\", \"Mach\"],\n",
        "            ),\n",
        "        ],\n",
        "    )"
      ]
    },
    {
      "cell_type": "markdown",
      "metadata": {},
      "source": [
        "### Solid Model\n",
        "\n",
        "The `Solid` model is used in CHT analysis. Its parameters define the thermal behavior of the solid body:\n",
        "- `entities`: Specifies which mesh regions are to be treated as solid. Here, the \"solid\" entity from the volume mesh is selected.\n",
        "- `heat_equation_solver`: Configures the numerical solver for the heat equation within the solid. Parameters such as tolerance and linear solver iterations can be adjusted to control convergence.\n",
        "- `material`: Defines the thermal properties of the solid material. `SolidMaterial` class requires a name and `thermal_conductivity`.\n",
        "- `volumetric_heat_source`: Allows for the specification of an internal heat generation rate within the solid's volume, specified in Watts per cubic meter.\n",
        "\n",
        "For solid surfaces not coupled with the fluid, an adiabatic condition is applied using a `Wall` boundary with a specified zero `HeatFlux`."
      ]
    },
    {
      "cell_type": "code",
      "execution_count": 4,
      "metadata": {},
      "outputs": [
        {
          "data": {
            "text/html": [
              "<pre style=\"white-space:pre;overflow-x:auto;line-height:normal;font-family:Menlo,'DejaVu Sans Mono',consolas,'Courier New',monospace\"><span style=\"color: #7fbfbf; text-decoration-color: #7fbfbf\">           </span><span style=\"color: #008080; text-decoration-color: #008080\">INFO</span>: using: SI unit system for unit inference.                                                         \n",
              "</pre>\n"
            ],
            "text/plain": [
              "\u001b[2;36m          \u001b[0m\u001b[2;36m \u001b[0m\u001b[36mINFO\u001b[0m: using: SI unit system for unit inference.                                                         \n"
            ]
          },
          "metadata": {},
          "output_type": "display_data"
        }
      ],
      "source": [
        "with fl.SI_unit_system:\n",
        "    models = [\n",
        "        fl.Solid(\n",
        "            entities=volume_mesh[\"solid\"],\n",
        "            heat_equation_solver=fl.HeatEquationSolver(\n",
        "                absolute_tolerance=1e-11,\n",
        "                linear_solver=fl.LinearSolver(\n",
        "                    max_iterations=25,\n",
        "                    absolute_tolerance=1e-12,\n",
        "                ),\n",
        "                equation_evaluation_frequency=10,\n",
        "            ),\n",
        "            material=fl.SolidMaterial(\n",
        "                name=\"copper\",\n",
        "                thermal_conductivity=398 * fl.u.W / (fl.u.m * fl.u.K),\n",
        "            ),\n",
        "            volumetric_heat_source=5e3 * fl.u.W / (0.01257 * fl.u.m**3),\n",
        "        ),\n",
        "        fl.Wall(\n",
        "            surfaces=volume_mesh[\"solid/adiabatic\"],\n",
        "            heat_spec=fl.HeatFlux(0 * fl.u.W / fl.u.m**2),\n",
        "        )\n",
        "    ]\n",
        "    \n",
        "params.models.extend(models)"
      ]
    },
    {
      "cell_type": "markdown",
      "metadata": {},
      "source": [
        "## 4. Case Execution\n",
        "\n",
        "We run the simulation by using `project.run_case()`. The script then calls `case.wait()` to wait until the simulation is finished on the Flow360 platform."
      ]
    },
    {
      "cell_type": "code",
      "execution_count": 5,
      "metadata": {},
      "outputs": [
        {
          "data": {
            "text/html": [
              "<pre style=\"white-space:pre;overflow-x:auto;line-height:normal;font-family:Menlo,'DejaVu Sans Mono',consolas,'Courier New',monospace\"><span style=\"color: #7fbfbf; text-decoration-color: #7fbfbf\">           </span><span style=\"color: #008080; text-decoration-color: #008080\">INFO</span>: using: SI unit system for unit inference.                                                         \n",
              "</pre>\n"
            ],
            "text/plain": [
              "\u001b[2;36m          \u001b[0m\u001b[2;36m \u001b[0m\u001b[36mINFO\u001b[0m: using: SI unit system for unit inference.                                                         \n"
            ]
          },
          "metadata": {},
          "output_type": "display_data"
        },
        {
          "data": {
            "text/html": [
              "<pre style=\"white-space:pre;overflow-x:auto;line-height:normal;font-family:Menlo,'DejaVu Sans Mono',consolas,'Courier New',monospace\"><span style=\"color: #7fbfbf; text-decoration-color: #7fbfbf\">[11:04:07] </span><span style=\"color: #008080; text-decoration-color: #008080\">INFO</span>: Successfully submitted:                                                                           \n",
              "<span style=\"color: #7fbfbf; text-decoration-color: #7fbfbf\">           </span>        type   = Case                                                                                   \n",
              "<span style=\"color: #7fbfbf; text-decoration-color: #7fbfbf\">           </span>        name   = CHT case from Python                                                                   \n",
              "<span style=\"color: #7fbfbf; text-decoration-color: #7fbfbf\">           </span>        id     = case-<span style=\"color: #ffff00; text-decoration-color: #ffff00\">a1d2b4cb-97a2-4b30-b0bf-acfc7c8a9f3e</span>                                              \n",
              "<span style=\"color: #7fbfbf; text-decoration-color: #7fbfbf\">           </span>        status = pending                                                                                \n",
              "<span style=\"color: #7fbfbf; text-decoration-color: #7fbfbf\">           </span>                                                                                                        \n",
              "</pre>\n"
            ],
            "text/plain": [
              "\u001b[2;36m[11:04:07]\u001b[0m\u001b[2;36m \u001b[0m\u001b[36mINFO\u001b[0m: Successfully submitted:                                                                           \n",
              "\u001b[2;36m           \u001b[0m        type   = Case                                                                                   \n",
              "\u001b[2;36m           \u001b[0m        name   = CHT case from Python                                                                   \n",
              "\u001b[2;36m           \u001b[0m        id     = case-\u001b[93ma1d2b4cb-97a2-4b30-b0bf-acfc7c8a9f3e\u001b[0m                                              \n",
              "\u001b[2;36m           \u001b[0m        status = pending                                                                                \n",
              "\u001b[2;36m           \u001b[0m                                                                                                        \n"
            ]
          },
          "metadata": {},
          "output_type": "display_data"
        },
        {
          "data": {
            "application/vnd.jupyter.widget-view+json": {
              "model_id": "ab9e35a5e62344c1a99d12d7addd573f",
              "version_major": 2,
              "version_minor": 0
            },
            "text/plain": [
              "Output()"
            ]
          },
          "metadata": {},
          "output_type": "display_data"
        },
        {
          "data": {
            "text/html": [
              "<pre style=\"white-space:pre;overflow-x:auto;line-height:normal;font-family:Menlo,'DejaVu Sans Mono',consolas,'Courier New',monospace\"></pre>\n"
            ],
            "text/plain": []
          },
          "metadata": {},
          "output_type": "display_data"
        }
      ],
      "source": [
        "case = project.run_case(params=params, name=\"CHT case from Python\")\n",
        "\n",
        "case.wait()"
      ]
    },
    {
      "cell_type": "markdown",
      "metadata": {},
      "source": [
        "## 5. Results Post-Processing\n",
        "\n",
        "Upon completion, results can be accessed via the `case.results` attribute. Various data, such as surface heat transfer, can be retrieved."
      ]
    },
    {
      "cell_type": "code",
      "execution_count": 6,
      "metadata": {},
      "outputs": [
        {
          "data": {
            "application/vnd.jupyter.widget-view+json": {
              "model_id": "afe516402aca4d7a9468c5fec99f372d",
              "version_major": 2,
              "version_minor": 0
            },
            "text/plain": [
              "Output()"
            ]
          },
          "metadata": {},
          "output_type": "display_data"
        },
        {
          "data": {
            "text/html": [
              "<pre style=\"white-space:pre;overflow-x:auto;line-height:normal;font-family:Menlo,'DejaVu Sans Mono',consolas,'Courier New',monospace\"></pre>\n"
            ],
            "text/plain": []
          },
          "metadata": {},
          "output_type": "display_data"
        },
        {
          "data": {
            "text/html": [
              "<pre style=\"white-space:pre;overflow-x:auto;line-height:normal;font-family:Menlo,'DejaVu Sans Mono',consolas,'Courier New',monospace\"><span style=\"color: #7fbfbf; text-decoration-color: #7fbfbf\">[11:12:59] </span><span style=\"color: #008080; text-decoration-color: #008080\">INFO</span>: Saved to <span style=\"color: #800080; text-decoration-color: #800080\">/tmp/tmplo9ms38c/</span><span style=\"color: #ff00ff; text-decoration-color: #ff00ff\">e5351726-aed0-4af5-ac7b-8a5c3c6971a5.csv</span>                                \n",
              "</pre>\n"
            ],
            "text/plain": [
              "\u001b[2;36m[11:12:59]\u001b[0m\u001b[2;36m \u001b[0m\u001b[36mINFO\u001b[0m: Saved to \u001b[35m/tmp/tmplo9ms38c/\u001b[0m\u001b[95me5351726-aed0-4af5-ac7b-8a5c3c6971a5.csv\u001b[0m                                \n"
            ]
          },
          "metadata": {},
          "output_type": "display_data"
        },
        {
          "name": "stdout",
          "output_type": "stream",
          "text": [
            "      physical_step  pseudo_step  fluid/Interface_solid_HeatTransferRate  \\\n",
            "0                 0            0                               -0.000111   \n",
            "1                 0           10                               -0.000144   \n",
            "2                 0           20                               -0.000109   \n",
            "3                 0           30                               -0.000118   \n",
            "4                 0           40                               -0.000105   \n",
            "...             ...          ...                                     ...   \n",
            "996               0         9960                               -0.000074   \n",
            "997               0         9970                               -0.000074   \n",
            "998               0         9980                               -0.000074   \n",
            "999               0         9990                               -0.000074   \n",
            "1000              0         9999                               -0.000074   \n",
            "\n",
            "      fluid/centerbody_HeatTransferRate  totalHeatFlux  \n",
            "0                             -0.000296            0.0  \n",
            "1                             -0.000140            0.0  \n",
            "2                             -0.000096            0.0  \n",
            "3                             -0.000068            0.0  \n",
            "4                             -0.000051            0.0  \n",
            "...                                 ...            ...  \n",
            "996                           -0.000001            0.0  \n",
            "997                           -0.000001            0.0  \n",
            "998                           -0.000001            0.0  \n",
            "999                           -0.000001            0.0  \n",
            "1000                          -0.000001            0.0  \n",
            "\n",
            "[1001 rows x 5 columns]\n"
          ]
        }
      ],
      "source": [
        "results = case.results\n",
        "\n",
        "surface_heat_transfer = results.surface_heat_transfer.as_dataframe()\n",
        "print(surface_heat_transfer)"
      ]
    },
    {
      "cell_type": "markdown",
      "metadata": {},
      "source": [
        "### Report Preparation\n",
        "\n",
        "Flow360 includes a feature for automated report generation to visualize simulation outcomes. This involves defining cameras for different views and specifying chart objects that determine the content of the report."
      ]
    },
    {
      "cell_type": "code",
      "execution_count": 7,
      "metadata": {},
      "outputs": [],
      "source": [
        "cases = [case]\n",
        "\n",
        "exclude = [\"fluid/farfield\", \"solid/interface_fluid\", \"solid/adiabatic\"]\n",
        "\n",
        "front_camera_slice = FrontCamera(dimension=1, dimension_dir=\"width\")\n",
        "side_camera_slice = LeftCamera(pan_target=(0.35, 0, 0), dimension=2, dimension_dir=\"width\")\n",
        "front_right_top_camera = Camera(\n",
        "    position=(-1, -1, 1), look_at=(0.35, 0, 0), dimension=1, dimension_dir=\"width\"\n",
        ")"
      ]
    },
    {
      "cell_type": "markdown",
      "metadata": {},
      "source": [
        "### Report Item Configuration\n",
        "\n",
        "`Chart3D` objects are used to create three-dimensional visualizations of the results. Each chart can be configured to display specific data fields (e.g., temperature `T`) on selected surfaces or slices, with defined contour limits and camera views."
      ]
    },
    {
      "cell_type": "code",
      "execution_count": 8,
      "metadata": {},
      "outputs": [],
      "source": [
        "x_slice_screenshot = Chart3D(\n",
        "    section_title=\"Slice temperature at x=0.35\",\n",
        "    items_in_row=2,\n",
        "    force_new_page=True,\n",
        "    show=\"slices\",\n",
        "    include=[\"slice_x\"],\n",
        "    field=\"T\",\n",
        "    limits=(285 * u.K, 395 * u.K),\n",
        "    camera=front_camera_slice,\n",
        "    fig_name=\"slice_x\",\n",
        ")\n",
        "\n",
        "y_slice_screenshot = Chart3D(\n",
        "    section_title=\"Slice temperature at y=0\",\n",
        "    items_in_row=2,\n",
        "    force_new_page=True,\n",
        "    show=\"slices\",\n",
        "    include=[\"slice_y\"],\n",
        "    field=\"T\",\n",
        "    limits=(285 * u.K, 395 * u.K),\n",
        "    camera=side_camera_slice,\n",
        "    fig_name=\"slice_y\",\n",
        ")\n",
        "\n",
        "surface_screenshot = Chart3D(\n",
        "    section_title=\"Surface temperature\",\n",
        "    items_in_row=2,\n",
        "    force_new_page=True,\n",
        "    show=\"boundaries\",\n",
        "    field=\"T\",\n",
        "    limits=(285 * u.K, 395 * u.K),\n",
        "    exclude=exclude,\n",
        "    camera=front_right_top_camera,\n",
        ")"
      ]
    },
    {
      "cell_type": "markdown",
      "metadata": {},
      "source": [
        "### Report Creation and Download\n",
        "\n",
        "`ReportTemplate` class is where we assemble all the defined charts and summary items into a complete report structure. Then, `create_in_cloud` method initiates the generation process. Once everything is done, a report PDF file will be automatically downloaded"
      ]
    },
    {
      "cell_type": "code",
      "execution_count": 9,
      "metadata": {},
      "outputs": [
        {
          "ename": "ValidationError",
          "evalue": "1 validation error for NewReportRequest\nsolver_version\n  Input should be a valid string [type=string_type, input_value=None, input_type=NoneType]\n    For further information visit https://errors.pydantic.dev/2.11/v/string_type",
          "output_type": "error",
          "traceback": [
            "\u001b[31m---------------------------------------------------------------------------\u001b[39m",
            "\u001b[31mValidationError\u001b[39m                           Traceback (most recent call last)",
            "\u001b[36mCell\u001b[39m\u001b[36m \u001b[39m\u001b[32mIn[9]\u001b[39m\u001b[32m, line 7\u001b[39m\n\u001b[32m      1\u001b[39m report = ReportTemplate(\n\u001b[32m      2\u001b[39m     title=\u001b[33m\"\u001b[39m\u001b[33mCHT results screenshots\u001b[39m\u001b[33m\"\u001b[39m,\n\u001b[32m      3\u001b[39m     items=[Summary(), Inputs(), x_slice_screenshot, y_slice_screenshot, surface_screenshot],\n\u001b[32m      4\u001b[39m     settings=Settings(dpi=\u001b[32m150\u001b[39m),\n\u001b[32m      5\u001b[39m )\n\u001b[32m----> \u001b[39m\u001b[32m7\u001b[39m report = \u001b[43mreport\u001b[49m\u001b[43m.\u001b[49m\u001b[43mcreate_in_cloud\u001b[49m\u001b[43m(\u001b[49m\n\u001b[32m      8\u001b[39m \u001b[43m    \u001b[49m\u001b[33;43m\"\u001b[39;49m\u001b[33;43mCHT, dpi=default\u001b[39;49m\u001b[33;43m\"\u001b[39;49m\u001b[43m,\u001b[49m\n\u001b[32m      9\u001b[39m \u001b[43m    \u001b[49m\u001b[43mcases\u001b[49m\u001b[43m,\u001b[49m\n\u001b[32m     10\u001b[39m \u001b[43m)\u001b[49m\n\u001b[32m     12\u001b[39m report.wait()\n\u001b[32m     13\u001b[39m report.download(\u001b[33m\"\u001b[39m\u001b[33mreport.pdf\u001b[39m\u001b[33m\"\u001b[39m)\n",
            "\u001b[36mFile \u001b[39m\u001b[32m~/miniconda3/envs/flow360/lib/python3.11/site-packages/flow360/plugins/report/report.py:247\u001b[39m, in \u001b[36mReportTemplate.create_in_cloud\u001b[39m\u001b[34m(self, name, cases, landscape, solver_version)\u001b[39m\n\u001b[32m    224\u001b[39m \u001b[38;5;28;01mdef\u001b[39;00m\u001b[38;5;250m \u001b[39m\u001b[34mcreate_in_cloud\u001b[39m(\n\u001b[32m    225\u001b[39m     \u001b[38;5;28mself\u001b[39m, name: \u001b[38;5;28mstr\u001b[39m, cases: \u001b[38;5;28mlist\u001b[39m[Case], landscape: \u001b[38;5;28mbool\u001b[39m = \u001b[38;5;28;01mFalse\u001b[39;00m, solver_version: \u001b[38;5;28mstr\u001b[39m = \u001b[38;5;28;01mNone\u001b[39;00m\n\u001b[32m    226\u001b[39m ):\n\u001b[32m    227\u001b[39m \u001b[38;5;250m    \u001b[39m\u001b[33;03m\"\"\"\u001b[39;00m\n\u001b[32m    228\u001b[39m \u001b[33;03m    Creates a report in the cloud for a specified set of cases.\u001b[39;00m\n\u001b[32m    229\u001b[39m \n\u001b[32m   (...)\u001b[39m\u001b[32m    244\u001b[39m \u001b[33;03m        The response from the Report API submission.\u001b[39;00m\n\u001b[32m    245\u001b[39m \u001b[33;03m    \"\"\"\u001b[39;00m\n\u001b[32m--> \u001b[39m\u001b[32m247\u001b[39m     \u001b[38;5;28;01mreturn\u001b[39;00m \u001b[43mReportDraft\u001b[49m\u001b[43m.\u001b[49m\u001b[43msubmit\u001b[49m\u001b[43m(\u001b[49m\n\u001b[32m    248\u001b[39m \u001b[43m        \u001b[49m\u001b[43mname\u001b[49m\u001b[43m=\u001b[49m\u001b[43mname\u001b[49m\u001b[43m,\u001b[49m\n\u001b[32m    249\u001b[39m \u001b[43m        \u001b[49m\u001b[43mcase_ids\u001b[49m\u001b[43m=\u001b[49m\u001b[43m[\u001b[49m\u001b[43mcase\u001b[49m\u001b[43m.\u001b[49m\u001b[43mid\u001b[49m\u001b[43m \u001b[49m\u001b[38;5;28;43;01mfor\u001b[39;49;00m\u001b[43m \u001b[49m\u001b[43mcase\u001b[49m\u001b[43m \u001b[49m\u001b[38;5;129;43;01min\u001b[39;49;00m\u001b[43m \u001b[49m\u001b[43mcases\u001b[49m\u001b[43m]\u001b[49m\u001b[43m,\u001b[49m\n\u001b[32m    250\u001b[39m \u001b[43m        \u001b[49m\u001b[43mconfig\u001b[49m\u001b[43m=\u001b[49m\u001b[38;5;28;43mself\u001b[39;49m\u001b[43m.\u001b[49m\u001b[43mmodel_dump_json\u001b[49m\u001b[43m(\u001b[49m\u001b[43m)\u001b[49m\u001b[43m,\u001b[49m\n\u001b[32m    251\u001b[39m \u001b[43m        \u001b[49m\u001b[43msolver_version\u001b[49m\u001b[43m=\u001b[49m\u001b[43msolver_version\u001b[49m\u001b[43m,\u001b[49m\n\u001b[32m    252\u001b[39m \u001b[43m    \u001b[49m\u001b[43m)\u001b[49m\n",
            "\u001b[36mFile \u001b[39m\u001b[32m~/miniconda3/envs/flow360/lib/python3.11/site-packages/flow360/plugins/report/report.py:127\u001b[39m, in \u001b[36mReportDraft.submit\u001b[39m\u001b[34m(cls, name, case_ids, config, landscape, solver_version)\u001b[39m\n\u001b[32m     96\u001b[39m \u001b[38;5;129m@classmethod\u001b[39m\n\u001b[32m     97\u001b[39m \u001b[38;5;28;01mdef\u001b[39;00m\u001b[38;5;250m \u001b[39m\u001b[34msubmit\u001b[39m(\n\u001b[32m     98\u001b[39m     \u001b[38;5;28mcls\u001b[39m,\n\u001b[32m   (...)\u001b[39m\u001b[32m    103\u001b[39m     solver_version: \u001b[38;5;28mstr\u001b[39m = \u001b[38;5;28;01mNone\u001b[39;00m,\n\u001b[32m    104\u001b[39m ):\n\u001b[32m    105\u001b[39m \u001b[38;5;250m    \u001b[39m\u001b[33;03m\"\"\"\u001b[39;00m\n\u001b[32m    106\u001b[39m \u001b[33;03m    Submits a new report request.\u001b[39;00m\n\u001b[32m    107\u001b[39m \n\u001b[32m   (...)\u001b[39m\u001b[32m    124\u001b[39m \u001b[33;03m        The response object from the web API post request.\u001b[39;00m\n\u001b[32m    125\u001b[39m \u001b[33;03m    \"\"\"\u001b[39;00m\n\u001b[32m--> \u001b[39m\u001b[32m127\u001b[39m     request = \u001b[43mNewReportRequest\u001b[49m\u001b[43m(\u001b[49m\n\u001b[32m    128\u001b[39m \u001b[43m        \u001b[49m\u001b[43mname\u001b[49m\u001b[43m=\u001b[49m\u001b[43mname\u001b[49m\u001b[43m,\u001b[49m\n\u001b[32m    129\u001b[39m \u001b[43m        \u001b[49m\u001b[43mresources\u001b[49m\u001b[43m=\u001b[49m\u001b[43m[\u001b[49m\u001b[43m{\u001b[49m\u001b[33;43m\"\u001b[39;49m\u001b[33;43mtype\u001b[39;49m\u001b[33;43m\"\u001b[39;49m\u001b[43m:\u001b[49m\u001b[43m \u001b[49m\u001b[33;43m\"\u001b[39;49m\u001b[33;43mCase\u001b[39;49m\u001b[33;43m\"\u001b[39;49m\u001b[43m,\u001b[49m\u001b[43m \u001b[49m\u001b[33;43m\"\u001b[39;49m\u001b[33;43mid\u001b[39;49m\u001b[33;43m\"\u001b[39;49m\u001b[43m:\u001b[49m\u001b[43m \u001b[49m\u001b[38;5;28;43mid\u001b[39;49m\u001b[43m}\u001b[49m\u001b[43m \u001b[49m\u001b[38;5;28;43;01mfor\u001b[39;49;00m\u001b[43m \u001b[49m\u001b[38;5;28;43mid\u001b[39;49m\u001b[43m \u001b[49m\u001b[38;5;129;43;01min\u001b[39;49;00m\u001b[43m \u001b[49m\u001b[43mcase_ids\u001b[49m\u001b[43m]\u001b[49m\u001b[43m,\u001b[49m\n\u001b[32m    130\u001b[39m \u001b[43m        \u001b[49m\u001b[43mconfig_json\u001b[49m\u001b[43m=\u001b[49m\u001b[43mconfig\u001b[49m\u001b[43m,\u001b[49m\n\u001b[32m    131\u001b[39m \u001b[43m        \u001b[49m\u001b[43msolver_version\u001b[49m\u001b[43m=\u001b[49m\u001b[43msolver_version\u001b[49m\u001b[43m,\u001b[49m\n\u001b[32m    132\u001b[39m \u001b[43m    \u001b[49m\u001b[43m)\u001b[49m\n\u001b[32m    133\u001b[39m     resp = \u001b[38;5;28mcls\u001b[39m._webapi.post(json=request.dict())\n\u001b[32m    134\u001b[39m     \u001b[38;5;28;01mreturn\u001b[39;00m Report(resp[\u001b[33m\"\u001b[39m\u001b[33mid\u001b[39m\u001b[33m\"\u001b[39m])\n",
            "\u001b[36mFile \u001b[39m\u001b[32m~/miniconda3/envs/flow360/lib/python3.11/site-packages/pydantic/main.py:253\u001b[39m, in \u001b[36mBaseModel.__init__\u001b[39m\u001b[34m(self, **data)\u001b[39m\n\u001b[32m    251\u001b[39m \u001b[38;5;66;03m# `__tracebackhide__` tells pytest and some other tools to omit this function from tracebacks\u001b[39;00m\n\u001b[32m    252\u001b[39m __tracebackhide__ = \u001b[38;5;28;01mTrue\u001b[39;00m\n\u001b[32m--> \u001b[39m\u001b[32m253\u001b[39m validated_self = \u001b[38;5;28;43mself\u001b[39;49m\u001b[43m.\u001b[49m\u001b[43m__pydantic_validator__\u001b[49m\u001b[43m.\u001b[49m\u001b[43mvalidate_python\u001b[49m\u001b[43m(\u001b[49m\u001b[43mdata\u001b[49m\u001b[43m,\u001b[49m\u001b[43m \u001b[49m\u001b[43mself_instance\u001b[49m\u001b[43m=\u001b[49m\u001b[38;5;28;43mself\u001b[39;49m\u001b[43m)\u001b[49m\n\u001b[32m    254\u001b[39m \u001b[38;5;28;01mif\u001b[39;00m \u001b[38;5;28mself\u001b[39m \u001b[38;5;129;01mis\u001b[39;00m \u001b[38;5;129;01mnot\u001b[39;00m validated_self:\n\u001b[32m    255\u001b[39m     warnings.warn(\n\u001b[32m    256\u001b[39m         \u001b[33m'\u001b[39m\u001b[33mA custom validator is returning a value other than `self`.\u001b[39m\u001b[38;5;130;01m\\n\u001b[39;00m\u001b[33m'\u001b[39m\n\u001b[32m    257\u001b[39m         \u001b[33m\"\u001b[39m\u001b[33mReturning anything other than `self` from a top level model validator isn\u001b[39m\u001b[33m'\u001b[39m\u001b[33mt supported when validating via `__init__`.\u001b[39m\u001b[38;5;130;01m\\n\u001b[39;00m\u001b[33m\"\u001b[39m\n\u001b[32m    258\u001b[39m         \u001b[33m'\u001b[39m\u001b[33mSee the `model_validator` docs (https://docs.pydantic.dev/latest/concepts/validators/#model-validators) for more details.\u001b[39m\u001b[33m'\u001b[39m,\n\u001b[32m    259\u001b[39m         stacklevel=\u001b[32m2\u001b[39m,\n\u001b[32m    260\u001b[39m     )\n",
            "\u001b[31mValidationError\u001b[39m: 1 validation error for NewReportRequest\nsolver_version\n  Input should be a valid string [type=string_type, input_value=None, input_type=NoneType]\n    For further information visit https://errors.pydantic.dev/2.11/v/string_type"
          ]
        }
      ],
      "source": [
        "report = ReportTemplate(\n",
        "    title=\"CHT results screenshots\",\n",
        "    items=[Summary(), Inputs(), x_slice_screenshot, y_slice_screenshot, surface_screenshot],\n",
        "    settings=Settings(dpi=150),\n",
        ")\n",
        "\n",
        "report = report.create_in_cloud(\n",
        "    \"CHT, dpi=default\",\n",
        "    cases,\n",
        ")\n",
        "\n",
        "report.wait()\n",
        "report.download(\"report.pdf\")"
      ]
    }
  ],
  "metadata": {
    "kernelspec": {
      "display_name": "flow360",
      "language": "python",
      "name": "python3"
    },
    "language_info": {
      "codemirror_mode": {
        "name": "ipython",
        "version": 3
      },
      "file_extension": ".py",
      "mimetype": "text/x-python",
      "name": "python",
      "nbconvert_exporter": "python",
      "pygments_lexer": "ipython3",
      "version": "3.11.13"
    }
  },
  "nbformat": 4,
  "nbformat_minor": 2
}
