{
 "cells": [
  {
   "cell_type": "markdown",
   "metadata": {},
   "source": [
    "# Alpha Sweep\n",
    "\n",
    "This notebook demonstrates how to perform an angle of attack (alpha) sweep using the Flow360 Python API. The process involves creating a project, defining simulation parameters, launching a series of cases with varying alpha values, and finally generating a comprehensive report summarizing the results."
   ]
  },
  {
   "cell_type": "markdown",
   "metadata": {},
   "source": [
    "## 1. Setup and Imports\n",
    "\n",
    "The following cell imports the necessary libraries and modules. `flow360` is the main package for interacting with the Flow360 platform. Specific modules for defining simulation parameters, creating reports, and handling units are also imported.\n"
   ]
  },
  {
   "cell_type": "code",
   "execution_count": 1,
   "metadata": {},
   "outputs": [
    {
     "data": {
      "text/html": [
       "<pre style=\"white-space:pre;overflow-x:auto;line-height:normal;font-family:Menlo,'DejaVu Sans Mono',consolas,'Courier New',monospace\"></pre>\n"
      ],
      "text/plain": []
     },
     "metadata": {},
     "output_type": "display_data"
    },
    {
     "data": {
      "text/html": [
       "<pre style=\"white-space:pre;overflow-x:auto;line-height:normal;font-family:Menlo,'DejaVu Sans Mono',consolas,'Courier New',monospace\"></pre>\n"
      ],
      "text/plain": []
     },
     "metadata": {},
     "output_type": "display_data"
    }
   ],
   "source": [
    "import flow360 as fl\n",
    "from flow360.examples import EVTOL"
   ]
  },
  {
   "cell_type": "markdown",
   "metadata": {},
   "source": [
    "## 2. Project Creation\n",
    "\n",
    "A Flow360 `Project` is a container for simulations and their associated assets, such as geometries and meshes. A project can be initiated either from an existing volume mesh or from a CAD geometry file. When starting from a geometry, meshing parameters must be defined to instruct the platform on how to generate the volume mesh.\n"
   ]
  },
  {
   "cell_type": "code",
   "execution_count": 2,
   "metadata": {},
   "outputs": [
    {
     "data": {
      "text/html": [
       "<pre style=\"white-space:pre;overflow-x:auto;line-height:normal;font-family:Menlo,'DejaVu Sans Mono',consolas,'Courier New',monospace\"><span style=\"color: #7fbfbf; text-decoration-color: #7fbfbf\">[11:13:38] </span><span style=\"color: #008080; text-decoration-color: #008080\">INFO</span>: The file <span style=\"font-weight: bold\">(</span>evtol_quickstart.cgns.zst<span style=\"font-weight: bold\">)</span> is being downloaded, please wait.                            \n",
       "</pre>\n"
      ],
      "text/plain": [
       "\u001b[2;36m[11:13:38]\u001b[0m\u001b[2;36m \u001b[0m\u001b[36mINFO\u001b[0m: The file \u001b[1m(\u001b[0mevtol_quickstart.cgns.zst\u001b[1m)\u001b[0m is being downloaded, please wait.                            \n"
      ]
     },
     "metadata": {},
     "output_type": "display_data"
    },
    {
     "data": {
      "text/html": [
       "<pre style=\"white-space:pre;overflow-x:auto;line-height:normal;font-family:Menlo,'DejaVu Sans Mono',consolas,'Courier New',monospace\"><span style=\"color: #7fbfbf; text-decoration-color: #7fbfbf\">[11:13:39] </span><span style=\"color: #008080; text-decoration-color: #008080\">INFO</span>: The file <span style=\"font-weight: bold\">(</span>evtol_quickstart_grouped.csm<span style=\"font-weight: bold\">)</span> is being downloaded, please wait.                         \n",
       "</pre>\n"
      ],
      "text/plain": [
       "\u001b[2;36m[11:13:39]\u001b[0m\u001b[2;36m \u001b[0m\u001b[36mINFO\u001b[0m: The file \u001b[1m(\u001b[0mevtol_quickstart_grouped.csm\u001b[1m)\u001b[0m is being downloaded, please wait.                         \n"
      ]
     },
     "metadata": {},
     "output_type": "display_data"
    },
    {
     "data": {
      "application/vnd.jupyter.widget-view+json": {
       "model_id": "da91506ecace4f8ba63ce5a8951f5c9d",
       "version_major": 2,
       "version_minor": 0
      },
      "text/plain": [
       "Output()"
      ]
     },
     "metadata": {},
     "output_type": "display_data"
    },
    {
     "data": {
      "text/html": [
       "<pre style=\"white-space:pre;overflow-x:auto;line-height:normal;font-family:Menlo,'DejaVu Sans Mono',consolas,'Courier New',monospace\"></pre>\n"
      ],
      "text/plain": []
     },
     "metadata": {},
     "output_type": "display_data"
    },
    {
     "data": {
      "text/html": [
       "<pre style=\"white-space:pre;overflow-x:auto;line-height:normal;font-family:Menlo,'DejaVu Sans Mono',consolas,'Courier New',monospace\"><span style=\"color: #7fbfbf; text-decoration-color: #7fbfbf\">[11:13:55] </span><span style=\"color: #008080; text-decoration-color: #008080\">INFO</span>: Geometry successfully submitted:                                                                  \n",
       "<span style=\"color: #7fbfbf; text-decoration-color: #7fbfbf\">           </span>        type   = Geometry                                                                               \n",
       "<span style=\"color: #7fbfbf; text-decoration-color: #7fbfbf\">           </span>        name   = sweep_evtol_from_geometry                                                              \n",
       "<span style=\"color: #7fbfbf; text-decoration-color: #7fbfbf\">           </span>        id     = geo-<span style=\"color: #ffff00; text-decoration-color: #ffff00\">8ae770a1-1d1a-41c1-884d-8448f68a2428</span>                                               \n",
       "<span style=\"color: #7fbfbf; text-decoration-color: #7fbfbf\">           </span>        status = uploaded                                                                               \n",
       "<span style=\"color: #7fbfbf; text-decoration-color: #7fbfbf\">           </span>                                                                                                        \n",
       "</pre>\n"
      ],
      "text/plain": [
       "\u001b[2;36m[11:13:55]\u001b[0m\u001b[2;36m \u001b[0m\u001b[36mINFO\u001b[0m: Geometry successfully submitted:                                                                  \n",
       "\u001b[2;36m           \u001b[0m        type   = Geometry                                                                               \n",
       "\u001b[2;36m           \u001b[0m        name   = sweep_evtol_from_geometry                                                              \n",
       "\u001b[2;36m           \u001b[0m        id     = geo-\u001b[93m8ae770a1-1d1a-41c1-884d-8448f68a2428\u001b[0m                                               \n",
       "\u001b[2;36m           \u001b[0m        status = uploaded                                                                               \n",
       "\u001b[2;36m           \u001b[0m                                                                                                        \n"
      ]
     },
     "metadata": {},
     "output_type": "display_data"
    },
    {
     "data": {
      "text/html": [
       "<pre style=\"white-space:pre;overflow-x:auto;line-height:normal;font-family:Menlo,'DejaVu Sans Mono',consolas,'Courier New',monospace\"><span style=\"color: #7fbfbf; text-decoration-color: #7fbfbf\">           </span><span style=\"color: #008080; text-decoration-color: #008080\">INFO</span>: Waiting for geometry to be processed.                                                             \n",
       "</pre>\n"
      ],
      "text/plain": [
       "\u001b[2;36m          \u001b[0m\u001b[2;36m \u001b[0m\u001b[36mINFO\u001b[0m: Waiting for geometry to be processed.                                                             \n"
      ]
     },
     "metadata": {},
     "output_type": "display_data"
    },
    {
     "data": {
      "application/vnd.jupyter.widget-view+json": {
       "model_id": "6535d306a9bf4669af675ff117f7ba4f",
       "version_major": 2,
       "version_minor": 0
      },
      "text/plain": [
       "Output()"
      ]
     },
     "metadata": {},
     "output_type": "display_data"
    },
    {
     "data": {
      "text/html": [
       "<pre style=\"white-space:pre;overflow-x:auto;line-height:normal;font-family:Menlo,'DejaVu Sans Mono',consolas,'Courier New',monospace\"></pre>\n"
      ],
      "text/plain": []
     },
     "metadata": {},
     "output_type": "display_data"
    },
    {
     "data": {
      "text/html": [
       "<pre style=\"white-space:pre;overflow-x:auto;line-height:normal;font-family:Menlo,'DejaVu Sans Mono',consolas,'Courier New',monospace\"><span style=\"color: #7fbfbf; text-decoration-color: #7fbfbf\">[11:15:45] </span><span style=\"color: #008080; text-decoration-color: #008080\">INFO</span>: Regrouping face entities under `faceName` tag <span style=\"font-weight: bold\">(</span>previous `_color`<span style=\"font-weight: bold\">)</span>.                                \n",
       "</pre>\n"
      ],
      "text/plain": [
       "\u001b[2;36m[11:15:45]\u001b[0m\u001b[2;36m \u001b[0m\u001b[36mINFO\u001b[0m: Regrouping face entities under `faceName` tag \u001b[1m(\u001b[0mprevious `_color`\u001b[1m)\u001b[0m.                                \n"
      ]
     },
     "metadata": {},
     "output_type": "display_data"
    }
   ],
   "source": [
    "EVTOL.get_files()\n",
    "\n",
    "project = fl.Project.from_geometry(EVTOL.geometry, name=\"sweep_evtol_from_geometry\")\n",
    "\n",
    "geometry = project.geometry\n",
    "geometry.group_faces_by_tag(\"faceName\")"
   ]
  },
  {
   "cell_type": "markdown",
   "metadata": {},
   "source": [
    "## 3. Meshing parameters\n",
    "\n",
    "We define some simple meshing parameters to achieve appropriate resolution for this example. The use of `AngleBasedRefinement` will allow us to better model the flow at the leading edge."
   ]
  },
  {
   "cell_type": "code",
   "execution_count": 3,
   "metadata": {},
   "outputs": [
    {
     "data": {
      "text/html": [
       "<pre style=\"white-space:pre;overflow-x:auto;line-height:normal;font-family:Menlo,'DejaVu Sans Mono',consolas,'Courier New',monospace\"><span style=\"color: #7fbfbf; text-decoration-color: #7fbfbf\">           </span><span style=\"color: #008080; text-decoration-color: #008080\">INFO</span>: using: SI unit system for unit inference.                                                         \n",
       "</pre>\n"
      ],
      "text/plain": [
       "\u001b[2;36m          \u001b[0m\u001b[2;36m \u001b[0m\u001b[36mINFO\u001b[0m: using: SI unit system for unit inference.                                                         \n"
      ]
     },
     "metadata": {},
     "output_type": "display_data"
    }
   ],
   "source": [
    "with fl.SI_unit_system:\n",
    "    meshing_params = fl.MeshingParams(\n",
    "        defaults=fl.MeshingDefaults(\n",
    "            boundary_layer_first_layer_thickness=1e-5, surface_max_edge_length=1\n",
    "        ),\n",
    "        volume_zones=[fl.AutomatedFarfield()],\n",
    "        refinements=[\n",
    "            fl.SurfaceEdgeRefinement(\n",
    "                name=\"leading_edges\",\n",
    "                edges=[geometry[\"leadingEdge\"]],\n",
    "                method=fl.AngleBasedRefinement(value=2 * fl.u.deg),\n",
    "            )\n",
    "        ],\n",
    "    )"
   ]
  },
  {
   "cell_type": "markdown",
   "metadata": {},
   "source": [
    "## 4. Boundary Conditions\n",
    "\n",
    "Boundary conditions define the physical behavior at the boundaries of the computational domain. We need to apply appropriate `Wall` and `Freestream` conditions to different surfaces of the geometry.\n",
    "\n",
    "Surface selection can be done using exact names or with wildcards, for example:\n",
    "- geometry[\"*\"] will select all geometry boundaries\n",
    "- geometry[\"*pylon\"] will select all geometry boundaries that end with `pylon`"
   ]
  },
  {
   "cell_type": "code",
   "execution_count": 4,
   "metadata": {},
   "outputs": [],
   "source": [
    "models = [\n",
    "    fl.Wall(surfaces=[geometry[\"*\"]]),\n",
    "    fl.Freestream(surfaces=fl.AutomatedFarfield().farfield),\n",
    "]"
   ]
  },
  {
   "cell_type": "markdown",
   "metadata": {},
   "source": [
    "## 5. Simulation Parameters\n",
    "\n",
    "The `SimulationParams` object encapsulates all settings for a simulation run. This includes meshing parameters, reference geometry, operating conditions, time-stepping scheme, physical models, and output specifications."
   ]
  },
  {
   "cell_type": "code",
   "execution_count": 5,
   "metadata": {},
   "outputs": [
    {
     "data": {
      "text/html": [
       "<pre style=\"white-space:pre;overflow-x:auto;line-height:normal;font-family:Menlo,'DejaVu Sans Mono',consolas,'Courier New',monospace\"><span style=\"color: #7fbfbf; text-decoration-color: #7fbfbf\">           </span><span style=\"color: #008080; text-decoration-color: #008080\">INFO</span>: using: SI unit system for unit inference.                                                         \n",
       "</pre>\n"
      ],
      "text/plain": [
       "\u001b[2;36m          \u001b[0m\u001b[2;36m \u001b[0m\u001b[36mINFO\u001b[0m: using: SI unit system for unit inference.                                                         \n"
      ]
     },
     "metadata": {},
     "output_type": "display_data"
    }
   ],
   "source": [
    "with fl.SI_unit_system:\n",
    "    params = fl.SimulationParams(\n",
    "        meshing=meshing_params,\n",
    "        reference_geometry=fl.ReferenceGeometry(moment_center=(0, 0, 0), moment_length=1, area=1),\n",
    "        operating_condition=fl.AerospaceCondition(velocity_magnitude=100, alpha=0 * fl.u.deg),\n",
    "        time_stepping=fl.Steady(max_steps=5000, CFL=fl.AdaptiveCFL()),\n",
    "        models=[\n",
    "            *models,\n",
    "            fl.Fluid(\n",
    "                navier_stokes_solver=fl.NavierStokesSolver(),\n",
    "                turbulence_model_solver=fl.SpalartAllmaras(),\n",
    "            ),\n",
    "        ],\n",
    "        outputs=[\n",
    "            fl.VolumeOutput(\n",
    "                output_format=\"tecplot\",\n",
    "                output_fields=[\"Mach\", \"Cp\", \"mut\", \"mutRatio\", \"primitiveVars\", \"qcriterion\"],\n",
    "            ),\n",
    "            fl.SurfaceOutput(\n",
    "                surfaces=[\n",
    "                    geometry[\"fuselage\"],\n",
    "                    geometry[\"*pylon\"],\n",
    "                    geometry[\"*wing\"],\n",
    "                    geometry[\"*tail\"],\n",
    "                ],\n",
    "                output_fields=[\"Cp\", \"yPlus\", \"Cf\", \"CfVec\", \"primitiveVars\", \"wallDistance\"],\n",
    "                output_format=\"tecplot\",\n",
    "            ),\n",
    "        ],\n",
    "    )"
   ]
  },
  {
   "cell_type": "markdown",
   "metadata": {},
   "source": [
    "## 6. Executing an Alpha Sweep\n",
    "\n",
    "A sweep is performed by iterating through a list of alpha values. In each iteration, the `operating_condition` in `SimulationParams` is updated with a new alpha, and new `Case` is run using `project.run_case()`. The returned `Case` objects are collected in a list for later analysis and report generation. The cases will be running in parallel on the cloud. We then wait for all cases to complete before proceeding.\n",
    "\n",
    "To not recreate the entire `SimulationParams` everytime, we can modify existing one's alpha angle by doing `params.operating_condition.alpha = alpha_angle`.\n"
   ]
  },
  {
   "cell_type": "code",
   "execution_count": null,
   "metadata": {},
   "outputs": [
    {
     "data": {
      "text/html": [
       "<pre style=\"white-space:pre;overflow-x:auto;line-height:normal;font-family:Menlo,'DejaVu Sans Mono',consolas,'Courier New',monospace\"><span style=\"color: #7fbfbf; text-decoration-color: #7fbfbf\">           </span><span style=\"color: #008080; text-decoration-color: #008080\">INFO</span>: using: SI unit system for unit inference.                                                         \n",
       "</pre>\n"
      ],
      "text/plain": [
       "\u001b[2;36m          \u001b[0m\u001b[2;36m \u001b[0m\u001b[36mINFO\u001b[0m: using: SI unit system for unit inference.                                                         \n"
      ]
     },
     "metadata": {},
     "output_type": "display_data"
    },
    {
     "data": {
      "text/html": [
       "<pre style=\"white-space:pre;overflow-x:auto;line-height:normal;font-family:Menlo,'DejaVu Sans Mono',consolas,'Courier New',monospace\"><span style=\"color: #7fbfbf; text-decoration-color: #7fbfbf\">[11:15:48] </span><span style=\"color: #008080; text-decoration-color: #008080\">INFO</span>: Successfully submitted:                                                                           \n",
       "<span style=\"color: #7fbfbf; text-decoration-color: #7fbfbf\">           </span>        type   = Case                                                                                   \n",
       "<span style=\"color: #7fbfbf; text-decoration-color: #7fbfbf\">           </span>        name   = alpha_-10_case                                                                         \n",
       "<span style=\"color: #7fbfbf; text-decoration-color: #7fbfbf\">           </span>        id     = case-<span style=\"color: #ffff00; text-decoration-color: #ffff00\">816cd2dc-e983-40e4-9d72-ab11123bac9e</span>                                              \n",
       "<span style=\"color: #7fbfbf; text-decoration-color: #7fbfbf\">           </span>        status = pending                                                                                \n",
       "<span style=\"color: #7fbfbf; text-decoration-color: #7fbfbf\">           </span>                                                                                                        \n",
       "</pre>\n"
      ],
      "text/plain": [
       "\u001b[2;36m[11:15:48]\u001b[0m\u001b[2;36m \u001b[0m\u001b[36mINFO\u001b[0m: Successfully submitted:                                                                           \n",
       "\u001b[2;36m           \u001b[0m        type   = Case                                                                                   \n",
       "\u001b[2;36m           \u001b[0m        name   = alpha_-10_case                                                                         \n",
       "\u001b[2;36m           \u001b[0m        id     = case-\u001b[93m816cd2dc-e983-40e4-9d72-ab11123bac9e\u001b[0m                                              \n",
       "\u001b[2;36m           \u001b[0m        status = pending                                                                                \n",
       "\u001b[2;36m           \u001b[0m                                                                                                        \n"
      ]
     },
     "metadata": {},
     "output_type": "display_data"
    },
    {
     "name": "stdout",
     "output_type": "stream",
     "text": [
      "The case ID is: case-816cd2dc-e983-40e4-9d72-ab11123bac9e with alpha_angle=unyt_quantity(-10, 'degree') \n"
     ]
    },
    {
     "data": {
      "text/html": [
       "<pre style=\"white-space:pre;overflow-x:auto;line-height:normal;font-family:Menlo,'DejaVu Sans Mono',consolas,'Courier New',monospace\"><span style=\"color: #7fbfbf; text-decoration-color: #7fbfbf\">[11:15:49] </span><span style=\"color: #008080; text-decoration-color: #008080\">INFO</span>: using: SI unit system for unit inference.                                                         \n",
       "</pre>\n"
      ],
      "text/plain": [
       "\u001b[2;36m[11:15:49]\u001b[0m\u001b[2;36m \u001b[0m\u001b[36mINFO\u001b[0m: using: SI unit system for unit inference.                                                         \n"
      ]
     },
     "metadata": {},
     "output_type": "display_data"
    },
    {
     "data": {
      "text/html": [
       "<pre style=\"white-space:pre;overflow-x:auto;line-height:normal;font-family:Menlo,'DejaVu Sans Mono',consolas,'Courier New',monospace\"><span style=\"color: #7fbfbf; text-decoration-color: #7fbfbf\">[11:15:52] </span><span style=\"color: #008080; text-decoration-color: #008080\">INFO</span>: Successfully submitted:                                                                           \n",
       "<span style=\"color: #7fbfbf; text-decoration-color: #7fbfbf\">           </span>        type   = Case                                                                                   \n",
       "<span style=\"color: #7fbfbf; text-decoration-color: #7fbfbf\">           </span>        name   = alpha_-5_case                                                                          \n",
       "<span style=\"color: #7fbfbf; text-decoration-color: #7fbfbf\">           </span>        id     = case-<span style=\"color: #ffff00; text-decoration-color: #ffff00\">cf4b39ec-88b0-4901-8457-a9dc38bd0e97</span>                                              \n",
       "<span style=\"color: #7fbfbf; text-decoration-color: #7fbfbf\">           </span>        status = pending                                                                                \n",
       "<span style=\"color: #7fbfbf; text-decoration-color: #7fbfbf\">           </span>                                                                                                        \n",
       "</pre>\n"
      ],
      "text/plain": [
       "\u001b[2;36m[11:15:52]\u001b[0m\u001b[2;36m \u001b[0m\u001b[36mINFO\u001b[0m: Successfully submitted:                                                                           \n",
       "\u001b[2;36m           \u001b[0m        type   = Case                                                                                   \n",
       "\u001b[2;36m           \u001b[0m        name   = alpha_-5_case                                                                          \n",
       "\u001b[2;36m           \u001b[0m        id     = case-\u001b[93mcf4b39ec-88b0-4901-8457-a9dc38bd0e97\u001b[0m                                              \n",
       "\u001b[2;36m           \u001b[0m        status = pending                                                                                \n",
       "\u001b[2;36m           \u001b[0m                                                                                                        \n"
      ]
     },
     "metadata": {},
     "output_type": "display_data"
    },
    {
     "name": "stdout",
     "output_type": "stream",
     "text": [
      "The case ID is: case-cf4b39ec-88b0-4901-8457-a9dc38bd0e97 with alpha_angle=unyt_quantity(-5, 'degree') \n"
     ]
    },
    {
     "data": {
      "text/html": [
       "<pre style=\"white-space:pre;overflow-x:auto;line-height:normal;font-family:Menlo,'DejaVu Sans Mono',consolas,'Courier New',monospace\"><span style=\"color: #7fbfbf; text-decoration-color: #7fbfbf\">           </span><span style=\"color: #008080; text-decoration-color: #008080\">INFO</span>: using: SI unit system for unit inference.                                                         \n",
       "</pre>\n"
      ],
      "text/plain": [
       "\u001b[2;36m          \u001b[0m\u001b[2;36m \u001b[0m\u001b[36mINFO\u001b[0m: using: SI unit system for unit inference.                                                         \n"
      ]
     },
     "metadata": {},
     "output_type": "display_data"
    },
    {
     "data": {
      "text/html": [
       "<pre style=\"white-space:pre;overflow-x:auto;line-height:normal;font-family:Menlo,'DejaVu Sans Mono',consolas,'Courier New',monospace\"><span style=\"color: #7fbfbf; text-decoration-color: #7fbfbf\">[11:15:54] </span><span style=\"color: #008080; text-decoration-color: #008080\">INFO</span>: Successfully submitted:                                                                           \n",
       "<span style=\"color: #7fbfbf; text-decoration-color: #7fbfbf\">           </span>        type   = Case                                                                                   \n",
       "<span style=\"color: #7fbfbf; text-decoration-color: #7fbfbf\">           </span>        name   = alpha_0_case                                                                           \n",
       "<span style=\"color: #7fbfbf; text-decoration-color: #7fbfbf\">           </span>        id     = case-<span style=\"color: #ffff00; text-decoration-color: #ffff00\">c972d838-2858-4f90-9894-53fb3be41e4b</span>                                              \n",
       "<span style=\"color: #7fbfbf; text-decoration-color: #7fbfbf\">           </span>        status = pending                                                                                \n",
       "<span style=\"color: #7fbfbf; text-decoration-color: #7fbfbf\">           </span>                                                                                                        \n",
       "</pre>\n"
      ],
      "text/plain": [
       "\u001b[2;36m[11:15:54]\u001b[0m\u001b[2;36m \u001b[0m\u001b[36mINFO\u001b[0m: Successfully submitted:                                                                           \n",
       "\u001b[2;36m           \u001b[0m        type   = Case                                                                                   \n",
       "\u001b[2;36m           \u001b[0m        name   = alpha_0_case                                                                           \n",
       "\u001b[2;36m           \u001b[0m        id     = case-\u001b[93mc972d838-2858-4f90-9894-53fb3be41e4b\u001b[0m                                              \n",
       "\u001b[2;36m           \u001b[0m        status = pending                                                                                \n",
       "\u001b[2;36m           \u001b[0m                                                                                                        \n"
      ]
     },
     "metadata": {},
     "output_type": "display_data"
    },
    {
     "name": "stdout",
     "output_type": "stream",
     "text": [
      "The case ID is: case-c972d838-2858-4f90-9894-53fb3be41e4b with alpha_angle=unyt_quantity(0, 'degree') \n"
     ]
    },
    {
     "data": {
      "text/html": [
       "<pre style=\"white-space:pre;overflow-x:auto;line-height:normal;font-family:Menlo,'DejaVu Sans Mono',consolas,'Courier New',monospace\"><span style=\"color: #7fbfbf; text-decoration-color: #7fbfbf\">[11:15:55] </span><span style=\"color: #008080; text-decoration-color: #008080\">INFO</span>: using: SI unit system for unit inference.                                                         \n",
       "</pre>\n"
      ],
      "text/plain": [
       "\u001b[2;36m[11:15:55]\u001b[0m\u001b[2;36m \u001b[0m\u001b[36mINFO\u001b[0m: using: SI unit system for unit inference.                                                         \n"
      ]
     },
     "metadata": {},
     "output_type": "display_data"
    },
    {
     "data": {
      "text/html": [
       "<pre style=\"white-space:pre;overflow-x:auto;line-height:normal;font-family:Menlo,'DejaVu Sans Mono',consolas,'Courier New',monospace\"><span style=\"color: #7fbfbf; text-decoration-color: #7fbfbf\">[11:15:57] </span><span style=\"color: #008080; text-decoration-color: #008080\">INFO</span>: Successfully submitted:                                                                           \n",
       "<span style=\"color: #7fbfbf; text-decoration-color: #7fbfbf\">           </span>        type   = Case                                                                                   \n",
       "<span style=\"color: #7fbfbf; text-decoration-color: #7fbfbf\">           </span>        name   = alpha_5_case                                                                           \n",
       "<span style=\"color: #7fbfbf; text-decoration-color: #7fbfbf\">           </span>        id     = case-<span style=\"color: #ffff00; text-decoration-color: #ffff00\">4666c0a7-f128-4b8e-b10a-377a53366819</span>                                              \n",
       "<span style=\"color: #7fbfbf; text-decoration-color: #7fbfbf\">           </span>        status = pending                                                                                \n",
       "<span style=\"color: #7fbfbf; text-decoration-color: #7fbfbf\">           </span>                                                                                                        \n",
       "</pre>\n"
      ],
      "text/plain": [
       "\u001b[2;36m[11:15:57]\u001b[0m\u001b[2;36m \u001b[0m\u001b[36mINFO\u001b[0m: Successfully submitted:                                                                           \n",
       "\u001b[2;36m           \u001b[0m        type   = Case                                                                                   \n",
       "\u001b[2;36m           \u001b[0m        name   = alpha_5_case                                                                           \n",
       "\u001b[2;36m           \u001b[0m        id     = case-\u001b[93m4666c0a7-f128-4b8e-b10a-377a53366819\u001b[0m                                              \n",
       "\u001b[2;36m           \u001b[0m        status = pending                                                                                \n",
       "\u001b[2;36m           \u001b[0m                                                                                                        \n"
      ]
     },
     "metadata": {},
     "output_type": "display_data"
    },
    {
     "name": "stdout",
     "output_type": "stream",
     "text": [
      "The case ID is: case-4666c0a7-f128-4b8e-b10a-377a53366819 with alpha_angle=unyt_quantity(5, 'degree') \n"
     ]
    },
    {
     "data": {
      "text/html": [
       "<pre style=\"white-space:pre;overflow-x:auto;line-height:normal;font-family:Menlo,'DejaVu Sans Mono',consolas,'Courier New',monospace\"><span style=\"color: #7fbfbf; text-decoration-color: #7fbfbf\">[11:15:58] </span><span style=\"color: #008080; text-decoration-color: #008080\">INFO</span>: using: SI unit system for unit inference.                                                         \n",
       "</pre>\n"
      ],
      "text/plain": [
       "\u001b[2;36m[11:15:58]\u001b[0m\u001b[2;36m \u001b[0m\u001b[36mINFO\u001b[0m: using: SI unit system for unit inference.                                                         \n"
      ]
     },
     "metadata": {},
     "output_type": "display_data"
    },
    {
     "data": {
      "text/html": [
       "<pre style=\"white-space:pre;overflow-x:auto;line-height:normal;font-family:Menlo,'DejaVu Sans Mono',consolas,'Courier New',monospace\"><span style=\"color: #7fbfbf; text-decoration-color: #7fbfbf\">[11:16:00] </span><span style=\"color: #008080; text-decoration-color: #008080\">INFO</span>: Successfully submitted:                                                                           \n",
       "<span style=\"color: #7fbfbf; text-decoration-color: #7fbfbf\">           </span>        type   = Case                                                                                   \n",
       "<span style=\"color: #7fbfbf; text-decoration-color: #7fbfbf\">           </span>        name   = alpha_10_case                                                                          \n",
       "<span style=\"color: #7fbfbf; text-decoration-color: #7fbfbf\">           </span>        id     = case-<span style=\"color: #ffff00; text-decoration-color: #ffff00\">7cf6a5dc-2118-4023-b666-a14800553c22</span>                                              \n",
       "<span style=\"color: #7fbfbf; text-decoration-color: #7fbfbf\">           </span>        status = pending                                                                                \n",
       "<span style=\"color: #7fbfbf; text-decoration-color: #7fbfbf\">           </span>                                                                                                        \n",
       "</pre>\n"
      ],
      "text/plain": [
       "\u001b[2;36m[11:16:00]\u001b[0m\u001b[2;36m \u001b[0m\u001b[36mINFO\u001b[0m: Successfully submitted:                                                                           \n",
       "\u001b[2;36m           \u001b[0m        type   = Case                                                                                   \n",
       "\u001b[2;36m           \u001b[0m        name   = alpha_10_case                                                                          \n",
       "\u001b[2;36m           \u001b[0m        id     = case-\u001b[93m7cf6a5dc-2118-4023-b666-a14800553c22\u001b[0m                                              \n",
       "\u001b[2;36m           \u001b[0m        status = pending                                                                                \n",
       "\u001b[2;36m           \u001b[0m                                                                                                        \n"
      ]
     },
     "metadata": {},
     "output_type": "display_data"
    },
    {
     "name": "stdout",
     "output_type": "stream",
     "text": [
      "The case ID is: case-7cf6a5dc-2118-4023-b666-a14800553c22 with alpha_angle=unyt_quantity(10, 'degree') \n"
     ]
    },
    {
     "data": {
      "text/html": [
       "<pre style=\"white-space:pre;overflow-x:auto;line-height:normal;font-family:Menlo,'DejaVu Sans Mono',consolas,'Courier New',monospace\"><span style=\"color: #7fbfbf; text-decoration-color: #7fbfbf\">[11:16:01] </span><span style=\"color: #008080; text-decoration-color: #008080\">INFO</span>: using: SI unit system for unit inference.                                                         \n",
       "</pre>\n"
      ],
      "text/plain": [
       "\u001b[2;36m[11:16:01]\u001b[0m\u001b[2;36m \u001b[0m\u001b[36mINFO\u001b[0m: using: SI unit system for unit inference.                                                         \n"
      ]
     },
     "metadata": {},
     "output_type": "display_data"
    },
    {
     "data": {
      "text/html": [
       "<pre style=\"white-space:pre;overflow-x:auto;line-height:normal;font-family:Menlo,'DejaVu Sans Mono',consolas,'Courier New',monospace\"><span style=\"color: #7fbfbf; text-decoration-color: #7fbfbf\">[11:16:03] </span><span style=\"color: #008080; text-decoration-color: #008080\">INFO</span>: Successfully submitted:                                                                           \n",
       "<span style=\"color: #7fbfbf; text-decoration-color: #7fbfbf\">           </span>        type   = Case                                                                                   \n",
       "<span style=\"color: #7fbfbf; text-decoration-color: #7fbfbf\">           </span>        name   = alpha_12_case                                                                          \n",
       "<span style=\"color: #7fbfbf; text-decoration-color: #7fbfbf\">           </span>        id     = case-<span style=\"color: #ffff00; text-decoration-color: #ffff00\">99ea0c08-49b6-4d7c-8655-07bd9b18dc55</span>                                              \n",
       "<span style=\"color: #7fbfbf; text-decoration-color: #7fbfbf\">           </span>        status = pending                                                                                \n",
       "<span style=\"color: #7fbfbf; text-decoration-color: #7fbfbf\">           </span>                                                                                                        \n",
       "</pre>\n"
      ],
      "text/plain": [
       "\u001b[2;36m[11:16:03]\u001b[0m\u001b[2;36m \u001b[0m\u001b[36mINFO\u001b[0m: Successfully submitted:                                                                           \n",
       "\u001b[2;36m           \u001b[0m        type   = Case                                                                                   \n",
       "\u001b[2;36m           \u001b[0m        name   = alpha_12_case                                                                          \n",
       "\u001b[2;36m           \u001b[0m        id     = case-\u001b[93m99ea0c08-49b6-4d7c-8655-07bd9b18dc55\u001b[0m                                              \n",
       "\u001b[2;36m           \u001b[0m        status = pending                                                                                \n",
       "\u001b[2;36m           \u001b[0m                                                                                                        \n"
      ]
     },
     "metadata": {},
     "output_type": "display_data"
    },
    {
     "name": "stdout",
     "output_type": "stream",
     "text": [
      "The case ID is: case-99ea0c08-49b6-4d7c-8655-07bd9b18dc55 with alpha_angle=unyt_quantity(12, 'degree') \n"
     ]
    },
    {
     "data": {
      "text/html": [
       "<pre style=\"white-space:pre;overflow-x:auto;line-height:normal;font-family:Menlo,'DejaVu Sans Mono',consolas,'Courier New',monospace\"><span style=\"color: #7fbfbf; text-decoration-color: #7fbfbf\">[11:16:04] </span><span style=\"color: #008080; text-decoration-color: #008080\">INFO</span>: using: SI unit system for unit inference.                                                         \n",
       "</pre>\n"
      ],
      "text/plain": [
       "\u001b[2;36m[11:16:04]\u001b[0m\u001b[2;36m \u001b[0m\u001b[36mINFO\u001b[0m: using: SI unit system for unit inference.                                                         \n"
      ]
     },
     "metadata": {},
     "output_type": "display_data"
    },
    {
     "data": {
      "text/html": [
       "<pre style=\"white-space:pre;overflow-x:auto;line-height:normal;font-family:Menlo,'DejaVu Sans Mono',consolas,'Courier New',monospace\"><span style=\"color: #7fbfbf; text-decoration-color: #7fbfbf\">[11:16:06] </span><span style=\"color: #008080; text-decoration-color: #008080\">INFO</span>: Successfully submitted:                                                                           \n",
       "<span style=\"color: #7fbfbf; text-decoration-color: #7fbfbf\">           </span>        type   = Case                                                                                   \n",
       "<span style=\"color: #7fbfbf; text-decoration-color: #7fbfbf\">           </span>        name   = alpha_14_case                                                                          \n",
       "<span style=\"color: #7fbfbf; text-decoration-color: #7fbfbf\">           </span>        id     = case-<span style=\"color: #ffff00; text-decoration-color: #ffff00\">c9be2bf5-096c-4408-b8ab-5662899c7b5b</span>                                              \n",
       "<span style=\"color: #7fbfbf; text-decoration-color: #7fbfbf\">           </span>        status = pending                                                                                \n",
       "<span style=\"color: #7fbfbf; text-decoration-color: #7fbfbf\">           </span>                                                                                                        \n",
       "</pre>\n"
      ],
      "text/plain": [
       "\u001b[2;36m[11:16:06]\u001b[0m\u001b[2;36m \u001b[0m\u001b[36mINFO\u001b[0m: Successfully submitted:                                                                           \n",
       "\u001b[2;36m           \u001b[0m        type   = Case                                                                                   \n",
       "\u001b[2;36m           \u001b[0m        name   = alpha_14_case                                                                          \n",
       "\u001b[2;36m           \u001b[0m        id     = case-\u001b[93mc9be2bf5-096c-4408-b8ab-5662899c7b5b\u001b[0m                                              \n",
       "\u001b[2;36m           \u001b[0m        status = pending                                                                                \n",
       "\u001b[2;36m           \u001b[0m                                                                                                        \n"
      ]
     },
     "metadata": {},
     "output_type": "display_data"
    },
    {
     "data": {
      "application/vnd.jupyter.widget-view+json": {
       "model_id": "58157e6d657f45dea1afb25e7fcc14da",
       "version_major": 2,
       "version_minor": 0
      },
      "text/plain": [
       "Output()"
      ]
     },
     "metadata": {},
     "output_type": "display_data"
    },
    {
     "name": "stdout",
     "output_type": "stream",
     "text": [
      "The case ID is: case-c9be2bf5-096c-4408-b8ab-5662899c7b5b with alpha_angle=unyt_quantity(14, 'degree') \n",
      "Waiting for cases to complete...\n"
     ]
    }
   ],
   "source": [
    "case_list = []\n",
    "\n",
    "alphas = [-10, -5, 0, 5, 10, 12, 14] * fl.u.deg\n",
    "\n",
    "for alpha_angle in alphas:\n",
    "    params.operating_condition.alpha = alpha_angle\n",
    "\n",
    "    case = project.run_case(params=params, name=f\"alpha_{alpha_angle.value}_case\")\n",
    "\n",
    "    print(f\"The case ID is: {case.id} with {alpha_angle=} \")\n",
    "    case_list.append(case)\n",
    "\n",
    "print(\"Waiting for cases to complete...\")\n",
    "for case in case_list:\n",
    "    case.wait()\n",
    "print(\"All cases completed.\")"
   ]
  },
  {
   "cell_type": "markdown",
   "metadata": {},
   "source": [
    "## 7. Report Generation\n",
    "\n",
    "Flow360 provides a reporting feature to automatically generate documents summarizing simulation results. A report is defined by a `ReportTemplate` which is populated with various items like tables, charts, and 3D scenes. The following cells will walk through the process of setting up the components of the report.\n",
    "\n",
    "For convenience sake, we will assign `fl.report` namespace to `rep` and mark farfield as a surface we want to exclude from our report as it would skew the results.\n"
   ]
  },
  {
   "cell_type": "code",
   "execution_count": null,
   "metadata": {},
   "outputs": [],
   "source": [
    "rep = fl.report\n",
    "\n",
    "exclude_surfaces = [\"fluid/farfield\"]"
   ]
  },
  {
   "cell_type": "markdown",
   "metadata": {},
   "source": [
    "### Camera and View Setup\n",
    "\n",
    "For 3D visualizations within the report, such as surface contours or isosurfaces, specific camera views must be defined. The following code sets up a series of standard camera positions (top, bottom, front, etc.) that will be used to generate consistent imagery for each case in the sweep."
   ]
  },
  {
   "cell_type": "code",
   "execution_count": null,
   "metadata": {},
   "outputs": [],
   "source": [
    "top_camera = rep.TopCamera(pan_target=(3.5, 0, -0.5), dimension=15, dimension_dir=\"height\")\n",
    "bottom_camera = rep.BottomCamera(pan_target=(3.5, 0, -0.5), dimension=15, dimension_dir=\"height\")\n",
    "front_camera = rep.FrontCamera(pan_target=(3.5, 0, -0.5), dimension=15, dimension_dir=\"width\")\n",
    "rear_camera = rep.RearCamera(pan_target=(3.5, 0, -0.5), dimension=15, dimension_dir=\"width\")\n",
    "left_camera = rep.LeftCamera(pan_target=(3.5, 0, -0.5), dimension=10, dimension_dir=\"width\")\n",
    "right_camera = rep.Camera(\n",
    "    pan_target=(3.5, 0, -0.5),\n",
    "    position=(0.0, -1.0, 0.0),\n",
    "    look_at=(0.0, 0.0, 0.0),\n",
    "    up=(0.0, 0.0, 1.0),\n",
    "    dimension=10,\n",
    "    dimension_dir=\"width\",\n",
    ")\n",
    "front_left_top_camera = rep.FrontLeftTopCamera(\n",
    "    pan_target=(3.5, 0, -0.5), dimension=15, dimension_dir=\"width\"\n",
    ")\n",
    "rear_right_bottom_camera = rep.RearRightBottomCamera(\n",
    "    pan_target=(3.5, 0, -0.5), dimension=15, dimension_dir=\"width\"\n",
    ")\n",
    "\n",
    "geo_cameras = [\n",
    "    top_camera,\n",
    "    bottom_camera,\n",
    "    front_camera,\n",
    "    rear_camera,\n",
    "    left_camera,\n",
    "    right_camera,\n",
    "    front_left_top_camera,\n",
    "    rear_right_bottom_camera,\n",
    "]\n",
    "\n",
    "geo_camera_names = [\n",
    "    \"top_camera\",\n",
    "    \"bottom_camera\",\n",
    "    \"front_camera\",\n",
    "    \"rear_camera\",\n",
    "    \"left_camera\",\n",
    "    \"right_camera\",\n",
    "    \"front_left_top_camera\",\n",
    "    \"rear_right_bottom_camera\",\n",
    "]"
   ]
  },
  {
   "cell_type": "markdown",
   "metadata": {},
   "source": [
    "### Data Items and Averaging\n",
    "\n",
    "`DataItem` objects are used to specify which results to extract for tables and charts. They can be combined with operations, such as `Average`, to perform post-processing. Here, we define `DataItem`s for aerodynamic coefficients and apply a time-averaging operation over the last 10% of the simulation steps."
   ]
  },
  {
   "cell_type": "code",
   "execution_count": null,
   "metadata": {},
   "outputs": [],
   "source": [
    "avg = rep.Average(fraction=0.1)\n",
    "\n",
    "force_list = [\n",
    "    \"CD\",\n",
    "    \"CL\",\n",
    "    \"CFx\",\n",
    "    \"CFy\",\n",
    "    \"CFz\",\n",
    "    \"CMx\",\n",
    "    \"CMy\",\n",
    "    \"CMz\",\n",
    "]\n",
    "\n",
    "CD = rep.DataItem(\n",
    "    data=\"surface_forces/totalCD\", exclude=exclude_surfaces, title=\"CD\", operations=avg\n",
    ")\n",
    "CL = rep.DataItem(\n",
    "    data=\"surface_forces/totalCL\", exclude=exclude_surfaces, title=\"CL\", operations=avg\n",
    ")\n",
    "CFX = rep.DataItem(\n",
    "    data=\"surface_forces/totalCFx\", exclude=exclude_surfaces, title=\"CFx\", operations=avg\n",
    ")\n",
    "CFY = rep.DataItem(\n",
    "    data=\"surface_forces/totalCFy\", exclude=exclude_surfaces, title=\"CFy\", operations=avg\n",
    ")\n",
    "CFZ = rep.DataItem(\n",
    "    data=\"surface_forces/totalCFz\", exclude=exclude_surfaces, title=\"CFz\", operations=avg\n",
    ")\n",
    "CMX = rep.DataItem(\n",
    "    data=\"surface_forces/totalCMx\", exclude=exclude_surfaces, title=\"CMx\", operations=avg\n",
    ")\n",
    "CMY = rep.DataItem(\n",
    "    data=\"surface_forces/totalCMy\", exclude=exclude_surfaces, title=\"CMy\", operations=avg\n",
    ")\n",
    "CMZ = rep.DataItem(\n",
    "    data=\"surface_forces/totalCMz\", exclude=exclude_surfaces, title=\"CMz\", operations=avg\n",
    ")\n",
    "\n",
    "table_data = [\n",
    "    CD,\n",
    "    CL,\n",
    "    CFX,\n",
    "    CFY,\n",
    "    CFZ,\n",
    "    CMX,\n",
    "    CMY,\n",
    "    CMZ,\n",
    "]"
   ]
  },
  {
   "cell_type": "markdown",
   "metadata": {},
   "source": [
    "### Assembling the Report Items\n",
    "\n",
    "With the cameras and data items defined, the individual components of the report can be assembled. We will create `generate_report_items` function that creates a list of report items based on the provided boolean flags. This modular approach allows for easy customization of the report content.\n"
   ]
  },
  {
   "cell_type": "code",
   "execution_count": null,
   "metadata": {},
   "outputs": [],
   "source": [
    "def generate_report_items(\n",
    "    params,\n",
    "    table_data,\n",
    "    force_list,\n",
    "    geo_cameras,\n",
    "    geo_camera_names,\n",
    "    front_left_top_camera,\n",
    "    exclude_surfaces,\n",
    "    include_geometry: bool,\n",
    "    include_general_tables: bool,\n",
    "    include_residuals: bool,\n",
    "    include_cfl: bool,\n",
    "    include_forces_moments_table: bool,\n",
    "    include_forces_moments_charts: bool,\n",
    "    include_forces_moments_alpha_charts: bool,\n",
    "    include_forces_moments_beta_charts: bool,\n",
    "    include_cf_vec: bool,\n",
    "    include_cp: bool,\n",
    "    include_yplus: bool,\n",
    "    include_qcriterion: bool,\n",
    "):\n",
    "    items = []\n",
    "\n",
    "    if params.time_stepping.type_name == \"Unsteady\":\n",
    "        step_type = \"physical_step\"\n",
    "    else:\n",
    "        step_type = \"pseudo_step\"\n",
    "\n",
    "    for model in params.models:\n",
    "        if model.type == \"Fluid\":\n",
    "            turbulence_solver = model.turbulence_model_solver.type_name\n",
    "\n",
    "    if include_geometry:\n",
    "        geometry_screenshots = [\n",
    "            rep.Chart3D(\n",
    "                section_title=\"Geometry\",\n",
    "                items_in_row=2,\n",
    "                force_new_page=True,\n",
    "                show=\"boundaries\",\n",
    "                camera=front_left_top_camera,\n",
    "                exclude=exclude_surfaces,\n",
    "                fig_name=\"Geometry_view\",\n",
    "            )\n",
    "        ]\n",
    "        items.extend(geometry_screenshots)\n",
    "\n",
    "    if include_general_tables:\n",
    "        items.append(rep.Summary())\n",
    "        items.append(rep.Inputs())\n",
    "\n",
    "    if include_forces_moments_table:\n",
    "        table = rep.Table(\n",
    "            data=table_data,\n",
    "            section_title=\"Quantities of interest\",\n",
    "        )\n",
    "        items.append(table)\n",
    "\n",
    "    if include_residuals:\n",
    "        residual_chart = rep.NonlinearResiduals(\n",
    "            force_new_page=True, section_title=\"Nonlinear residuals\", fig_name=f\"nonlin-res_fig\"\n",
    "        )\n",
    "        items.append(residual_chart)\n",
    "\n",
    "    if include_cfl and params.time_stepping.CFL.type == \"adaptive\":\n",
    "        cfl_chart = rep.Chart2D(\n",
    "            x=f\"cfl/{step_type}\",\n",
    "            y=[\"cfl/0_NavierStokes_cfl\", f\"cfl/1_{turbulence_solver}_cfl\"],\n",
    "            force_new_page=True,\n",
    "            section_title=\"CFL\",\n",
    "            fig_name=\"cfl_fig\",\n",
    "            y_log=True,\n",
    "        )\n",
    "        items.append(cfl_chart)\n",
    "\n",
    "    if include_forces_moments_charts:\n",
    "        force_charts = [\n",
    "            rep.Chart2D(\n",
    "                x=f\"surface_forces/{step_type}\",\n",
    "                y=f\"surface_forces/total{force}\",\n",
    "                force_new_page=True,\n",
    "                section_title=\"Forces/Moments\",\n",
    "                fig_name=f\"{force}_fig\",\n",
    "                exclude=exclude_surfaces,\n",
    "                ylim=rep.SubsetLimit(subset=(0.5, 1), offset=0.25),\n",
    "            )\n",
    "            for force in force_list\n",
    "        ]\n",
    "        items.extend(force_charts)\n",
    "\n",
    "    if include_forces_moments_alpha_charts:\n",
    "        force_alpha_charts = [\n",
    "            rep.Chart2D(\n",
    "                x=f\"params/operating_condition/alpha\",\n",
    "                y=f\"total_forces/averages/{force}\",\n",
    "                force_new_page=True,\n",
    "                section_title=\"Averaged Forces/Moments against alpha\",\n",
    "                fig_name=f\"{force}_alpha_fig\",\n",
    "            )\n",
    "            for force in force_list\n",
    "        ]\n",
    "        items.extend(force_alpha_charts)\n",
    "\n",
    "    if include_forces_moments_beta_charts:\n",
    "        force_beta_charts = [\n",
    "            rep.Chart2D(\n",
    "                x=f\"params/operating_condition/beta\",\n",
    "                y=f\"total_forces/averages/{force}\",\n",
    "                force_new_page=True,\n",
    "                section_title=\"Averaged Forces/Moments against beta\",\n",
    "                fig_name=f\"{force}_beta_fig\",\n",
    "            )\n",
    "            for force in force_list\n",
    "        ]\n",
    "        items.extend(force_beta_charts)\n",
    "\n",
    "    if include_yplus:\n",
    "        y_plus_screenshots = [\n",
    "            rep.Chart3D(\n",
    "                caption=rep.PatternCaption(pattern=f\"y+_{camera_name}_[case.name]\"),\n",
    "                show=\"boundaries\",\n",
    "                field=\"yPlus\",\n",
    "                exclude=exclude_surfaces,\n",
    "                limits=(0, 5),\n",
    "                camera=camera,\n",
    "                fig_name=f\"yplus_{camera_name}_fig\",\n",
    "                fig_size=1,\n",
    "            )\n",
    "            for camera_name, camera in zip(geo_camera_names, geo_cameras)\n",
    "        ]\n",
    "        items.extend(y_plus_screenshots)\n",
    "\n",
    "    if include_cp:\n",
    "        cp_screenshots = [\n",
    "            rep.Chart3D(\n",
    "                caption=rep.PatternCaption(pattern=f\"Cp_{camera_name}_[case.name]\"),\n",
    "                show=\"boundaries\",\n",
    "                field=\"Cp\",\n",
    "                exclude=exclude_surfaces,\n",
    "                limits=(-1, 1),\n",
    "                camera=camera,\n",
    "                fig_name=f\"cp_{camera_name}_fig\",\n",
    "                fig_size=1,\n",
    "            )\n",
    "            for camera_name, camera in zip(geo_camera_names, geo_cameras)\n",
    "        ]\n",
    "        items.extend(cp_screenshots)\n",
    "\n",
    "    if include_cf_vec:\n",
    "        cfvec_screenshots = [\n",
    "            rep.Chart3D(\n",
    "                caption=rep.PatternCaption(pattern=f\"Cf_vec_{camera_name}_[case.name]\"),\n",
    "                show=\"boundaries\",\n",
    "                field=\"CfVec\",\n",
    "                mode=\"lic\",\n",
    "                exclude=exclude_surfaces,\n",
    "                limits=(0, 0.025),\n",
    "                camera=camera,\n",
    "                fig_name=f\"cfvec_{camera_name}_fig\",\n",
    "                fig_size=1,\n",
    "            )\n",
    "            for camera_name, camera in zip(geo_camera_names, geo_cameras)\n",
    "        ]\n",
    "        items.extend(cfvec_screenshots)\n",
    "\n",
    "    if include_qcriterion:\n",
    "        qcriterion_screenshots = [\n",
    "            rep.Chart3D(\n",
    "                caption=rep.PatternCaption(\n",
    "                    pattern=f\"Isosurface_q_criterion_{camera_name}_[case.name]\"\n",
    "                ),\n",
    "                show=\"isosurface\",\n",
    "                iso_field=\"qcriterion\",\n",
    "                exclude=exclude_surfaces,\n",
    "                limits=(0, 0.8),\n",
    "                camera=camera,\n",
    "                fig_name=f\"qcriterion_{camera_name}_fig\",\n",
    "                fig_size=1,\n",
    "            )\n",
    "            for camera_name, camera in zip(geo_camera_names, geo_cameras)\n",
    "        ]\n",
    "        items.extend(qcriterion_screenshots)\n",
    "\n",
    "    return items"
   ]
  },
  {
   "cell_type": "markdown",
   "metadata": {},
   "source": [
    "Now we can easily choose which items to include in our report."
   ]
  },
  {
   "cell_type": "code",
   "execution_count": null,
   "metadata": {},
   "outputs": [],
   "source": [
    "items = generate_report_items(\n",
    "    params,\n",
    "    table_data,\n",
    "    force_list,\n",
    "    geo_cameras,\n",
    "    geo_camera_names,\n",
    "    front_left_top_camera,\n",
    "    exclude_surfaces,\n",
    "    include_geometry=True,\n",
    "    include_general_tables=True,\n",
    "    include_residuals=True,\n",
    "    include_cfl=True,\n",
    "    include_forces_moments_table=True,\n",
    "    include_forces_moments_charts=True,\n",
    "    include_forces_moments_alpha_charts=True,\n",
    "    include_forces_moments_beta_charts=True,\n",
    "    include_cf_vec=True,\n",
    "    include_cp=True,\n",
    "    include_yplus=True,\n",
    "    include_qcriterion=True,\n",
    ")"
   ]
  },
  {
   "cell_type": "markdown",
   "metadata": {},
   "source": [
    "### Creating and Downloading the Report\n",
    "\n",
    "Finally, the `ReportTemplate` is instantiated with the list of items. The `create_in_cloud` method initiates the report generation process on the Flow360 platform. The script then waits for the report to be completed and downloads it as a PDF file.\n"
   ]
  },
  {
   "cell_type": "code",
   "execution_count": null,
   "metadata": {},
   "outputs": [],
   "source": [
    "report = rep.ReportTemplate(\n",
    "    title=\"Sweep Template Report\",\n",
    "    items=items,\n",
    "    settings=rep.Settings(dpi=150),\n",
    ")\n",
    "\n",
    "report = report.create_in_cloud(\n",
    "    \"sweep-script-report\",\n",
    "    case_list,\n",
    ")\n",
    "\n",
    "report.wait()\n",
    "report.download(\"report.pdf\")\n",
    "print(\"Report downloaded as report.pdf\")"
   ]
  }
 ],
 "metadata": {
  "kernelspec": {
   "display_name": "flow360",
   "language": "python",
   "name": "python3"
  },
  "language_info": {
   "codemirror_mode": {
    "name": "ipython",
    "version": 3
   },
   "file_extension": ".py",
   "mimetype": "text/x-python",
   "name": "python",
   "nbconvert_exporter": "python",
   "pygments_lexer": "ipython3",
   "version": "3.11.13"
  }
 },
 "nbformat": 4,
 "nbformat_minor": 2
}
