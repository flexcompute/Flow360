{
 "cells": [
  {
   "cell_type": "markdown",
   "metadata": {},
   "source": [
    "# Meshing a Cube with snappyHexMesh\n",
    "\n",
    "This notebook shows how to mesh a simple cube using snappyHexMesh in Flow360. This is a very simple geometry to show the integration of snappyHexMesh in flow360."
   ]
  },
  {
   "cell_type": "markdown",
   "metadata": {},
   "source": [
    "## 1. Create Project from geometry\n",
    "- Load Python libraries and Flow360 client. If you use environment variables or tokens, initialize them here so later API calls can authenticate.\n",
    "- Project is created from geometry CAD file of the cube."
   ]
  },
  {
   "cell_type": "code",
   "execution_count": null,
   "id": "881341eb",
   "metadata": {},
   "outputs": [],
   "source": [
    "import flow360 as fl\n",
    "from flow360.examples import cube\n",
    "\n",
    "cube.get_files()\n",
    "\n",
    "solver_version = \"snappyHex-25.8.7\"\n",
    "project = fl.Project.from_geometry(\n",
    "    cube.geometry,\n",
    "    name='simple geometry',\n",
    "    length_unit='m',\n",
    "    solver_version=solver_version)\n",
    "\n",
    "geo = project.geometry\n",
    "geo.show_available_groupings(verbose_mode=True)\n",
    "geo.group_faces_by_tag(\"faceId\")"
   ]
  },
  {
   "cell_type": "markdown",
   "id": "8206b22c",
   "metadata": {},
   "source": [
    "## 2. Define meshing parameters\n",
    "The global meshing parameters are defined with the modular meshing workflow which allows to choose the mesher for surface and volume meshes. In this case, we'll be using the snappy integration as surface meshing and the beta mesher for the volume mesh."
   ]
  },
  {
   "cell_type": "code",
   "execution_count": null,
   "id": "f79d204f",
   "metadata": {},
   "outputs": [],
   "source": [
    "with fl.SI_unit_system:\n",
    "    farfield = fl.AutomatedFarfield()\n",
    "    meshing_params=fl.ModularMeshingWorkflow(\n",
    "        surface_meshing=fl.SnappySurfaceMeshingParams(\n",
    "            defaults=fl.SnappySurfaceMeshingDefaults(\n",
    "                min_spacing=5*fl.u.mm,\n",
    "                max_spacing=100*fl.u.mm,\n",
    "                gap_resolution=1*fl.u.mm\n",
    "            )\n",
    "        ),\n",
    "        volume_meshing=fl.BetaVolumeMeshingParams(\n",
    "            defaults=fl.BetaVolumeMeshingDefaults(\n",
    "                boundary_layer_first_layer_thickness=0.1*fl.u.mm\n",
    "            )\n",
    "        ),\n",
    "        zones=[farfield]\n",
    "    )"
   ]
  },
  {
   "cell_type": "markdown",
   "id": "53735fa8",
   "metadata": {},
   "source": [
    "## 3. Define SimulationParams\n",
    "- The simulation parameters are defined in the python class fl.SimulationParams()\n",
    "- The meshing configuration defined previously is used here."
   ]
  },
  {
   "cell_type": "code",
   "execution_count": null,
   "metadata": {},
   "outputs": [],
   "source": [
    "with fl.SI_unit_system:\n",
    "    params = fl.SimulationParams(\n",
    "        meshing=meshing_params,\n",
    "        operating_condition=fl.AerospaceCondition(\n",
    "            velocity_magnitude=10*fl.u.m/fl.u.s\n",
    "        ),\n",
    "        time_stepping=fl.Steady(),\n",
    "        models=[\n",
    "            fl.Wall(\n",
    "                surfaces=geo['*']\n",
    "            ),\n",
    "            fl.Freestream(\n",
    "                surfaces=[farfield.farfield]\n",
    "            )\n",
    "        ],\n",
    "        reference_geometry=fl.ReferenceGeometry()\n",
    "    )"
   ]
  },
  {
   "cell_type": "markdown",
   "metadata": {},
   "source": [
    "## 4. Run Case"
   ]
  },
  {
   "cell_type": "code",
   "execution_count": null,
   "metadata": {},
   "outputs": [],
   "source": [
    "project.run_case(params=params, name=\"Case of tutorial BETDisk from Python\")"
   ]
  }
 ],
 "metadata": {
  "kernelspec": {
   "display_name": "snappy-dev",
   "language": "python",
   "name": "python3"
  },
  "language_info": {
   "codemirror_mode": {
    "name": "ipython",
    "version": 3
   },
   "file_extension": ".py",
   "mimetype": "text/x-python",
   "name": "python",
   "nbconvert_exporter": "python",
   "pygments_lexer": "ipython3",
   "version": "3.11.13"
  }
 },
 "nbformat": 4,
 "nbformat_minor": 5
}
