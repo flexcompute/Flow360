{
 "cells": [
  {
   "cell_type": "markdown",
   "metadata": {},
   "source": [
    "# Aeroacoustics\n",
    "\n",
    "In this notebook we showcase how to set up and run an aeroacoustic simulation for a quadcopter using the Flow360 Python API. The process involves creating a project, defining multiple simulation runs by forking cases, and retrieving aeroacoustic results."
   ]
  },
  {
   "cell_type": "markdown",
   "metadata": {},
   "source": [
    "## 1. Setup and Imports\n",
    "\n",
    "We begin by importing libraries and modules. `flow360` is the main package, and `pandas` is used for data handling of the results."
   ]
  },
  {
   "cell_type": "code",
   "execution_count": 1,
   "metadata": {},
   "outputs": [],
   "source": [
    "import pandas as pd\n",
    "\n",
    "import flow360 as fl\n",
    "from flow360.examples import Quadcopter"
   ]
  },
  {
   "cell_type": "markdown",
   "metadata": {},
   "source": [
    "## 2. Project Creation\n",
    "\n",
    "A Flow360 `Project` is a container for simulation assets such as geometries, meshes and cases. Here, the project is initialized from a pre-existing volume mesh file."
   ]
  },
  {
   "cell_type": "code",
   "execution_count": 2,
   "metadata": {},
   "outputs": [
    {
     "data": {
      "text/html": [
       "<pre style=\"white-space:pre;overflow-x:auto;line-height:normal;font-family:Menlo,'DejaVu Sans Mono',consolas,'Courier New',monospace\"><span style=\"color: #7fbfbf; text-decoration-color: #7fbfbf\">[12:38:50] </span><span style=\"color: #008080; text-decoration-color: #008080\">INFO</span>: VolumeMesh successfully submitted:                                                                \n",
       "<span style=\"color: #7fbfbf; text-decoration-color: #7fbfbf\">           </span>        type   = Volume Mesh                                                                            \n",
       "<span style=\"color: #7fbfbf; text-decoration-color: #7fbfbf\">           </span>        name   = Aeroacoustic results from Python                                                       \n",
       "<span style=\"color: #7fbfbf; text-decoration-color: #7fbfbf\">           </span>        id     = vm-<span style=\"color: #ffff00; text-decoration-color: #ffff00\">a4b4e3cf-ef87-434b-9244-ef9753752cf1</span>                                                \n",
       "<span style=\"color: #7fbfbf; text-decoration-color: #7fbfbf\">           </span>        status = uploaded                                                                               \n",
       "<span style=\"color: #7fbfbf; text-decoration-color: #7fbfbf\">           </span>                                                                                                        \n",
       "</pre>\n"
      ],
      "text/plain": [
       "\u001b[2;36m[12:38:50]\u001b[0m\u001b[2;36m \u001b[0m\u001b[36mINFO\u001b[0m: VolumeMesh successfully submitted:                                                                \n",
       "\u001b[2;36m           \u001b[0m        type   = Volume Mesh                                                                            \n",
       "\u001b[2;36m           \u001b[0m        name   = Aeroacoustic results from Python                                                       \n",
       "\u001b[2;36m           \u001b[0m        id     = vm-\u001b[93ma4b4e3cf-ef87-434b-9244-ef9753752cf1\u001b[0m                                                \n",
       "\u001b[2;36m           \u001b[0m        status = uploaded                                                                               \n",
       "\u001b[2;36m           \u001b[0m                                                                                                        \n"
      ]
     },
     "metadata": {},
     "output_type": "display_data"
    }
   ],
   "source": [
    "Quadcopter.get_files()\n",
    "\n",
    "project = fl.Project.from_volume_mesh(\n",
    "    Quadcopter.mesh_filename, name=\"Aeroacoustic results from Python\"\n",
    ")\n",
    "vm = project.volume_mesh"
   ]
  },
  {
   "cell_type": "markdown",
   "metadata": {},
   "source": [
    "## 3. Simulation Parameters\n",
    "\n",
    "This section defines the simulation parameters. This includes defining the rotating zones, unsteady time-stepping parameters, and the physical models for the simulation.\n"
   ]
  },
  {
   "cell_type": "markdown",
   "metadata": {},
   "source": [
    "### Rotation Zones\n",
    "\n",
    "Provided volume mesh conatins four separate rotating zones, one for each rotor. These zones need to have their center of rotation and axis specified. The rotational speed `omega` is also defined."
   ]
  },
  {
   "cell_type": "code",
   "execution_count": 3,
   "metadata": {},
   "outputs": [
    {
     "data": {
      "text/html": [
       "<pre style=\"white-space:pre;overflow-x:auto;line-height:normal;font-family:Menlo,'DejaVu Sans Mono',consolas,'Courier New',monospace\"><span style=\"color: #7fbfbf; text-decoration-color: #7fbfbf\">[12:39:30] </span><span style=\"color: #008080; text-decoration-color: #008080\">INFO</span>: using: SI unit system for unit inference.                                                         \n",
       "</pre>\n"
      ],
      "text/plain": [
       "\u001b[2;36m[12:39:30]\u001b[0m\u001b[2;36m \u001b[0m\u001b[36mINFO\u001b[0m: using: SI unit system for unit inference.                                                         \n"
      ]
     },
     "metadata": {},
     "output_type": "display_data"
    }
   ],
   "source": [
    "with fl.SI_unit_system:\n",
    "    rotation_zone_1 = vm[\"zone_r1\"]\n",
    "    rotation_zone_1.center = [-0.125, 0.125, 0.0055]\n",
    "    rotation_zone_1.axis = [0, 0, 1]\n",
    "\n",
    "    rotation_zone_2 = vm[\"zone_r2\"]\n",
    "    rotation_zone_2.center = [-0.125, -0.125, 0.0055]\n",
    "    rotation_zone_2.axis = [0, 0, -1]\n",
    "\n",
    "    rotation_zone_3 = vm[\"zone_r3\"]\n",
    "    rotation_zone_3.center = [0.125, -0.125, 0.0055]\n",
    "    rotation_zone_3.axis = [0, 0, 1]\n",
    "\n",
    "    rotation_zone_4 = vm[\"zone_r4\"]\n",
    "    rotation_zone_4.center = [0.125, 0.125, 0.0055]\n",
    "    rotation_zone_4.axis = [0, 0, -1]\n",
    "\n",
    "    omega = 6000 * fl.u.rpm"
   ]
  },
  {
   "cell_type": "markdown",
   "metadata": {},
   "source": [
    "### Time Stepping\n",
    "\n",
    "For this unsteady simulation, the time step size and total number of steps are determined based on a desired rotational increment per step and the total number of rotor revolutions to be simulated. We will start with 3° of rotation per time step for 5 revolutions."
   ]
  },
  {
   "cell_type": "code",
   "execution_count": 4,
   "metadata": {},
   "outputs": [
    {
     "data": {
      "text/html": [
       "<pre style=\"white-space:pre;overflow-x:auto;line-height:normal;font-family:Menlo,'DejaVu Sans Mono',consolas,'Courier New',monospace\"><span style=\"color: #7fbfbf; text-decoration-color: #7fbfbf\">           </span><span style=\"color: #008080; text-decoration-color: #008080\">INFO</span>: using: SI unit system for unit inference.                                                         \n",
       "</pre>\n"
      ],
      "text/plain": [
       "\u001b[2;36m          \u001b[0m\u001b[2;36m \u001b[0m\u001b[36mINFO\u001b[0m: using: SI unit system for unit inference.                                                         \n"
      ]
     },
     "metadata": {},
     "output_type": "display_data"
    }
   ],
   "source": [
    "with fl.SI_unit_system:\n",
    "    # Time step size is calculated based on a specified rotation per time step.\n",
    "    deg_per_time_step_0 = 3.0 * fl.u.deg\n",
    "    time_step_0 = deg_per_time_step_0 / omega.to(\"deg/s\")\n",
    "\n",
    "    # Total number of steps is determined by the required number of revolutions.\n",
    "    revolution_time_0 = 360 * fl.u.deg / omega.to(\"deg/s\")\n",
    "    steps_0 = int(5 * revolution_time_0 / time_step_0)"
   ]
  },
  {
   "cell_type": "markdown",
   "metadata": {},
   "source": [
    "### Simulation Parameters Object\n",
    "\n",
    "The `SimulationParams` object gathers all settings for a simulation run, including reference geometry dimensions, operating conditions, solver settings, and boundary conditions. Previously specified rotation zones will be assigned to a `Rotation` model."
   ]
  },
  {
   "cell_type": "code",
   "execution_count": 5,
   "metadata": {},
   "outputs": [
    {
     "data": {
      "text/html": [
       "<pre style=\"white-space:pre;overflow-x:auto;line-height:normal;font-family:Menlo,'DejaVu Sans Mono',consolas,'Courier New',monospace\"><span style=\"color: #7fbfbf; text-decoration-color: #7fbfbf\">           </span><span style=\"color: #008080; text-decoration-color: #008080\">INFO</span>: using: SI unit system for unit inference.                                                         \n",
       "</pre>\n"
      ],
      "text/plain": [
       "\u001b[2;36m          \u001b[0m\u001b[2;36m \u001b[0m\u001b[36mINFO\u001b[0m: using: SI unit system for unit inference.                                                         \n"
      ]
     },
     "metadata": {},
     "output_type": "display_data"
    }
   ],
   "source": [
    "with fl.SI_unit_system:\n",
    "    params = fl.SimulationParams(\n",
    "        reference_geometry=fl.ReferenceGeometry(\n",
    "            area=0.0447726728530549,\n",
    "            moment_center=[0, 0, 0],\n",
    "            moment_length=[0.11938, 0.11938, 0.11938],\n",
    "        ),\n",
    "        operating_condition=fl.AerospaceCondition.from_mach(\n",
    "            mach=0,\n",
    "            thermal_state=fl.ThermalState(temperature=293.15),\n",
    "            reference_mach=0.21868415800906676,\n",
    "        ),\n",
    "        time_stepping=fl.Unsteady(\n",
    "            step_size=time_step_0,\n",
    "            steps=steps_0,\n",
    "        ),\n",
    "        models=[\n",
    "            fl.Fluid(\n",
    "                navier_stokes_solver=fl.NavierStokesSolver(\n",
    "                    absolute_tolerance=1e-10,\n",
    "                    relative_tolerance=0.1,\n",
    "                    order_of_accuracy=1,\n",
    "                    linear_solver=fl.LinearSolver(max_iterations=30),\n",
    "                ),\n",
    "                turbulence_model_solver=fl.SpalartAllmaras(\n",
    "                    absolute_tolerance=1e-8,\n",
    "                    relative_tolerance=0.1,\n",
    "                    order_of_accuracy=1,\n",
    "                    linear_solver=fl.LinearSolver(max_iterations=20),\n",
    "                ),\n",
    "            ),\n",
    "            fl.Wall(\n",
    "                surfaces=[\n",
    "                    vm[\"zone_s/airframe\"],\n",
    "                    vm[\"zone_r1/blade1\"],\n",
    "                    vm[\"zone_r2/blade2\"],\n",
    "                    vm[\"zone_r3/blade3\"],\n",
    "                    vm[\"zone_r4/blade4\"],\n",
    "                ],\n",
    "            ),\n",
    "            fl.Freestream(surfaces=vm[\"zone_s/farfield\"]),\n",
    "            fl.Rotation(\n",
    "                name=\"Rotation\",\n",
    "                volumes=[rotation_zone_1, rotation_zone_2, rotation_zone_3, rotation_zone_4],\n",
    "                spec=fl.AngularVelocity(value=omega),\n",
    "            ),\n",
    "        ],\n",
    "    )"
   ]
  },
  {
   "cell_type": "markdown",
   "metadata": {},
   "source": [
    "## 4. Executing the Simulation and Forking\n",
    "\n",
    "The simulation is executed in stages. As can be seen based on the settings up above, our first run will be a coarse, first-order simulation in order to establish an initial flow field. Subsequent simulations are then 'forked' from previous ones. Forking a case initializes a new simulation from the results of an existing one, which can significantly reduce computational cost when iterating on simulation parameters. This is particularly useful for changing numerical schemes or introducing new outputs without restarting the simulation from scratch.\n",
    "\n",
    "> Note: First order run is not required here, but is used for demonstration purposes nonetheless."
   ]
  },
  {
   "cell_type": "code",
   "execution_count": 6,
   "metadata": {},
   "outputs": [
    {
     "data": {
      "text/html": [
       "<pre style=\"white-space:pre;overflow-x:auto;line-height:normal;font-family:Menlo,'DejaVu Sans Mono',consolas,'Courier New',monospace\"><span style=\"color: #7fbfbf; text-decoration-color: #7fbfbf\">           </span><span style=\"color: #008080; text-decoration-color: #008080\">INFO</span>: using: SI unit system for unit inference.                                                         \n",
       "</pre>\n"
      ],
      "text/plain": [
       "\u001b[2;36m          \u001b[0m\u001b[2;36m \u001b[0m\u001b[36mINFO\u001b[0m: using: SI unit system for unit inference.                                                         \n"
      ]
     },
     "metadata": {},
     "output_type": "display_data"
    },
    {
     "data": {
      "text/html": [
       "<pre style=\"white-space:pre;overflow-x:auto;line-height:normal;font-family:Menlo,'DejaVu Sans Mono',consolas,'Courier New',monospace\"><span style=\"color: #7fbfbf; text-decoration-color: #7fbfbf\">[12:39:33] </span><span style=\"color: #008080; text-decoration-color: #008080\">INFO</span>: Successfully submitted:                                                                           \n",
       "<span style=\"color: #7fbfbf; text-decoration-color: #7fbfbf\">           </span>        type   = Case                                                                                   \n",
       "<span style=\"color: #7fbfbf; text-decoration-color: #7fbfbf\">           </span>        name   = First order run                                                                        \n",
       "<span style=\"color: #7fbfbf; text-decoration-color: #7fbfbf\">           </span>        id     = case-<span style=\"color: #ffff00; text-decoration-color: #ffff00\">f2793c8b-a0b4-4e34-b426-55ebc517d47b</span>                                              \n",
       "<span style=\"color: #7fbfbf; text-decoration-color: #7fbfbf\">           </span>        status = pending                                                                                \n",
       "<span style=\"color: #7fbfbf; text-decoration-color: #7fbfbf\">           </span>                                                                                                        \n",
       "</pre>\n"
      ],
      "text/plain": [
       "\u001b[2;36m[12:39:33]\u001b[0m\u001b[2;36m \u001b[0m\u001b[36mINFO\u001b[0m: Successfully submitted:                                                                           \n",
       "\u001b[2;36m           \u001b[0m        type   = Case                                                                                   \n",
       "\u001b[2;36m           \u001b[0m        name   = First order run                                                                        \n",
       "\u001b[2;36m           \u001b[0m        id     = case-\u001b[93mf2793c8b-a0b4-4e34-b426-55ebc517d47b\u001b[0m                                              \n",
       "\u001b[2;36m           \u001b[0m        status = pending                                                                                \n",
       "\u001b[2;36m           \u001b[0m                                                                                                        \n"
      ]
     },
     "metadata": {},
     "output_type": "display_data"
    }
   ],
   "source": [
    "case = project.run_case(params, \"First order run\")"
   ]
  },
  {
   "cell_type": "markdown",
   "metadata": {},
   "source": [
    "### Second Run with Higher Order Accuracy\n",
    "\n",
    "For the second run, the order of accuracy for the solvers is increased to 2, and the time step is refined. The case is forked from the initial run to leverage the already computed flow field."
   ]
  },
  {
   "cell_type": "code",
   "execution_count": 7,
   "metadata": {},
   "outputs": [
    {
     "data": {
      "text/html": [
       "<pre style=\"white-space:pre;overflow-x:auto;line-height:normal;font-family:Menlo,'DejaVu Sans Mono',consolas,'Courier New',monospace\"><span style=\"color: #7fbfbf; text-decoration-color: #7fbfbf\">[12:39:35] </span><span style=\"color: #008080; text-decoration-color: #008080\">INFO</span>: using: SI unit system for unit inference.                                                         \n",
       "</pre>\n"
      ],
      "text/plain": [
       "\u001b[2;36m[12:39:35]\u001b[0m\u001b[2;36m \u001b[0m\u001b[36mINFO\u001b[0m: using: SI unit system for unit inference.                                                         \n"
      ]
     },
     "metadata": {},
     "output_type": "display_data"
    },
    {
     "data": {
      "text/html": [
       "<pre style=\"white-space:pre;overflow-x:auto;line-height:normal;font-family:Menlo,'DejaVu Sans Mono',consolas,'Courier New',monospace\"><span style=\"color: #7fbfbf; text-decoration-color: #7fbfbf\">           </span><span style=\"color: #008080; text-decoration-color: #008080\">INFO</span>: using: SI unit system for unit inference.                                                         \n",
       "</pre>\n"
      ],
      "text/plain": [
       "\u001b[2;36m          \u001b[0m\u001b[2;36m \u001b[0m\u001b[36mINFO\u001b[0m: using: SI unit system for unit inference.                                                         \n"
      ]
     },
     "metadata": {},
     "output_type": "display_data"
    },
    {
     "data": {
      "text/html": [
       "<pre style=\"white-space:pre;overflow-x:auto;line-height:normal;font-family:Menlo,'DejaVu Sans Mono',consolas,'Courier New',monospace\"><span style=\"color: #7fbfbf; text-decoration-color: #7fbfbf\">           </span><span style=\"color: #008080; text-decoration-color: #008080\">INFO</span>: using: SI unit system for unit inference.                                                         \n",
       "</pre>\n"
      ],
      "text/plain": [
       "\u001b[2;36m          \u001b[0m\u001b[2;36m \u001b[0m\u001b[36mINFO\u001b[0m: using: SI unit system for unit inference.                                                         \n"
      ]
     },
     "metadata": {},
     "output_type": "display_data"
    },
    {
     "data": {
      "text/html": [
       "<pre style=\"white-space:pre;overflow-x:auto;line-height:normal;font-family:Menlo,'DejaVu Sans Mono',consolas,'Courier New',monospace\"><span style=\"color: #7fbfbf; text-decoration-color: #7fbfbf\">[12:39:37] </span><span style=\"color: #008080; text-decoration-color: #008080\">INFO</span>: Successfully submitted:                                                                           \n",
       "<span style=\"color: #7fbfbf; text-decoration-color: #7fbfbf\">           </span>        type   = Case                                                                                   \n",
       "<span style=\"color: #7fbfbf; text-decoration-color: #7fbfbf\">           </span>        name   = Second order run                                                                       \n",
       "<span style=\"color: #7fbfbf; text-decoration-color: #7fbfbf\">           </span>        id     = case-<span style=\"color: #ffff00; text-decoration-color: #ffff00\">fdeffbcb-388d-497e-95b3-60d7fedf131b</span>                                              \n",
       "<span style=\"color: #7fbfbf; text-decoration-color: #7fbfbf\">           </span>        status = pending                                                                                \n",
       "<span style=\"color: #7fbfbf; text-decoration-color: #7fbfbf\">           </span>                                                                                                        \n",
       "</pre>\n"
      ],
      "text/plain": [
       "\u001b[2;36m[12:39:37]\u001b[0m\u001b[2;36m \u001b[0m\u001b[36mINFO\u001b[0m: Successfully submitted:                                                                           \n",
       "\u001b[2;36m           \u001b[0m        type   = Case                                                                                   \n",
       "\u001b[2;36m           \u001b[0m        name   = Second order run                                                                       \n",
       "\u001b[2;36m           \u001b[0m        id     = case-\u001b[93mfdeffbcb-388d-497e-95b3-60d7fedf131b\u001b[0m                                              \n",
       "\u001b[2;36m           \u001b[0m        status = pending                                                                                \n",
       "\u001b[2;36m           \u001b[0m                                                                                                        \n"
      ]
     },
     "metadata": {},
     "output_type": "display_data"
    }
   ],
   "source": [
    "# For the second run, parameters are updated directly on the params object of the completed case.\n",
    "# The order of accuracy is increased and the time step size is refined.\n",
    "case.params.models[0].navier_stokes_solver.order_of_accuracy = 2\n",
    "case.params.models[0].navier_stokes_solver.linear_solver = fl.LinearSolver(max_iterations=25)\n",
    "\n",
    "case.params.models[0].turbulence_model_solver.order_of_accuracy = 2\n",
    "case.params.models[0].turbulence_model_solver.linear_solver = fl.LinearSolver(max_iterations=25)\n",
    "\n",
    "with fl.SI_unit_system:\n",
    "    deg_per_time_step_1 = 0.404496 * fl.u.deg\n",
    "    time_step_1 = deg_per_time_step_1 / omega.to(\"deg/s\")\n",
    "\n",
    "    revolution_time_1 = 360 * fl.u.deg / omega.to(\"deg/s\")\n",
    "    steps_1 = int(5 * revolution_time_1 / time_step_1)\n",
    "\n",
    "    case.params.time_stepping.step_size = time_step_1\n",
    "    case.params.time_stepping.steps = steps_1\n",
    "\n",
    "case_fork_1 = project.run_case(case.params, \"Second order run\", fork_from=case)"
   ]
  },
  {
   "cell_type": "markdown",
   "metadata": {},
   "source": [
    "### Final Run with Aeroacoustic Outputs\n",
    "\n",
    "The final simulation is forked from the second-order run. `AeroAcousticOutput` is added to the simulation parameters to collect acoustic data from specified observer points."
   ]
  },
  {
   "cell_type": "code",
   "execution_count": 8,
   "metadata": {},
   "outputs": [
    {
     "data": {
      "text/html": [
       "<pre style=\"white-space:pre;overflow-x:auto;line-height:normal;font-family:Menlo,'DejaVu Sans Mono',consolas,'Courier New',monospace\"><span style=\"color: #7fbfbf; text-decoration-color: #7fbfbf\">[12:39:41] </span><span style=\"color: #008080; text-decoration-color: #008080\">INFO</span>: using: SI unit system for unit inference.                                                         \n",
       "</pre>\n"
      ],
      "text/plain": [
       "\u001b[2;36m[12:39:41]\u001b[0m\u001b[2;36m \u001b[0m\u001b[36mINFO\u001b[0m: using: SI unit system for unit inference.                                                         \n"
      ]
     },
     "metadata": {},
     "output_type": "display_data"
    },
    {
     "data": {
      "text/html": [
       "<pre style=\"white-space:pre;overflow-x:auto;line-height:normal;font-family:Menlo,'DejaVu Sans Mono',consolas,'Courier New',monospace\"><span style=\"color: #7fbfbf; text-decoration-color: #7fbfbf\">           </span><span style=\"color: #008080; text-decoration-color: #008080\">INFO</span>: using: SI unit system for unit inference.                                                         \n",
       "</pre>\n"
      ],
      "text/plain": [
       "\u001b[2;36m          \u001b[0m\u001b[2;36m \u001b[0m\u001b[36mINFO\u001b[0m: using: SI unit system for unit inference.                                                         \n"
      ]
     },
     "metadata": {},
     "output_type": "display_data"
    },
    {
     "data": {
      "text/html": [
       "<pre style=\"white-space:pre;overflow-x:auto;line-height:normal;font-family:Menlo,'DejaVu Sans Mono',consolas,'Courier New',monospace\"><span style=\"color: #7fbfbf; text-decoration-color: #7fbfbf\">[12:39:43] </span><span style=\"color: #008080; text-decoration-color: #008080\">INFO</span>: Successfully submitted:                                                                           \n",
       "<span style=\"color: #7fbfbf; text-decoration-color: #7fbfbf\">           </span>        type   = Case                                                                                   \n",
       "<span style=\"color: #7fbfbf; text-decoration-color: #7fbfbf\">           </span>        name   = Final run                                                                              \n",
       "<span style=\"color: #7fbfbf; text-decoration-color: #7fbfbf\">           </span>        id     = case-<span style=\"color: #ffff00; text-decoration-color: #ffff00\">810a9648-9d02-4d60-b174-04bb918531ea</span>                                              \n",
       "<span style=\"color: #7fbfbf; text-decoration-color: #7fbfbf\">           </span>        status = pending                                                                                \n",
       "<span style=\"color: #7fbfbf; text-decoration-color: #7fbfbf\">           </span>                                                                                                        \n",
       "</pre>\n"
      ],
      "text/plain": [
       "\u001b[2;36m[12:39:43]\u001b[0m\u001b[2;36m \u001b[0m\u001b[36mINFO\u001b[0m: Successfully submitted:                                                                           \n",
       "\u001b[2;36m           \u001b[0m        type   = Case                                                                                   \n",
       "\u001b[2;36m           \u001b[0m        name   = Final run                                                                              \n",
       "\u001b[2;36m           \u001b[0m        id     = case-\u001b[93m810a9648-9d02-4d60-b174-04bb918531ea\u001b[0m                                              \n",
       "\u001b[2;36m           \u001b[0m        status = pending                                                                                \n",
       "\u001b[2;36m           \u001b[0m                                                                                                        \n"
      ]
     },
     "metadata": {},
     "output_type": "display_data"
    }
   ],
   "source": [
    "case_fork_1.params.outputs = [\n",
    "    fl.AeroAcousticOutput(\n",
    "        observers=[\n",
    "            fl.Observer(position=[0, -1.905, 0] * fl.u.m, group_name=\"1\"),\n",
    "            fl.Observer(position=[0, -1.7599905, -0.72901194] * fl.u.m, group_name=\"1\"),\n",
    "            fl.Observer(position=[0, -1.3470384, -1.3470384] * fl.u.m, group_name=\"1\"),\n",
    "            fl.Observer(position=[0.9525, -0.9525, -1.3470384] * fl.u.m, group_name=\"1\"),\n",
    "            fl.Observer(position=[1.3470384, 0, -1.3470384] * fl.u.m, group_name=\"1\"),\n",
    "            fl.Observer(position=[0, 0, 1.905] * fl.u.m, group_name=\"1\"),\n",
    "            fl.Observer(position=[0, -0.37164706, 1.8683959] * fl.u.m, group_name=\"1\"),\n",
    "            fl.Observer(position=[0, -1.868396, 0.37164707] * fl.u.m, group_name=\"1\"),\n",
    "            fl.Observer(position=[1.295, 0, -0.767] * fl.u.m, group_name=\"2\"),\n",
    "        ],\n",
    "        write_per_surface_output=True,\n",
    "    )\n",
    "]\n",
    "\n",
    "case_fork_2 = project.run_case(case_fork_1.params, \"Final run\", fork_from=case_fork_1)"
   ]
  },
  {
   "cell_type": "markdown",
   "metadata": {},
   "source": [
    "## 5. Retrieving Results\n",
    "\n",
    "After launching the simulations, the script waits for the final case to complete. The results, including the aeroacoustic data, can then be accessed and downloaded for analysis."
   ]
  },
  {
   "cell_type": "code",
   "execution_count": 9,
   "metadata": {},
   "outputs": [
    {
     "data": {
      "text/html": [
       "<pre style=\"white-space:pre;overflow-x:auto;line-height:normal;font-family:Menlo,'DejaVu Sans Mono',consolas,'Courier New',monospace\"><span style=\"color: #7fbfbf; text-decoration-color: #7fbfbf\">[16:23:32] </span><span style=\"color: #008080; text-decoration-color: #008080\">INFO</span>: Saved to                                                                                          \n",
       "<span style=\"color: #7fbfbf; text-decoration-color: #7fbfbf\">           </span><span style=\"color: #800080; text-decoration-color: #800080\">/var/folders/qk/mywsrvps5gl_f3yjx2k1v1xm0000gn/T/tmp4flfa4ln/</span><span style=\"color: #ff00ff; text-decoration-color: #ff00ff\">fe98dd36-562e-4528-9753-c04ea964ab7a.csv</span>   \n",
       "</pre>\n"
      ],
      "text/plain": [
       "\u001b[2;36m[16:23:32]\u001b[0m\u001b[2;36m \u001b[0m\u001b[36mINFO\u001b[0m: Saved to                                                                                          \n",
       "\u001b[2;36m           \u001b[0m\u001b[35m/var/folders/qk/mywsrvps5gl_f3yjx2k1v1xm0000gn/T/tmp4flfa4ln/\u001b[0m\u001b[95mfe98dd36-562e-4528-9753-c04ea964ab7a.csv\u001b[0m   \n"
      ]
     },
     "metadata": {},
     "output_type": "display_data"
    },
    {
     "name": "stdout",
     "output_type": "stream",
     "text": [
      "           time  physical_step  observer_0_pressure  observer_1_pressure  \\\n",
      "0     21.596813           5600         5.720588e-07        -1.969728e-07   \n",
      "1     21.600670           5601         5.362895e-07        -2.111919e-07   \n",
      "2     21.604527           5602         5.343675e-07        -2.184311e-07   \n",
      "3     21.608383           5603         5.279445e-07        -2.306726e-07   \n",
      "4     21.612240           5604         5.146239e-07        -2.314757e-07   \n",
      "...         ...            ...                  ...                  ...   \n",
      "4236  37.933262           9836        -1.430596e-06        -1.404098e-06   \n",
      "4237  37.937119           9837        -1.393013e-06        -1.364033e-06   \n",
      "4238  37.940975           9838        -1.345864e-06        -1.335681e-06   \n",
      "4239  37.944832           9839        -1.302765e-06        -1.301096e-06   \n",
      "4240  37.948689           9840        -1.236518e-06        -1.253773e-06   \n",
      "\n",
      "      observer_2_pressure  observer_3_pressure  observer_4_pressure  \\\n",
      "0               -0.000001        -1.910378e-06        -2.596746e-06   \n",
      "1               -0.000001        -1.921676e-06        -2.568102e-06   \n",
      "2               -0.000001        -1.936766e-06        -2.552346e-06   \n",
      "3               -0.000001        -1.931537e-06        -2.542019e-06   \n",
      "4               -0.000001        -1.944417e-06        -2.537368e-06   \n",
      "...                   ...                  ...                  ...   \n",
      "4236            -0.000001        -4.990746e-07        -2.754912e-08   \n",
      "4237            -0.000001        -5.272851e-07        -5.690729e-08   \n",
      "4238            -0.000001        -5.560963e-07        -1.078504e-07   \n",
      "4239            -0.000001        -5.673440e-07        -1.454785e-07   \n",
      "4240            -0.000001        -5.856619e-07        -1.837656e-07   \n",
      "\n",
      "      observer_5_pressure  observer_6_pressure  observer_7_pressure  ...  \\\n",
      "0            3.750101e-06         3.441250e-06         8.655375e-07  ...   \n",
      "1            3.656198e-06         3.470497e-06         8.587663e-07  ...   \n",
      "2            3.599564e-06         3.505580e-06         8.570015e-07  ...   \n",
      "3            3.597776e-06         3.508710e-06         8.520528e-07  ...   \n",
      "4            3.650899e-06         3.465646e-06         8.437944e-07  ...   \n",
      "...                   ...                  ...                  ...  ...   \n",
      "4236         8.553774e-07         7.435779e-07        -1.259236e-06  ...   \n",
      "4237         7.759332e-07         7.636876e-07        -1.223031e-06  ...   \n",
      "4238         7.402031e-07         7.774204e-07        -1.193756e-06  ...   \n",
      "4239         7.784008e-07         7.748108e-07        -1.141257e-06  ...   \n",
      "4240         8.308572e-07         7.469466e-07        -1.088884e-06  ...   \n",
      "\n",
      "      observer_8_thickness  observer_0_loading  observer_1_loading  \\\n",
      "0             1.546515e-07        6.107472e-07       -1.582459e-07   \n",
      "1             1.575383e-07        5.900869e-07       -1.712884e-07   \n",
      "2             1.531119e-07        5.838567e-07       -1.784910e-07   \n",
      "3             1.485228e-07        5.780266e-07       -1.856499e-07   \n",
      "4             1.615752e-07        5.736951e-07       -1.928502e-07   \n",
      "...                    ...                 ...                 ...   \n",
      "4236         -1.318937e-07       -1.486233e-06       -1.439606e-06   \n",
      "4237         -1.330989e-07       -1.446958e-06       -1.416713e-06   \n",
      "4238         -1.300169e-07       -1.406302e-06       -1.383620e-06   \n",
      "4239         -1.342150e-07       -1.358929e-06       -1.343203e-06   \n",
      "4240         -1.352962e-07       -1.304788e-06       -1.309862e-06   \n",
      "\n",
      "      observer_2_loading  observer_3_loading  observer_4_loading  \\\n",
      "0              -0.000001       -1.909952e-06       -2.607659e-06   \n",
      "1              -0.000001       -1.919004e-06       -2.587730e-06   \n",
      "2              -0.000001       -1.935377e-06       -2.566523e-06   \n",
      "3              -0.000001       -1.938917e-06       -2.559340e-06   \n",
      "4              -0.000001       -1.937943e-06       -2.554244e-06   \n",
      "...                  ...                 ...                 ...   \n",
      "4236           -0.000001       -5.087224e-07        7.649959e-09   \n",
      "4237           -0.000001       -5.302467e-07       -2.892884e-08   \n",
      "4238           -0.000001       -5.571476e-07       -7.197846e-08   \n",
      "4239           -0.000001       -5.733393e-07       -1.152536e-07   \n",
      "4240           -0.000001       -5.914253e-07       -1.512384e-07   \n",
      "\n",
      "      observer_5_loading  observer_6_loading  observer_7_loading  \\\n",
      "0           3.746286e-06        3.439462e-06        9.080179e-07   \n",
      "1           3.654097e-06        3.471711e-06        9.051266e-07   \n",
      "2           3.597526e-06        3.504177e-06        9.045054e-07   \n",
      "3           3.602508e-06        3.510887e-06        9.025253e-07   \n",
      "4           3.641442e-06        3.465971e-06        9.032767e-07   \n",
      "...                  ...                 ...                 ...   \n",
      "4236        8.557558e-07        7.455561e-07       -1.308888e-06   \n",
      "4237        7.737777e-07        7.659753e-07       -1.279105e-06   \n",
      "4238        7.459778e-07        7.744369e-07       -1.243336e-06   \n",
      "4239        7.772903e-07        7.665413e-07       -1.200630e-06   \n",
      "4240        8.267213e-07        7.516716e-07       -1.152446e-06   \n",
      "\n",
      "      observer_8_loading  \n",
      "0          -7.042781e-07  \n",
      "1          -6.241468e-07  \n",
      "2          -5.337250e-07  \n",
      "3          -4.401885e-07  \n",
      "4          -3.523142e-07  \n",
      "...                  ...  \n",
      "4236       -1.445431e-06  \n",
      "4237       -1.451384e-06  \n",
      "4238       -1.458855e-06  \n",
      "4239       -1.471753e-06  \n",
      "4240       -1.479398e-06  \n",
      "\n",
      "[4241 rows x 29 columns]\n",
      "if you want to get access to data, use one of the data format functions:\n",
      " .as_dataframe()\n",
      " .as_dict()\n",
      " .as_numpy()\n"
     ]
    }
   ],
   "source": [
    "case_fork_2.wait()\n",
    "\n",
    "results = case_fork_2.results\n",
    "\n",
    "total_acoustics = results.aeroacoustics\n",
    "print(total_acoustics)"
   ]
  },
  {
   "cell_type": "markdown",
   "metadata": {},
   "source": [
    "### Surface-Specific Outputs\n",
    "\n",
    "In addition to the total aeroacoustic output from all surfaces, individual surface contributions can be downloaded. The following cell downloads the acoustic data for each of the four rotors and loads them into pandas DataFrames."
   ]
  },
  {
   "cell_type": "code",
   "execution_count": 10,
   "metadata": {},
   "outputs": [
    {
     "data": {
      "text/html": [
       "<pre style=\"white-space:pre;overflow-x:auto;line-height:normal;font-family:Menlo,'DejaVu Sans Mono',consolas,'Courier New',monospace\"><span style=\"color: #7fbfbf; text-decoration-color: #7fbfbf\">[16:23:41] </span><span style=\"color: #008080; text-decoration-color: #008080\">INFO</span>: Saved to aeroacoustic_results/surface_zone_r1_blade1_acoustics_v3.csv                             \n",
       "</pre>\n"
      ],
      "text/plain": [
       "\u001b[2;36m[16:23:41]\u001b[0m\u001b[2;36m \u001b[0m\u001b[36mINFO\u001b[0m: Saved to aeroacoustic_results/surface_zone_r1_blade1_acoustics_v3.csv                             \n"
      ]
     },
     "metadata": {},
     "output_type": "display_data"
    },
    {
     "name": "stdout",
     "output_type": "stream",
     "text": [
      "Blade 1 acoustics:\n",
      "           time   physical_step   observer_0_pressure   observer_1_pressure  \\\n",
      "0     21.596813            5600          1.645042e-07         -2.097362e-08   \n",
      "1     21.600670            5601          1.522135e-07         -2.513679e-08   \n",
      "2     21.604527            5602          1.568220e-07         -2.604763e-08   \n",
      "3     21.608383            5603          1.534737e-07         -3.177862e-08   \n",
      "4     21.612240            5604          1.497509e-07         -3.112281e-08   \n",
      "...         ...             ...                   ...                   ...   \n",
      "4294  38.156944            9894         -4.839658e-08         -1.803780e-07   \n",
      "4295  38.160801            9895         -4.612721e-08         -1.767865e-07   \n",
      "4296  38.164658            9896         -4.464747e-08         -1.787573e-07   \n",
      "4297  38.168514            9897         -4.381082e-08         -1.792401e-07   \n",
      "4298  38.172367            9898         -3.970325e-08         -1.790867e-07   \n",
      "\n",
      "       observer_2_pressure   observer_3_pressure   observer_4_pressure  \\\n",
      "0            -2.676976e-07         -2.794503e-07         -4.999398e-07   \n",
      "1            -2.760503e-07         -2.871975e-07         -5.029380e-07   \n",
      "2            -2.839251e-07         -2.952626e-07         -5.108465e-07   \n",
      "3            -2.941728e-07         -3.003318e-07         -5.174645e-07   \n",
      "4            -3.006634e-07         -3.009366e-07         -5.227238e-07   \n",
      "...                    ...                   ...                   ...   \n",
      "4294         -2.774949e-07         -3.102289e-07         -2.710495e-07   \n",
      "4295         -2.769083e-07         -3.100332e-07         -2.728520e-07   \n",
      "4296         -2.841765e-07         -3.159144e-07         -2.720957e-07   \n",
      "4297         -2.867132e-07         -3.151190e-07         -2.773943e-07   \n",
      "4298         -2.824054e-07         -3.179724e-07         -2.771167e-07   \n",
      "\n",
      "       observer_5_pressure   observer_6_pressure   observer_7_pressure  ...  \\\n",
      "0             9.898849e-07          9.031602e-07          2.257224e-07  ...   \n",
      "1             9.888504e-07          9.077600e-07          2.284200e-07  ...   \n",
      "2             9.925056e-07          9.154276e-07          2.302930e-07  ...   \n",
      "3             9.936640e-07          9.202577e-07          2.260928e-07  ...   \n",
      "4             9.941917e-07          9.299084e-07          2.269917e-07  ...   \n",
      "...                    ...                   ...                   ...  ...   \n",
      "4294          5.068678e-07          4.653473e-07          3.465242e-08  ...   \n",
      "4295          5.044679e-07          4.636771e-07          3.048734e-08  ...   \n",
      "4296          5.080446e-07          4.655904e-07          3.272211e-08  ...   \n",
      "4297          5.074272e-07          4.684732e-07          3.501979e-08  ...   \n",
      "4298          5.101862e-07          4.675308e-07          3.848563e-08  ...   \n",
      "\n",
      "       observer_8_thickness   observer_0_loading   observer_1_loading  \\\n",
      "0              3.640888e-08         1.574931e-07        -2.624609e-08   \n",
      "1              4.154062e-08         1.499778e-07        -2.822987e-08   \n",
      "2              3.664063e-08         1.493803e-07        -3.126243e-08   \n",
      "3              3.929656e-08         1.493207e-07        -3.354561e-08   \n",
      "4              3.848214e-08         1.484388e-07        -3.707353e-08   \n",
      "...                     ...                  ...                  ...   \n",
      "4294          -2.638462e-08        -7.144479e-08        -1.977479e-07   \n",
      "4295          -2.420336e-08        -6.961572e-08        -1.980729e-07   \n",
      "4296          -2.371968e-08        -6.657032e-08        -1.991069e-07   \n",
      "4297          -2.360378e-08        -6.446400e-08        -1.992756e-07   \n",
      "4298          -2.599511e-08        -6.454160e-08        -2.017130e-07   \n",
      "\n",
      "       observer_2_loading   observer_3_loading   observer_4_loading  \\\n",
      "0           -2.716237e-07        -3.001934e-07        -5.019643e-07   \n",
      "1           -2.795022e-07        -3.085777e-07        -5.071142e-07   \n",
      "2           -2.868366e-07        -3.156971e-07        -5.107163e-07   \n",
      "3           -2.948440e-07        -3.211037e-07        -5.187898e-07   \n",
      "4           -3.037270e-07        -3.238698e-07        -5.265059e-07   \n",
      "...                   ...                  ...                  ...   \n",
      "4294        -2.914799e-07        -2.955767e-07        -2.545723e-07   \n",
      "4295        -2.934221e-07        -2.970952e-07        -2.549475e-07   \n",
      "4296        -2.966280e-07        -2.999748e-07        -2.575563e-07   \n",
      "4297        -2.990254e-07        -3.013637e-07        -2.584021e-07   \n",
      "4298        -2.990701e-07        -3.049029e-07        -2.615688e-07   \n",
      "\n",
      "       observer_5_loading   observer_6_loading   observer_7_loading  \\\n",
      "0            9.869502e-07         8.997454e-07         2.221087e-07   \n",
      "1            9.890202e-07         9.072066e-07         2.230062e-07   \n",
      "2            9.922690e-07         9.145784e-07         2.236933e-07   \n",
      "3            9.939146e-07         9.210228e-07         2.247020e-07   \n",
      "4            9.920064e-07         9.285907e-07         2.247106e-07   \n",
      "...                   ...                  ...                  ...   \n",
      "4294         5.053966e-07         4.616662e-07         9.100867e-09   \n",
      "4295         5.059835e-07         4.630325e-07         1.111503e-08   \n",
      "4296         5.071140e-07         4.646811e-07         1.154297e-08   \n",
      "4297         5.081977e-07         4.656400e-07         1.241700e-08   \n",
      "4298         5.084198e-07         4.665120e-07         1.347785e-08   \n",
      "\n",
      "       observer_8_loading  \n",
      "0           -5.563270e-07  \n",
      "1           -5.631974e-07  \n",
      "2           -5.646691e-07  \n",
      "3           -5.703174e-07  \n",
      "4           -5.800900e-07  \n",
      "...                   ...  \n",
      "4294        -3.352151e-07  \n",
      "4295        -3.367273e-07  \n",
      "4296        -3.412721e-07  \n",
      "4297        -3.406598e-07  \n",
      "4298        -3.435554e-07  \n",
      "\n",
      "[4299 rows x 29 columns]\n"
     ]
    },
    {
     "data": {
      "text/html": [
       "<pre style=\"white-space:pre;overflow-x:auto;line-height:normal;font-family:Menlo,'DejaVu Sans Mono',consolas,'Courier New',monospace\"><span style=\"color: #7fbfbf; text-decoration-color: #7fbfbf\">[16:23:44] </span><span style=\"color: #008080; text-decoration-color: #008080\">INFO</span>: Saved to aeroacoustic_results/surface_zone_r2_blade2_acoustics_v3.csv                             \n",
       "</pre>\n"
      ],
      "text/plain": [
       "\u001b[2;36m[16:23:44]\u001b[0m\u001b[2;36m \u001b[0m\u001b[36mINFO\u001b[0m: Saved to aeroacoustic_results/surface_zone_r2_blade2_acoustics_v3.csv                             \n"
      ]
     },
     "metadata": {},
     "output_type": "display_data"
    },
    {
     "name": "stdout",
     "output_type": "stream",
     "text": [
      "\n",
      "Blade 2 acoustics:\n",
      "           time   physical_step   observer_0_pressure   observer_1_pressure  \\\n",
      "0     21.542822            5586          1.575615e-07         -8.122591e-08   \n",
      "1     21.546679            5587          1.550869e-07         -8.154808e-08   \n",
      "2     21.550535            5588          1.532802e-07         -8.497518e-08   \n",
      "3     21.554392            5589          1.476895e-07         -8.319915e-08   \n",
      "4     21.558249            5590          1.457267e-07         -8.265117e-08   \n",
      "...         ...             ...                   ...                   ...   \n",
      "4308  38.156944            9894          4.361937e-08         -2.392730e-07   \n",
      "4309  38.160801            9895          4.591889e-08         -2.351592e-07   \n",
      "4310  38.164658            9896          4.929480e-08         -2.321950e-07   \n",
      "4311  38.168514            9897          5.211020e-08         -2.248036e-07   \n",
      "4312  38.172367            9898          5.739892e-08         -2.251031e-07   \n",
      "\n",
      "       observer_2_pressure   observer_3_pressure   observer_4_pressure  \\\n",
      "0            -4.418602e-07         -5.540143e-07         -3.685359e-07   \n",
      "1            -4.357525e-07         -5.499996e-07         -3.800600e-07   \n",
      "2            -4.273853e-07         -5.533263e-07         -3.864801e-07   \n",
      "3            -4.233724e-07         -5.521665e-07         -3.938736e-07   \n",
      "4            -4.250988e-07         -5.511110e-07         -4.042348e-07   \n",
      "...                    ...                   ...                   ...   \n",
      "4308         -4.565914e-07         -2.951353e-07         -2.661629e-07   \n",
      "4309         -4.562954e-07         -2.969515e-07         -2.689737e-07   \n",
      "4310         -4.484696e-07         -2.891286e-07         -2.722134e-07   \n",
      "4311         -4.474298e-07         -2.893983e-07         -2.712110e-07   \n",
      "4312         -4.433671e-07         -2.899960e-07         -2.747980e-07   \n",
      "\n",
      "       observer_5_pressure   observer_6_pressure   observer_7_pressure  ...  \\\n",
      "0             9.178883e-07          1.007547e-06          2.599545e-07  ...   \n",
      "1             9.311935e-07          1.007012e-06          2.564568e-07  ...   \n",
      "2             9.505723e-07          1.005503e-06          2.556626e-07  ...   \n",
      "3             9.594935e-07          1.001384e-06          2.514448e-07  ...   \n",
      "4             9.642841e-07          9.997365e-07          2.450337e-07  ...   \n",
      "...                    ...                   ...                   ...  ...   \n",
      "4308          4.993807e-07          5.096704e-07          1.746203e-07  ...   \n",
      "4309          4.978121e-07          5.139161e-07          1.766784e-07  ...   \n",
      "4310          4.957922e-07          5.153620e-07          1.810830e-07  ...   \n",
      "4311          5.005496e-07          5.140910e-07          1.835405e-07  ...   \n",
      "4312          4.957806e-07          5.110633e-07          1.835786e-07  ...   \n",
      "\n",
      "       observer_8_thickness   observer_0_loading   observer_1_loading  \\\n",
      "0              3.161596e-08         1.828479e-07        -6.143322e-08   \n",
      "1              3.897950e-08         1.800566e-07        -6.099907e-08   \n",
      "2              3.555808e-08         1.778666e-07        -6.206191e-08   \n",
      "3              3.627243e-08         1.753682e-07        -6.306774e-08   \n",
      "4              3.998785e-08         1.728195e-07        -6.289625e-08   \n",
      "...                     ...                  ...                  ...   \n",
      "4308          -2.508460e-08        -2.617556e-09        -2.759164e-07   \n",
      "4309          -2.833409e-08         1.963121e-09        -2.707839e-07   \n",
      "4310          -2.227835e-08         6.213083e-09        -2.674957e-07   \n",
      "4311          -2.394929e-08         1.063300e-08        -2.630215e-07   \n",
      "4312          -2.199977e-08         1.336305e-08        -2.588352e-07   \n",
      "\n",
      "       observer_2_loading   observer_3_loading   observer_4_loading  \\\n",
      "0           -4.305259e-07        -5.344863e-07        -3.677651e-07   \n",
      "1           -4.256497e-07        -5.348242e-07        -3.772000e-07   \n",
      "2           -4.172898e-07        -5.341221e-07        -3.842283e-07   \n",
      "3           -4.144784e-07        -5.351522e-07        -3.922994e-07   \n",
      "4           -4.103472e-07        -5.347082e-07        -4.038571e-07   \n",
      "...                   ...                  ...                  ...   \n",
      "4308        -4.759231e-07        -2.983807e-07        -2.498041e-07   \n",
      "4309        -4.741488e-07        -2.937938e-07        -2.517197e-07   \n",
      "4310        -4.697034e-07        -2.931517e-07        -2.547884e-07   \n",
      "4311        -4.650036e-07        -2.893142e-07        -2.548848e-07   \n",
      "4312        -4.611957e-07        -2.877670e-07        -2.583379e-07   \n",
      "\n",
      "       observer_5_loading   observer_6_loading   observer_7_loading  \\\n",
      "0            9.170935e-07         1.007183e-06         2.842085e-07   \n",
      "1            9.336133e-07         1.008352e-06         2.811223e-07   \n",
      "2            9.479247e-07         1.005989e-06         2.789275e-07   \n",
      "3            9.586214e-07         1.002922e-06         2.755716e-07   \n",
      "4            9.652722e-07         1.000082e-06         2.726304e-07   \n",
      "...                   ...                  ...                  ...   \n",
      "4308         4.971716e-07         5.115377e-07         1.315331e-07   \n",
      "4309         4.976907e-07         5.124813e-07         1.347374e-07   \n",
      "4310         4.978104e-07         5.132579e-07         1.394808e-07   \n",
      "4311         4.988330e-07         5.137886e-07         1.419018e-07   \n",
      "4312         4.982857e-07         5.130329e-07         1.446378e-07   \n",
      "\n",
      "       observer_8_loading  \n",
      "0           -5.363030e-07  \n",
      "1           -5.367495e-07  \n",
      "2           -5.304883e-07  \n",
      "3           -5.250878e-07  \n",
      "4           -5.207452e-07  \n",
      "...                   ...  \n",
      "4308        -3.390265e-07  \n",
      "4309        -3.374427e-07  \n",
      "4310        -3.410900e-07  \n",
      "4311        -3.427971e-07  \n",
      "4312        -3.433599e-07  \n",
      "\n",
      "[4313 rows x 29 columns]\n"
     ]
    },
    {
     "data": {
      "text/html": [
       "<pre style=\"white-space:pre;overflow-x:auto;line-height:normal;font-family:Menlo,'DejaVu Sans Mono',consolas,'Courier New',monospace\"><span style=\"color: #7fbfbf; text-decoration-color: #7fbfbf\">[16:23:47] </span><span style=\"color: #008080; text-decoration-color: #008080\">INFO</span>: Saved to aeroacoustic_results/surface_zone_r3_blade3_acoustics_v3.csv                             \n",
       "</pre>\n"
      ],
      "text/plain": [
       "\u001b[2;36m[16:23:47]\u001b[0m\u001b[2;36m \u001b[0m\u001b[36mINFO\u001b[0m: Saved to aeroacoustic_results/surface_zone_r3_blade3_acoustics_v3.csv                             \n"
      ]
     },
     "metadata": {},
     "output_type": "display_data"
    },
    {
     "name": "stdout",
     "output_type": "stream",
     "text": [
      "\n",
      "Blade 3 acoustics:\n",
      "           time   physical_step   observer_0_pressure   observer_1_pressure  \\\n",
      "0     21.403986            5550          2.192105e-07         -1.645585e-07   \n",
      "1     21.407843            5551          2.162504e-07         -1.563119e-07   \n",
      "2     21.411699            5552          2.180365e-07         -1.511738e-07   \n",
      "3     21.415556            5553          2.132866e-07         -1.449185e-07   \n",
      "4     21.419413            5554          2.182970e-07         -1.412974e-07   \n",
      "...         ...             ...                   ...                   ...   \n",
      "4286  37.933262            9836         -1.299133e-07         -3.628256e-07   \n",
      "4287  37.937119            9837         -1.294328e-07         -3.577859e-07   \n",
      "4288  37.940975            9838         -1.270968e-07         -3.564439e-07   \n",
      "4289  37.944832            9839         -1.253298e-07         -3.582451e-07   \n",
      "4290  37.948689            9840         -1.203186e-07         -3.571033e-07   \n",
      "\n",
      "       observer_2_pressure   observer_3_pressure   observer_4_pressure  \\\n",
      "0            -6.216603e-07         -9.460313e-07         -7.385137e-07   \n",
      "1            -6.222729e-07         -9.500695e-07         -7.508680e-07   \n",
      "2            -6.100758e-07         -9.404706e-07         -7.685288e-07   \n",
      "3            -6.159200e-07         -9.366620e-07         -7.855912e-07   \n",
      "4            -6.047327e-07         -9.234532e-07         -8.116213e-07   \n",
      "...                    ...                   ...                   ...   \n",
      "4286         -4.674601e-07         -4.749515e-07         -2.287319e-07   \n",
      "4287         -4.612462e-07         -4.746744e-07         -2.292231e-07   \n",
      "4288         -4.619507e-07         -4.779193e-07         -2.328045e-07   \n",
      "4289         -4.608173e-07         -4.778886e-07         -2.384566e-07   \n",
      "4290         -4.659786e-07         -4.780900e-07         -2.395392e-07   \n",
      "\n",
      "       observer_5_pressure   observer_6_pressure   observer_7_pressure  ...  \\\n",
      "0             4.533583e-07          5.917156e-07          3.776261e-07  ...   \n",
      "1             4.674291e-07          6.078477e-07          3.726028e-07  ...   \n",
      "2             4.800686e-07          6.230126e-07          3.663605e-07  ...   \n",
      "3             4.904817e-07          6.440764e-07          3.657157e-07  ...   \n",
      "4             4.967458e-07          6.718009e-07          3.601267e-07  ...   \n",
      "...                    ...                   ...                   ...  ...   \n",
      "4286          3.634118e-07          3.909655e-07          3.872074e-09  ...   \n",
      "4287          3.697178e-07          3.934606e-07          6.486699e-09  ...   \n",
      "4288          3.741235e-07          3.999521e-07          9.126641e-09  ...   \n",
      "4289          3.786058e-07          4.056852e-07          1.292593e-08  ...   \n",
      "4290          3.851521e-07          4.137293e-07          1.835842e-08  ...   \n",
      "\n",
      "       observer_8_thickness   observer_0_loading   observer_1_loading  \\\n",
      "0              3.727605e-08         2.276793e-07        -1.556532e-07   \n",
      "1              3.276403e-08         2.276173e-07        -1.488154e-07   \n",
      "2              3.401749e-08         2.270149e-07        -1.438834e-07   \n",
      "3              3.933607e-08         2.272883e-07        -1.378034e-07   \n",
      "4              3.211905e-08         2.265702e-07        -1.330399e-07   \n",
      "...                     ...                  ...                  ...   \n",
      "4286          -3.193895e-08        -1.669146e-07        -3.918487e-07   \n",
      "4287          -3.624582e-08        -1.652428e-07        -3.882565e-07   \n",
      "4288          -3.070121e-08        -1.643272e-07        -3.874595e-07   \n",
      "4289          -3.548925e-08        -1.628519e-07        -3.858634e-07   \n",
      "4290          -3.648292e-08        -1.599943e-07        -3.884633e-07   \n",
      "\n",
      "       observer_2_loading   observer_3_loading   observer_4_loading  \\\n",
      "0           -6.202349e-07        -9.667234e-07        -7.309480e-07   \n",
      "1           -6.182575e-07        -9.676756e-07        -7.434993e-07   \n",
      "2           -6.127381e-07        -9.614085e-07        -7.625388e-07   \n",
      "3           -6.081548e-07        -9.533263e-07        -7.816097e-07   \n",
      "4           -6.020359e-07        -9.396401e-07        -8.028268e-07   \n",
      "...                   ...                  ...                  ...   \n",
      "4286        -4.813976e-07        -4.626934e-07        -2.187999e-07   \n",
      "4287        -4.768024e-07        -4.624177e-07        -2.216101e-07   \n",
      "4288        -4.763338e-07        -4.656285e-07        -2.240093e-07   \n",
      "4289        -4.776828e-07        -4.652396e-07        -2.267905e-07   \n",
      "4290        -4.809816e-07        -4.677793e-07        -2.297428e-07   \n",
      "\n",
      "       observer_5_loading   observer_6_loading   observer_7_loading  \\\n",
      "0            4.537070e-07         5.918400e-07         3.843876e-07   \n",
      "1            4.670910e-07         6.068429e-07         3.817593e-07   \n",
      "2            4.784439e-07         6.241764e-07         3.776093e-07   \n",
      "3            4.887252e-07         6.462345e-07         3.748885e-07   \n",
      "4            4.994275e-07         6.700025e-07         3.718345e-07   \n",
      "...                   ...                  ...                  ...   \n",
      "4286         3.624822e-07         3.910845e-07        -3.003051e-08   \n",
      "4287         3.697658e-07         3.935340e-07        -2.807096e-08   \n",
      "4288         3.752630e-07         3.980356e-07        -2.597896e-08   \n",
      "4289         3.795518e-07         4.045464e-07        -2.207336e-08   \n",
      "4290         3.843870e-07         4.112458e-07        -2.027248e-08   \n",
      "\n",
      "       observer_8_loading  \n",
      "0           -5.389153e-07  \n",
      "1           -5.322739e-07  \n",
      "2           -5.301495e-07  \n",
      "3           -5.311533e-07  \n",
      "4           -5.302061e-07  \n",
      "...                   ...  \n",
      "4286        -5.608158e-07  \n",
      "4287        -5.640100e-07  \n",
      "4288        -5.660276e-07  \n",
      "4289        -5.707603e-07  \n",
      "4290        -5.711444e-07  \n",
      "\n",
      "[4291 rows x 29 columns]\n"
     ]
    },
    {
     "data": {
      "text/html": [
       "<pre style=\"white-space:pre;overflow-x:auto;line-height:normal;font-family:Menlo,'DejaVu Sans Mono',consolas,'Courier New',monospace\"><span style=\"color: #7fbfbf; text-decoration-color: #7fbfbf\">[16:23:50] </span><span style=\"color: #008080; text-decoration-color: #008080\">INFO</span>: Saved to aeroacoustic_results/surface_zone_r4_blade4_acoustics_v3.csv                             \n",
       "</pre>\n"
      ],
      "text/plain": [
       "\u001b[2;36m[16:23:50]\u001b[0m\u001b[2;36m \u001b[0m\u001b[36mINFO\u001b[0m: Saved to aeroacoustic_results/surface_zone_r4_blade4_acoustics_v3.csv                             \n"
      ]
     },
     "metadata": {},
     "output_type": "display_data"
    },
    {
     "name": "stdout",
     "output_type": "stream",
     "text": [
      "\n",
      "Blade 4 acoustics:\n",
      "           time   physical_step   observer_0_pressure   observer_1_pressure  \\\n",
      "0     21.596813            5600          1.633495e-07         -4.905565e-08   \n",
      "1     21.600670            5601          1.520510e-07         -5.218257e-08   \n",
      "2     21.604527            5602          1.505213e-07         -5.796136e-08   \n",
      "3     21.608383            5603          1.518591e-07         -6.289314e-08   \n",
      "4     21.612240            5604          1.480509e-07         -6.798292e-08   \n",
      "...         ...             ...                   ...                   ...   \n",
      "4236  37.933262            9836         -1.381269e-07         -1.384760e-07   \n",
      "4237  37.937119            9837         -1.379311e-07         -1.395333e-07   \n",
      "4238  37.940975            9838         -1.331161e-07         -1.475768e-07   \n",
      "4239  37.944832            9839         -1.348998e-07         -1.535266e-07   \n",
      "4240  37.948689            9840         -1.296906e-07         -1.596224e-07   \n",
      "\n",
      "       observer_2_pressure   observer_3_pressure   observer_4_pressure  \\\n",
      "0            -3.409886e-07         -7.853695e-07         -7.982403e-07   \n",
      "1            -3.472032e-07         -7.913176e-07         -7.842158e-07   \n",
      "2            -3.590856e-07         -8.010719e-07         -7.726341e-07   \n",
      "3            -3.727195e-07         -8.000821e-07         -7.634521e-07   \n",
      "4            -3.799628e-07         -8.125363e-07         -7.488372e-07   \n",
      "...                    ...                   ...                   ...   \n",
      "4236         -1.565000e-07         -1.348300e-07         -2.460399e-07   \n",
      "4237         -1.724564e-07         -1.421658e-07         -2.422947e-07   \n",
      "4238         -1.832604e-07         -1.476200e-07         -2.471498e-07   \n",
      "4239         -1.912597e-07         -1.534873e-07         -2.481106e-07   \n",
      "4240         -2.020416e-07         -1.602713e-07         -2.499712e-07   \n",
      "\n",
      "       observer_5_pressure   observer_6_pressure   observer_7_pressure  ...  \\\n",
      "0             8.965257e-07          8.951644e-07          2.386060e-07  ...   \n",
      "1             8.964801e-07          8.954179e-07          2.356407e-07  ...   \n",
      "2             8.949997e-07          8.986341e-07          2.382293e-07  ...   \n",
      "3             8.942653e-07          8.977387e-07          2.398947e-07  ...   \n",
      "4             8.904699e-07          8.985627e-07          2.361884e-07  ...   \n",
      "...                    ...                   ...                   ...  ...   \n",
      "4236          3.671327e-07          3.054311e-07         -1.290453e-07  ...   \n",
      "4237          3.773396e-07          3.131405e-07         -1.200233e-07  ...   \n",
      "4238          3.765283e-07          3.197628e-07         -1.173540e-07  ...   \n",
      "4239          3.865159e-07          3.300603e-07         -1.066621e-07  ...   \n",
      "4240          3.916203e-07          3.349061e-07         -1.012124e-07  ...   \n",
      "\n",
      "       observer_8_thickness   observer_0_loading   observer_1_loading  \\\n",
      "0              4.021699e-08         1.555007e-07        -5.262184e-08   \n",
      "1              3.532281e-08         1.471384e-07        -5.729004e-08   \n",
      "2              4.497750e-08         1.469612e-07        -6.093329e-08   \n",
      "3              3.427822e-08         1.461895e-07        -6.513550e-08   \n",
      "4              3.879198e-08         1.460149e-07        -7.161888e-08   \n",
      "...                     ...                  ...                  ...   \n",
      "4236          -3.074459e-08        -1.302751e-07        -1.251348e-07   \n",
      "4237          -3.339501e-08        -1.284279e-07        -1.357617e-07   \n",
      "4238          -3.155860e-08        -1.262358e-07        -1.408042e-07   \n",
      "4239          -3.699622e-08        -1.235352e-07        -1.477238e-07   \n",
      "4240          -3.154766e-08        -1.234878e-07        -1.543605e-07   \n",
      "\n",
      "       observer_2_loading   observer_3_loading   observer_4_loading  \\\n",
      "0           -3.409892e-07        -7.666902e-07        -8.031786e-07   \n",
      "1           -3.516949e-07        -7.733877e-07        -7.895766e-07   \n",
      "2           -3.621093e-07        -7.820145e-07        -7.792260e-07   \n",
      "3           -3.722643e-07        -7.848031e-07        -7.703221e-07   \n",
      "4           -3.832252e-07        -7.912946e-07        -7.567608e-07   \n",
      "...                   ...                  ...                  ...   \n",
      "4236        -1.569204e-07        -1.573539e-07        -2.325410e-07   \n",
      "4237        -1.675202e-07        -1.614087e-07        -2.349708e-07   \n",
      "4238        -1.801958e-07        -1.672771e-07        -2.358347e-07   \n",
      "4239        -1.913654e-07        -1.735522e-07        -2.401997e-07   \n",
      "4240        -1.982413e-07        -1.789531e-07        -2.398249e-07   \n",
      "\n",
      "       observer_5_loading   observer_6_loading   observer_7_loading  \\\n",
      "0            8.964475e-07         8.946930e-07         2.306930e-07   \n",
      "1            8.949315e-07         8.946705e-07         2.322750e-07   \n",
      "2            8.952819e-07         8.964990e-07         2.338106e-07   \n",
      "3            8.936640e-07         8.980535e-07         2.350646e-07   \n",
      "4            8.896591e-07         8.988538e-07         2.363910e-07   \n",
      "...                   ...                  ...                  ...   \n",
      "4236         3.684559e-07         3.070740e-07        -1.201125e-07   \n",
      "4237         3.754152e-07         3.131291e-07        -1.133318e-07   \n",
      "4238         3.804604e-07         3.199931e-07        -1.060010e-07   \n",
      "4239         3.847773e-07         3.285035e-07        -1.008855e-07   \n",
      "4240         3.902856e-07         3.385360e-07        -9.470570e-08   \n",
      "\n",
      "       observer_8_loading  \n",
      "0           -6.611375e-07  \n",
      "1           -6.627234e-07  \n",
      "2           -6.686467e-07  \n",
      "3           -6.683075e-07  \n",
      "4           -6.714840e-07  \n",
      "...                   ...  \n",
      "4236        -5.667564e-07  \n",
      "4237        -5.683269e-07  \n",
      "4238        -5.708939e-07  \n",
      "4239        -5.752732e-07  \n",
      "4240        -5.774939e-07  \n",
      "\n",
      "[4241 rows x 29 columns]\n"
     ]
    }
   ],
   "source": [
    "# There are also surface specific aeroacoustic output files\n",
    "blade_1_acoustics = results.download_file_by_name(\n",
    "    \"results/surface_zone_r1_blade1_acoustics_v3.csv\", to_folder=\"aeroacoustic_results\"\n",
    ")\n",
    "blade_1_acoustics = pd.read_csv(blade_1_acoustics)\n",
    "print(\"Blade 1 acoustics:\")\n",
    "print(blade_1_acoustics)\n",
    "\n",
    "blade_2_acoustics = results.download_file_by_name(\n",
    "    \"results/surface_zone_r2_blade2_acoustics_v3.csv\", to_folder=\"aeroacoustic_results\"\n",
    ")\n",
    "blade_2_acoustics = pd.read_csv(blade_2_acoustics)\n",
    "print(\"\\nBlade 2 acoustics:\")\n",
    "print(blade_2_acoustics)\n",
    "\n",
    "blade_3_acoustics = results.download_file_by_name(\n",
    "    \"results/surface_zone_r3_blade3_acoustics_v3.csv\", to_folder=\"aeroacoustic_results\"\n",
    ")\n",
    "blade_3_acoustics = pd.read_csv(blade_3_acoustics)\n",
    "print(\"\\nBlade 3 acoustics:\")\n",
    "print(blade_3_acoustics)\n",
    "\n",
    "blade_4_acoustics = results.download_file_by_name(\n",
    "    \"results/surface_zone_r4_blade4_acoustics_v3.csv\", to_folder=\"aeroacoustic_results\"\n",
    ")\n",
    "blade_4_acoustics = pd.read_csv(blade_4_acoustics)\n",
    "print(\"\\nBlade 4 acoustics:\")\n",
    "print(blade_4_acoustics)"
   ]
  }
 ],
 "metadata": {
  "kernelspec": {
   "display_name": "flow360-m20sMBMn-py3.11",
   "language": "python",
   "name": "python3"
  },
  "language_info": {
   "codemirror_mode": {
    "name": "ipython",
    "version": 3
   },
   "file_extension": ".py",
   "mimetype": "text/x-python",
   "name": "python",
   "nbconvert_exporter": "python",
   "pygments_lexer": "ipython3",
   "version": "3.11.9"
  }
 },
 "nbformat": 4,
 "nbformat_minor": 2
}
