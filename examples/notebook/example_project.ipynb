{
 "cells": [
  {
   "cell_type": "markdown",
   "metadata": {},
   "source": [
    "# A Guide to Flow360 Project with Python API\n",
    "\n",
    "This notebook demonstrates how to create and interact with the Flow360 Project using Flow360 Python API. We will use the following examples to show how to:\n",
    "\n",
    "- [Create Project From Local Geometry](#Create-Project-from-Geometry)\n",
    "- [Create Project From Local Volume Mesh](#Create-Project-From-Volume-Mesh)\n",
    "- [Get Project From Cloud and Use Project Assets](#Get-Existing-Project-and-Use-Project-Assets)\n",
    "\n",
    "<div class=\"alert alert-block alert-info\">\n",
    "<b>Note:</b> \n",
    "\n",
    "- 123\n",
    "- 4\n",
    "</div>\n"
   ]
  },
  {
   "cell_type": "markdown",
   "metadata": {},
   "source": [
    "## Create Project From Geometry\n",
    "\n",
    "Input: Geometry of the Airplane example \n",
    "\n",
    "Output: `flow360.Project`"
   ]
  },
  {
   "cell_type": "code",
   "execution_count": null,
   "metadata": {},
   "outputs": [
    {
     "name": "stdout",
     "output_type": "stream",
     "text": [
      "Geometry file:  /home/angran/testcases/src/Flow360Core/Flow360/flow360/examples/airplane/geometry.csm\n"
     ]
    },
    {
     "data": {
      "application/vnd.jupyter.widget-view+json": {
       "model_id": "f291a820262443e0ae3c55bbb6b29cca",
       "version_major": 2,
       "version_minor": 0
      },
      "text/plain": [
       "Output()"
      ]
     },
     "metadata": {},
     "output_type": "display_data"
    },
    {
     "data": {
      "text/html": [
       "<pre style=\"white-space:pre;overflow-x:auto;line-height:normal;font-family:Menlo,'DejaVu Sans Mono',consolas,'Courier New',monospace\"></pre>\n"
      ],
      "text/plain": []
     },
     "metadata": {},
     "output_type": "display_data"
    },
    {
     "data": {
      "text/html": [
       "<pre style=\"white-space:pre;overflow-x:auto;line-height:normal;font-family:Menlo,'DejaVu Sans Mono',consolas,'Courier New',monospace\"><span style=\"color: #7fbfbf; text-decoration-color: #7fbfbf\">[03:32:09] </span><span style=\"color: #008080; text-decoration-color: #008080\">INFO</span>: Geometry successfully submitted:                                                                  \n",
       "<span style=\"color: #7fbfbf; text-decoration-color: #7fbfbf\">           </span>        name   = Python Project <span style=\"font-weight: bold\">(</span>Geometry, from file<span style=\"font-weight: bold\">)</span>                                                   \n",
       "<span style=\"color: #7fbfbf; text-decoration-color: #7fbfbf\">           </span>        id     = geo-<span style=\"color: #ffff00; text-decoration-color: #ffff00\">3bbedb2d-79e5-491f-8e6e-145fafbbba52</span>                                               \n",
       "<span style=\"color: #7fbfbf; text-decoration-color: #7fbfbf\">           </span>        status = uploaded                                                                               \n",
       "<span style=\"color: #7fbfbf; text-decoration-color: #7fbfbf\">           </span>                                                                                                        \n",
       "</pre>\n"
      ],
      "text/plain": [
       "\u001b[2;36m[03:32:09]\u001b[0m\u001b[2;36m \u001b[0m\u001b[36mINFO\u001b[0m: Geometry successfully submitted:                                                                  \n",
       "\u001b[2;36m           \u001b[0m        name   = Python Project \u001b[1m(\u001b[0mGeometry, from file\u001b[1m)\u001b[0m                                                   \n",
       "\u001b[2;36m           \u001b[0m        id     = geo-\u001b[93m3bbedb2d-79e5-491f-8e6e-145fafbbba52\u001b[0m                                               \n",
       "\u001b[2;36m           \u001b[0m        status = uploaded                                                                               \n",
       "\u001b[2;36m           \u001b[0m                                                                                                        \n"
      ]
     },
     "metadata": {},
     "output_type": "display_data"
    },
    {
     "data": {
      "text/html": [
       "<pre style=\"white-space:pre;overflow-x:auto;line-height:normal;font-family:Menlo,'DejaVu Sans Mono',consolas,'Courier New',monospace\"><span style=\"color: #7fbfbf; text-decoration-color: #7fbfbf\">           </span><span style=\"color: #008080; text-decoration-color: #008080\">INFO</span>: Waiting for geometry to be processed.                                                             \n",
       "</pre>\n"
      ],
      "text/plain": [
       "\u001b[2;36m          \u001b[0m\u001b[2;36m \u001b[0m\u001b[36mINFO\u001b[0m: Waiting for geometry to be processed.                                                             \n"
      ]
     },
     "metadata": {},
     "output_type": "display_data"
    },
    {
     "data": {
      "text/html": [
       "<pre style=\"white-space:pre;overflow-x:auto;line-height:normal;font-family:Menlo,'DejaVu Sans Mono',consolas,'Courier New',monospace\"><span style=\"color: #7fbfbf; text-decoration-color: #7fbfbf\">[03:33:11] </span><span style=\"color: #808000; text-decoration-color: #808000\">WARNING</span>: <span style=\"color: #c0c0c0; text-decoration-color: #c0c0c0\">Could not find face grouping info in the draft's simulation settings. Please remember to group </span>\n",
       "<span style=\"color: #7fbfbf; text-decoration-color: #7fbfbf\">           </span><span style=\"color: #c0c0c0; text-decoration-color: #c0c0c0\">them if relevant features are used.</span>                                                                     \n",
       "</pre>\n"
      ],
      "text/plain": [
       "\u001b[2;36m[03:33:11]\u001b[0m\u001b[2;36m \u001b[0m\u001b[33mWARNING\u001b[0m: \u001b[37mCould not find face grouping info in the draft's simulation settings. Please remember to group \u001b[0m\n",
       "\u001b[2;36m           \u001b[0m\u001b[37mthem if relevant features are used.\u001b[0m                                                                     \n"
      ]
     },
     "metadata": {},
     "output_type": "display_data"
    },
    {
     "data": {
      "text/html": [
       "<pre style=\"white-space:pre;overflow-x:auto;line-height:normal;font-family:Menlo,'DejaVu Sans Mono',consolas,'Courier New',monospace\"><span style=\"color: #7fbfbf; text-decoration-color: #7fbfbf\">           </span><span style=\"color: #808000; text-decoration-color: #808000\">WARNING</span>: <span style=\"color: #c0c0c0; text-decoration-color: #c0c0c0\">Could not find edge grouping info in the draft's simulation settings. Please remember to group </span>\n",
       "<span style=\"color: #7fbfbf; text-decoration-color: #7fbfbf\">           </span><span style=\"color: #c0c0c0; text-decoration-color: #c0c0c0\">them if relevant features are used.</span>                                                                     \n",
       "</pre>\n"
      ],
      "text/plain": [
       "\u001b[2;36m          \u001b[0m\u001b[2;36m \u001b[0m\u001b[33mWARNING\u001b[0m: \u001b[37mCould not find edge grouping info in the draft's simulation settings. Please remember to group \u001b[0m\n",
       "\u001b[2;36m           \u001b[0m\u001b[37mthem if relevant features are used.\u001b[0m                                                                     \n"
      ]
     },
     "metadata": {},
     "output_type": "display_data"
    },
    {
     "name": "stdout",
     "output_type": "stream",
     "text": [
      "The ID of Project from Geometry:  prj-0f559943-5b05-4b15-81c5-251658983101\n"
     ]
    }
   ],
   "source": [
    "import flow360 as fl\n",
    "from flow360.examples import Airplane\n",
    "from flow360.log import log, set_logging_level\n",
    "\n",
    "log.log_to_file = False\n",
    "set_logging_level(\"INFO\")\n",
    "\n",
    "geometry_file = Airplane.geometry\n",
    "print(\"Geometry file: \", geometry_file)\n",
    "\n",
    "project = fl.Project.from_file(file=geometry_file, name=\"Python Project (Geometry, from file)\")\n",
    "\n",
    "print(\"The ID of Project from Geometry: \", project.id)"
   ]
  },
  {
   "cell_type": "markdown",
   "metadata": {},
   "source": [
    "## Create Project From Volume Mesh\n",
    "\n",
    "Input: Volume Mesh of the Om6Wing example \n",
    "\n",
    "Output: `flow360.Project`"
   ]
  },
  {
   "cell_type": "markdown",
   "metadata": {},
   "source": [
    "## Get Existing Project and Use Project Assets"
   ]
  },
  {
   "cell_type": "code",
   "execution_count": null,
   "metadata": {},
   "outputs": [],
   "source": [
    "import flow360 as fl\n",
    "from flow360.log import log, set_logging_level\n",
    "\n",
    "log.log_to_file = False\n",
    "set_logging_level(\"INFO\")"
   ]
  }
 ],
 "metadata": {
  "kernelspec": {
   "display_name": "flow360-1o4GDnb0-py3.10",
   "language": "python",
   "name": "python3"
  },
  "language_info": {
   "codemirror_mode": {
    "name": "ipython",
    "version": 3
   },
   "file_extension": ".py",
   "mimetype": "text/x-python",
   "name": "python",
   "nbconvert_exporter": "python",
   "pygments_lexer": "ipython3",
   "version": "3.10.12"
  }
 },
 "nbformat": 4,
 "nbformat_minor": 2
}
